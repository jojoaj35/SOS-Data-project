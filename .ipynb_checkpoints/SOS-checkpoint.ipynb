{
 "cells": [
  {
   "cell_type": "markdown",
   "id": "791e6d36",
   "metadata": {},
   "source": [
    "# SOS Data Analysis Book"
   ]
  },
  {
   "cell_type": "code",
   "execution_count": 1,
   "id": "b3475f53",
   "metadata": {},
   "outputs": [],
   "source": [
    "import pandas as pd\n",
    "import seaborn as sns"
   ]
  },
  {
   "cell_type": "code",
   "execution_count": 2,
   "id": "d96d4b8e",
   "metadata": {},
   "outputs": [],
   "source": [
    "#Load dataset\n",
    "\n",
    "clients = pd.read_excel('C:/Users/cln87/UTSA Files/CIS/SOS_Data/UTSA Client Dataset - Students of Service (SOS).xlsx', sheet_name='Clients')\n",
    "hours = pd.read_excel('C:/Users/cln87/UTSA Files/CIS/SOS_Data/UTSA Client Dataset - Students of Service (SOS).xlsx', sheet_name='Service Hours')\n",
    "survey = pd.read_excel('C:/Users/cln87/UTSA Files/CIS/SOS_Data/UTSA Client Dataset - Students of Service (SOS).xlsx', sheet_name='Survey Responses')"
   ]
  },
  {
   "cell_type": "code",
   "execution_count": 3,
   "id": "8c7aa971",
   "metadata": {},
   "outputs": [
    {
     "name": "stdout",
     "output_type": "stream",
     "text": [
      "4613 \n",
      " SOS ID                             0\n",
      "Galaxy ID                        178\n",
      "Street Address                   685\n",
      "City                             684\n",
      "State                            684\n",
      "Zip Code                         684\n",
      "Date of Birth                     22\n",
      "dateAdded                        177\n",
      "Age at Sign Up                   177\n",
      "Age Now                          177\n",
      "HS Graduation Year                10\n",
      "School                           147\n",
      "District                         290\n",
      "Race/Ethnicity                     0\n",
      "Gender                             0\n",
      "Last Login                         0\n",
      "Responses                          0\n",
      "Hours                              0\n",
      "Student ID                        11\n",
      "Learn Participation 2022         538\n",
      "Explore Participation            538\n",
      "Make It Happen Badge (Yes/No)    715\n",
      "Trip Eligible (Yes/No)           715\n",
      "Scholarship Badge (Yes/No)       715\n",
      "dtype: int64\n"
     ]
    }
   ],
   "source": [
    "print(len(clients), '\\n',\n",
    "      clients.isna().sum())"
   ]
  },
  {
   "cell_type": "code",
   "execution_count": 51,
   "id": "b4fe1d27-1813-4448-8004-35953dc49bdd",
   "metadata": {},
   "outputs": [
    {
     "name": "stdout",
     "output_type": "stream",
     "text": [
      "<class 'pandas.core.frame.DataFrame'>\n",
      "RangeIndex: 7582 entries, 0 to 7581\n",
      "Data columns (total 6 columns):\n",
      " #   Column       Non-Null Count  Dtype         \n",
      "---  ------       --------------  -----         \n",
      " 0   userId       7582 non-null   int64         \n",
      " 1   zipCodeNeed  5822 non-null   float64       \n",
      " 2   needName     5822 non-null   object        \n",
      " 3   hours        7582 non-null   float64       \n",
      " 4   Event Date   7582 non-null   datetime64[ns]\n",
      " 5   agency       5707 non-null   object        \n",
      "dtypes: datetime64[ns](1), float64(2), int64(1), object(2)\n",
      "memory usage: 355.5+ KB\n"
     ]
    }
   ],
   "source": [
    "hours.info()"
   ]
  },
  {
   "cell_type": "code",
   "execution_count": 5,
   "id": "b92a18f5-0850-4984-ad8b-c41143e83a06",
   "metadata": {},
   "outputs": [
    {
     "name": "stdout",
     "output_type": "stream",
     "text": [
      "117 \n",
      " Galaxy ID                                                                                                         0\n",
      "Year of Survey                                                                                                    0\n",
      "Survey Type                                                                                                       0\n",
      "Would you be interested in joining the SOS Alumni Association?                                                  106\n",
      "Before you start with questionnaire, please select the year when you started taking part in the SOS program:     44\n",
      "                                                                                                               ... \n",
      "In your opinion, what was the most impactful part of SOS?                                                       104\n",
      "If you could change anything about SOS, what would it be?                                                       107\n",
      "As a program alumnus, what kinds of programs would you like to see SOS develop for alumni?                      104\n",
      "What alumni opportunities would you be interested in helping out with, if any?                                  104\n",
      "Is there anything else you think SOS should know about your experience?                                         112\n",
      "Length: 86, dtype: int64\n"
     ]
    }
   ],
   "source": [
    "print(len(survey), '\\n', survey.isna().sum())"
   ]
  },
  {
   "cell_type": "code",
   "execution_count": 45,
   "id": "4c3f6d8e-6433-4a20-bf49-756ba627a9ef",
   "metadata": {},
   "outputs": [
    {
     "data": {
      "text/plain": [
       "<Axes: >"
      ]
     },
     "execution_count": 45,
     "metadata": {},
     "output_type": "execute_result"
    },
    {
     "data": {
      "image/png": "[encoded data removed]",
      "text/plain": [
       "<Figure size 640x480 with 1 Axes>"
      ]
     },
     "metadata": {},
     "output_type": "display_data"
    }
   ],
   "source": [
    "hours[hours['hours']<10][['hours']].boxplot()"
   ]
  },
  {
   "cell_type": "code",
   "execution_count": 65,
   "id": "37c3b3ed-5755-4704-91b0-45fbc9dfc63e",
   "metadata": {},
   "outputs": [
    {
     "name": "stderr",
     "output_type": "stream",
     "text": [
      "C:\\Users\\cln87\\AppData\\Local\\Temp\\ipykernel_19108\\302424362.py:1: FutureWarning: Series.__getitem__ treating keys as positions is deprecated. In a future version, integer keys will always be treated as labels (consistent with DataFrame behavior). To access a value by position, use `ser.iloc[pos]`\n",
      "  (hours[hours['hours']>hours['hours'].quantile(0.75)][['hours']].count()[0])/len(hours)\n"
     ]
    },
    {
     "data": {
      "text/plain": [
       "0.1578739118965972"
      ]
     },
     "execution_count": 65,
     "metadata": {},
     "output_type": "execute_result"
    }
   ],
   "source": [
    "(hours[hours['hours']>hours['hours'].quantile(0.75)][['hours']].count()[0])/len(hours)"
   ]
  },
  {
   "cell_type": "code",
   "execution_count": 67,
   "id": "1049517b-4556-4ede-b53d-b5c57646c84c",
   "metadata": {},
   "outputs": [
    {
     "data": {
      "text/html": [
       "<div>\n",
       "<style scoped>\n",
       "    .dataframe tbody tr th:only-of-type {\n",
       "        vertical-align: middle;\n",
       "    }\n",
       "\n",
       "    .dataframe tbody tr th {\n",
       "        vertical-align: top;\n",
       "    }\n",
       "\n",
       "    .dataframe thead th {\n",
       "        text-align: right;\n",
       "    }\n",
       "</style>\n",
       "<table border=\"1\" class=\"dataframe\">\n",
       "  <thead>\n",
       "    <tr style=\"text-align: right;\">\n",
       "      <th></th>\n",
       "      <th>SOS ID</th>\n",
       "      <th>Galaxy ID</th>\n",
       "      <th>Street Address</th>\n",
       "      <th>City</th>\n",
       "      <th>State</th>\n",
       "      <th>Zip Code</th>\n",
       "      <th>Date of Birth</th>\n",
       "      <th>dateAdded</th>\n",
       "      <th>Age at Sign Up</th>\n",
       "      <th>Age Now</th>\n",
       "      <th>...</th>\n",
       "      <th>Gender</th>\n",
       "      <th>Last Login</th>\n",
       "      <th>Responses</th>\n",
       "      <th>Hours</th>\n",
       "      <th>Student ID</th>\n",
       "      <th>Learn Participation 2022</th>\n",
       "      <th>Explore Participation</th>\n",
       "      <th>Make It Happen Badge (Yes/No)</th>\n",
       "      <th>Trip Eligible (Yes/No)</th>\n",
       "      <th>Scholarship Badge (Yes/No)</th>\n",
       "    </tr>\n",
       "  </thead>\n",
       "  <tbody>\n",
       "    <tr>\n",
       "      <th>0</th>\n",
       "      <td>S00001</td>\n",
       "      <td>2315153.0</td>\n",
       "      <td>1107 Walkers Way</td>\n",
       "      <td>San Antonio</td>\n",
       "      <td>TX</td>\n",
       "      <td>78216</td>\n",
       "      <td>1979-11-07 00:00:00</td>\n",
       "      <td>2018-12-18</td>\n",
       "      <td>39</td>\n",
       "      <td>45</td>\n",
       "      <td>...</td>\n",
       "      <td>Female</td>\n",
       "      <td>2025-03-24 00:00:00</td>\n",
       "      <td>45</td>\n",
       "      <td>3876.94</td>\n",
       "      <td>Unknown</td>\n",
       "      <td>No</td>\n",
       "      <td>Yes</td>\n",
       "      <td>Yes</td>\n",
       "      <td>Yes</td>\n",
       "      <td>Yes</td>\n",
       "    </tr>\n",
       "    <tr>\n",
       "      <th>1</th>\n",
       "      <td>S00002</td>\n",
       "      <td>2315154.0</td>\n",
       "      <td>NaN</td>\n",
       "      <td>NaN</td>\n",
       "      <td>NaN</td>\n",
       "      <td>NaN</td>\n",
       "      <td>Unknown</td>\n",
       "      <td>2018-12-18</td>\n",
       "      <td>Unknown</td>\n",
       "      <td>Unknown</td>\n",
       "      <td>...</td>\n",
       "      <td>Female</td>\n",
       "      <td>Never</td>\n",
       "      <td>0</td>\n",
       "      <td>0.00</td>\n",
       "      <td>Unknown</td>\n",
       "      <td>No</td>\n",
       "      <td>No</td>\n",
       "      <td>No</td>\n",
       "      <td>No</td>\n",
       "      <td>No</td>\n",
       "    </tr>\n",
       "    <tr>\n",
       "      <th>2</th>\n",
       "      <td>S00003</td>\n",
       "      <td>2403270.0</td>\n",
       "      <td>5518 Lost Lane</td>\n",
       "      <td>San Antonio</td>\n",
       "      <td>TX</td>\n",
       "      <td>78238</td>\n",
       "      <td>1977-07-18 00:00:00</td>\n",
       "      <td>2019-01-10</td>\n",
       "      <td>41</td>\n",
       "      <td>47</td>\n",
       "      <td>...</td>\n",
       "      <td>Female</td>\n",
       "      <td>2025-03-28 00:00:00</td>\n",
       "      <td>61</td>\n",
       "      <td>539.00</td>\n",
       "      <td>Unknown</td>\n",
       "      <td>No</td>\n",
       "      <td>Yes</td>\n",
       "      <td>Yes</td>\n",
       "      <td>Yes</td>\n",
       "      <td>Yes</td>\n",
       "    </tr>\n",
       "    <tr>\n",
       "      <th>3</th>\n",
       "      <td>S00004</td>\n",
       "      <td>2420898.0</td>\n",
       "      <td>11110 Denae Drive</td>\n",
       "      <td>Live Oak</td>\n",
       "      <td>TX</td>\n",
       "      <td>78233</td>\n",
       "      <td>2001-08-24 00:00:00</td>\n",
       "      <td>2019-01-15</td>\n",
       "      <td>17</td>\n",
       "      <td>23</td>\n",
       "      <td>...</td>\n",
       "      <td>Female</td>\n",
       "      <td>2024-05-30 00:00:00</td>\n",
       "      <td>1</td>\n",
       "      <td>17.00</td>\n",
       "      <td>1052103</td>\n",
       "      <td>No</td>\n",
       "      <td>Yes</td>\n",
       "      <td>Yes</td>\n",
       "      <td>Yes</td>\n",
       "      <td>No</td>\n",
       "    </tr>\n",
       "    <tr>\n",
       "      <th>4</th>\n",
       "      <td>S00005</td>\n",
       "      <td>2420899.0</td>\n",
       "      <td>510 E Hathaway Dr</td>\n",
       "      <td>San Antonio</td>\n",
       "      <td>TX</td>\n",
       "      <td>78209</td>\n",
       "      <td>2003-08-05 00:00:00</td>\n",
       "      <td>2019-01-15</td>\n",
       "      <td>15</td>\n",
       "      <td>21</td>\n",
       "      <td>...</td>\n",
       "      <td>Female</td>\n",
       "      <td>2022-02-07 00:00:00</td>\n",
       "      <td>1</td>\n",
       "      <td>36.00</td>\n",
       "      <td>Unknown</td>\n",
       "      <td>No</td>\n",
       "      <td>No</td>\n",
       "      <td>Yes</td>\n",
       "      <td>Yes</td>\n",
       "      <td>Yes</td>\n",
       "    </tr>\n",
       "  </tbody>\n",
       "</table>\n",
       "<p>5 rows × 24 columns</p>\n",
       "</div>"
      ],
      "text/plain": [
       "   SOS ID  Galaxy ID     Street Address         City State Zip Code  \\\n",
       "0  S00001  2315153.0   1107 Walkers Way  San Antonio    TX    78216   \n",
       "1  S00002  2315154.0                NaN          NaN   NaN      NaN   \n",
       "2  S00003  2403270.0     5518 Lost Lane  San Antonio    TX    78238   \n",
       "3  S00004  2420898.0  11110 Denae Drive     Live Oak    TX    78233   \n",
       "4  S00005  2420899.0  510 E Hathaway Dr  San Antonio    TX    78209   \n",
       "\n",
       "         Date of Birth  dateAdded Age at Sign Up  Age Now  ...  Gender  \\\n",
       "0  1979-11-07 00:00:00 2018-12-18             39       45  ...  Female   \n",
       "1              Unknown 2018-12-18        Unknown  Unknown  ...  Female   \n",
       "2  1977-07-18 00:00:00 2019-01-10             41       47  ...  Female   \n",
       "3  2001-08-24 00:00:00 2019-01-15             17       23  ...  Female   \n",
       "4  2003-08-05 00:00:00 2019-01-15             15       21  ...  Female   \n",
       "\n",
       "            Last Login Responses    Hours Student ID Learn Participation 2022  \\\n",
       "0  2025-03-24 00:00:00        45  3876.94    Unknown                       No   \n",
       "1                Never         0     0.00    Unknown                       No   \n",
       "2  2025-03-28 00:00:00        61   539.00    Unknown                       No   \n",
       "3  2024-05-30 00:00:00         1    17.00    1052103                       No   \n",
       "4  2022-02-07 00:00:00         1    36.00    Unknown                       No   \n",
       "\n",
       "   Explore Participation  Make It Happen Badge (Yes/No)  \\\n",
       "0                    Yes                            Yes   \n",
       "1                     No                             No   \n",
       "2                    Yes                            Yes   \n",
       "3                    Yes                            Yes   \n",
       "4                     No                            Yes   \n",
       "\n",
       "  Trip Eligible (Yes/No) Scholarship Badge (Yes/No)  \n",
       "0                    Yes                        Yes  \n",
       "1                     No                         No  \n",
       "2                    Yes                        Yes  \n",
       "3                    Yes                         No  \n",
       "4                    Yes                        Yes  \n",
       "\n",
       "[5 rows x 24 columns]"
      ]
     },
     "execution_count": 67,
     "metadata": {},
     "output_type": "execute_result"
    }
   ],
   "source": [
    "clients.sort_by"
   ]
  },
  {
   "cell_type": "code",
   "execution_count": null,
   "id": "35d9454a-f3b5-4f41-b8a5-30b6b750d76d",
   "metadata": {},
   "outputs": [],
   "source": []
  }
 ],
 "metadata": {
  "kernelspec": {
   "display_name": "Python 3 (ipykernel)",
   "language": "python",
   "name": "python3"
  },
  "language_info": {
   "codemirror_mode": {
    "name": "ipython",
    "version": 3
   },
   "file_extension": ".py",
   "mimetype": "text/x-python",
   "name": "python",
   "nbconvert_exporter": "python",
   "pygments_lexer": "ipython3",
   "version": "3.12.4"
  }
 },
 "nbformat": 4,
 "nbformat_minor": 5
}
