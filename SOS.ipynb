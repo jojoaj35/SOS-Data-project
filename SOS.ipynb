{
 "cells": [
  {
   "cell_type": "markdown",
   "id": "791e6d36",
   "metadata": {},
   "source": [
    "# SOS Data Analysis Book\n",
    "\n",
    "## Package Importing"
   ]
  },
  {
   "cell_type": "code",
   "execution_count": 1,
   "id": "b3475f53",
   "metadata": {},
   "outputs": [],
   "source": [
    "import pandas as pd\n",
    "import seaborn as sns\n",
    "import datetime as dt\n",
    "import statistics as stat\n",
    "import matplotlib.pyplot as plt\n",
    "import numpy as np\n",
    "import plotly.express as px\n",
    "from scipy import stats as scipystat"
   ]
  },
  {
   "cell_type": "markdown",
   "id": "5443c453",
   "metadata": {},
   "source": [
    "## Data Cleaning"
   ]
  },
  {
   "cell_type": "code",
   "execution_count": 2,
   "id": "d96d4b8e",
   "metadata": {},
   "outputs": [],
   "source": [
    "#Load dataset\n",
    "file_path = 'UTSA Client Dataset - Students of Service (SOS).xlsx'\n",
    "\n",
    "clients_raw = pd.read_excel(file_path, sheet_name='Clients')  #Convert dates to datetime objects\n",
    "\n",
    "hours = (pd.read_excel(file_path, sheet_name='Service Hours') #Rename the userID column to 'Galaxy ID'\n",
    "         .rename({'userId': 'Galaxy ID'}, axis=1)\n",
    ")\n",
    "\n",
    "survey_raw = pd.read_excel(file_path, sheet_name='Survey Responses')"
   ]
  },
  {
   "cell_type": "markdown",
   "id": "30a50cc2",
   "metadata": {},
   "source": [
    "### Clients Dataset Cleaning"
   ]
  },
  {
   "cell_type": "markdown",
   "id": "88b028b8",
   "metadata": {},
   "source": [
    "The clients dataset has a few known issues that need to be taken care of before any analysis is done. Below will be the first few rows of the uncleaned data set"
   ]
  },
  {
   "cell_type": "code",
   "execution_count": 3,
   "id": "b55d2d16",
   "metadata": {},
   "outputs": [
    {
     "data": {
      "text/html": [
       "<div>\n",
       "<style scoped>\n",
       "    .dataframe tbody tr th:only-of-type {\n",
       "        vertical-align: middle;\n",
       "    }\n",
       "\n",
       "    .dataframe tbody tr th {\n",
       "        vertical-align: top;\n",
       "    }\n",
       "\n",
       "    .dataframe thead th {\n",
       "        text-align: right;\n",
       "    }\n",
       "</style>\n",
       "<table border=\"1\" class=\"dataframe\">\n",
       "  <thead>\n",
       "    <tr style=\"text-align: right;\">\n",
       "      <th></th>\n",
       "      <th>SOS ID</th>\n",
       "      <th>Galaxy ID</th>\n",
       "      <th>Street Address</th>\n",
       "      <th>City</th>\n",
       "      <th>State</th>\n",
       "      <th>Zip Code</th>\n",
       "      <th>Date of Birth</th>\n",
       "      <th>dateAdded</th>\n",
       "      <th>Age at Sign Up</th>\n",
       "      <th>Age Now</th>\n",
       "      <th>...</th>\n",
       "      <th>Gender</th>\n",
       "      <th>Last Login</th>\n",
       "      <th>Responses</th>\n",
       "      <th>Hours</th>\n",
       "      <th>Student ID</th>\n",
       "      <th>Learn Participation 2022</th>\n",
       "      <th>Explore Participation</th>\n",
       "      <th>Make It Happen Badge (Yes/No)</th>\n",
       "      <th>Trip Eligible (Yes/No)</th>\n",
       "      <th>Scholarship Badge (Yes/No)</th>\n",
       "    </tr>\n",
       "  </thead>\n",
       "  <tbody>\n",
       "    <tr>\n",
       "      <th>0</th>\n",
       "      <td>S00001</td>\n",
       "      <td>2315153.0</td>\n",
       "      <td>1107 Walkers Way</td>\n",
       "      <td>San Antonio</td>\n",
       "      <td>TX</td>\n",
       "      <td>78216</td>\n",
       "      <td>1979-11-07 00:00:00</td>\n",
       "      <td>2018-12-18</td>\n",
       "      <td>39</td>\n",
       "      <td>45</td>\n",
       "      <td>...</td>\n",
       "      <td>Male</td>\n",
       "      <td>2025-03-24 00:00:00</td>\n",
       "      <td>45</td>\n",
       "      <td>3876.94</td>\n",
       "      <td>Unknown</td>\n",
       "      <td>No</td>\n",
       "      <td>Yes</td>\n",
       "      <td>Yes</td>\n",
       "      <td>Yes</td>\n",
       "      <td>Yes</td>\n",
       "    </tr>\n",
       "    <tr>\n",
       "      <th>1</th>\n",
       "      <td>S00002</td>\n",
       "      <td>2315154.0</td>\n",
       "      <td>NaN</td>\n",
       "      <td>NaN</td>\n",
       "      <td>NaN</td>\n",
       "      <td>NaN</td>\n",
       "      <td>Unknown</td>\n",
       "      <td>2018-12-18</td>\n",
       "      <td>Unknown</td>\n",
       "      <td>Unknown</td>\n",
       "      <td>...</td>\n",
       "      <td>Male</td>\n",
       "      <td>Never</td>\n",
       "      <td>0</td>\n",
       "      <td>0.00</td>\n",
       "      <td>Unknown</td>\n",
       "      <td>No</td>\n",
       "      <td>No</td>\n",
       "      <td>No</td>\n",
       "      <td>No</td>\n",
       "      <td>No</td>\n",
       "    </tr>\n",
       "    <tr>\n",
       "      <th>2</th>\n",
       "      <td>S00003</td>\n",
       "      <td>2403270.0</td>\n",
       "      <td>5518 Lost Lane</td>\n",
       "      <td>San Antonio</td>\n",
       "      <td>TX</td>\n",
       "      <td>78238</td>\n",
       "      <td>1977-07-18 00:00:00</td>\n",
       "      <td>2019-01-10</td>\n",
       "      <td>41</td>\n",
       "      <td>47</td>\n",
       "      <td>...</td>\n",
       "      <td>Female</td>\n",
       "      <td>2025-03-28 00:00:00</td>\n",
       "      <td>61</td>\n",
       "      <td>539.00</td>\n",
       "      <td>Unknown</td>\n",
       "      <td>No</td>\n",
       "      <td>Yes</td>\n",
       "      <td>Yes</td>\n",
       "      <td>Yes</td>\n",
       "      <td>Yes</td>\n",
       "    </tr>\n",
       "    <tr>\n",
       "      <th>3</th>\n",
       "      <td>S00004</td>\n",
       "      <td>2420898.0</td>\n",
       "      <td>11110 Denae Drive</td>\n",
       "      <td>Live Oak</td>\n",
       "      <td>TX</td>\n",
       "      <td>78233</td>\n",
       "      <td>2001-08-24 00:00:00</td>\n",
       "      <td>2019-01-15</td>\n",
       "      <td>17</td>\n",
       "      <td>23</td>\n",
       "      <td>...</td>\n",
       "      <td>Male</td>\n",
       "      <td>2024-05-30 00:00:00</td>\n",
       "      <td>1</td>\n",
       "      <td>17.00</td>\n",
       "      <td>1052103</td>\n",
       "      <td>No</td>\n",
       "      <td>Yes</td>\n",
       "      <td>Yes</td>\n",
       "      <td>Yes</td>\n",
       "      <td>No</td>\n",
       "    </tr>\n",
       "    <tr>\n",
       "      <th>4</th>\n",
       "      <td>S00005</td>\n",
       "      <td>2420899.0</td>\n",
       "      <td>510 E Hathaway Dr</td>\n",
       "      <td>San Antonio</td>\n",
       "      <td>TX</td>\n",
       "      <td>78209</td>\n",
       "      <td>2003-08-05 00:00:00</td>\n",
       "      <td>2019-01-15</td>\n",
       "      <td>15</td>\n",
       "      <td>21</td>\n",
       "      <td>...</td>\n",
       "      <td>Male</td>\n",
       "      <td>2022-02-07 00:00:00</td>\n",
       "      <td>1</td>\n",
       "      <td>36.00</td>\n",
       "      <td>Unknown</td>\n",
       "      <td>No</td>\n",
       "      <td>No</td>\n",
       "      <td>Yes</td>\n",
       "      <td>Yes</td>\n",
       "      <td>Yes</td>\n",
       "    </tr>\n",
       "  </tbody>\n",
       "</table>\n",
       "<p>5 rows × 24 columns</p>\n",
       "</div>"
      ],
      "text/plain": [
       "   SOS ID  Galaxy ID     Street Address         City State Zip Code  \\\n",
       "0  S00001  2315153.0   1107 Walkers Way  San Antonio    TX    78216   \n",
       "1  S00002  2315154.0                NaN          NaN   NaN      NaN   \n",
       "2  S00003  2403270.0     5518 Lost Lane  San Antonio    TX    78238   \n",
       "3  S00004  2420898.0  11110 Denae Drive     Live Oak    TX    78233   \n",
       "4  S00005  2420899.0  510 E Hathaway Dr  San Antonio    TX    78209   \n",
       "\n",
       "         Date of Birth  dateAdded Age at Sign Up  Age Now  ...  Gender  \\\n",
       "0  1979-11-07 00:00:00 2018-12-18             39       45  ...    Male   \n",
       "1              Unknown 2018-12-18        Unknown  Unknown  ...    Male   \n",
       "2  1977-07-18 00:00:00 2019-01-10             41       47  ...  Female   \n",
       "3  2001-08-24 00:00:00 2019-01-15             17       23  ...    Male   \n",
       "4  2003-08-05 00:00:00 2019-01-15             15       21  ...    Male   \n",
       "\n",
       "            Last Login Responses    Hours Student ID Learn Participation 2022  \\\n",
       "0  2025-03-24 00:00:00        45  3876.94    Unknown                       No   \n",
       "1                Never         0     0.00    Unknown                       No   \n",
       "2  2025-03-28 00:00:00        61   539.00    Unknown                       No   \n",
       "3  2024-05-30 00:00:00         1    17.00    1052103                       No   \n",
       "4  2022-02-07 00:00:00         1    36.00    Unknown                       No   \n",
       "\n",
       "   Explore Participation  Make It Happen Badge (Yes/No)  \\\n",
       "0                    Yes                            Yes   \n",
       "1                     No                             No   \n",
       "2                    Yes                            Yes   \n",
       "3                    Yes                            Yes   \n",
       "4                     No                            Yes   \n",
       "\n",
       "  Trip Eligible (Yes/No) Scholarship Badge (Yes/No)  \n",
       "0                    Yes                        Yes  \n",
       "1                     No                         No  \n",
       "2                    Yes                        Yes  \n",
       "3                    Yes                         No  \n",
       "4                    Yes                        Yes  \n",
       "\n",
       "[5 rows x 24 columns]"
      ]
     },
     "execution_count": 3,
     "metadata": {},
     "output_type": "execute_result"
    }
   ],
   "source": [
    "#Display the raw clients data\n",
    "clients_raw.head()"
   ]
  },
  {
   "cell_type": "code",
   "execution_count": 4,
   "id": "00821908",
   "metadata": {},
   "outputs": [
    {
     "data": {
      "text/plain": [
       "Index(['SOS ID', 'Galaxy ID', 'Street Address', 'City', 'State', 'Zip Code',\n",
       "       'Date of Birth', 'dateAdded', 'Age at Sign Up', 'Age Now',\n",
       "       'HS Graduation Year', 'School', 'District', 'Race/Ethnicity', 'Gender',\n",
       "       'Last Login', 'Responses', 'Hours', 'Student ID',\n",
       "       'Learn Participation 2022', 'Explore Participation',\n",
       "       'Make It Happen Badge (Yes/No)', 'Trip Eligible (Yes/No)',\n",
       "       'Scholarship Badge (Yes/No)'],\n",
       "      dtype='object')"
      ]
     },
     "execution_count": 4,
     "metadata": {},
     "output_type": "execute_result"
    }
   ],
   "source": [
    "clients_raw.columns"
   ]
  },
  {
   "cell_type": "markdown",
   "id": "873203b2",
   "metadata": {},
   "source": [
    "Some columns have missing values that are input as strings rather than a None object. This might cause some issues later for numeric columns, so numeric columns will have all of their missing values converted to empty objects. \n",
    "\n",
    "- 'HS Graduation Year' has 0 in the spot for unknown. This will still be changed to None so that it does not skew any potential calculations.\n",
    "- 'Age Now' has 'Unknown' in for unknown objects. These will be changed to None.\n",
    "\n",
    "One of the main columns we are looking at is 'Age at Sign Up'. One of our goals for this cleaning is to filter the dataset to only students as parents in this mix too. There are quite a few ages in 'Age at Sign Up' which arent valid ages."
   ]
  },
  {
   "cell_type": "code",
   "execution_count": 5,
   "id": "345a9b17",
   "metadata": {},
   "outputs": [
    {
     "data": {
      "image/png": "[encoded data removed]",
      "text/plain": [
       "<Figure size 640x480 with 1 Axes>"
      ]
     },
     "metadata": {},
     "output_type": "display_data"
    }
   ],
   "source": [
    "#Show histogram of 'Age at Sign Up' in clients_raw\n",
    "sns.histplot(clients_raw[clients_raw['Age at Sign Up']!='Unknown']['Age at Sign Up'], binwidth=1)\n",
    "plt.xlim(0,20)\n",
    "plt.show()"
   ]
  },
  {
   "cell_type": "markdown",
   "id": "1bc2d25d",
   "metadata": {},
   "source": [
    "As we can see, there are some values that are quite low. As per a meeting with the non-profit, ages 0-4 are presumed to be in error. The goal will be to instead of replacing these ages with None or removing them, to replace them with the median age. This will make their data usable without causing much skew."
   ]
  },
  {
   "cell_type": "code",
   "execution_count": 6,
   "id": "1da7bfcc",
   "metadata": {},
   "outputs": [
    {
     "data": {
      "text/plain": [
       "Age at Sign Up\n",
       "0    41\n",
       "4     2\n",
       "1     1\n",
       "Name: count, dtype: int64"
      ]
     },
     "execution_count": 6,
     "metadata": {},
     "output_type": "execute_result"
    }
   ],
   "source": [
    "#See how many clients have ages between 0 and 4\n",
    "clients_raw[clients_raw['Age at Sign Up'].isin([0,1,2,3,4])]['Age at Sign Up'].value_counts()"
   ]
  },
  {
   "cell_type": "markdown",
   "id": "a8731b0b",
   "metadata": {},
   "source": [
    "There are only 44 mistaken ages at sign up, so this shouldnt cause major issues in the data. The values do contain valid hours and address information, so there information would still prove useful. Using the median age would minimize impact on the data.\n",
    "\n",
    "- Some values are input as 'Unknown', these will need to be changed.\n",
    "- The values 0, 1, and 4 were discussed to likely be errors in some way.\n",
    "\n",
    "These values will be changed to '15' as that is the median age, which will be shown below."
   ]
  },
  {
   "cell_type": "code",
   "execution_count": 7,
   "id": "e6ec0c5b",
   "metadata": {},
   "outputs": [
    {
     "name": "stdout",
     "output_type": "stream",
     "text": [
      "Median: 15\n",
      "Mean: 15.22023992617656\n"
     ]
    }
   ],
   "source": [
    "#Find the median and mean of 'Age at Sign Up'\n",
    "signupage = clients_raw[clients_raw['Age at Sign Up'].isin([i for i in range(6,21)])]['Age at Sign Up']\n",
    "\n",
    "print(f\"Median: {stat.median(signupage)}\\nMean: {stat.mean(signupage)}\")"
   ]
  },
  {
   "cell_type": "markdown",
   "id": "5150e7be",
   "metadata": {},
   "source": [
    "The following is zip code information. The first section is assigning zip codes to certain counties for bexar and all the counties connected to bexar.\n",
    "\n",
    "Then, 2 dataframes are made with family income information. The first is information for zip code based family income. This list does not cover all the target zip codes, so if a zip code is does not have its specific income information available then the income information will be pulled based on the county.\n",
    "\n",
    "This income information was gotten from the [American Community Survey 2023 5-Year Estimates](https://data.census.gov/table/ACSST5Y2023.S1901?q=median+income+by+county)."
   ]
  },
  {
   "cell_type": "code",
   "execution_count": 8,
   "id": "9064e91a",
   "metadata": {},
   "outputs": [],
   "source": [
    "#Zip code lists for county assignemnts\n",
    "\n",
    "bexar_zips = [78245,78254,78249,78253,78251,\n",
    "78228,78250,78240,78247,78207,\n",
    "78223,78258,78201,78227,78230,\n",
    "78233,78213,78221,78216,\n",
    "78109,78209,78244,78237,\n",
    "78218,78232,78260,78210,78023,\n",
    "78229,78217,78242,78239,78211,\n",
    "78238,78212,78222,78259,78261,\n",
    "78148,78214,78224,78015,78219,\n",
    "78220,78255,78248,78264,\n",
    "78252,78225,78204,78256,\n",
    "78073,78202,78112,78231,\n",
    "78236,78002,78226,78203,\n",
    "78257,78263,78208,\n",
    "78215,78152,78234,78205,78235,\n",
    "78243,78206,78262,78275,78286,\n",
    "78287,78054,78150,78241,78246,\n",
    "78265,78268,78270,78269,78278,\n",
    "78280,78279,78284,78283,78285,\n",
    "78288,78291,78289,78293,78292,\n",
    "78295,78294,78297,78296,78299,\n",
    "78298]\n",
    "\n",
    "kendall_zips = [78006,78013,78606,78004,78027,78074]\n",
    "\n",
    "bandera_zips = [78063,78003,78055,78884,78885,78883]\n",
    "\n",
    "comal_zips = [78130,78132,78133,78070,78163,78266,78623,78131,78135]\n",
    "\n",
    "guadalupe_zips = [78666,78155,78108,78154,78648,78124,78655,78638,78123,78670,78115,78156]\n",
    "\n",
    "wilson_zips = [78114,78121,78101,78160,78140,78113,78161,78147,78143]\n",
    "\n",
    "atascosa_zips = [78064,78065,78026,78052,78069,78011,78008,78050,78062,78012]\n",
    "\n",
    "medina_zips = [78861,78016,78009,78059,78039,78056,78057,78850,78066,78886]\n",
    "\n",
    "county_zips = {\n",
    "    'Bexar': bexar_zips,\n",
    "    'Kendall': kendall_zips,\n",
    "    'Bandera': bandera_zips,\n",
    "    'Comal': comal_zips,\n",
    "    'Guadalupe': guadalupe_zips,\n",
    "    'Wilson': wilson_zips,\n",
    "    'Atascosa': atascosa_zips,\n",
    "    'Medina': medina_zips\n",
    "}\n",
    "\n",
    "all_zips = []\n",
    "\n",
    "for key in county_zips:\n",
    "    for i in county_zips[key]:\n",
    "        all_zips.append(i)\n",
    "\n",
    "zips_for_incomes = [78002, 78003, 78004, 78006, 78008, 78009, \n",
    "                    78011, 78012, 78013, 78015, 78016, 78023, \n",
    "                    78026, 78027, 78039, 78050, 78052, 78055, \n",
    "                    78056, 78057, 78059, 78062, 78063, 78064, \n",
    "                    78065, 78066, 78069, 78070, 78073, 78074, \n",
    "                    78101, 78108, 78109, 78112, 78113, 78114, \n",
    "                    78121, 78123, 78124, 78130, 78132, 78133, \n",
    "                    78140, 78143, 78147, 78148, 78150, 78152, \n",
    "                    78154, 78155, 78160, 78161, 78163, 78201, \n",
    "                    78202, 78203, 78204, 78205, 78207, 78208, \n",
    "                    78209, 78210, 78211, 78212, 78213, 78214, \n",
    "                    78215, 78216, 78217, 78218, 78219, 78220, \n",
    "                    78221, 78222, 78223, 78224, 78225, 78226, \n",
    "                    78227, 78228, 78229, 78230, 78231, 78232, \n",
    "                    78233, 78234, 78235, 78236, 78237, 78238, \n",
    "                    78239, 78240, 78242, 78243, 78244, 78245, \n",
    "                    78247, 78248, 78249, 78250, 78251, 78252, \n",
    "                    78253, 78254, 78255, 78256, 78257, 78258, \n",
    "                    78259, 78260, 78261, 78263, 78264, 78266, \n",
    "                    78606, 78623, 78638, 78648, 78655, 78666, \n",
    "                    78670, 78850, 78861, 78883, 78884, 78885, 78886]\n",
    "\n",
    "zip_income_list = ['64082', '54500', '160147', '110955', '-', \n",
    "                    '102724', '29089', '47708', '79770', '155488', \n",
    "                    '57609', '129701', '77257', '108434', '74013', \n",
    "                    '91212', '69018', '71635', '122026', '63967', \n",
    "                    '72254', '-', '79066', '69407', '63653', \n",
    "                    '92813', '71071', '115076', '65342', '-', \n",
    "                    '90413', '117304', '87635', '54445', '90191', \n",
    "                    '84260', '126726', '95700', '82534', '84426', \n",
    "                    '126934', '80777', '49032', '-', '72961', \n",
    "                    '75395', '-', '102212', '97465', '71367', \n",
    "                    '62188', '75966', '133681', '46129', '43708', \n",
    "                    '34815', '54667', '34631', '30655', '23194', \n",
    "                    '84180', '51990', '54279', '60222', '53342', \n",
    "                    '41334', '82128', '55488', '56852', '56833', \n",
    "                    '52147', '41244', '63114', '64251', '50352', \n",
    "                    '57965', '46829', '32340', '48049', '50865', \n",
    "                    '46718', '71564', '103538', '84633', '73729', \n",
    "                    '100096', '64919', '96771', '40233', '56227', \n",
    "                    '71455', '62203', '48979', '-', '67789', \n",
    "                    '87890', '89184', '130605', '80851', '80289', \n",
    "                    '78025', '79635', '104260', '115823', '151673', \n",
    "                    '72797', '74540', '116133', '109429', '150705', \n",
    "                    '140120', '81793', '60245', '132470', '89980', \n",
    "                    '122143', '82760', '56533', '48409', '55478', \n",
    "                    '76591', '77344', '64491', '36189', '82292', '70833', '119276']\n",
    "\n",
    "zip_incomes_withblanks = pd.DataFrame(data={'Zip Code': zips_for_incomes, 'Median Income': zip_income_list})\n",
    "\n",
    "zip_incomes = zip_incomes_withblanks[zip_incomes_withblanks['Median Income'] != '-']\n",
    "\n",
    "county_incomes = pd.DataFrame(data={'County': ['Kendall','Bandera','Comal','Guadalupe','Wilson','Atascosa','Medina', 'Bexar'],\n",
    "                                     'Median Income':[110498,69073,99193,95953,92461,69413,73462,69807]})\n",
    "\n",
    "\n",
    "yes_no_cols = ['Learn Participation 2022', \n",
    "               'Explore Participation',\n",
    "               'Make It Happen Badge (Yes/No)', \n",
    "               'Trip Eligible (Yes/No)',\n",
    "               'Scholarship Badge (Yes/No)']\n",
    "\n",
    "schools_with_clubs = ['Brackenridge High School','Whittier Middle School', 'Driscoll Middle school', 'Advanced Learning Academy', \n",
    "                      \"Young Women's Leadership Academy\", 'CAST Med High School', 'International School of the Americas', 'South San High School', \n",
    "                      'Churchill High School', 'Johnson High School', 'CAST Tech High School' , 'IDEA Converse', 'RISE Inspire Academy', \n",
    "                      'Nimitz Middle School', 'Thomas Jefferson High School', \"Young Men's Leadership Academy\", 'Southside High School']\n",
    "\n",
    "general_agg_stats = {'Galaxy ID': 'count',\n",
    "            'Age at Sign Up': ['mean', 'median', 'min', 'max'],\n",
    "            'Service Range': 'mean',\n",
    "            'Hours': ['sum', 'mean'],\n",
    "            'Follow Through': ['sum', 'mean'],\n",
    "            'Trip Eligible (Yes/No)': ['sum', 'mean'],\n",
    "            'Service Count': ['mean', 'sum'],\n",
    "            'Responses' : ['mean', 'sum'],\n",
    "            'Make It Happen Badge (Yes/No)': ['sum', 'mean'],\n",
    "            'Scholarship Badge (Yes/No)': ['sum', 'mean'],\n",
    "            'Explore Participation': ['sum', 'mean']}\n",
    "\n",
    "age_agg_stats = {'Galaxy ID': 'count',\n",
    "            'Service Range': 'mean',\n",
    "            'Hours': ['sum', 'mean'],\n",
    "            'Follow Through': ['sum', 'mean'],\n",
    "            'Trip Eligible (Yes/No)': ['sum', 'mean'],\n",
    "            'Service Count': ['mean', 'sum'],\n",
    "            'Responses' : ['mean', 'sum'],\n",
    "            'Make It Happen Badge (Yes/No)': ['sum', 'mean'],\n",
    "            'Scholarship Badge (Yes/No)': ['sum', 'mean'],\n",
    "            'Explore Participation': ['sum', 'mean']}"
   ]
  },
  {
   "cell_type": "code",
   "execution_count": 9,
   "id": "be273262",
   "metadata": {},
   "outputs": [],
   "source": [
    "def assign_zipincome(zip):\n",
    "    if zip in zip_incomes['Zip Code'].values:\n",
    "        return round((int(zip_incomes[zip_incomes['Zip Code']==zip]['Median Income'].values[0])))\n",
    "    \n",
    "def assign_countyincome(county):\n",
    "    if county in county_incomes['County'].values:\n",
    "        return round(int(county_incomes[county_incomes['County']==county]['Median Income'].values[0]))"
   ]
  },
  {
   "cell_type": "code",
   "execution_count": 10,
   "id": "795e587e",
   "metadata": {},
   "outputs": [
    {
     "data": {
      "text/plain": [
       "62203"
      ]
     },
     "execution_count": 10,
     "metadata": {},
     "output_type": "execute_result"
    }
   ],
   "source": [
    "int(zip_incomes[zip_incomes['Zip Code']==78240]['Median Income'].values[0])"
   ]
  },
  {
   "cell_type": "markdown",
   "id": "3b7dffb4",
   "metadata": {},
   "source": [
    "With only the students in the valid age range being considered, both the mean and the median age are 15. This also shows that our ages should be roughly normally distributed as the values are close to each other.\n",
    "\n",
    "As well as replacing these ages with 15, the other cleaning is as follows.\n",
    "\n",
    "- All rows with missing galaxy IDs will be removed. These rows are also missing most of their other data making them not useful to this analysis. The galaxy ID is also used as a link between sheets and student tracking, so without this information that row is not of much use.\n",
    "\n",
    "- All adults will be filtered out. This will go off of the age at sign up. Anyone over the age of 20 at sign up will be removed. This cut off was gotten through talks with the non-profit.\n",
    "\n",
    "- Any data before 2020 will be removed from the cleaned set. This data is very inconsistent and often is missing alot of data. This data also has odd data points and potential errors. Nearly all data past this point is filled out accurately and will give a better analysis.\n",
    "\n",
    "- Some zip codes include a 4 digit code in addition to the typical 5 digit zip. The information is unnecessary to this analysis and all zip codes will be truncated to 5 digits\n",
    "\n",
    "There will also be new columns added to take in information from the hours sheet\n",
    "\n",
    "- **'Collected Hours'** will be the hours that the client accrued from January 1, 2020 onwards.\n",
    "- **'Earliest Service'** will show the students first service starting at January 1, 2020.\n",
    "- **'Latest Service'** will show the students latest service\n",
    "- **'Service Count'** will be how many events the students has participated in.\n",
    "- **'Service Range'** is the time in days between the lastest service and the ealiest service, showing how long they were/have been active\n",
    "- **'Follow Through'** is a 1/0 variable where 1 means the clients actually volunteered after signing up, 0 means they signed up but never volunteered.\n",
    "- **'County'** is the county gotten from the given zip code, using the lists above"
   ]
  },
  {
   "cell_type": "code",
   "execution_count": null,
   "id": "c77e7d45",
   "metadata": {},
   "outputs": [],
   "source": []
  },
  {
   "cell_type": "code",
   "execution_count": 21,
   "id": "fbb9f7fe",
   "metadata": {},
   "outputs": [
    {
     "name": "stderr",
     "output_type": "stream",
     "text": [
      "C:\\Users\\cln87\\AppData\\Local\\Temp\\ipykernel_13600\\463478328.py:3: FutureWarning:\n",
      "\n",
      "Downcasting behavior in `replace` is deprecated and will be removed in a future version. To retain the old behavior, explicitly call `result.infer_objects(copy=False)`. To opt-in to the future behavior, set `pd.set_option('future.no_silent_downcasting', True)`\n",
      "\n",
      "C:\\Users\\cln87\\AppData\\Local\\Temp\\ipykernel_13600\\463478328.py:1: UserWarning:\n",
      "\n",
      "Boolean Series key will be reindexed to match DataFrame index.\n",
      "\n",
      "C:\\Users\\cln87\\AppData\\Local\\Temp\\ipykernel_13600\\463478328.py:9: FutureWarning:\n",
      "\n",
      "Downcasting behavior in `replace` is deprecated and will be removed in a future version. To retain the old behavior, explicitly call `result.infer_objects(copy=False)`. To opt-in to the future behavior, set `pd.set_option('future.no_silent_downcasting', True)`\n",
      "\n"
     ]
    }
   ],
   "source": [
    "\n",
    "clients = (clients_raw[clients_raw['Galaxy ID'].notna()]\n",
    "                        .replace({'HS Graduation Year': '0', 'Age Now': 'Unknown'}, None)\n",
    "                        .replace({'Age at Sign Up': {\"Unknown\": 15, 0: 15, 1: 15, 4: 15}})\n",
    "                        .query('`Age at Sign Up` <= 20')\n",
    "[clients_raw['dateAdded'] >= dt.datetime(2020, 1, 1)]\n",
    ")\n",
    "\n",
    "# Apply data transformations\n",
    "clients[yes_no_cols] = clients[yes_no_cols].replace({'Yes': 1, 'No': 0})\n",
    "clients['Zip Code'] = pd.to_numeric(clients['Zip Code'].astype(str).str[:5])\n",
    "\n",
    "# Recalculate derived columns\n",
    "hours_sum = hours.groupby('Galaxy ID')['hours'].sum()\n",
    "clients['Collected Hours'] = clients['Galaxy ID'].map(hours_sum)\n",
    "\n",
    "earliest_service = hours.groupby('Galaxy ID')['Event Date'].min()\n",
    "clients['Earliest Service'] = clients['Galaxy ID'].map(earliest_service)\n",
    "\n",
    "latest_service = hours.groupby('Galaxy ID')['Event Date'].max()\n",
    "clients['Latest Service'] = clients['Galaxy ID'].map(latest_service)\n",
    "\n",
    "service_count = hours.groupby('Galaxy ID')['Event Date'].count()\n",
    "clients['Service Count'] = clients['Galaxy ID'].map(service_count)\n",
    "\n",
    "range_mask = (clients['Latest Service'] - clients['Earliest Service']).dt.days > 0\n",
    "clients.loc[range_mask, 'Service Range'] = clients['Latest Service'] - clients['Earliest Service']\n",
    "\n",
    "clients['Follow Through'] = np.where(clients['Hours'] > 0, 1, 0).astype(int)\n",
    "clients['Club'] = np.where(clients['School'].isin(schools_with_clubs), 1, 0).astype(int)\n",
    "\n",
    "# Assign counties\n",
    "def county_assign(zip_code):\n",
    "    for county, zips in county_zips.items():\n",
    "        if zip_code in zips:\n",
    "            return county\n",
    "    return None\n",
    "\n",
    "clients['County'] = clients['Zip Code'].apply(county_assign)\n",
    "\n",
    "# Assign incomes\n",
    "def assign_zipincome(zip_code):\n",
    "    if zip_code in zip_incomes['Zip Code'].values:\n",
    "        return round(int(zip_incomes[zip_incomes['Zip Code'] == zip_code]['Median Income'].values[0]))\n",
    "    return None\n",
    "\n",
    "def assign_countyincome(county):\n",
    "    if county in county_incomes['County'].values:\n",
    "        return round(int(county_incomes[county_incomes['County'] == county]['Median Income'].values[0]))\n",
    "    return None\n",
    "\n",
    "for idx, row in clients.iterrows():\n",
    "    zip_of_id = row['Zip Code']\n",
    "    county_of_id = row['County']\n",
    "    \n",
    "    if zip_of_id in zip_incomes['Zip Code'].values:\n",
    "        clients.loc[idx, 'Median Family Income'] = assign_zipincome(zip_of_id)\n",
    "    elif county_of_id in county_incomes['County'].values:\n",
    "        clients.loc[idx, 'Median Family Income'] = assign_countyincome(county_of_id)\n",
    "    else:\n",
    "        clients.loc[idx, 'Median Family Income'] = None\n",
    "\n",
    "clients['Median Family Income'] = clients['Median Family Income'].astype('Int64')\n",
    "\n",
    "# Create income range function\n",
    "def income_range(income):\n",
    "    if pd.isnull(income):\n",
    "        return None\n",
    "    range_string = f'{int(str(income)[:-6])}0 - {int(str(income)[:-6])}9'\n",
    "    return range_string\n",
    "\n",
    "clients['Income Range (Thousands)'] = clients['Median Family Income'].apply(income_range)\n",
    "\n",
    "def step_assign(id):\n",
    "    if clients.loc[clients['Galaxy ID']==id, 'Explore Participation'].values[0] == 1:\n",
    "        return 5\n",
    "    elif (clients.loc[clients['Galaxy ID']==id, 'Explore Participation'].values[0] == 0)&(clients.loc[clients['Galaxy ID']==id, 'Trip Eligible (Yes/No)'].values[0] == 1):\n",
    "        return 4\n",
    "    elif clients.loc[clients['Galaxy ID']==id, 'Follow Through'].values[0] == 1:\n",
    "        return 3\n",
    "    elif (clients.loc[clients['Galaxy ID']==id, 'Responses'].values[0] > 0)&(clients.loc[clients['Galaxy ID']==id, 'Hours'].values[0] == 0):\n",
    "        return 2\n",
    "    else:\n",
    "        return 1\n",
    "    \n",
    "clients['Step'] = clients['Galaxy ID'].apply(step_assign)\n",
    "\n",
    "funnel_dict = pd.DataFrame(data={ 'Step' : ['1','2','3','4','5'], \n",
    "                                 'Count' : [len(clients[clients['Step'].isin([1,2,3,4,5])]), \n",
    "                                            len(clients[clients['Step'].isin([2,3,4,5])]), \n",
    "                                            len(clients[clients['Step'].isin([3,4,5])]), \n",
    "                                            len(clients[clients['Step'].isin([4,5])]), \n",
    "                                            len(clients[clients['Step'].isin([5])])]})\n",
    "\n",
    "# Create school club data\n",
    "schoolclub_hours = clients.groupby(by='School').agg({'Hours': 'sum'}).reset_index()\n",
    "schoolclub_hours['Club'] = np.where(schoolclub_hours['School'].isin(schools_with_clubs), 1, 0).astype(str)\n",
    "\n",
    "# Update quarter data after assigning year\n",
    "hours['year'] = hours['Event Date'].dt.year\n",
    "\n",
    "hours['month'] = hours['Event Date'].dt.month\n",
    "\n",
    "hours['qtr-year'] = (\n",
    "    hours['year'].astype(str) +\n",
    "    '-Q' + hours['Event Date'].dt.quarter.astype(str)\n",
    ")\n",
    "\n",
    "hours['mon-year'] = (\n",
    "        hours['year'].astype(str) +\n",
    "    '-' + hours['month'].astype(str)\n",
    ")\n",
    "\n",
    "qtr_vol_counts = pd.DataFrame(\n",
    "    list(hours.groupby('qtr-year')['Galaxy ID'].nunique().to_dict().items()),\n",
    "    columns=['QTR', 'Active Volunteers']\n",
    ")"
   ]
  },
  {
   "cell_type": "code",
   "execution_count": 22,
   "id": "42dd7856",
   "metadata": {},
   "outputs": [
    {
     "data": {
      "text/html": [
       "<div>\n",
       "<style scoped>\n",
       "    .dataframe tbody tr th:only-of-type {\n",
       "        vertical-align: middle;\n",
       "    }\n",
       "\n",
       "    .dataframe tbody tr th {\n",
       "        vertical-align: top;\n",
       "    }\n",
       "\n",
       "    .dataframe thead th {\n",
       "        text-align: right;\n",
       "    }\n",
       "</style>\n",
       "<table border=\"1\" class=\"dataframe\">\n",
       "  <thead>\n",
       "    <tr style=\"text-align: right;\">\n",
       "      <th></th>\n",
       "      <th>Galaxy ID</th>\n",
       "      <th>zipCodeNeed</th>\n",
       "      <th>needName</th>\n",
       "      <th>hours</th>\n",
       "      <th>Event Date</th>\n",
       "      <th>agency</th>\n",
       "      <th>year</th>\n",
       "      <th>qtr-year</th>\n",
       "      <th>month</th>\n",
       "      <th>mon-year</th>\n",
       "    </tr>\n",
       "  </thead>\n",
       "  <tbody>\n",
       "    <tr>\n",
       "      <th>0</th>\n",
       "      <td>2421117</td>\n",
       "      <td>NaN</td>\n",
       "      <td>NaN</td>\n",
       "      <td>3.0</td>\n",
       "      <td>2018-01-03</td>\n",
       "      <td>NaN</td>\n",
       "      <td>2018</td>\n",
       "      <td>2018-Q1</td>\n",
       "      <td>1</td>\n",
       "      <td>2018-1</td>\n",
       "    </tr>\n",
       "    <tr>\n",
       "      <th>1</th>\n",
       "      <td>2421117</td>\n",
       "      <td>NaN</td>\n",
       "      <td>NaN</td>\n",
       "      <td>3.0</td>\n",
       "      <td>2018-01-04</td>\n",
       "      <td>NaN</td>\n",
       "      <td>2018</td>\n",
       "      <td>2018-Q1</td>\n",
       "      <td>1</td>\n",
       "      <td>2018-1</td>\n",
       "    </tr>\n",
       "    <tr>\n",
       "      <th>2</th>\n",
       "      <td>2421065</td>\n",
       "      <td>NaN</td>\n",
       "      <td>NaN</td>\n",
       "      <td>4.0</td>\n",
       "      <td>2018-01-05</td>\n",
       "      <td>NaN</td>\n",
       "      <td>2018</td>\n",
       "      <td>2018-Q1</td>\n",
       "      <td>1</td>\n",
       "      <td>2018-1</td>\n",
       "    </tr>\n",
       "    <tr>\n",
       "      <th>3</th>\n",
       "      <td>2421065</td>\n",
       "      <td>NaN</td>\n",
       "      <td>NaN</td>\n",
       "      <td>2.0</td>\n",
       "      <td>2018-01-08</td>\n",
       "      <td>NaN</td>\n",
       "      <td>2018</td>\n",
       "      <td>2018-Q1</td>\n",
       "      <td>1</td>\n",
       "      <td>2018-1</td>\n",
       "    </tr>\n",
       "    <tr>\n",
       "      <th>4</th>\n",
       "      <td>2421541</td>\n",
       "      <td>NaN</td>\n",
       "      <td>NaN</td>\n",
       "      <td>1.0</td>\n",
       "      <td>2018-01-13</td>\n",
       "      <td>NaN</td>\n",
       "      <td>2018</td>\n",
       "      <td>2018-Q1</td>\n",
       "      <td>1</td>\n",
       "      <td>2018-1</td>\n",
       "    </tr>\n",
       "    <tr>\n",
       "      <th>...</th>\n",
       "      <td>...</td>\n",
       "      <td>...</td>\n",
       "      <td>...</td>\n",
       "      <td>...</td>\n",
       "      <td>...</td>\n",
       "      <td>...</td>\n",
       "      <td>...</td>\n",
       "      <td>...</td>\n",
       "      <td>...</td>\n",
       "      <td>...</td>\n",
       "    </tr>\n",
       "    <tr>\n",
       "      <th>7577</th>\n",
       "      <td>5907067</td>\n",
       "      <td>78218.0</td>\n",
       "      <td>Special SOS Opportunities - Permission needed</td>\n",
       "      <td>2.5</td>\n",
       "      <td>2025-03-22</td>\n",
       "      <td>Students of Service (SOS)</td>\n",
       "      <td>2025</td>\n",
       "      <td>2025-Q1</td>\n",
       "      <td>3</td>\n",
       "      <td>2025-3</td>\n",
       "    </tr>\n",
       "    <tr>\n",
       "      <th>7578</th>\n",
       "      <td>4418385</td>\n",
       "      <td>78218.0</td>\n",
       "      <td>Special SOS Opportunities - Permission needed</td>\n",
       "      <td>2.5</td>\n",
       "      <td>2025-03-22</td>\n",
       "      <td>Students of Service (SOS)</td>\n",
       "      <td>2025</td>\n",
       "      <td>2025-Q1</td>\n",
       "      <td>3</td>\n",
       "      <td>2025-3</td>\n",
       "    </tr>\n",
       "    <tr>\n",
       "      <th>7579</th>\n",
       "      <td>6574945</td>\n",
       "      <td>78218.0</td>\n",
       "      <td>Special SOS Opportunities - Permission needed</td>\n",
       "      <td>2.5</td>\n",
       "      <td>2025-03-22</td>\n",
       "      <td>Students of Service (SOS)</td>\n",
       "      <td>2025</td>\n",
       "      <td>2025-Q1</td>\n",
       "      <td>3</td>\n",
       "      <td>2025-3</td>\n",
       "    </tr>\n",
       "    <tr>\n",
       "      <th>7580</th>\n",
       "      <td>5933094</td>\n",
       "      <td>78218.0</td>\n",
       "      <td>Special SOS Opportunities - Permission needed</td>\n",
       "      <td>2.5</td>\n",
       "      <td>2025-03-22</td>\n",
       "      <td>Students of Service (SOS)</td>\n",
       "      <td>2025</td>\n",
       "      <td>2025-Q1</td>\n",
       "      <td>3</td>\n",
       "      <td>2025-3</td>\n",
       "    </tr>\n",
       "    <tr>\n",
       "      <th>7581</th>\n",
       "      <td>7267515</td>\n",
       "      <td>78218.0</td>\n",
       "      <td>Special SOS Opportunities - Permission needed</td>\n",
       "      <td>2.5</td>\n",
       "      <td>2025-03-22</td>\n",
       "      <td>Students of Service (SOS)</td>\n",
       "      <td>2025</td>\n",
       "      <td>2025-Q1</td>\n",
       "      <td>3</td>\n",
       "      <td>2025-3</td>\n",
       "    </tr>\n",
       "  </tbody>\n",
       "</table>\n",
       "<p>7582 rows × 10 columns</p>\n",
       "</div>"
      ],
      "text/plain": [
       "      Galaxy ID  zipCodeNeed                                       needName  \\\n",
       "0       2421117          NaN                                            NaN   \n",
       "1       2421117          NaN                                            NaN   \n",
       "2       2421065          NaN                                            NaN   \n",
       "3       2421065          NaN                                            NaN   \n",
       "4       2421541          NaN                                            NaN   \n",
       "...         ...          ...                                            ...   \n",
       "7577    5907067      78218.0  Special SOS Opportunities - Permission needed   \n",
       "7578    4418385      78218.0  Special SOS Opportunities - Permission needed   \n",
       "7579    6574945      78218.0  Special SOS Opportunities - Permission needed   \n",
       "7580    5933094      78218.0  Special SOS Opportunities - Permission needed   \n",
       "7581    7267515      78218.0  Special SOS Opportunities - Permission needed   \n",
       "\n",
       "      hours Event Date                     agency  year qtr-year  month  \\\n",
       "0       3.0 2018-01-03                        NaN  2018  2018-Q1      1   \n",
       "1       3.0 2018-01-04                        NaN  2018  2018-Q1      1   \n",
       "2       4.0 2018-01-05                        NaN  2018  2018-Q1      1   \n",
       "3       2.0 2018-01-08                        NaN  2018  2018-Q1      1   \n",
       "4       1.0 2018-01-13                        NaN  2018  2018-Q1      1   \n",
       "...     ...        ...                        ...   ...      ...    ...   \n",
       "7577    2.5 2025-03-22  Students of Service (SOS)  2025  2025-Q1      3   \n",
       "7578    2.5 2025-03-22  Students of Service (SOS)  2025  2025-Q1      3   \n",
       "7579    2.5 2025-03-22  Students of Service (SOS)  2025  2025-Q1      3   \n",
       "7580    2.5 2025-03-22  Students of Service (SOS)  2025  2025-Q1      3   \n",
       "7581    2.5 2025-03-22  Students of Service (SOS)  2025  2025-Q1      3   \n",
       "\n",
       "     mon-year  \n",
       "0      2018-1  \n",
       "1      2018-1  \n",
       "2      2018-1  \n",
       "3      2018-1  \n",
       "4      2018-1  \n",
       "...       ...  \n",
       "7577   2025-3  \n",
       "7578   2025-3  \n",
       "7579   2025-3  \n",
       "7580   2025-3  \n",
       "7581   2025-3  \n",
       "\n",
       "[7582 rows x 10 columns]"
      ]
     },
     "execution_count": 22,
     "metadata": {},
     "output_type": "execute_result"
    }
   ],
   "source": [
    "hours"
   ]
  },
  {
   "cell_type": "code",
   "execution_count": 12,
   "id": "d761904c",
   "metadata": {},
   "outputs": [
    {
     "data": {
      "text/html": [
       "<div>\n",
       "<style scoped>\n",
       "    .dataframe tbody tr th:only-of-type {\n",
       "        vertical-align: middle;\n",
       "    }\n",
       "\n",
       "    .dataframe tbody tr th {\n",
       "        vertical-align: top;\n",
       "    }\n",
       "\n",
       "    .dataframe thead th {\n",
       "        text-align: right;\n",
       "    }\n",
       "</style>\n",
       "<table border=\"1\" class=\"dataframe\">\n",
       "  <thead>\n",
       "    <tr style=\"text-align: right;\">\n",
       "      <th></th>\n",
       "      <th>SOS ID</th>\n",
       "      <th>Galaxy ID</th>\n",
       "      <th>Street Address</th>\n",
       "      <th>City</th>\n",
       "      <th>State</th>\n",
       "      <th>Zip Code</th>\n",
       "      <th>Date of Birth</th>\n",
       "      <th>dateAdded</th>\n",
       "      <th>Age at Sign Up</th>\n",
       "      <th>Age Now</th>\n",
       "      <th>...</th>\n",
       "      <th>Earliest Service</th>\n",
       "      <th>Latest Service</th>\n",
       "      <th>Service Count</th>\n",
       "      <th>Service Range</th>\n",
       "      <th>Follow Through</th>\n",
       "      <th>Club</th>\n",
       "      <th>County</th>\n",
       "      <th>Median Family Income</th>\n",
       "      <th>Income Range (Thousands)</th>\n",
       "      <th>Step</th>\n",
       "    </tr>\n",
       "  </thead>\n",
       "  <tbody>\n",
       "    <tr>\n",
       "      <th>1449</th>\n",
       "      <td>S01664</td>\n",
       "      <td>3353389.0</td>\n",
       "      <td>105 San Arturo St</td>\n",
       "      <td>San Antonio</td>\n",
       "      <td>TX</td>\n",
       "      <td>78210</td>\n",
       "      <td>2005-02-21 00:00:00</td>\n",
       "      <td>2020-05-23</td>\n",
       "      <td>15</td>\n",
       "      <td>20</td>\n",
       "      <td>...</td>\n",
       "      <td>2020-06-05</td>\n",
       "      <td>2020-06-12</td>\n",
       "      <td>2.0</td>\n",
       "      <td>7 days</td>\n",
       "      <td>1</td>\n",
       "      <td>1</td>\n",
       "      <td>Bexar</td>\n",
       "      <td>51990</td>\n",
       "      <td>50 - 59</td>\n",
       "      <td>3</td>\n",
       "    </tr>\n",
       "    <tr>\n",
       "      <th>1451</th>\n",
       "      <td>S01667</td>\n",
       "      <td>3362218.0</td>\n",
       "      <td>5419 Cervantes</td>\n",
       "      <td>San Antonio</td>\n",
       "      <td>TX</td>\n",
       "      <td>78228</td>\n",
       "      <td>2005-08-31 00:00:00</td>\n",
       "      <td>2020-05-30</td>\n",
       "      <td>14</td>\n",
       "      <td>19</td>\n",
       "      <td>...</td>\n",
       "      <td>2020-05-30</td>\n",
       "      <td>2020-07-09</td>\n",
       "      <td>38.0</td>\n",
       "      <td>40 days</td>\n",
       "      <td>1</td>\n",
       "      <td>1</td>\n",
       "      <td>Bexar</td>\n",
       "      <td>50865</td>\n",
       "      <td>50 - 59</td>\n",
       "      <td>4</td>\n",
       "    </tr>\n",
       "    <tr>\n",
       "      <th>1852</th>\n",
       "      <td>S02089</td>\n",
       "      <td>4294450.0</td>\n",
       "      <td>8015 maddie lane</td>\n",
       "      <td>san antonio</td>\n",
       "      <td>TX</td>\n",
       "      <td>78255</td>\n",
       "      <td>2004-09-02 00:00:00</td>\n",
       "      <td>2021-05-27</td>\n",
       "      <td>16</td>\n",
       "      <td>20</td>\n",
       "      <td>...</td>\n",
       "      <td>2021-08-02</td>\n",
       "      <td>2021-08-05</td>\n",
       "      <td>4.0</td>\n",
       "      <td>3 days</td>\n",
       "      <td>1</td>\n",
       "      <td>0</td>\n",
       "      <td>Bexar</td>\n",
       "      <td>151673</td>\n",
       "      <td>150 - 159</td>\n",
       "      <td>4</td>\n",
       "    </tr>\n",
       "    <tr>\n",
       "      <th>2364</th>\n",
       "      <td>S02630</td>\n",
       "      <td>5139702.0</td>\n",
       "      <td>18050 Muir Glen Drive</td>\n",
       "      <td>San Antonio</td>\n",
       "      <td>TX</td>\n",
       "      <td>78257</td>\n",
       "      <td>2005-10-21 00:00:00</td>\n",
       "      <td>2022-05-04</td>\n",
       "      <td>16</td>\n",
       "      <td>19</td>\n",
       "      <td>...</td>\n",
       "      <td>2022-08-09</td>\n",
       "      <td>2022-08-10</td>\n",
       "      <td>2.0</td>\n",
       "      <td>1 days</td>\n",
       "      <td>1</td>\n",
       "      <td>0</td>\n",
       "      <td>Bexar</td>\n",
       "      <td>74540</td>\n",
       "      <td>70 - 79</td>\n",
       "      <td>3</td>\n",
       "    </tr>\n",
       "    <tr>\n",
       "      <th>2486</th>\n",
       "      <td>S02759</td>\n",
       "      <td>5440751.0</td>\n",
       "      <td>1706 wind river</td>\n",
       "      <td>san antonio</td>\n",
       "      <td>TX</td>\n",
       "      <td>78258</td>\n",
       "      <td>2008-06-06 00:00:00</td>\n",
       "      <td>2022-09-04</td>\n",
       "      <td>14</td>\n",
       "      <td>16</td>\n",
       "      <td>...</td>\n",
       "      <td>2023-11-14</td>\n",
       "      <td>2023-11-14</td>\n",
       "      <td>1.0</td>\n",
       "      <td>NaT</td>\n",
       "      <td>1</td>\n",
       "      <td>0</td>\n",
       "      <td>Bexar</td>\n",
       "      <td>116133</td>\n",
       "      <td>110 - 119</td>\n",
       "      <td>3</td>\n",
       "    </tr>\n",
       "    <tr>\n",
       "      <th>2555</th>\n",
       "      <td>S02832</td>\n",
       "      <td>5552914.0</td>\n",
       "      <td>24018 Alpine Lodge</td>\n",
       "      <td>San Antonio</td>\n",
       "      <td>TX</td>\n",
       "      <td>78258</td>\n",
       "      <td>2006-06-12 00:00:00</td>\n",
       "      <td>2022-09-29</td>\n",
       "      <td>16</td>\n",
       "      <td>18</td>\n",
       "      <td>...</td>\n",
       "      <td>2023-11-14</td>\n",
       "      <td>2023-11-14</td>\n",
       "      <td>1.0</td>\n",
       "      <td>NaT</td>\n",
       "      <td>1</td>\n",
       "      <td>0</td>\n",
       "      <td>Bexar</td>\n",
       "      <td>116133</td>\n",
       "      <td>110 - 119</td>\n",
       "      <td>3</td>\n",
       "    </tr>\n",
       "    <tr>\n",
       "      <th>2556</th>\n",
       "      <td>S02833</td>\n",
       "      <td>5552916.0</td>\n",
       "      <td>3331 Gazelle Range</td>\n",
       "      <td>San antonio</td>\n",
       "      <td>TX</td>\n",
       "      <td>78259</td>\n",
       "      <td>2007-05-23 00:00:00</td>\n",
       "      <td>2022-09-29</td>\n",
       "      <td>15</td>\n",
       "      <td>17</td>\n",
       "      <td>...</td>\n",
       "      <td>2023-11-14</td>\n",
       "      <td>2023-11-14</td>\n",
       "      <td>1.0</td>\n",
       "      <td>NaT</td>\n",
       "      <td>1</td>\n",
       "      <td>0</td>\n",
       "      <td>Bexar</td>\n",
       "      <td>109429</td>\n",
       "      <td>100 - 109</td>\n",
       "      <td>3</td>\n",
       "    </tr>\n",
       "    <tr>\n",
       "      <th>2680</th>\n",
       "      <td>S02964</td>\n",
       "      <td>5851873.0</td>\n",
       "      <td>1107 Walkers Way</td>\n",
       "      <td>San Antonio</td>\n",
       "      <td>TX</td>\n",
       "      <td>78216</td>\n",
       "      <td>2013-05-06 00:00:00</td>\n",
       "      <td>2023-01-24</td>\n",
       "      <td>9</td>\n",
       "      <td>11</td>\n",
       "      <td>...</td>\n",
       "      <td>2023-01-16</td>\n",
       "      <td>2023-01-16</td>\n",
       "      <td>1.0</td>\n",
       "      <td>NaT</td>\n",
       "      <td>1</td>\n",
       "      <td>0</td>\n",
       "      <td>Bexar</td>\n",
       "      <td>55488</td>\n",
       "      <td>50 - 59</td>\n",
       "      <td>3</td>\n",
       "    </tr>\n",
       "    <tr>\n",
       "      <th>2921</th>\n",
       "      <td>S03221</td>\n",
       "      <td>6204343.0</td>\n",
       "      <td>24019</td>\n",
       "      <td>san antonio</td>\n",
       "      <td>TX</td>\n",
       "      <td>78261</td>\n",
       "      <td>2009-05-06 00:00:00</td>\n",
       "      <td>2023-05-31</td>\n",
       "      <td>14</td>\n",
       "      <td>15</td>\n",
       "      <td>...</td>\n",
       "      <td>2023-11-30</td>\n",
       "      <td>2023-11-30</td>\n",
       "      <td>1.0</td>\n",
       "      <td>NaT</td>\n",
       "      <td>1</td>\n",
       "      <td>0</td>\n",
       "      <td>Bexar</td>\n",
       "      <td>140120</td>\n",
       "      <td>140 - 149</td>\n",
       "      <td>3</td>\n",
       "    </tr>\n",
       "    <tr>\n",
       "      <th>3612</th>\n",
       "      <td>S02915</td>\n",
       "      <td>5742024.0</td>\n",
       "      <td>3047</td>\n",
       "      <td>San Antonio</td>\n",
       "      <td>TX</td>\n",
       "      <td>78247</td>\n",
       "      <td>2011-03-03 00:00:00</td>\n",
       "      <td>2022-12-05</td>\n",
       "      <td>11</td>\n",
       "      <td>14</td>\n",
       "      <td>...</td>\n",
       "      <td>2022-12-05</td>\n",
       "      <td>2022-12-05</td>\n",
       "      <td>1.0</td>\n",
       "      <td>NaT</td>\n",
       "      <td>1</td>\n",
       "      <td>0</td>\n",
       "      <td>Bexar</td>\n",
       "      <td>89184</td>\n",
       "      <td>80 - 89</td>\n",
       "      <td>3</td>\n",
       "    </tr>\n",
       "    <tr>\n",
       "      <th>4445</th>\n",
       "      <td>S02671</td>\n",
       "      <td>7991884.0</td>\n",
       "      <td>3947 Alamar Cottage</td>\n",
       "      <td>San Antonio</td>\n",
       "      <td>TX</td>\n",
       "      <td>78259</td>\n",
       "      <td>2009-08-31 00:00:00</td>\n",
       "      <td>2025-01-01</td>\n",
       "      <td>15</td>\n",
       "      <td>15</td>\n",
       "      <td>...</td>\n",
       "      <td>2025-01-20</td>\n",
       "      <td>2025-01-20</td>\n",
       "      <td>1.0</td>\n",
       "      <td>NaT</td>\n",
       "      <td>1</td>\n",
       "      <td>0</td>\n",
       "      <td>Bexar</td>\n",
       "      <td>109429</td>\n",
       "      <td>100 - 109</td>\n",
       "      <td>3</td>\n",
       "    </tr>\n",
       "  </tbody>\n",
       "</table>\n",
       "<p>11 rows × 35 columns</p>\n",
       "</div>"
      ],
      "text/plain": [
       "      SOS ID  Galaxy ID         Street Address         City State  Zip Code  \\\n",
       "1449  S01664  3353389.0      105 San Arturo St  San Antonio    TX     78210   \n",
       "1451  S01667  3362218.0         5419 Cervantes  San Antonio    TX     78228   \n",
       "1852  S02089  4294450.0       8015 maddie lane  san antonio    TX     78255   \n",
       "2364  S02630  5139702.0  18050 Muir Glen Drive  San Antonio    TX     78257   \n",
       "2486  S02759  5440751.0        1706 wind river  san antonio    TX     78258   \n",
       "2555  S02832  5552914.0     24018 Alpine Lodge  San Antonio    TX     78258   \n",
       "2556  S02833  5552916.0     3331 Gazelle Range  San antonio    TX     78259   \n",
       "2680  S02964  5851873.0       1107 Walkers Way  San Antonio    TX     78216   \n",
       "2921  S03221  6204343.0                  24019  san antonio    TX     78261   \n",
       "3612  S02915  5742024.0                   3047  San Antonio    TX     78247   \n",
       "4445  S02671  7991884.0    3947 Alamar Cottage  San Antonio    TX     78259   \n",
       "\n",
       "            Date of Birth  dateAdded  Age at Sign Up Age Now  ...  \\\n",
       "1449  2005-02-21 00:00:00 2020-05-23              15      20  ...   \n",
       "1451  2005-08-31 00:00:00 2020-05-30              14      19  ...   \n",
       "1852  2004-09-02 00:00:00 2021-05-27              16      20  ...   \n",
       "2364  2005-10-21 00:00:00 2022-05-04              16      19  ...   \n",
       "2486  2008-06-06 00:00:00 2022-09-04              14      16  ...   \n",
       "2555  2006-06-12 00:00:00 2022-09-29              16      18  ...   \n",
       "2556  2007-05-23 00:00:00 2022-09-29              15      17  ...   \n",
       "2680  2013-05-06 00:00:00 2023-01-24               9      11  ...   \n",
       "2921  2009-05-06 00:00:00 2023-05-31              14      15  ...   \n",
       "3612  2011-03-03 00:00:00 2022-12-05              11      14  ...   \n",
       "4445  2009-08-31 00:00:00 2025-01-01              15      15  ...   \n",
       "\n",
       "     Earliest Service Latest Service Service Count Service Range  \\\n",
       "1449       2020-06-05     2020-06-12           2.0        7 days   \n",
       "1451       2020-05-30     2020-07-09          38.0       40 days   \n",
       "1852       2021-08-02     2021-08-05           4.0        3 days   \n",
       "2364       2022-08-09     2022-08-10           2.0        1 days   \n",
       "2486       2023-11-14     2023-11-14           1.0           NaT   \n",
       "2555       2023-11-14     2023-11-14           1.0           NaT   \n",
       "2556       2023-11-14     2023-11-14           1.0           NaT   \n",
       "2680       2023-01-16     2023-01-16           1.0           NaT   \n",
       "2921       2023-11-30     2023-11-30           1.0           NaT   \n",
       "3612       2022-12-05     2022-12-05           1.0           NaT   \n",
       "4445       2025-01-20     2025-01-20           1.0           NaT   \n",
       "\n",
       "     Follow Through Club  County  Median Family Income  \\\n",
       "1449              1    1   Bexar                 51990   \n",
       "1451              1    1   Bexar                 50865   \n",
       "1852              1    0   Bexar                151673   \n",
       "2364              1    0   Bexar                 74540   \n",
       "2486              1    0   Bexar                116133   \n",
       "2555              1    0   Bexar                116133   \n",
       "2556              1    0   Bexar                109429   \n",
       "2680              1    0   Bexar                 55488   \n",
       "2921              1    0   Bexar                140120   \n",
       "3612              1    0   Bexar                 89184   \n",
       "4445              1    0   Bexar                109429   \n",
       "\n",
       "     Income Range (Thousands)  Step  \n",
       "1449                  50 - 59     3  \n",
       "1451                  50 - 59     4  \n",
       "1852                150 - 159     4  \n",
       "2364                  70 - 79     3  \n",
       "2486                110 - 119     3  \n",
       "2555                110 - 119     3  \n",
       "2556                100 - 109     3  \n",
       "2680                  50 - 59     3  \n",
       "2921                140 - 149     3  \n",
       "3612                  80 - 89     3  \n",
       "4445                100 - 109     3  \n",
       "\n",
       "[11 rows x 35 columns]"
      ]
     },
     "execution_count": 12,
     "metadata": {},
     "output_type": "execute_result"
    }
   ],
   "source": [
    "clients[(clients['Responses']==0)&(clients['Hours']>0)]"
   ]
  },
  {
   "cell_type": "code",
   "execution_count": 13,
   "id": "03c43b1d",
   "metadata": {},
   "outputs": [
    {
     "data": {
      "text/html": [
       "<div>\n",
       "<style scoped>\n",
       "    .dataframe tbody tr th:only-of-type {\n",
       "        vertical-align: middle;\n",
       "    }\n",
       "\n",
       "    .dataframe tbody tr th {\n",
       "        vertical-align: top;\n",
       "    }\n",
       "\n",
       "    .dataframe thead th {\n",
       "        text-align: right;\n",
       "    }\n",
       "</style>\n",
       "<table border=\"1\" class=\"dataframe\">\n",
       "  <thead>\n",
       "    <tr style=\"text-align: right;\">\n",
       "      <th></th>\n",
       "      <th>SOS ID</th>\n",
       "      <th>Galaxy ID</th>\n",
       "      <th>Street Address</th>\n",
       "      <th>City</th>\n",
       "      <th>State</th>\n",
       "      <th>Zip Code</th>\n",
       "      <th>Date of Birth</th>\n",
       "      <th>dateAdded</th>\n",
       "      <th>Age at Sign Up</th>\n",
       "      <th>Age Now</th>\n",
       "      <th>...</th>\n",
       "      <th>Earliest Service</th>\n",
       "      <th>Latest Service</th>\n",
       "      <th>Service Count</th>\n",
       "      <th>Service Range</th>\n",
       "      <th>Follow Through</th>\n",
       "      <th>Club</th>\n",
       "      <th>County</th>\n",
       "      <th>Median Family Income</th>\n",
       "      <th>Income Range (Thousands)</th>\n",
       "      <th>Step</th>\n",
       "    </tr>\n",
       "  </thead>\n",
       "  <tbody>\n",
       "    <tr>\n",
       "      <th>5</th>\n",
       "      <td>S02646</td>\n",
       "      <td>5143417.0</td>\n",
       "      <td>11319 Carmen Heights</td>\n",
       "      <td>San Antonio</td>\n",
       "      <td>TX</td>\n",
       "      <td>78230</td>\n",
       "      <td>2005-09-11 00:00:00</td>\n",
       "      <td>2022-05-05</td>\n",
       "      <td>16</td>\n",
       "      <td>19</td>\n",
       "      <td>...</td>\n",
       "      <td>2022-09-24</td>\n",
       "      <td>2022-09-24</td>\n",
       "      <td>1.0</td>\n",
       "      <td>NaT</td>\n",
       "      <td>1</td>\n",
       "      <td>0</td>\n",
       "      <td>Bexar</td>\n",
       "      <td>71564</td>\n",
       "      <td>70 - 79</td>\n",
       "      <td>3</td>\n",
       "    </tr>\n",
       "    <tr>\n",
       "      <th>9</th>\n",
       "      <td>S03962</td>\n",
       "      <td>7218008.0</td>\n",
       "      <td>6003 MacGregor Way</td>\n",
       "      <td>SAN ANTONIO</td>\n",
       "      <td>TX</td>\n",
       "      <td>78240</td>\n",
       "      <td>2007-12-16 00:00:00</td>\n",
       "      <td>2024-05-28</td>\n",
       "      <td>16</td>\n",
       "      <td>17</td>\n",
       "      <td>...</td>\n",
       "      <td>2024-12-07</td>\n",
       "      <td>2024-12-07</td>\n",
       "      <td>1.0</td>\n",
       "      <td>NaT</td>\n",
       "      <td>1</td>\n",
       "      <td>0</td>\n",
       "      <td>Bexar</td>\n",
       "      <td>62203</td>\n",
       "      <td>60 - 69</td>\n",
       "      <td>3</td>\n",
       "    </tr>\n",
       "    <tr>\n",
       "      <th>78</th>\n",
       "      <td>S03210</td>\n",
       "      <td>6194196.0</td>\n",
       "      <td>4422 Manitou bay</td>\n",
       "      <td>san Antonio</td>\n",
       "      <td>TX</td>\n",
       "      <td>78259</td>\n",
       "      <td>2009-05-14 00:00:00</td>\n",
       "      <td>2023-05-25</td>\n",
       "      <td>14</td>\n",
       "      <td>15</td>\n",
       "      <td>...</td>\n",
       "      <td>2023-11-30</td>\n",
       "      <td>2023-11-30</td>\n",
       "      <td>1.0</td>\n",
       "      <td>NaT</td>\n",
       "      <td>1</td>\n",
       "      <td>0</td>\n",
       "      <td>Bexar</td>\n",
       "      <td>109429</td>\n",
       "      <td>100 - 109</td>\n",
       "      <td>3</td>\n",
       "    </tr>\n",
       "    <tr>\n",
       "      <th>95</th>\n",
       "      <td>S01985</td>\n",
       "      <td>3923745.0</td>\n",
       "      <td>3110 Hillcrest Dr. Apt. 112</td>\n",
       "      <td>San Antonio</td>\n",
       "      <td>TX</td>\n",
       "      <td>78201</td>\n",
       "      <td>2004-11-03 00:00:00</td>\n",
       "      <td>2021-03-12</td>\n",
       "      <td>16</td>\n",
       "      <td>20</td>\n",
       "      <td>...</td>\n",
       "      <td>2021-08-21</td>\n",
       "      <td>2022-08-09</td>\n",
       "      <td>2.0</td>\n",
       "      <td>353 days</td>\n",
       "      <td>1</td>\n",
       "      <td>1</td>\n",
       "      <td>Bexar</td>\n",
       "      <td>46129</td>\n",
       "      <td>40 - 49</td>\n",
       "      <td>3</td>\n",
       "    </tr>\n",
       "    <tr>\n",
       "      <th>123</th>\n",
       "      <td>S02522</td>\n",
       "      <td>4926927.0</td>\n",
       "      <td>21303 Encino Commons Apt. 211</td>\n",
       "      <td>San Antonio</td>\n",
       "      <td>TX</td>\n",
       "      <td>78259</td>\n",
       "      <td>2007-11-30 00:00:00</td>\n",
       "      <td>2022-02-17</td>\n",
       "      <td>14</td>\n",
       "      <td>17</td>\n",
       "      <td>...</td>\n",
       "      <td>2023-11-30</td>\n",
       "      <td>2024-10-12</td>\n",
       "      <td>4.0</td>\n",
       "      <td>317 days</td>\n",
       "      <td>1</td>\n",
       "      <td>0</td>\n",
       "      <td>Bexar</td>\n",
       "      <td>109429</td>\n",
       "      <td>100 - 109</td>\n",
       "      <td>3</td>\n",
       "    </tr>\n",
       "    <tr>\n",
       "      <th>...</th>\n",
       "      <td>...</td>\n",
       "      <td>...</td>\n",
       "      <td>...</td>\n",
       "      <td>...</td>\n",
       "      <td>...</td>\n",
       "      <td>...</td>\n",
       "      <td>...</td>\n",
       "      <td>...</td>\n",
       "      <td>...</td>\n",
       "      <td>...</td>\n",
       "      <td>...</td>\n",
       "      <td>...</td>\n",
       "      <td>...</td>\n",
       "      <td>...</td>\n",
       "      <td>...</td>\n",
       "      <td>...</td>\n",
       "      <td>...</td>\n",
       "      <td>...</td>\n",
       "      <td>...</td>\n",
       "      <td>...</td>\n",
       "      <td>...</td>\n",
       "    </tr>\n",
       "    <tr>\n",
       "      <th>4497</th>\n",
       "      <td>S02723</td>\n",
       "      <td>7965136.0</td>\n",
       "      <td>3947 Alamar Cottage</td>\n",
       "      <td>San Antonio</td>\n",
       "      <td>TX</td>\n",
       "      <td>78259</td>\n",
       "      <td>2009-08-31 00:00:00</td>\n",
       "      <td>2024-12-17</td>\n",
       "      <td>15</td>\n",
       "      <td>15</td>\n",
       "      <td>...</td>\n",
       "      <td>2024-12-10</td>\n",
       "      <td>2025-03-01</td>\n",
       "      <td>9.0</td>\n",
       "      <td>81 days</td>\n",
       "      <td>1</td>\n",
       "      <td>0</td>\n",
       "      <td>Bexar</td>\n",
       "      <td>109429</td>\n",
       "      <td>100 - 109</td>\n",
       "      <td>3</td>\n",
       "    </tr>\n",
       "    <tr>\n",
       "      <th>4503</th>\n",
       "      <td>S02729</td>\n",
       "      <td>7980540.0</td>\n",
       "      <td>6531 Jade Meadow</td>\n",
       "      <td>San Antonio</td>\n",
       "      <td>TX</td>\n",
       "      <td>78249</td>\n",
       "      <td>2010-04-26 00:00:00</td>\n",
       "      <td>2024-12-22</td>\n",
       "      <td>14</td>\n",
       "      <td>14</td>\n",
       "      <td>...</td>\n",
       "      <td>2025-01-11</td>\n",
       "      <td>2025-01-11</td>\n",
       "      <td>1.0</td>\n",
       "      <td>NaT</td>\n",
       "      <td>1</td>\n",
       "      <td>0</td>\n",
       "      <td>Bexar</td>\n",
       "      <td>80851</td>\n",
       "      <td>80 - 89</td>\n",
       "      <td>3</td>\n",
       "    </tr>\n",
       "    <tr>\n",
       "      <th>4512</th>\n",
       "      <td>S02739</td>\n",
       "      <td>8073608.0</td>\n",
       "      <td>218 Flintstone Lane</td>\n",
       "      <td>Universal City</td>\n",
       "      <td>TX</td>\n",
       "      <td>78148</td>\n",
       "      <td>2005-03-14 00:00:00</td>\n",
       "      <td>2025-01-30</td>\n",
       "      <td>19</td>\n",
       "      <td>20</td>\n",
       "      <td>...</td>\n",
       "      <td>2025-02-08</td>\n",
       "      <td>2025-02-08</td>\n",
       "      <td>1.0</td>\n",
       "      <td>NaT</td>\n",
       "      <td>1</td>\n",
       "      <td>0</td>\n",
       "      <td>Bexar</td>\n",
       "      <td>75395</td>\n",
       "      <td>70 - 79</td>\n",
       "      <td>3</td>\n",
       "    </tr>\n",
       "    <tr>\n",
       "      <th>4580</th>\n",
       "      <td>S02808</td>\n",
       "      <td>8162839.0</td>\n",
       "      <td>20614 stone oak pkwy</td>\n",
       "      <td>SAN antonio</td>\n",
       "      <td>TX</td>\n",
       "      <td>78258</td>\n",
       "      <td>2010-12-04 00:00:00</td>\n",
       "      <td>2025-03-04</td>\n",
       "      <td>14</td>\n",
       "      <td>14</td>\n",
       "      <td>...</td>\n",
       "      <td>2025-03-08</td>\n",
       "      <td>2025-03-08</td>\n",
       "      <td>1.0</td>\n",
       "      <td>NaT</td>\n",
       "      <td>1</td>\n",
       "      <td>0</td>\n",
       "      <td>Bexar</td>\n",
       "      <td>116133</td>\n",
       "      <td>110 - 119</td>\n",
       "      <td>3</td>\n",
       "    </tr>\n",
       "    <tr>\n",
       "      <th>4586</th>\n",
       "      <td>S02815</td>\n",
       "      <td>8166362.0</td>\n",
       "      <td>20614 Stone Oak Parkway Apt. 421</td>\n",
       "      <td>San Antonio</td>\n",
       "      <td>TX</td>\n",
       "      <td>78258</td>\n",
       "      <td>2007-12-22 00:00:00</td>\n",
       "      <td>2025-03-05</td>\n",
       "      <td>17</td>\n",
       "      <td>17</td>\n",
       "      <td>...</td>\n",
       "      <td>2025-03-08</td>\n",
       "      <td>2025-03-08</td>\n",
       "      <td>1.0</td>\n",
       "      <td>NaT</td>\n",
       "      <td>1</td>\n",
       "      <td>0</td>\n",
       "      <td>Bexar</td>\n",
       "      <td>116133</td>\n",
       "      <td>110 - 119</td>\n",
       "      <td>3</td>\n",
       "    </tr>\n",
       "  </tbody>\n",
       "</table>\n",
       "<p>735 rows × 35 columns</p>\n",
       "</div>"
      ],
      "text/plain": [
       "      SOS ID  Galaxy ID                    Street Address            City  \\\n",
       "5     S02646  5143417.0              11319 Carmen Heights     San Antonio   \n",
       "9     S03962  7218008.0                6003 MacGregor Way     SAN ANTONIO   \n",
       "78    S03210  6194196.0                  4422 Manitou bay     san Antonio   \n",
       "95    S01985  3923745.0       3110 Hillcrest Dr. Apt. 112     San Antonio   \n",
       "123   S02522  4926927.0     21303 Encino Commons Apt. 211     San Antonio   \n",
       "...      ...        ...                               ...             ...   \n",
       "4497  S02723  7965136.0               3947 Alamar Cottage     San Antonio   \n",
       "4503  S02729  7980540.0                  6531 Jade Meadow     San Antonio   \n",
       "4512  S02739  8073608.0               218 Flintstone Lane  Universal City   \n",
       "4580  S02808  8162839.0              20614 stone oak pkwy     SAN antonio   \n",
       "4586  S02815  8166362.0  20614 Stone Oak Parkway Apt. 421     San Antonio   \n",
       "\n",
       "     State  Zip Code        Date of Birth  dateAdded  Age at Sign Up Age Now  \\\n",
       "5       TX     78230  2005-09-11 00:00:00 2022-05-05              16      19   \n",
       "9       TX     78240  2007-12-16 00:00:00 2024-05-28              16      17   \n",
       "78      TX     78259  2009-05-14 00:00:00 2023-05-25              14      15   \n",
       "95      TX     78201  2004-11-03 00:00:00 2021-03-12              16      20   \n",
       "123     TX     78259  2007-11-30 00:00:00 2022-02-17              14      17   \n",
       "...    ...       ...                  ...        ...             ...     ...   \n",
       "4497    TX     78259  2009-08-31 00:00:00 2024-12-17              15      15   \n",
       "4503    TX     78249  2010-04-26 00:00:00 2024-12-22              14      14   \n",
       "4512    TX     78148  2005-03-14 00:00:00 2025-01-30              19      20   \n",
       "4580    TX     78258  2010-12-04 00:00:00 2025-03-04              14      14   \n",
       "4586    TX     78258  2007-12-22 00:00:00 2025-03-05              17      17   \n",
       "\n",
       "      ... Earliest Service Latest Service Service Count Service Range  \\\n",
       "5     ...       2022-09-24     2022-09-24           1.0           NaT   \n",
       "9     ...       2024-12-07     2024-12-07           1.0           NaT   \n",
       "78    ...       2023-11-30     2023-11-30           1.0           NaT   \n",
       "95    ...       2021-08-21     2022-08-09           2.0      353 days   \n",
       "123   ...       2023-11-30     2024-10-12           4.0      317 days   \n",
       "...   ...              ...            ...           ...           ...   \n",
       "4497  ...       2024-12-10     2025-03-01           9.0       81 days   \n",
       "4503  ...       2025-01-11     2025-01-11           1.0           NaT   \n",
       "4512  ...       2025-02-08     2025-02-08           1.0           NaT   \n",
       "4580  ...       2025-03-08     2025-03-08           1.0           NaT   \n",
       "4586  ...       2025-03-08     2025-03-08           1.0           NaT   \n",
       "\n",
       "     Follow Through Club  County  Median Family Income  \\\n",
       "5                 1    0   Bexar                 71564   \n",
       "9                 1    0   Bexar                 62203   \n",
       "78                1    0   Bexar                109429   \n",
       "95                1    1   Bexar                 46129   \n",
       "123               1    0   Bexar                109429   \n",
       "...             ...  ...     ...                   ...   \n",
       "4497              1    0   Bexar                109429   \n",
       "4503              1    0   Bexar                 80851   \n",
       "4512              1    0   Bexar                 75395   \n",
       "4580              1    0   Bexar                116133   \n",
       "4586              1    0   Bexar                116133   \n",
       "\n",
       "     Income Range (Thousands)  Step  \n",
       "5                     70 - 79     3  \n",
       "9                     60 - 69     3  \n",
       "78                  100 - 109     3  \n",
       "95                    40 - 49     3  \n",
       "123                 100 - 109     3  \n",
       "...                       ...   ...  \n",
       "4497                100 - 109     3  \n",
       "4503                  80 - 89     3  \n",
       "4512                  70 - 79     3  \n",
       "4580                110 - 119     3  \n",
       "4586                110 - 119     3  \n",
       "\n",
       "[735 rows x 35 columns]"
      ]
     },
     "execution_count": 13,
     "metadata": {},
     "output_type": "execute_result"
    }
   ],
   "source": [
    "clients[clients['Follow Through']==1]"
   ]
  },
  {
   "cell_type": "code",
   "execution_count": 14,
   "id": "56e1efc9",
   "metadata": {},
   "outputs": [],
   "source": [
    "funnel_df = pd.DataFrame(data={ 'Step' : ['1','2','3','4','5'], 'Count' : [len(clients[clients['Step'].isin([1,2,3,4,5])]), len(clients[clients['Step'].isin([2,3,4,5])]), len(clients[clients['Step'].isin([3,4,5])]), len(clients[clients['Step'].isin([4,5])]), len(clients[clients['Step'].isin([5])])]})"
   ]
  },
  {
   "cell_type": "code",
   "execution_count": 15,
   "id": "121104f1",
   "metadata": {},
   "outputs": [],
   "source": [
    "funnel_df['Step'] = funnel_df['Step'].map({'1':'Registered',\n",
    "                         '2':'Responded',\n",
    "                         '3':'Volunteered',\n",
    "                         '4':'Explore Eligible',\n",
    "                         '5':'Participated in Explore'})\n"
   ]
  },
  {
   "cell_type": "code",
   "execution_count": 16,
   "id": "b9ceed23",
   "metadata": {},
   "outputs": [
    {
     "data": {
      "application/vnd.plotly.v1+json": {
       "config": {
        "plotlyServerURL": "https://plot.ly"
       },
       "data": [
        {
         "hovertemplate": "Count=%{x}<br>Step=%{y}<extra></extra>",
         "legendgroup": "",
         "marker": {
          "color": "#636efa"
         },
         "name": "",
         "orientation": "h",
         "showlegend": false,
         "type": "funnel",
         "x": [
          2672,
          930,
          749,
          163,
          62
         ],
         "xaxis": "x",
         "y": [
          "Registered",
          "Responded",
          "Volunteered",
          "Explore Eligible",
          "Participated in Explore"
         ],
         "yaxis": "y"
        }
       ],
       "layout": {
        "legend": {
         "tracegroupgap": 0
        },
        "template": {
         "data": {
          "bar": [
           {
            "error_x": {
             "color": "#2a3f5f"
            },
            "error_y": {
             "color": "#2a3f5f"
            },
            "marker": {
             "line": {
              "color": "#E5ECF6",
              "width": 0.5
             },
             "pattern": {
              "fillmode": "overlay",
              "size": 10,
              "solidity": 0.2
             }
            },
            "type": "bar"
           }
          ],
          "barpolar": [
           {
            "marker": {
             "line": {
              "color": "#E5ECF6",
              "width": 0.5
             },
             "pattern": {
              "fillmode": "overlay",
              "size": 10,
              "solidity": 0.2
             }
            },
            "type": "barpolar"
           }
          ],
          "carpet": [
           {
            "aaxis": {
             "endlinecolor": "#2a3f5f",
             "gridcolor": "white",
             "linecolor": "white",
             "minorgridcolor": "white",
             "startlinecolor": "#2a3f5f"
            },
            "baxis": {
             "endlinecolor": "#2a3f5f",
             "gridcolor": "white",
             "linecolor": "white",
             "minorgridcolor": "white",
             "startlinecolor": "#2a3f5f"
            },
            "type": "carpet"
           }
          ],
          "choropleth": [
           {
            "colorbar": {
             "outlinewidth": 0,
             "ticks": ""
            },
            "type": "choropleth"
           }
          ],
          "contour": [
           {
            "colorbar": {
             "outlinewidth": 0,
             "ticks": ""
            },
            "colorscale": [
             [
              0,
              "#0d0887"
             ],
             [
              0.1111111111111111,
              "#46039f"
             ],
             [
              0.2222222222222222,
              "#7201a8"
             ],
             [
              0.3333333333333333,
              "#9c179e"
             ],
             [
              0.4444444444444444,
              "#bd3786"
             ],
             [
              0.5555555555555556,
              "#d8576b"
             ],
             [
              0.6666666666666666,
              "#ed7953"
             ],
             [
              0.7777777777777778,
              "#fb9f3a"
             ],
             [
              0.8888888888888888,
              "#fdca26"
             ],
             [
              1,
              "#f0f921"
             ]
            ],
            "type": "contour"
           }
          ],
          "contourcarpet": [
           {
            "colorbar": {
             "outlinewidth": 0,
             "ticks": ""
            },
            "type": "contourcarpet"
           }
          ],
          "heatmap": [
           {
            "colorbar": {
             "outlinewidth": 0,
             "ticks": ""
            },
            "colorscale": [
             [
              0,
              "#0d0887"
             ],
             [
              0.1111111111111111,
              "#46039f"
             ],
             [
              0.2222222222222222,
              "#7201a8"
             ],
             [
              0.3333333333333333,
              "#9c179e"
             ],
             [
              0.4444444444444444,
              "#bd3786"
             ],
             [
              0.5555555555555556,
              "#d8576b"
             ],
             [
              0.6666666666666666,
              "#ed7953"
             ],
             [
              0.7777777777777778,
              "#fb9f3a"
             ],
             [
              0.8888888888888888,
              "#fdca26"
             ],
             [
              1,
              "#f0f921"
             ]
            ],
            "type": "heatmap"
           }
          ],
          "heatmapgl": [
           {
            "colorbar": {
             "outlinewidth": 0,
             "ticks": ""
            },
            "colorscale": [
             [
              0,
              "#0d0887"
             ],
             [
              0.1111111111111111,
              "#46039f"
             ],
             [
              0.2222222222222222,
              "#7201a8"
             ],
             [
              0.3333333333333333,
              "#9c179e"
             ],
             [
              0.4444444444444444,
              "#bd3786"
             ],
             [
              0.5555555555555556,
              "#d8576b"
             ],
             [
              0.6666666666666666,
              "#ed7953"
             ],
             [
              0.7777777777777778,
              "#fb9f3a"
             ],
             [
              0.8888888888888888,
              "#fdca26"
             ],
             [
              1,
              "#f0f921"
             ]
            ],
            "type": "heatmapgl"
           }
          ],
          "histogram": [
           {
            "marker": {
             "pattern": {
              "fillmode": "overlay",
              "size": 10,
              "solidity": 0.2
             }
            },
            "type": "histogram"
           }
          ],
          "histogram2d": [
           {
            "colorbar": {
             "outlinewidth": 0,
             "ticks": ""
            },
            "colorscale": [
             [
              0,
              "#0d0887"
             ],
             [
              0.1111111111111111,
              "#46039f"
             ],
             [
              0.2222222222222222,
              "#7201a8"
             ],
             [
              0.3333333333333333,
              "#9c179e"
             ],
             [
              0.4444444444444444,
              "#bd3786"
             ],
             [
              0.5555555555555556,
              "#d8576b"
             ],
             [
              0.6666666666666666,
              "#ed7953"
             ],
             [
              0.7777777777777778,
              "#fb9f3a"
             ],
             [
              0.8888888888888888,
              "#fdca26"
             ],
             [
              1,
              "#f0f921"
             ]
            ],
            "type": "histogram2d"
           }
          ],
          "histogram2dcontour": [
           {
            "colorbar": {
             "outlinewidth": 0,
             "ticks": ""
            },
            "colorscale": [
             [
              0,
              "#0d0887"
             ],
             [
              0.1111111111111111,
              "#46039f"
             ],
             [
              0.2222222222222222,
              "#7201a8"
             ],
             [
              0.3333333333333333,
              "#9c179e"
             ],
             [
              0.4444444444444444,
              "#bd3786"
             ],
             [
              0.5555555555555556,
              "#d8576b"
             ],
             [
              0.6666666666666666,
              "#ed7953"
             ],
             [
              0.7777777777777778,
              "#fb9f3a"
             ],
             [
              0.8888888888888888,
              "#fdca26"
             ],
             [
              1,
              "#f0f921"
             ]
            ],
            "type": "histogram2dcontour"
           }
          ],
          "mesh3d": [
           {
            "colorbar": {
             "outlinewidth": 0,
             "ticks": ""
            },
            "type": "mesh3d"
           }
          ],
          "parcoords": [
           {
            "line": {
             "colorbar": {
              "outlinewidth": 0,
              "ticks": ""
             }
            },
            "type": "parcoords"
           }
          ],
          "pie": [
           {
            "automargin": true,
            "type": "pie"
           }
          ],
          "scatter": [
           {
            "fillpattern": {
             "fillmode": "overlay",
             "size": 10,
             "solidity": 0.2
            },
            "type": "scatter"
           }
          ],
          "scatter3d": [
           {
            "line": {
             "colorbar": {
              "outlinewidth": 0,
              "ticks": ""
             }
            },
            "marker": {
             "colorbar": {
              "outlinewidth": 0,
              "ticks": ""
             }
            },
            "type": "scatter3d"
           }
          ],
          "scattercarpet": [
           {
            "marker": {
             "colorbar": {
              "outlinewidth": 0,
              "ticks": ""
             }
            },
            "type": "scattercarpet"
           }
          ],
          "scattergeo": [
           {
            "marker": {
             "colorbar": {
              "outlinewidth": 0,
              "ticks": ""
             }
            },
            "type": "scattergeo"
           }
          ],
          "scattergl": [
           {
            "marker": {
             "colorbar": {
              "outlinewidth": 0,
              "ticks": ""
             }
            },
            "type": "scattergl"
           }
          ],
          "scattermapbox": [
           {
            "marker": {
             "colorbar": {
              "outlinewidth": 0,
              "ticks": ""
             }
            },
            "type": "scattermapbox"
           }
          ],
          "scatterpolar": [
           {
            "marker": {
             "colorbar": {
              "outlinewidth": 0,
              "ticks": ""
             }
            },
            "type": "scatterpolar"
           }
          ],
          "scatterpolargl": [
           {
            "marker": {
             "colorbar": {
              "outlinewidth": 0,
              "ticks": ""
             }
            },
            "type": "scatterpolargl"
           }
          ],
          "scatterternary": [
           {
            "marker": {
             "colorbar": {
              "outlinewidth": 0,
              "ticks": ""
             }
            },
            "type": "scatterternary"
           }
          ],
          "surface": [
           {
            "colorbar": {
             "outlinewidth": 0,
             "ticks": ""
            },
            "colorscale": [
             [
              0,
              "#0d0887"
             ],
             [
              0.1111111111111111,
              "#46039f"
             ],
             [
              0.2222222222222222,
              "#7201a8"
             ],
             [
              0.3333333333333333,
              "#9c179e"
             ],
             [
              0.4444444444444444,
              "#bd3786"
             ],
             [
              0.5555555555555556,
              "#d8576b"
             ],
             [
              0.6666666666666666,
              "#ed7953"
             ],
             [
              0.7777777777777778,
              "#fb9f3a"
             ],
             [
              0.8888888888888888,
              "#fdca26"
             ],
             [
              1,
              "#f0f921"
             ]
            ],
            "type": "surface"
           }
          ],
          "table": [
           {
            "cells": {
             "fill": {
              "color": "#EBF0F8"
             },
             "line": {
              "color": "white"
             }
            },
            "header": {
             "fill": {
              "color": "#C8D4E3"
             },
             "line": {
              "color": "white"
             }
            },
            "type": "table"
           }
          ]
         },
         "layout": {
          "annotationdefaults": {
           "arrowcolor": "#2a3f5f",
           "arrowhead": 0,
           "arrowwidth": 1
          },
          "autotypenumbers": "strict",
          "coloraxis": {
           "colorbar": {
            "outlinewidth": 0,
            "ticks": ""
           }
          },
          "colorscale": {
           "diverging": [
            [
             0,
             "#8e0152"
            ],
            [
             0.1,
             "#c51b7d"
            ],
            [
             0.2,
             "#de77ae"
            ],
            [
             0.3,
             "#f1b6da"
            ],
            [
             0.4,
             "#fde0ef"
            ],
            [
             0.5,
             "#f7f7f7"
            ],
            [
             0.6,
             "#e6f5d0"
            ],
            [
             0.7,
             "#b8e186"
            ],
            [
             0.8,
             "#7fbc41"
            ],
            [
             0.9,
             "#4d9221"
            ],
            [
             1,
             "#276419"
            ]
           ],
           "sequential": [
            [
             0,
             "#0d0887"
            ],
            [
             0.1111111111111111,
             "#46039f"
            ],
            [
             0.2222222222222222,
             "#7201a8"
            ],
            [
             0.3333333333333333,
             "#9c179e"
            ],
            [
             0.4444444444444444,
             "#bd3786"
            ],
            [
             0.5555555555555556,
             "#d8576b"
            ],
            [
             0.6666666666666666,
             "#ed7953"
            ],
            [
             0.7777777777777778,
             "#fb9f3a"
            ],
            [
             0.8888888888888888,
             "#fdca26"
            ],
            [
             1,
             "#f0f921"
            ]
           ],
           "sequentialminus": [
            [
             0,
             "#0d0887"
            ],
            [
             0.1111111111111111,
             "#46039f"
            ],
            [
             0.2222222222222222,
             "#7201a8"
            ],
            [
             0.3333333333333333,
             "#9c179e"
            ],
            [
             0.4444444444444444,
             "#bd3786"
            ],
            [
             0.5555555555555556,
             "#d8576b"
            ],
            [
             0.6666666666666666,
             "#ed7953"
            ],
            [
             0.7777777777777778,
             "#fb9f3a"
            ],
            [
             0.8888888888888888,
             "#fdca26"
            ],
            [
             1,
             "#f0f921"
            ]
           ]
          },
          "colorway": [
           "#636efa",
           "#EF553B",
           "#00cc96",
           "#ab63fa",
           "#FFA15A",
           "#19d3f3",
           "#FF6692",
           "#B6E880",
           "#FF97FF",
           "#FECB52"
          ],
          "font": {
           "color": "#2a3f5f"
          },
          "geo": {
           "bgcolor": "white",
           "lakecolor": "white",
           "landcolor": "#E5ECF6",
           "showlakes": true,
           "showland": true,
           "subunitcolor": "white"
          },
          "hoverlabel": {
           "align": "left"
          },
          "hovermode": "closest",
          "mapbox": {
           "style": "light"
          },
          "paper_bgcolor": "white",
          "plot_bgcolor": "#E5ECF6",
          "polar": {
           "angularaxis": {
            "gridcolor": "white",
            "linecolor": "white",
            "ticks": ""
           },
           "bgcolor": "#E5ECF6",
           "radialaxis": {
            "gridcolor": "white",
            "linecolor": "white",
            "ticks": ""
           }
          },
          "scene": {
           "xaxis": {
            "backgroundcolor": "#E5ECF6",
            "gridcolor": "white",
            "gridwidth": 2,
            "linecolor": "white",
            "showbackground": true,
            "ticks": "",
            "zerolinecolor": "white"
           },
           "yaxis": {
            "backgroundcolor": "#E5ECF6",
            "gridcolor": "white",
            "gridwidth": 2,
            "linecolor": "white",
            "showbackground": true,
            "ticks": "",
            "zerolinecolor": "white"
           },
           "zaxis": {
            "backgroundcolor": "#E5ECF6",
            "gridcolor": "white",
            "gridwidth": 2,
            "linecolor": "white",
            "showbackground": true,
            "ticks": "",
            "zerolinecolor": "white"
           }
          },
          "shapedefaults": {
           "line": {
            "color": "#2a3f5f"
           }
          },
          "ternary": {
           "aaxis": {
            "gridcolor": "white",
            "linecolor": "white",
            "ticks": ""
           },
           "baxis": {
            "gridcolor": "white",
            "linecolor": "white",
            "ticks": ""
           },
           "bgcolor": "#E5ECF6",
           "caxis": {
            "gridcolor": "white",
            "linecolor": "white",
            "ticks": ""
           }
          },
          "title": {
           "x": 0.05
          },
          "xaxis": {
           "automargin": true,
           "gridcolor": "white",
           "linecolor": "white",
           "ticks": "",
           "title": {
            "standoff": 15
           },
           "zerolinecolor": "white",
           "zerolinewidth": 2
          },
          "yaxis": {
           "automargin": true,
           "gridcolor": "white",
           "linecolor": "white",
           "ticks": "",
           "title": {
            "standoff": 15
           },
           "zerolinecolor": "white",
           "zerolinewidth": 2
          }
         }
        },
        "title": {
         "text": "Student Volunteers at each Stage"
        },
        "xaxis": {
         "anchor": "y",
         "domain": [
          0,
          1
         ],
         "title": {
          "text": "Count"
         }
        },
        "yaxis": {
         "anchor": "x",
         "domain": [
          0,
          1
         ],
         "title": {
          "text": "Step"
         }
        }
       }
      }
     },
     "metadata": {},
     "output_type": "display_data"
    }
   ],
   "source": [
    "px.funnel(funnel_df, y='Step', x='Count', title='Student Volunteers at each Stage')"
   ]
  },
  {
   "cell_type": "code",
   "execution_count": 17,
   "id": "3031aece",
   "metadata": {},
   "outputs": [
    {
     "ename": "SyntaxError",
     "evalue": "invalid syntax. Perhaps you forgot a comma? (1079599497.py, line 44)",
     "output_type": "error",
     "traceback": [
      "\u001b[1;36m  Cell \u001b[1;32mIn[17], line 44\u001b[1;36m\u001b[0m\n\u001b[1;33m    'font': {3\u001b[0m\n\u001b[1;37m             ^\u001b[0m\n\u001b[1;31mSyntaxError\u001b[0m\u001b[1;31m:\u001b[0m invalid syntax. Perhaps you forgot a comma?\n"
     ]
    }
   ],
   "source": [
    "import plotly.express as px\n",
    "import plotly.graph_objects as go\n",
    "\n",
    "# Define your brand colors\n",
    "primary_colors = {\n",
    "    'blue': '#2A8EC1',\n",
    "    'gold': '#C1A351', \n",
    "    'dark': '#241D21',\n",
    "    'light_gray': '#DFE6E8'\n",
    "}\n",
    "\n",
    "secondary_colors = {\n",
    "    'dark_blue': '#0E4573',\n",
    "    'light_gold': '#DBCFA3',\n",
    "    'gray': '#646061',\n",
    "    'green': '#7C946C'\n",
    "}\n",
    "# Alternative: More customized version with go.Funnel for additional control\n",
    "fig_custom = go.Figure()\n",
    "\n",
    "# Assuming your data has these columns - adjust as needed\n",
    "steps = funnel_df['Step'].tolist()\n",
    "counts = funnel_df['Count'].tolist()\n",
    "\n",
    "fig_custom.add_trace(go.Funnel(\n",
    "    y=steps,\n",
    "    x=counts,\n",
    "    textinfo=\"label+value+percent initial\",\n",
    "    textfont=dict(size=16, color='white'),\n",
    "    marker=dict(\n",
    "        color=funnel_colors[:len(steps)],\n",
    "        line=dict(color=primary_colors['dark'], width=2)\n",
    "    ),\n",
    "    connector=dict(\n",
    "        line=dict(color=secondary_colors['gray'], width=3)\n",
    "    )\n",
    "))\n",
    "\n",
    "fig_custom.update_layout(\n",
    "    title={\n",
    "        'text': 'Student Volunteers at each Stage',\n",
    "        'x': 0.5,\n",
    "        'xanchor': 'center',\n",
    "        'font': {3\n",
    "                 \n",
    "            'size': 24,\n",
    "            'color': primary_colors['dark'],\n",
    "            'family': 'Arial, sans-serif'\n",
    "        }\n",
    "    },\n",
    "    paper_bgcolor=primary_colors['light_gray'],\n",
    "    plot_bgcolor='white',\n",
    "    font={\n",
    "        'color': primary_colors['dark'],\n",
    "        'size': 14,\n",
    "        'family': 'Arial, sans-serif'\n",
    "    },\n",
    "    margin=dict(l=50, r=50, t=80, b=50),\n",
    "    height=600,\n",
    "    showlegend=False\n",
    ")\n",
    "\n",
    "# Display the custom version\n",
    "fig_custom.show()\n",
    "\n",
    "# Optional: Save the chart\n",
    "# fig.write_html(\"student_volunteers_funnel.html\")\n",
    "# fig.write_image(\"student_volunteers_funnel.png\", width=1200, height=600, scale=2)"
   ]
  },
  {
   "cell_type": "code",
   "execution_count": null,
   "id": "aef8d878",
   "metadata": {},
   "outputs": [
    {
     "data": {
      "text/plain": [
       "95     353 days\n",
       "123    317 days\n",
       "162     30 days\n",
       "217    124 days\n",
       "276    121 days\n",
       "         ...   \n",
       "4447    71 days\n",
       "4467    21 days\n",
       "4473    28 days\n",
       "4481    75 days\n",
       "4497    81 days\n",
       "Name: Service Range, Length: 375, dtype: timedelta64[ns]"
      ]
     },
     "execution_count": 16,
     "metadata": {},
     "output_type": "execute_result"
    }
   ],
   "source": [
    "clients[clients['Service Range'].notna()]['Service Range']"
   ]
  },
  {
   "cell_type": "code",
   "execution_count": null,
   "id": "526b43e7",
   "metadata": {},
   "outputs": [
    {
     "data": {
      "text/plain": [
       "array([16, 17, 15, 14, 18, 12, 13, 11, 10, 19, 20,  9], dtype=int64)"
      ]
     },
     "execution_count": 17,
     "metadata": {},
     "output_type": "execute_result"
    }
   ],
   "source": [
    "clients['Age at Sign Up'].unique()"
   ]
  },
  {
   "cell_type": "code",
   "execution_count": null,
   "id": "560ed3e0",
   "metadata": {},
   "outputs": [],
   "source": [
    "def popstat_dashtable(popstat):\n",
    "    agg_stat, flat_stat = population_stat(clients, popstat)\n",
    "    agg_stat.reset_index().sort_values(by=popstat)"
   ]
  },
  {
   "cell_type": "code",
   "execution_count": null,
   "id": "5eebe6ab",
   "metadata": {},
   "outputs": [
    {
     "ename": "TypeError",
     "evalue": "histogram() got an unexpected keyword argument 'nbinsx'",
     "output_type": "error",
     "traceback": [
      "\u001b[1;31m---------------------------------------------------------------------------\u001b[0m",
      "\u001b[1;31mTypeError\u001b[0m                                 Traceback (most recent call last)",
      "Cell \u001b[1;32mIn[19], line 1\u001b[0m\n\u001b[1;32m----> 1\u001b[0m double_hist \u001b[38;5;241m=\u001b[39m px\u001b[38;5;241m.\u001b[39mhistogram(clients, x\u001b[38;5;241m=\u001b[39m\u001b[38;5;124m'\u001b[39m\u001b[38;5;124mHours\u001b[39m\u001b[38;5;124m'\u001b[39m, color\u001b[38;5;241m=\u001b[39m\u001b[38;5;124m'\u001b[39m\u001b[38;5;124mClub\u001b[39m\u001b[38;5;124m'\u001b[39m, barmode\u001b[38;5;241m=\u001b[39m\u001b[38;5;124m'\u001b[39m\u001b[38;5;124moverlay\u001b[39m\u001b[38;5;124m'\u001b[39m, opacity\u001b[38;5;241m=\u001b[39m\u001b[38;5;241m0.5\u001b[39m, nbinsx\u001b[38;5;241m=\u001b[39m\u001b[38;5;241m20\u001b[39m)\n\u001b[0;32m      2\u001b[0m double_hist\u001b[38;5;241m.\u001b[39mshow()\n",
      "\u001b[1;31mTypeError\u001b[0m: histogram() got an unexpected keyword argument 'nbinsx'"
     ]
    }
   ],
   "source": [
    "double_hist = px.histogram(clients, x='Hours', color='Club', barmode='overlay', opacity=0.5, nbinsx=20)\n",
    "double_hist.show()"
   ]
  },
  {
   "cell_type": "code",
   "execution_count": null,
   "id": "acb846d5",
   "metadata": {},
   "outputs": [
    {
     "name": "stdout",
     "output_type": "stream",
     "text": [
      "1.5808158956387544 0.057223126103613846\n",
      "Confidence: 94.28%\n"
     ]
    }
   ],
   "source": [
    "tstat, p_value = scipystat.ttest_ind(clients[clients['Club']==1]['Hours'],clients[clients['Club']==0]['Hours'], equal_var=False, alternative='greater')\n",
    "\n",
    "print(f'{tstat} {p_value}')\n",
    "print(f'Confidence: {(1-round(p_value,4))*100}%')"
   ]
  },
  {
   "cell_type": "code",
   "execution_count": null,
   "id": "daeb574c",
   "metadata": {},
   "outputs": [
    {
     "data": {
      "text/plain": [
       "4.03876953125"
      ]
     },
     "execution_count": 62,
     "metadata": {},
     "output_type": "execute_result"
    }
   ],
   "source": [
    "stat.mean(clients[clients['Club']==1]['Hours'])"
   ]
  },
  {
   "cell_type": "code",
   "execution_count": null,
   "id": "17710289",
   "metadata": {},
   "outputs": [
    {
     "data": {
      "text/plain": [
       "283.7134256845493"
      ]
     },
     "execution_count": 65,
     "metadata": {},
     "output_type": "execute_result"
    }
   ],
   "source": [
    "stat.variance(clients[clients['Club']==1]['Hours'])"
   ]
  },
  {
   "cell_type": "code",
   "execution_count": null,
   "id": "14419360",
   "metadata": {},
   "outputs": [
    {
     "data": {
      "text/plain": [
       "512"
      ]
     },
     "execution_count": 60,
     "metadata": {},
     "output_type": "execute_result"
    }
   ],
   "source": [
    "clients[clients['Club']==1]['Hours'].count()"
   ]
  },
  {
   "cell_type": "code",
   "execution_count": null,
   "id": "0084f99a",
   "metadata": {},
   "outputs": [
    {
     "data": {
      "text/plain": [
       "2.8127824074074073"
      ]
     },
     "execution_count": 64,
     "metadata": {},
     "output_type": "execute_result"
    }
   ],
   "source": [
    "stat.mean(clients[clients['Club']==0]['Hours'])"
   ]
  },
  {
   "cell_type": "code",
   "execution_count": null,
   "id": "21ebb954",
   "metadata": {},
   "outputs": [
    {
     "data": {
      "text/plain": [
       "102.24500249084367"
      ]
     },
     "execution_count": 66,
     "metadata": {},
     "output_type": "execute_result"
    }
   ],
   "source": [
    "stat.variance(clients[clients['Club']==0]['Hours'])"
   ]
  },
  {
   "cell_type": "code",
   "execution_count": null,
   "id": "a6679333",
   "metadata": {},
   "outputs": [
    {
     "data": {
      "text/plain": [
       "2160"
      ]
     },
     "execution_count": 61,
     "metadata": {},
     "output_type": "execute_result"
    }
   ],
   "source": [
    "clients[clients['Club']==0]['Hours'].count()"
   ]
  },
  {
   "cell_type": "code",
   "execution_count": null,
   "id": "bb8f7f10",
   "metadata": {},
   "outputs": [
    {
     "data": {
      "application/vnd.plotly.v1+json": {
       "config": {
        "plotlyServerURL": "https://plot.ly"
       },
       "data": [
        {
         "hovertemplate": "index=%{x}<br>Active Volunteers=%{y}<extra></extra>",
         "legendgroup": "",
         "line": {
          "color": "#636efa",
          "dash": "solid"
         },
         "marker": {
          "symbol": "circle"
         },
         "mode": "lines",
         "name": "",
         "orientation": "v",
         "showlegend": false,
         "type": "scatter",
         "x": [
          0,
          1,
          2,
          3,
          4,
          5,
          6,
          7,
          8,
          9,
          10,
          11,
          12,
          13,
          14,
          15,
          16,
          17,
          18,
          19,
          20,
          21,
          22,
          23,
          24,
          25,
          26,
          27,
          28,
          29,
          30,
          31,
          32,
          33,
          34,
          35,
          36,
          37,
          38,
          39,
          40,
          41,
          42,
          43,
          44,
          45,
          46,
          47,
          48,
          49,
          50,
          51,
          52,
          53,
          54,
          55,
          56,
          57,
          58,
          59,
          60,
          61
         ],
         "xaxis": "x",
         "y": [
          3,
          6,
          5,
          5,
          8,
          9,
          10,
          9,
          9,
          18,
          24,
          22,
          22,
          21,
          25,
          24,
          23,
          33,
          38,
          39,
          32,
          31,
          32,
          35,
          36,
          35,
          33,
          33,
          31,
          32,
          35,
          30,
          29,
          32,
          37,
          41,
          42,
          43,
          48,
          46,
          45,
          42,
          43,
          46,
          54,
          57,
          86,
          84,
          70,
          69,
          70,
          70,
          74,
          115,
          89,
          92,
          125,
          122,
          109,
          75,
          57,
          29
         ],
         "yaxis": "y"
        }
       ],
       "layout": {
        "legend": {
         "tracegroupgap": 0
        },
        "margin": {
         "t": 60
        },
        "template": {
         "data": {
          "bar": [
           {
            "error_x": {
             "color": "#2a3f5f"
            },
            "error_y": {
             "color": "#2a3f5f"
            },
            "marker": {
             "line": {
              "color": "#E5ECF6",
              "width": 0.5
             },
             "pattern": {
              "fillmode": "overlay",
              "size": 10,
              "solidity": 0.2
             }
            },
            "type": "bar"
           }
          ],
          "barpolar": [
           {
            "marker": {
             "line": {
              "color": "#E5ECF6",
              "width": 0.5
             },
             "pattern": {
              "fillmode": "overlay",
              "size": 10,
              "solidity": 0.2
             }
            },
            "type": "barpolar"
           }
          ],
          "carpet": [
           {
            "aaxis": {
             "endlinecolor": "#2a3f5f",
             "gridcolor": "white",
             "linecolor": "white",
             "minorgridcolor": "white",
             "startlinecolor": "#2a3f5f"
            },
            "baxis": {
             "endlinecolor": "#2a3f5f",
             "gridcolor": "white",
             "linecolor": "white",
             "minorgridcolor": "white",
             "startlinecolor": "#2a3f5f"
            },
            "type": "carpet"
           }
          ],
          "choropleth": [
           {
            "colorbar": {
             "outlinewidth": 0,
             "ticks": ""
            },
            "type": "choropleth"
           }
          ],
          "contour": [
           {
            "colorbar": {
             "outlinewidth": 0,
             "ticks": ""
            },
            "colorscale": [
             [
              0,
              "#0d0887"
             ],
             [
              0.1111111111111111,
              "#46039f"
             ],
             [
              0.2222222222222222,
              "#7201a8"
             ],
             [
              0.3333333333333333,
              "#9c179e"
             ],
             [
              0.4444444444444444,
              "#bd3786"
             ],
             [
              0.5555555555555556,
              "#d8576b"
             ],
             [
              0.6666666666666666,
              "#ed7953"
             ],
             [
              0.7777777777777778,
              "#fb9f3a"
             ],
             [
              0.8888888888888888,
              "#fdca26"
             ],
             [
              1,
              "#f0f921"
             ]
            ],
            "type": "contour"
           }
          ],
          "contourcarpet": [
           {
            "colorbar": {
             "outlinewidth": 0,
             "ticks": ""
            },
            "type": "contourcarpet"
           }
          ],
          "heatmap": [
           {
            "colorbar": {
             "outlinewidth": 0,
             "ticks": ""
            },
            "colorscale": [
             [
              0,
              "#0d0887"
             ],
             [
              0.1111111111111111,
              "#46039f"
             ],
             [
              0.2222222222222222,
              "#7201a8"
             ],
             [
              0.3333333333333333,
              "#9c179e"
             ],
             [
              0.4444444444444444,
              "#bd3786"
             ],
             [
              0.5555555555555556,
              "#d8576b"
             ],
             [
              0.6666666666666666,
              "#ed7953"
             ],
             [
              0.7777777777777778,
              "#fb9f3a"
             ],
             [
              0.8888888888888888,
              "#fdca26"
             ],
             [
              1,
              "#f0f921"
             ]
            ],
            "type": "heatmap"
           }
          ],
          "heatmapgl": [
           {
            "colorbar": {
             "outlinewidth": 0,
             "ticks": ""
            },
            "colorscale": [
             [
              0,
              "#0d0887"
             ],
             [
              0.1111111111111111,
              "#46039f"
             ],
             [
              0.2222222222222222,
              "#7201a8"
             ],
             [
              0.3333333333333333,
              "#9c179e"
             ],
             [
              0.4444444444444444,
              "#bd3786"
             ],
             [
              0.5555555555555556,
              "#d8576b"
             ],
             [
              0.6666666666666666,
              "#ed7953"
             ],
             [
              0.7777777777777778,
              "#fb9f3a"
             ],
             [
              0.8888888888888888,
              "#fdca26"
             ],
             [
              1,
              "#f0f921"
             ]
            ],
            "type": "heatmapgl"
           }
          ],
          "histogram": [
           {
            "marker": {
             "pattern": {
              "fillmode": "overlay",
              "size": 10,
              "solidity": 0.2
             }
            },
            "type": "histogram"
           }
          ],
          "histogram2d": [
           {
            "colorbar": {
             "outlinewidth": 0,
             "ticks": ""
            },
            "colorscale": [
             [
              0,
              "#0d0887"
             ],
             [
              0.1111111111111111,
              "#46039f"
             ],
             [
              0.2222222222222222,
              "#7201a8"
             ],
             [
              0.3333333333333333,
              "#9c179e"
             ],
             [
              0.4444444444444444,
              "#bd3786"
             ],
             [
              0.5555555555555556,
              "#d8576b"
             ],
             [
              0.6666666666666666,
              "#ed7953"
             ],
             [
              0.7777777777777778,
              "#fb9f3a"
             ],
             [
              0.8888888888888888,
              "#fdca26"
             ],
             [
              1,
              "#f0f921"
             ]
            ],
            "type": "histogram2d"
           }
          ],
          "histogram2dcontour": [
           {
            "colorbar": {
             "outlinewidth": 0,
             "ticks": ""
            },
            "colorscale": [
             [
              0,
              "#0d0887"
             ],
             [
              0.1111111111111111,
              "#46039f"
             ],
             [
              0.2222222222222222,
              "#7201a8"
             ],
             [
              0.3333333333333333,
              "#9c179e"
             ],
             [
              0.4444444444444444,
              "#bd3786"
             ],
             [
              0.5555555555555556,
              "#d8576b"
             ],
             [
              0.6666666666666666,
              "#ed7953"
             ],
             [
              0.7777777777777778,
              "#fb9f3a"
             ],
             [
              0.8888888888888888,
              "#fdca26"
             ],
             [
              1,
              "#f0f921"
             ]
            ],
            "type": "histogram2dcontour"
           }
          ],
          "mesh3d": [
           {
            "colorbar": {
             "outlinewidth": 0,
             "ticks": ""
            },
            "type": "mesh3d"
           }
          ],
          "parcoords": [
           {
            "line": {
             "colorbar": {
              "outlinewidth": 0,
              "ticks": ""
             }
            },
            "type": "parcoords"
           }
          ],
          "pie": [
           {
            "automargin": true,
            "type": "pie"
           }
          ],
          "scatter": [
           {
            "fillpattern": {
             "fillmode": "overlay",
             "size": 10,
             "solidity": 0.2
            },
            "type": "scatter"
           }
          ],
          "scatter3d": [
           {
            "line": {
             "colorbar": {
              "outlinewidth": 0,
              "ticks": ""
             }
            },
            "marker": {
             "colorbar": {
              "outlinewidth": 0,
              "ticks": ""
             }
            },
            "type": "scatter3d"
           }
          ],
          "scattercarpet": [
           {
            "marker": {
             "colorbar": {
              "outlinewidth": 0,
              "ticks": ""
             }
            },
            "type": "scattercarpet"
           }
          ],
          "scattergeo": [
           {
            "marker": {
             "colorbar": {
              "outlinewidth": 0,
              "ticks": ""
             }
            },
            "type": "scattergeo"
           }
          ],
          "scattergl": [
           {
            "marker": {
             "colorbar": {
              "outlinewidth": 0,
              "ticks": ""
             }
            },
            "type": "scattergl"
           }
          ],
          "scattermapbox": [
           {
            "marker": {
             "colorbar": {
              "outlinewidth": 0,
              "ticks": ""
             }
            },
            "type": "scattermapbox"
           }
          ],
          "scatterpolar": [
           {
            "marker": {
             "colorbar": {
              "outlinewidth": 0,
              "ticks": ""
             }
            },
            "type": "scatterpolar"
           }
          ],
          "scatterpolargl": [
           {
            "marker": {
             "colorbar": {
              "outlinewidth": 0,
              "ticks": ""
             }
            },
            "type": "scatterpolargl"
           }
          ],
          "scatterternary": [
           {
            "marker": {
             "colorbar": {
              "outlinewidth": 0,
              "ticks": ""
             }
            },
            "type": "scatterternary"
           }
          ],
          "surface": [
           {
            "colorbar": {
             "outlinewidth": 0,
             "ticks": ""
            },
            "colorscale": [
             [
              0,
              "#0d0887"
             ],
             [
              0.1111111111111111,
              "#46039f"
             ],
             [
              0.2222222222222222,
              "#7201a8"
             ],
             [
              0.3333333333333333,
              "#9c179e"
             ],
             [
              0.4444444444444444,
              "#bd3786"
             ],
             [
              0.5555555555555556,
              "#d8576b"
             ],
             [
              0.6666666666666666,
              "#ed7953"
             ],
             [
              0.7777777777777778,
              "#fb9f3a"
             ],
             [
              0.8888888888888888,
              "#fdca26"
             ],
             [
              1,
              "#f0f921"
             ]
            ],
            "type": "surface"
           }
          ],
          "table": [
           {
            "cells": {
             "fill": {
              "color": "#EBF0F8"
             },
             "line": {
              "color": "white"
             }
            },
            "header": {
             "fill": {
              "color": "#C8D4E3"
             },
             "line": {
              "color": "white"
             }
            },
            "type": "table"
           }
          ]
         },
         "layout": {
          "annotationdefaults": {
           "arrowcolor": "#2a3f5f",
           "arrowhead": 0,
           "arrowwidth": 1
          },
          "autotypenumbers": "strict",
          "coloraxis": {
           "colorbar": {
            "outlinewidth": 0,
            "ticks": ""
           }
          },
          "colorscale": {
           "diverging": [
            [
             0,
             "#8e0152"
            ],
            [
             0.1,
             "#c51b7d"
            ],
            [
             0.2,
             "#de77ae"
            ],
            [
             0.3,
             "#f1b6da"
            ],
            [
             0.4,
             "#fde0ef"
            ],
            [
             0.5,
             "#f7f7f7"
            ],
            [
             0.6,
             "#e6f5d0"
            ],
            [
             0.7,
             "#b8e186"
            ],
            [
             0.8,
             "#7fbc41"
            ],
            [
             0.9,
             "#4d9221"
            ],
            [
             1,
             "#276419"
            ]
           ],
           "sequential": [
            [
             0,
             "#0d0887"
            ],
            [
             0.1111111111111111,
             "#46039f"
            ],
            [
             0.2222222222222222,
             "#7201a8"
            ],
            [
             0.3333333333333333,
             "#9c179e"
            ],
            [
             0.4444444444444444,
             "#bd3786"
            ],
            [
             0.5555555555555556,
             "#d8576b"
            ],
            [
             0.6666666666666666,
             "#ed7953"
            ],
            [
             0.7777777777777778,
             "#fb9f3a"
            ],
            [
             0.8888888888888888,
             "#fdca26"
            ],
            [
             1,
             "#f0f921"
            ]
           ],
           "sequentialminus": [
            [
             0,
             "#0d0887"
            ],
            [
             0.1111111111111111,
             "#46039f"
            ],
            [
             0.2222222222222222,
             "#7201a8"
            ],
            [
             0.3333333333333333,
             "#9c179e"
            ],
            [
             0.4444444444444444,
             "#bd3786"
            ],
            [
             0.5555555555555556,
             "#d8576b"
            ],
            [
             0.6666666666666666,
             "#ed7953"
            ],
            [
             0.7777777777777778,
             "#fb9f3a"
            ],
            [
             0.8888888888888888,
             "#fdca26"
            ],
            [
             1,
             "#f0f921"
            ]
           ]
          },
          "colorway": [
           "#636efa",
           "#EF553B",
           "#00cc96",
           "#ab63fa",
           "#FFA15A",
           "#19d3f3",
           "#FF6692",
           "#B6E880",
           "#FF97FF",
           "#FECB52"
          ],
          "font": {
           "color": "#2a3f5f"
          },
          "geo": {
           "bgcolor": "white",
           "lakecolor": "white",
           "landcolor": "#E5ECF6",
           "showlakes": true,
           "showland": true,
           "subunitcolor": "white"
          },
          "hoverlabel": {
           "align": "left"
          },
          "hovermode": "closest",
          "mapbox": {
           "style": "light"
          },
          "paper_bgcolor": "white",
          "plot_bgcolor": "#E5ECF6",
          "polar": {
           "angularaxis": {
            "gridcolor": "white",
            "linecolor": "white",
            "ticks": ""
           },
           "bgcolor": "#E5ECF6",
           "radialaxis": {
            "gridcolor": "white",
            "linecolor": "white",
            "ticks": ""
           }
          },
          "scene": {
           "xaxis": {
            "backgroundcolor": "#E5ECF6",
            "gridcolor": "white",
            "gridwidth": 2,
            "linecolor": "white",
            "showbackground": true,
            "ticks": "",
            "zerolinecolor": "white"
           },
           "yaxis": {
            "backgroundcolor": "#E5ECF6",
            "gridcolor": "white",
            "gridwidth": 2,
            "linecolor": "white",
            "showbackground": true,
            "ticks": "",
            "zerolinecolor": "white"
           },
           "zaxis": {
            "backgroundcolor": "#E5ECF6",
            "gridcolor": "white",
            "gridwidth": 2,
            "linecolor": "white",
            "showbackground": true,
            "ticks": "",
            "zerolinecolor": "white"
           }
          },
          "shapedefaults": {
           "line": {
            "color": "#2a3f5f"
           }
          },
          "ternary": {
           "aaxis": {
            "gridcolor": "white",
            "linecolor": "white",
            "ticks": ""
           },
           "baxis": {
            "gridcolor": "white",
            "linecolor": "white",
            "ticks": ""
           },
           "bgcolor": "#E5ECF6",
           "caxis": {
            "gridcolor": "white",
            "linecolor": "white",
            "ticks": ""
           }
          },
          "title": {
           "x": 0.05
          },
          "xaxis": {
           "automargin": true,
           "gridcolor": "white",
           "linecolor": "white",
           "ticks": "",
           "title": {
            "standoff": 15
           },
           "zerolinecolor": "white",
           "zerolinewidth": 2
          },
          "yaxis": {
           "automargin": true,
           "gridcolor": "white",
           "linecolor": "white",
           "ticks": "",
           "title": {
            "standoff": 15
           },
           "zerolinecolor": "white",
           "zerolinewidth": 2
          }
         }
        },
        "xaxis": {
         "anchor": "y",
         "domain": [
          0,
          1
         ],
         "title": {
          "text": "index"
         }
        },
        "yaxis": {
         "anchor": "x",
         "domain": [
          0,
          1
         ],
         "title": {
          "text": "Active Volunteers"
         }
        }
       }
      }
     },
     "metadata": {},
     "output_type": "display_data"
    }
   ],
   "source": [
    "px.line(month_vol_counts, y='Active Volunteers')"
   ]
  },
  {
   "cell_type": "code",
   "execution_count": null,
   "id": "8e32b12d",
   "metadata": {},
   "outputs": [
    {
     "data": {
      "application/vnd.plotly.v1+json": {
       "config": {
        "plotlyServerURL": "https://plot.ly"
       },
       "data": [
        {
         "hovertemplate": "index=%{x}<br>Active Volunteers=%{y}<extra></extra>",
         "legendgroup": "",
         "line": {
          "color": "#636efa",
          "dash": "solid"
         },
         "marker": {
          "symbol": "circle"
         },
         "mode": "lines",
         "name": "",
         "orientation": "v",
         "showlegend": false,
         "type": "scatter",
         "x": [
          0,
          1,
          2,
          3,
          4,
          5,
          6,
          7,
          8,
          9,
          10,
          11,
          12,
          13,
          14,
          15,
          16,
          17,
          18,
          19,
          20,
          21,
          22,
          23,
          24,
          25,
          26,
          27,
          28,
          29,
          30,
          31,
          32,
          33,
          34,
          35,
          36,
          37,
          38,
          39,
          40,
          41,
          42,
          43,
          44,
          45,
          46
         ],
         "xaxis": "x",
         "y": [
          3,
          6,
          5,
          5,
          8,
          9,
          10,
          9,
          9,
          18,
          24,
          22,
          22,
          21,
          25,
          24,
          23,
          33,
          38,
          39,
          32,
          31,
          32,
          35,
          36,
          35,
          33,
          33,
          31,
          32,
          35,
          30,
          29,
          32,
          37,
          41,
          42,
          43,
          48,
          46,
          45,
          42,
          43,
          46,
          54,
          57,
          86
         ],
         "yaxis": "y"
        }
       ],
       "layout": {
        "legend": {
         "tracegroupgap": 0
        },
        "margin": {
         "t": 60
        },
        "template": {
         "data": {
          "bar": [
           {
            "error_x": {
             "color": "#2a3f5f"
            },
            "error_y": {
             "color": "#2a3f5f"
            },
            "marker": {
             "line": {
              "color": "#E5ECF6",
              "width": 0.5
             },
             "pattern": {
              "fillmode": "overlay",
              "size": 10,
              "solidity": 0.2
             }
            },
            "type": "bar"
           }
          ],
          "barpolar": [
           {
            "marker": {
             "line": {
              "color": "#E5ECF6",
              "width": 0.5
             },
             "pattern": {
              "fillmode": "overlay",
              "size": 10,
              "solidity": 0.2
             }
            },
            "type": "barpolar"
           }
          ],
          "carpet": [
           {
            "aaxis": {
             "endlinecolor": "#2a3f5f",
             "gridcolor": "white",
             "linecolor": "white",
             "minorgridcolor": "white",
             "startlinecolor": "#2a3f5f"
            },
            "baxis": {
             "endlinecolor": "#2a3f5f",
             "gridcolor": "white",
             "linecolor": "white",
             "minorgridcolor": "white",
             "startlinecolor": "#2a3f5f"
            },
            "type": "carpet"
           }
          ],
          "choropleth": [
           {
            "colorbar": {
             "outlinewidth": 0,
             "ticks": ""
            },
            "type": "choropleth"
           }
          ],
          "contour": [
           {
            "colorbar": {
             "outlinewidth": 0,
             "ticks": ""
            },
            "colorscale": [
             [
              0,
              "#0d0887"
             ],
             [
              0.1111111111111111,
              "#46039f"
             ],
             [
              0.2222222222222222,
              "#7201a8"
             ],
             [
              0.3333333333333333,
              "#9c179e"
             ],
             [
              0.4444444444444444,
              "#bd3786"
             ],
             [
              0.5555555555555556,
              "#d8576b"
             ],
             [
              0.6666666666666666,
              "#ed7953"
             ],
             [
              0.7777777777777778,
              "#fb9f3a"
             ],
             [
              0.8888888888888888,
              "#fdca26"
             ],
             [
              1,
              "#f0f921"
             ]
            ],
            "type": "contour"
           }
          ],
          "contourcarpet": [
           {
            "colorbar": {
             "outlinewidth": 0,
             "ticks": ""
            },
            "type": "contourcarpet"
           }
          ],
          "heatmap": [
           {
            "colorbar": {
             "outlinewidth": 0,
             "ticks": ""
            },
            "colorscale": [
             [
              0,
              "#0d0887"
             ],
             [
              0.1111111111111111,
              "#46039f"
             ],
             [
              0.2222222222222222,
              "#7201a8"
             ],
             [
              0.3333333333333333,
              "#9c179e"
             ],
             [
              0.4444444444444444,
              "#bd3786"
             ],
             [
              0.5555555555555556,
              "#d8576b"
             ],
             [
              0.6666666666666666,
              "#ed7953"
             ],
             [
              0.7777777777777778,
              "#fb9f3a"
             ],
             [
              0.8888888888888888,
              "#fdca26"
             ],
             [
              1,
              "#f0f921"
             ]
            ],
            "type": "heatmap"
           }
          ],
          "heatmapgl": [
           {
            "colorbar": {
             "outlinewidth": 0,
             "ticks": ""
            },
            "colorscale": [
             [
              0,
              "#0d0887"
             ],
             [
              0.1111111111111111,
              "#46039f"
             ],
             [
              0.2222222222222222,
              "#7201a8"
             ],
             [
              0.3333333333333333,
              "#9c179e"
             ],
             [
              0.4444444444444444,
              "#bd3786"
             ],
             [
              0.5555555555555556,
              "#d8576b"
             ],
             [
              0.6666666666666666,
              "#ed7953"
             ],
             [
              0.7777777777777778,
              "#fb9f3a"
             ],
             [
              0.8888888888888888,
              "#fdca26"
             ],
             [
              1,
              "#f0f921"
             ]
            ],
            "type": "heatmapgl"
           }
          ],
          "histogram": [
           {
            "marker": {
             "pattern": {
              "fillmode": "overlay",
              "size": 10,
              "solidity": 0.2
             }
            },
            "type": "histogram"
           }
          ],
          "histogram2d": [
           {
            "colorbar": {
             "outlinewidth": 0,
             "ticks": ""
            },
            "colorscale": [
             [
              0,
              "#0d0887"
             ],
             [
              0.1111111111111111,
              "#46039f"
             ],
             [
              0.2222222222222222,
              "#7201a8"
             ],
             [
              0.3333333333333333,
              "#9c179e"
             ],
             [
              0.4444444444444444,
              "#bd3786"
             ],
             [
              0.5555555555555556,
              "#d8576b"
             ],
             [
              0.6666666666666666,
              "#ed7953"
             ],
             [
              0.7777777777777778,
              "#fb9f3a"
             ],
             [
              0.8888888888888888,
              "#fdca26"
             ],
             [
              1,
              "#f0f921"
             ]
            ],
            "type": "histogram2d"
           }
          ],
          "histogram2dcontour": [
           {
            "colorbar": {
             "outlinewidth": 0,
             "ticks": ""
            },
            "colorscale": [
             [
              0,
              "#0d0887"
             ],
             [
              0.1111111111111111,
              "#46039f"
             ],
             [
              0.2222222222222222,
              "#7201a8"
             ],
             [
              0.3333333333333333,
              "#9c179e"
             ],
             [
              0.4444444444444444,
              "#bd3786"
             ],
             [
              0.5555555555555556,
              "#d8576b"
             ],
             [
              0.6666666666666666,
              "#ed7953"
             ],
             [
              0.7777777777777778,
              "#fb9f3a"
             ],
             [
              0.8888888888888888,
              "#fdca26"
             ],
             [
              1,
              "#f0f921"
             ]
            ],
            "type": "histogram2dcontour"
           }
          ],
          "mesh3d": [
           {
            "colorbar": {
             "outlinewidth": 0,
             "ticks": ""
            },
            "type": "mesh3d"
           }
          ],
          "parcoords": [
           {
            "line": {
             "colorbar": {
              "outlinewidth": 0,
              "ticks": ""
             }
            },
            "type": "parcoords"
           }
          ],
          "pie": [
           {
            "automargin": true,
            "type": "pie"
           }
          ],
          "scatter": [
           {
            "fillpattern": {
             "fillmode": "overlay",
             "size": 10,
             "solidity": 0.2
            },
            "type": "scatter"
           }
          ],
          "scatter3d": [
           {
            "line": {
             "colorbar": {
              "outlinewidth": 0,
              "ticks": ""
             }
            },
            "marker": {
             "colorbar": {
              "outlinewidth": 0,
              "ticks": ""
             }
            },
            "type": "scatter3d"
           }
          ],
          "scattercarpet": [
           {
            "marker": {
             "colorbar": {
              "outlinewidth": 0,
              "ticks": ""
             }
            },
            "type": "scattercarpet"
           }
          ],
          "scattergeo": [
           {
            "marker": {
             "colorbar": {
              "outlinewidth": 0,
              "ticks": ""
             }
            },
            "type": "scattergeo"
           }
          ],
          "scattergl": [
           {
            "marker": {
             "colorbar": {
              "outlinewidth": 0,
              "ticks": ""
             }
            },
            "type": "scattergl"
           }
          ],
          "scattermapbox": [
           {
            "marker": {
             "colorbar": {
              "outlinewidth": 0,
              "ticks": ""
             }
            },
            "type": "scattermapbox"
           }
          ],
          "scatterpolar": [
           {
            "marker": {
             "colorbar": {
              "outlinewidth": 0,
              "ticks": ""
             }
            },
            "type": "scatterpolar"
           }
          ],
          "scatterpolargl": [
           {
            "marker": {
             "colorbar": {
              "outlinewidth": 0,
              "ticks": ""
             }
            },
            "type": "scatterpolargl"
           }
          ],
          "scatterternary": [
           {
            "marker": {
             "colorbar": {
              "outlinewidth": 0,
              "ticks": ""
             }
            },
            "type": "scatterternary"
           }
          ],
          "surface": [
           {
            "colorbar": {
             "outlinewidth": 0,
             "ticks": ""
            },
            "colorscale": [
             [
              0,
              "#0d0887"
             ],
             [
              0.1111111111111111,
              "#46039f"
             ],
             [
              0.2222222222222222,
              "#7201a8"
             ],
             [
              0.3333333333333333,
              "#9c179e"
             ],
             [
              0.4444444444444444,
              "#bd3786"
             ],
             [
              0.5555555555555556,
              "#d8576b"
             ],
             [
              0.6666666666666666,
              "#ed7953"
             ],
             [
              0.7777777777777778,
              "#fb9f3a"
             ],
             [
              0.8888888888888888,
              "#fdca26"
             ],
             [
              1,
              "#f0f921"
             ]
            ],
            "type": "surface"
           }
          ],
          "table": [
           {
            "cells": {
             "fill": {
              "color": "#EBF0F8"
             },
             "line": {
              "color": "white"
             }
            },
            "header": {
             "fill": {
              "color": "#C8D4E3"
             },
             "line": {
              "color": "white"
             }
            },
            "type": "table"
           }
          ]
         },
         "layout": {
          "annotationdefaults": {
           "arrowcolor": "#2a3f5f",
           "arrowhead": 0,
           "arrowwidth": 1
          },
          "autotypenumbers": "strict",
          "coloraxis": {
           "colorbar": {
            "outlinewidth": 0,
            "ticks": ""
           }
          },
          "colorscale": {
           "diverging": [
            [
             0,
             "#8e0152"
            ],
            [
             0.1,
             "#c51b7d"
            ],
            [
             0.2,
             "#de77ae"
            ],
            [
             0.3,
             "#f1b6da"
            ],
            [
             0.4,
             "#fde0ef"
            ],
            [
             0.5,
             "#f7f7f7"
            ],
            [
             0.6,
             "#e6f5d0"
            ],
            [
             0.7,
             "#b8e186"
            ],
            [
             0.8,
             "#7fbc41"
            ],
            [
             0.9,
             "#4d9221"
            ],
            [
             1,
             "#276419"
            ]
           ],
           "sequential": [
            [
             0,
             "#0d0887"
            ],
            [
             0.1111111111111111,
             "#46039f"
            ],
            [
             0.2222222222222222,
             "#7201a8"
            ],
            [
             0.3333333333333333,
             "#9c179e"
            ],
            [
             0.4444444444444444,
             "#bd3786"
            ],
            [
             0.5555555555555556,
             "#d8576b"
            ],
            [
             0.6666666666666666,
             "#ed7953"
            ],
            [
             0.7777777777777778,
             "#fb9f3a"
            ],
            [
             0.8888888888888888,
             "#fdca26"
            ],
            [
             1,
             "#f0f921"
            ]
           ],
           "sequentialminus": [
            [
             0,
             "#0d0887"
            ],
            [
             0.1111111111111111,
             "#46039f"
            ],
            [
             0.2222222222222222,
             "#7201a8"
            ],
            [
             0.3333333333333333,
             "#9c179e"
            ],
            [
             0.4444444444444444,
             "#bd3786"
            ],
            [
             0.5555555555555556,
             "#d8576b"
            ],
            [
             0.6666666666666666,
             "#ed7953"
            ],
            [
             0.7777777777777778,
             "#fb9f3a"
            ],
            [
             0.8888888888888888,
             "#fdca26"
            ],
            [
             1,
             "#f0f921"
            ]
           ]
          },
          "colorway": [
           "#636efa",
           "#EF553B",
           "#00cc96",
           "#ab63fa",
           "#FFA15A",
           "#19d3f3",
           "#FF6692",
           "#B6E880",
           "#FF97FF",
           "#FECB52"
          ],
          "font": {
           "color": "#2a3f5f"
          },
          "geo": {
           "bgcolor": "white",
           "lakecolor": "white",
           "landcolor": "#E5ECF6",
           "showlakes": true,
           "showland": true,
           "subunitcolor": "white"
          },
          "hoverlabel": {
           "align": "left"
          },
          "hovermode": "closest",
          "mapbox": {
           "style": "light"
          },
          "paper_bgcolor": "white",
          "plot_bgcolor": "#E5ECF6",
          "polar": {
           "angularaxis": {
            "gridcolor": "white",
            "linecolor": "white",
            "ticks": ""
           },
           "bgcolor": "#E5ECF6",
           "radialaxis": {
            "gridcolor": "white",
            "linecolor": "white",
            "ticks": ""
           }
          },
          "scene": {
           "xaxis": {
            "backgroundcolor": "#E5ECF6",
            "gridcolor": "white",
            "gridwidth": 2,
            "linecolor": "white",
            "showbackground": true,
            "ticks": "",
            "zerolinecolor": "white"
           },
           "yaxis": {
            "backgroundcolor": "#E5ECF6",
            "gridcolor": "white",
            "gridwidth": 2,
            "linecolor": "white",
            "showbackground": true,
            "ticks": "",
            "zerolinecolor": "white"
           },
           "zaxis": {
            "backgroundcolor": "#E5ECF6",
            "gridcolor": "white",
            "gridwidth": 2,
            "linecolor": "white",
            "showbackground": true,
            "ticks": "",
            "zerolinecolor": "white"
           }
          },
          "shapedefaults": {
           "line": {
            "color": "#2a3f5f"
           }
          },
          "ternary": {
           "aaxis": {
            "gridcolor": "white",
            "linecolor": "white",
            "ticks": ""
           },
           "baxis": {
            "gridcolor": "white",
            "linecolor": "white",
            "ticks": ""
           },
           "bgcolor": "#E5ECF6",
           "caxis": {
            "gridcolor": "white",
            "linecolor": "white",
            "ticks": ""
           }
          },
          "title": {
           "x": 0.05
          },
          "xaxis": {
           "automargin": true,
           "gridcolor": "white",
           "linecolor": "white",
           "ticks": "",
           "title": {
            "standoff": 15
           },
           "zerolinecolor": "white",
           "zerolinewidth": 2
          },
          "yaxis": {
           "automargin": true,
           "gridcolor": "white",
           "linecolor": "white",
           "ticks": "",
           "title": {
            "standoff": 15
           },
           "zerolinecolor": "white",
           "zerolinewidth": 2
          }
         }
        },
        "xaxis": {
         "anchor": "y",
         "domain": [
          0,
          1
         ],
         "title": {
          "text": "index"
         }
        },
        "yaxis": {
         "anchor": "x",
         "domain": [
          0,
          1
         ],
         "title": {
          "text": "Active Volunteers"
         }
        }
       }
      }
     },
     "metadata": {},
     "output_type": "display_data"
    }
   ],
   "source": [
    "px.line(month_vol_counts[month_vol_counts['Month']<dt.date(2024,1,1)], y='Active Volunteers')"
   ]
  },
  {
   "cell_type": "code",
   "execution_count": null,
   "id": "0e16b0e7",
   "metadata": {},
   "outputs": [
    {
     "data": {
      "text/html": [
       "<div>\n",
       "<style scoped>\n",
       "    .dataframe tbody tr th:only-of-type {\n",
       "        vertical-align: middle;\n",
       "    }\n",
       "\n",
       "    .dataframe tbody tr th {\n",
       "        vertical-align: top;\n",
       "    }\n",
       "\n",
       "    .dataframe thead th {\n",
       "        text-align: right;\n",
       "    }\n",
       "</style>\n",
       "<table border=\"1\" class=\"dataframe\">\n",
       "  <thead>\n",
       "    <tr style=\"text-align: right;\">\n",
       "      <th></th>\n",
       "      <th>Month</th>\n",
       "      <th>Active Volunteers</th>\n",
       "    </tr>\n",
       "  </thead>\n",
       "  <tbody>\n",
       "    <tr>\n",
       "      <th>0</th>\n",
       "      <td>2020-02-01</td>\n",
       "      <td>3</td>\n",
       "    </tr>\n",
       "    <tr>\n",
       "      <th>1</th>\n",
       "      <td>2020-03-01</td>\n",
       "      <td>6</td>\n",
       "    </tr>\n",
       "    <tr>\n",
       "      <th>2</th>\n",
       "      <td>2020-04-01</td>\n",
       "      <td>5</td>\n",
       "    </tr>\n",
       "    <tr>\n",
       "      <th>3</th>\n",
       "      <td>2020-05-01</td>\n",
       "      <td>5</td>\n",
       "    </tr>\n",
       "    <tr>\n",
       "      <th>4</th>\n",
       "      <td>2020-06-01</td>\n",
       "      <td>8</td>\n",
       "    </tr>\n",
       "    <tr>\n",
       "      <th>5</th>\n",
       "      <td>2020-07-01</td>\n",
       "      <td>9</td>\n",
       "    </tr>\n",
       "    <tr>\n",
       "      <th>6</th>\n",
       "      <td>2020-08-01</td>\n",
       "      <td>10</td>\n",
       "    </tr>\n",
       "    <tr>\n",
       "      <th>7</th>\n",
       "      <td>2020-09-01</td>\n",
       "      <td>9</td>\n",
       "    </tr>\n",
       "    <tr>\n",
       "      <th>8</th>\n",
       "      <td>2020-10-01</td>\n",
       "      <td>9</td>\n",
       "    </tr>\n",
       "    <tr>\n",
       "      <th>9</th>\n",
       "      <td>2020-11-01</td>\n",
       "      <td>18</td>\n",
       "    </tr>\n",
       "    <tr>\n",
       "      <th>10</th>\n",
       "      <td>2020-12-01</td>\n",
       "      <td>24</td>\n",
       "    </tr>\n",
       "    <tr>\n",
       "      <th>11</th>\n",
       "      <td>2021-01-01</td>\n",
       "      <td>22</td>\n",
       "    </tr>\n",
       "    <tr>\n",
       "      <th>12</th>\n",
       "      <td>2021-02-01</td>\n",
       "      <td>22</td>\n",
       "    </tr>\n",
       "    <tr>\n",
       "      <th>13</th>\n",
       "      <td>2021-03-01</td>\n",
       "      <td>21</td>\n",
       "    </tr>\n",
       "    <tr>\n",
       "      <th>14</th>\n",
       "      <td>2021-04-01</td>\n",
       "      <td>25</td>\n",
       "    </tr>\n",
       "    <tr>\n",
       "      <th>15</th>\n",
       "      <td>2021-05-01</td>\n",
       "      <td>24</td>\n",
       "    </tr>\n",
       "    <tr>\n",
       "      <th>16</th>\n",
       "      <td>2021-06-01</td>\n",
       "      <td>23</td>\n",
       "    </tr>\n",
       "    <tr>\n",
       "      <th>17</th>\n",
       "      <td>2021-07-01</td>\n",
       "      <td>33</td>\n",
       "    </tr>\n",
       "    <tr>\n",
       "      <th>18</th>\n",
       "      <td>2021-08-01</td>\n",
       "      <td>38</td>\n",
       "    </tr>\n",
       "    <tr>\n",
       "      <th>19</th>\n",
       "      <td>2021-09-01</td>\n",
       "      <td>39</td>\n",
       "    </tr>\n",
       "    <tr>\n",
       "      <th>20</th>\n",
       "      <td>2021-10-01</td>\n",
       "      <td>32</td>\n",
       "    </tr>\n",
       "    <tr>\n",
       "      <th>21</th>\n",
       "      <td>2021-11-01</td>\n",
       "      <td>31</td>\n",
       "    </tr>\n",
       "    <tr>\n",
       "      <th>22</th>\n",
       "      <td>2021-12-01</td>\n",
       "      <td>32</td>\n",
       "    </tr>\n",
       "    <tr>\n",
       "      <th>23</th>\n",
       "      <td>2022-01-01</td>\n",
       "      <td>35</td>\n",
       "    </tr>\n",
       "    <tr>\n",
       "      <th>24</th>\n",
       "      <td>2022-02-01</td>\n",
       "      <td>36</td>\n",
       "    </tr>\n",
       "    <tr>\n",
       "      <th>25</th>\n",
       "      <td>2022-03-01</td>\n",
       "      <td>35</td>\n",
       "    </tr>\n",
       "    <tr>\n",
       "      <th>26</th>\n",
       "      <td>2022-04-01</td>\n",
       "      <td>33</td>\n",
       "    </tr>\n",
       "    <tr>\n",
       "      <th>27</th>\n",
       "      <td>2022-05-01</td>\n",
       "      <td>33</td>\n",
       "    </tr>\n",
       "    <tr>\n",
       "      <th>28</th>\n",
       "      <td>2022-06-01</td>\n",
       "      <td>31</td>\n",
       "    </tr>\n",
       "    <tr>\n",
       "      <th>29</th>\n",
       "      <td>2022-07-01</td>\n",
       "      <td>32</td>\n",
       "    </tr>\n",
       "    <tr>\n",
       "      <th>30</th>\n",
       "      <td>2022-08-01</td>\n",
       "      <td>35</td>\n",
       "    </tr>\n",
       "    <tr>\n",
       "      <th>31</th>\n",
       "      <td>2022-09-01</td>\n",
       "      <td>30</td>\n",
       "    </tr>\n",
       "    <tr>\n",
       "      <th>32</th>\n",
       "      <td>2022-10-01</td>\n",
       "      <td>29</td>\n",
       "    </tr>\n",
       "    <tr>\n",
       "      <th>33</th>\n",
       "      <td>2022-11-01</td>\n",
       "      <td>32</td>\n",
       "    </tr>\n",
       "    <tr>\n",
       "      <th>34</th>\n",
       "      <td>2022-12-01</td>\n",
       "      <td>37</td>\n",
       "    </tr>\n",
       "    <tr>\n",
       "      <th>35</th>\n",
       "      <td>2023-01-01</td>\n",
       "      <td>41</td>\n",
       "    </tr>\n",
       "    <tr>\n",
       "      <th>36</th>\n",
       "      <td>2023-02-01</td>\n",
       "      <td>42</td>\n",
       "    </tr>\n",
       "    <tr>\n",
       "      <th>37</th>\n",
       "      <td>2023-03-01</td>\n",
       "      <td>43</td>\n",
       "    </tr>\n",
       "    <tr>\n",
       "      <th>38</th>\n",
       "      <td>2023-04-01</td>\n",
       "      <td>48</td>\n",
       "    </tr>\n",
       "    <tr>\n",
       "      <th>39</th>\n",
       "      <td>2023-05-01</td>\n",
       "      <td>46</td>\n",
       "    </tr>\n",
       "    <tr>\n",
       "      <th>40</th>\n",
       "      <td>2023-06-01</td>\n",
       "      <td>45</td>\n",
       "    </tr>\n",
       "    <tr>\n",
       "      <th>41</th>\n",
       "      <td>2023-07-01</td>\n",
       "      <td>42</td>\n",
       "    </tr>\n",
       "    <tr>\n",
       "      <th>42</th>\n",
       "      <td>2023-08-01</td>\n",
       "      <td>43</td>\n",
       "    </tr>\n",
       "    <tr>\n",
       "      <th>43</th>\n",
       "      <td>2023-09-01</td>\n",
       "      <td>46</td>\n",
       "    </tr>\n",
       "    <tr>\n",
       "      <th>44</th>\n",
       "      <td>2023-10-01</td>\n",
       "      <td>54</td>\n",
       "    </tr>\n",
       "    <tr>\n",
       "      <th>45</th>\n",
       "      <td>2023-11-01</td>\n",
       "      <td>57</td>\n",
       "    </tr>\n",
       "    <tr>\n",
       "      <th>46</th>\n",
       "      <td>2023-12-01</td>\n",
       "      <td>86</td>\n",
       "    </tr>\n",
       "    <tr>\n",
       "      <th>47</th>\n",
       "      <td>2024-01-01</td>\n",
       "      <td>84</td>\n",
       "    </tr>\n",
       "    <tr>\n",
       "      <th>48</th>\n",
       "      <td>2024-02-01</td>\n",
       "      <td>70</td>\n",
       "    </tr>\n",
       "    <tr>\n",
       "      <th>49</th>\n",
       "      <td>2024-03-01</td>\n",
       "      <td>69</td>\n",
       "    </tr>\n",
       "    <tr>\n",
       "      <th>50</th>\n",
       "      <td>2024-04-01</td>\n",
       "      <td>70</td>\n",
       "    </tr>\n",
       "  </tbody>\n",
       "</table>\n",
       "</div>"
      ],
      "text/plain": [
       "         Month  Active Volunteers\n",
       "0   2020-02-01                  3\n",
       "1   2020-03-01                  6\n",
       "2   2020-04-01                  5\n",
       "3   2020-05-01                  5\n",
       "4   2020-06-01                  8\n",
       "5   2020-07-01                  9\n",
       "6   2020-08-01                 10\n",
       "7   2020-09-01                  9\n",
       "8   2020-10-01                  9\n",
       "9   2020-11-01                 18\n",
       "10  2020-12-01                 24\n",
       "11  2021-01-01                 22\n",
       "12  2021-02-01                 22\n",
       "13  2021-03-01                 21\n",
       "14  2021-04-01                 25\n",
       "15  2021-05-01                 24\n",
       "16  2021-06-01                 23\n",
       "17  2021-07-01                 33\n",
       "18  2021-08-01                 38\n",
       "19  2021-09-01                 39\n",
       "20  2021-10-01                 32\n",
       "21  2021-11-01                 31\n",
       "22  2021-12-01                 32\n",
       "23  2022-01-01                 35\n",
       "24  2022-02-01                 36\n",
       "25  2022-03-01                 35\n",
       "26  2022-04-01                 33\n",
       "27  2022-05-01                 33\n",
       "28  2022-06-01                 31\n",
       "29  2022-07-01                 32\n",
       "30  2022-08-01                 35\n",
       "31  2022-09-01                 30\n",
       "32  2022-10-01                 29\n",
       "33  2022-11-01                 32\n",
       "34  2022-12-01                 37\n",
       "35  2023-01-01                 41\n",
       "36  2023-02-01                 42\n",
       "37  2023-03-01                 43\n",
       "38  2023-04-01                 48\n",
       "39  2023-05-01                 46\n",
       "40  2023-06-01                 45\n",
       "41  2023-07-01                 42\n",
       "42  2023-08-01                 43\n",
       "43  2023-09-01                 46\n",
       "44  2023-10-01                 54\n",
       "45  2023-11-01                 57\n",
       "46  2023-12-01                 86\n",
       "47  2024-01-01                 84\n",
       "48  2024-02-01                 70\n",
       "49  2024-03-01                 69\n",
       "50  2024-04-01                 70"
      ]
     },
     "execution_count": 20,
     "metadata": {},
     "output_type": "execute_result"
    }
   ],
   "source": [
    "month_vol_counts[month_vol_counts['Month']<dt.date(2024,5,1)]"
   ]
  },
  {
   "cell_type": "code",
   "execution_count": null,
   "id": "e840e9f6",
   "metadata": {},
   "outputs": [
    {
     "name": "stdout",
     "output_type": "stream",
     "text": [
      "2672 total clients under 21 after January 1, 2020\n"
     ]
    }
   ],
   "source": [
    "pd.set_option('display.max_columns', None)  #Show all columns in the DataFrame\n",
    "print(len(clients), 'total clients under 21 after January 1, 2020')"
   ]
  },
  {
   "cell_type": "markdown",
   "id": "cb2bd2b6",
   "metadata": {},
   "source": [
    "### Population Dataframe Creations\n"
   ]
  },
  {
   "cell_type": "code",
   "execution_count": null,
   "id": "2251f5ba",
   "metadata": {},
   "outputs": [],
   "source": [
    "def population_stat(df, col):\n",
    "    \"\"\"\n",
    "    This function will create two dataframes based around the specific column provided.\n",
    "    It will group the data in the specified column and return an Agg dataframe with multilevel columns and a flat dataframe with standard single-level columns\n",
    "    \n",
    "    Parameters:\n",
    "    df: Dataframe (This should formatted specifically like the clients DataFrame)\n",
    "    col: str (Columnn name to get population statistics for)\n",
    "\n",
    "    Example:\n",
    "    zip_agg, zip_flat = population_stat(clients, 'Zip Code')\n",
    "    \"\"\"\n",
    "    #Define columns and stats to get for each one while aggregating the target dataframe by target column\n",
    "    if col != 'Age at Sign Up': \n",
    "        agg_name = df.groupby(by=col).agg(\n",
    "            {'Galaxy ID': 'count',\n",
    "            'Age at Sign Up': ['mean', 'median', 'min', 'max'],\n",
    "            'Service Range': 'mean',\n",
    "            'Hours': ['sum', 'mean'],\n",
    "            'Follow Through': ['sum', 'mean'],\n",
    "            'Trip Eligible (Yes/No)': ['sum', 'mean'],\n",
    "            'Service Count': ['mean', 'sum'],\n",
    "            'Responses' : ['mean', 'sum'],\n",
    "            'Make It Happen Badge (Yes/No)': ['sum', 'mean'],\n",
    "            'Scholarship Badge (Yes/No)': ['sum', 'mean'],\n",
    "            'Explore Participation': ['sum', 'mean'],}\n",
    "        )\n",
    "\n",
    "    if col == 'Age at Sign Up': \n",
    "        agg_name = df.groupby(by=col).agg(\n",
    "            {'Galaxy ID': 'count',\n",
    "            'Service Range': 'mean',\n",
    "            'Hours': ['sum', 'mean'],\n",
    "            'Follow Through': ['sum', 'mean'],\n",
    "            'Trip Eligible (Yes/No)': ['sum', 'mean'],\n",
    "            'Service Count': ['mean', 'sum'],\n",
    "            'Responses' : ['mean', 'sum'],\n",
    "            'Make It Happen Badge (Yes/No)': ['sum', 'mean'],\n",
    "            'Scholarship Badge (Yes/No)': ['sum', 'mean'],\n",
    "            'Explore Participation': ['sum', 'mean'],}\n",
    "        )\n",
    "\n",
    "    #Make service range stat more readable by only including days\n",
    "    agg_name['Service Range'] = agg_name['Service Range','mean'].dt.days\n",
    "\n",
    "    #Sort by frequency in dataframe and round all numbers to 2 decimal places\n",
    "    agg_name.sort_values(by=('Galaxy ID', 'count'), ascending=False, inplace=True)\n",
    "    agg_name = agg_name.round(2)\n",
    "\n",
    "    #Create a flat dataframe that has no super headers for ease of calling\n",
    "    flat_name = agg_name.copy()\n",
    "    flat_name.columns = ['_'.join(col).strip() for col in flat_name.columns.values]\n",
    "    flat_name.rename(columns={'Zip Code_': 'Zip Code'}, inplace=True)\n",
    "    flat_name.reset_index(inplace=True)\n",
    "    flat_name = flat_name.round(2)\n",
    "\n",
    "    return agg_name, flat_name"
   ]
  },
  {
   "cell_type": "code",
   "execution_count": null,
   "id": "89cb1a20",
   "metadata": {},
   "outputs": [],
   "source": [
    "zip_groups, zipgroups_flat = population_stat(clients, 'Zip Code')"
   ]
  },
  {
   "cell_type": "code",
   "execution_count": null,
   "id": "d6de0e75",
   "metadata": {},
   "outputs": [],
   "source": [
    "district_groups, districtgroups_flat = population_stat(clients, 'District')"
   ]
  },
  {
   "cell_type": "code",
   "execution_count": null,
   "id": "16fce4f5",
   "metadata": {},
   "outputs": [
    {
     "data": {
      "text/plain": [
       "0.24"
      ]
     },
     "execution_count": 25,
     "metadata": {},
     "output_type": "execute_result"
    }
   ],
   "source": [
    "district_groups.loc['SAISD']['Follow Through','mean']"
   ]
  },
  {
   "cell_type": "code",
   "execution_count": null,
   "id": "2285a15a",
   "metadata": {},
   "outputs": [],
   "source": [
    "age_groups, agegroups_flat = population_stat(clients, 'Age at Sign Up')"
   ]
  },
  {
   "cell_type": "code",
   "execution_count": null,
   "id": "f41d614d",
   "metadata": {},
   "outputs": [
    {
     "data": {
      "text/html": [
       "<div>\n",
       "<style scoped>\n",
       "    .dataframe tbody tr th:only-of-type {\n",
       "        vertical-align: middle;\n",
       "    }\n",
       "\n",
       "    .dataframe tbody tr th {\n",
       "        vertical-align: top;\n",
       "    }\n",
       "\n",
       "    .dataframe thead tr th {\n",
       "        text-align: left;\n",
       "    }\n",
       "\n",
       "    .dataframe thead tr:last-of-type th {\n",
       "        text-align: right;\n",
       "    }\n",
       "</style>\n",
       "<table border=\"1\" class=\"dataframe\">\n",
       "  <thead>\n",
       "    <tr>\n",
       "      <th></th>\n",
       "      <th>Galaxy ID</th>\n",
       "      <th colspan=\"4\" halign=\"left\">Age at Sign Up</th>\n",
       "      <th>Service Range</th>\n",
       "      <th colspan=\"2\" halign=\"left\">Hours</th>\n",
       "      <th colspan=\"2\" halign=\"left\">Follow Through</th>\n",
       "      <th colspan=\"2\" halign=\"left\">Trip Eligible (Yes/No)</th>\n",
       "      <th colspan=\"2\" halign=\"left\">Service Count</th>\n",
       "      <th colspan=\"2\" halign=\"left\">Responses</th>\n",
       "      <th colspan=\"2\" halign=\"left\">Make It Happen Badge (Yes/No)</th>\n",
       "      <th colspan=\"2\" halign=\"left\">Scholarship Badge (Yes/No)</th>\n",
       "      <th colspan=\"2\" halign=\"left\">Explore Participation</th>\n",
       "    </tr>\n",
       "    <tr>\n",
       "      <th></th>\n",
       "      <th>count</th>\n",
       "      <th>mean</th>\n",
       "      <th>median</th>\n",
       "      <th>min</th>\n",
       "      <th>max</th>\n",
       "      <th>mean</th>\n",
       "      <th>sum</th>\n",
       "      <th>mean</th>\n",
       "      <th>sum</th>\n",
       "      <th>mean</th>\n",
       "      <th>sum</th>\n",
       "      <th>mean</th>\n",
       "      <th>mean</th>\n",
       "      <th>sum</th>\n",
       "      <th>mean</th>\n",
       "      <th>sum</th>\n",
       "      <th>sum</th>\n",
       "      <th>mean</th>\n",
       "      <th>sum</th>\n",
       "      <th>mean</th>\n",
       "      <th>sum</th>\n",
       "      <th>mean</th>\n",
       "    </tr>\n",
       "    <tr>\n",
       "      <th>Age at Sign Up</th>\n",
       "      <th></th>\n",
       "      <th></th>\n",
       "      <th></th>\n",
       "      <th></th>\n",
       "      <th></th>\n",
       "      <th></th>\n",
       "      <th></th>\n",
       "      <th></th>\n",
       "      <th></th>\n",
       "      <th></th>\n",
       "      <th></th>\n",
       "      <th></th>\n",
       "      <th></th>\n",
       "      <th></th>\n",
       "      <th></th>\n",
       "      <th></th>\n",
       "      <th></th>\n",
       "      <th></th>\n",
       "      <th></th>\n",
       "      <th></th>\n",
       "      <th></th>\n",
       "      <th></th>\n",
       "    </tr>\n",
       "  </thead>\n",
       "  <tbody>\n",
       "    <tr>\n",
       "      <th>9</th>\n",
       "      <td>4</td>\n",
       "      <td>9.0</td>\n",
       "      <td>9.0</td>\n",
       "      <td>9</td>\n",
       "      <td>9</td>\n",
       "      <td>7</td>\n",
       "      <td>8.00</td>\n",
       "      <td>2.00</td>\n",
       "      <td>2</td>\n",
       "      <td>0.50</td>\n",
       "      <td>0.0</td>\n",
       "      <td>0.00</td>\n",
       "      <td>1.50</td>\n",
       "      <td>3.0</td>\n",
       "      <td>1.00</td>\n",
       "      <td>4</td>\n",
       "      <td>0.0</td>\n",
       "      <td>0.00</td>\n",
       "      <td>0.0</td>\n",
       "      <td>0.00</td>\n",
       "      <td>0.0</td>\n",
       "      <td>0.00</td>\n",
       "    </tr>\n",
       "    <tr>\n",
       "      <th>10</th>\n",
       "      <td>4</td>\n",
       "      <td>10.0</td>\n",
       "      <td>10.0</td>\n",
       "      <td>10</td>\n",
       "      <td>10</td>\n",
       "      <td>182</td>\n",
       "      <td>14.50</td>\n",
       "      <td>3.62</td>\n",
       "      <td>1</td>\n",
       "      <td>0.25</td>\n",
       "      <td>0.0</td>\n",
       "      <td>0.00</td>\n",
       "      <td>5.00</td>\n",
       "      <td>5.0</td>\n",
       "      <td>3.75</td>\n",
       "      <td>15</td>\n",
       "      <td>1.0</td>\n",
       "      <td>0.33</td>\n",
       "      <td>0.0</td>\n",
       "      <td>0.00</td>\n",
       "      <td>0.0</td>\n",
       "      <td>0.00</td>\n",
       "    </tr>\n",
       "    <tr>\n",
       "      <th>11</th>\n",
       "      <td>51</td>\n",
       "      <td>11.0</td>\n",
       "      <td>11.0</td>\n",
       "      <td>11</td>\n",
       "      <td>11</td>\n",
       "      <td>172</td>\n",
       "      <td>169.75</td>\n",
       "      <td>3.33</td>\n",
       "      <td>21</td>\n",
       "      <td>0.41</td>\n",
       "      <td>3.0</td>\n",
       "      <td>0.08</td>\n",
       "      <td>2.48</td>\n",
       "      <td>52.0</td>\n",
       "      <td>1.67</td>\n",
       "      <td>85</td>\n",
       "      <td>3.0</td>\n",
       "      <td>0.08</td>\n",
       "      <td>2.0</td>\n",
       "      <td>0.05</td>\n",
       "      <td>0.0</td>\n",
       "      <td>0.00</td>\n",
       "    </tr>\n",
       "    <tr>\n",
       "      <th>12</th>\n",
       "      <td>136</td>\n",
       "      <td>12.0</td>\n",
       "      <td>12.0</td>\n",
       "      <td>12</td>\n",
       "      <td>12</td>\n",
       "      <td>120</td>\n",
       "      <td>396.70</td>\n",
       "      <td>2.92</td>\n",
       "      <td>55</td>\n",
       "      <td>0.40</td>\n",
       "      <td>5.0</td>\n",
       "      <td>0.05</td>\n",
       "      <td>3.07</td>\n",
       "      <td>169.0</td>\n",
       "      <td>2.90</td>\n",
       "      <td>394</td>\n",
       "      <td>12.0</td>\n",
       "      <td>0.11</td>\n",
       "      <td>1.0</td>\n",
       "      <td>0.01</td>\n",
       "      <td>1.0</td>\n",
       "      <td>0.01</td>\n",
       "    </tr>\n",
       "    <tr>\n",
       "      <th>13</th>\n",
       "      <td>227</td>\n",
       "      <td>13.0</td>\n",
       "      <td>13.0</td>\n",
       "      <td>13</td>\n",
       "      <td>13</td>\n",
       "      <td>123</td>\n",
       "      <td>1029.60</td>\n",
       "      <td>4.54</td>\n",
       "      <td>73</td>\n",
       "      <td>0.32</td>\n",
       "      <td>14.0</td>\n",
       "      <td>0.08</td>\n",
       "      <td>3.79</td>\n",
       "      <td>277.0</td>\n",
       "      <td>2.52</td>\n",
       "      <td>573</td>\n",
       "      <td>17.0</td>\n",
       "      <td>0.10</td>\n",
       "      <td>10.0</td>\n",
       "      <td>0.06</td>\n",
       "      <td>6.0</td>\n",
       "      <td>0.03</td>\n",
       "    </tr>\n",
       "    <tr>\n",
       "      <th>14</th>\n",
       "      <td>389</td>\n",
       "      <td>14.0</td>\n",
       "      <td>14.0</td>\n",
       "      <td>14</td>\n",
       "      <td>14</td>\n",
       "      <td>127</td>\n",
       "      <td>1525.75</td>\n",
       "      <td>3.92</td>\n",
       "      <td>144</td>\n",
       "      <td>0.37</td>\n",
       "      <td>19.0</td>\n",
       "      <td>0.06</td>\n",
       "      <td>3.69</td>\n",
       "      <td>531.0</td>\n",
       "      <td>2.77</td>\n",
       "      <td>1076</td>\n",
       "      <td>26.0</td>\n",
       "      <td>0.08</td>\n",
       "      <td>14.0</td>\n",
       "      <td>0.04</td>\n",
       "      <td>9.0</td>\n",
       "      <td>0.03</td>\n",
       "    </tr>\n",
       "    <tr>\n",
       "      <th>15</th>\n",
       "      <td>564</td>\n",
       "      <td>15.0</td>\n",
       "      <td>15.0</td>\n",
       "      <td>15</td>\n",
       "      <td>15</td>\n",
       "      <td>111</td>\n",
       "      <td>2080.14</td>\n",
       "      <td>3.69</td>\n",
       "      <td>168</td>\n",
       "      <td>0.30</td>\n",
       "      <td>37.0</td>\n",
       "      <td>0.08</td>\n",
       "      <td>4.30</td>\n",
       "      <td>723.0</td>\n",
       "      <td>2.46</td>\n",
       "      <td>1386</td>\n",
       "      <td>44.0</td>\n",
       "      <td>0.10</td>\n",
       "      <td>30.0</td>\n",
       "      <td>0.07</td>\n",
       "      <td>17.0</td>\n",
       "      <td>0.04</td>\n",
       "    </tr>\n",
       "    <tr>\n",
       "      <th>16</th>\n",
       "      <td>714</td>\n",
       "      <td>16.0</td>\n",
       "      <td>16.0</td>\n",
       "      <td>16</td>\n",
       "      <td>16</td>\n",
       "      <td>99</td>\n",
       "      <td>2023.22</td>\n",
       "      <td>2.83</td>\n",
       "      <td>180</td>\n",
       "      <td>0.25</td>\n",
       "      <td>37.0</td>\n",
       "      <td>0.06</td>\n",
       "      <td>3.59</td>\n",
       "      <td>647.0</td>\n",
       "      <td>1.67</td>\n",
       "      <td>1194</td>\n",
       "      <td>52.0</td>\n",
       "      <td>0.09</td>\n",
       "      <td>23.0</td>\n",
       "      <td>0.04</td>\n",
       "      <td>16.0</td>\n",
       "      <td>0.03</td>\n",
       "    </tr>\n",
       "    <tr>\n",
       "      <th>17</th>\n",
       "      <td>454</td>\n",
       "      <td>17.0</td>\n",
       "      <td>17.0</td>\n",
       "      <td>17</td>\n",
       "      <td>17</td>\n",
       "      <td>65</td>\n",
       "      <td>755.50</td>\n",
       "      <td>1.66</td>\n",
       "      <td>75</td>\n",
       "      <td>0.17</td>\n",
       "      <td>17.0</td>\n",
       "      <td>0.04</td>\n",
       "      <td>3.05</td>\n",
       "      <td>229.0</td>\n",
       "      <td>1.16</td>\n",
       "      <td>528</td>\n",
       "      <td>24.0</td>\n",
       "      <td>0.06</td>\n",
       "      <td>12.0</td>\n",
       "      <td>0.03</td>\n",
       "      <td>10.0</td>\n",
       "      <td>0.03</td>\n",
       "    </tr>\n",
       "    <tr>\n",
       "      <th>18</th>\n",
       "      <td>80</td>\n",
       "      <td>18.0</td>\n",
       "      <td>18.0</td>\n",
       "      <td>18</td>\n",
       "      <td>18</td>\n",
       "      <td>9</td>\n",
       "      <td>61.30</td>\n",
       "      <td>0.77</td>\n",
       "      <td>8</td>\n",
       "      <td>0.10</td>\n",
       "      <td>1.0</td>\n",
       "      <td>0.02</td>\n",
       "      <td>2.00</td>\n",
       "      <td>16.0</td>\n",
       "      <td>0.55</td>\n",
       "      <td>44</td>\n",
       "      <td>2.0</td>\n",
       "      <td>0.03</td>\n",
       "      <td>0.0</td>\n",
       "      <td>0.00</td>\n",
       "      <td>3.0</td>\n",
       "      <td>0.05</td>\n",
       "    </tr>\n",
       "    <tr>\n",
       "      <th>19</th>\n",
       "      <td>33</td>\n",
       "      <td>19.0</td>\n",
       "      <td>19.0</td>\n",
       "      <td>19</td>\n",
       "      <td>19</td>\n",
       "      <td>41</td>\n",
       "      <td>68.50</td>\n",
       "      <td>2.08</td>\n",
       "      <td>7</td>\n",
       "      <td>0.21</td>\n",
       "      <td>1.0</td>\n",
       "      <td>0.04</td>\n",
       "      <td>2.86</td>\n",
       "      <td>20.0</td>\n",
       "      <td>0.79</td>\n",
       "      <td>26</td>\n",
       "      <td>4.0</td>\n",
       "      <td>0.14</td>\n",
       "      <td>1.0</td>\n",
       "      <td>0.04</td>\n",
       "      <td>0.0</td>\n",
       "      <td>0.00</td>\n",
       "    </tr>\n",
       "    <tr>\n",
       "      <th>20</th>\n",
       "      <td>16</td>\n",
       "      <td>20.0</td>\n",
       "      <td>20.0</td>\n",
       "      <td>20</td>\n",
       "      <td>20</td>\n",
       "      <td>44</td>\n",
       "      <td>10.50</td>\n",
       "      <td>0.66</td>\n",
       "      <td>1</td>\n",
       "      <td>0.06</td>\n",
       "      <td>0.0</td>\n",
       "      <td>0.00</td>\n",
       "      <td>4.00</td>\n",
       "      <td>4.0</td>\n",
       "      <td>0.12</td>\n",
       "      <td>2</td>\n",
       "      <td>1.0</td>\n",
       "      <td>0.07</td>\n",
       "      <td>0.0</td>\n",
       "      <td>0.00</td>\n",
       "      <td>0.0</td>\n",
       "      <td>0.00</td>\n",
       "    </tr>\n",
       "  </tbody>\n",
       "</table>\n",
       "</div>"
      ],
      "text/plain": [
       "               Galaxy ID Age at Sign Up                Service Range    Hours  \\\n",
       "                   count           mean median min max          mean      sum   \n",
       "Age at Sign Up                                                                  \n",
       "9                      4            9.0    9.0   9   9             7     8.00   \n",
       "10                     4           10.0   10.0  10  10           182    14.50   \n",
       "11                    51           11.0   11.0  11  11           172   169.75   \n",
       "12                   136           12.0   12.0  12  12           120   396.70   \n",
       "13                   227           13.0   13.0  13  13           123  1029.60   \n",
       "14                   389           14.0   14.0  14  14           127  1525.75   \n",
       "15                   564           15.0   15.0  15  15           111  2080.14   \n",
       "16                   714           16.0   16.0  16  16            99  2023.22   \n",
       "17                   454           17.0   17.0  17  17            65   755.50   \n",
       "18                    80           18.0   18.0  18  18             9    61.30   \n",
       "19                    33           19.0   19.0  19  19            41    68.50   \n",
       "20                    16           20.0   20.0  20  20            44    10.50   \n",
       "\n",
       "                     Follow Through       Trip Eligible (Yes/No)        \\\n",
       "                mean            sum  mean                    sum  mean   \n",
       "Age at Sign Up                                                           \n",
       "9               2.00              2  0.50                    0.0  0.00   \n",
       "10              3.62              1  0.25                    0.0  0.00   \n",
       "11              3.33             21  0.41                    3.0  0.08   \n",
       "12              2.92             55  0.40                    5.0  0.05   \n",
       "13              4.54             73  0.32                   14.0  0.08   \n",
       "14              3.92            144  0.37                   19.0  0.06   \n",
       "15              3.69            168  0.30                   37.0  0.08   \n",
       "16              2.83            180  0.25                   37.0  0.06   \n",
       "17              1.66             75  0.17                   17.0  0.04   \n",
       "18              0.77              8  0.10                    1.0  0.02   \n",
       "19              2.08              7  0.21                    1.0  0.04   \n",
       "20              0.66              1  0.06                    0.0  0.00   \n",
       "\n",
       "               Service Count        Responses        \\\n",
       "                        mean    sum      mean   sum   \n",
       "Age at Sign Up                                        \n",
       "9                       1.50    3.0      1.00     4   \n",
       "10                      5.00    5.0      3.75    15   \n",
       "11                      2.48   52.0      1.67    85   \n",
       "12                      3.07  169.0      2.90   394   \n",
       "13                      3.79  277.0      2.52   573   \n",
       "14                      3.69  531.0      2.77  1076   \n",
       "15                      4.30  723.0      2.46  1386   \n",
       "16                      3.59  647.0      1.67  1194   \n",
       "17                      3.05  229.0      1.16   528   \n",
       "18                      2.00   16.0      0.55    44   \n",
       "19                      2.86   20.0      0.79    26   \n",
       "20                      4.00    4.0      0.12     2   \n",
       "\n",
       "               Make It Happen Badge (Yes/No)       Scholarship Badge (Yes/No)  \\\n",
       "                                         sum  mean                        sum   \n",
       "Age at Sign Up                                                                  \n",
       "9                                        0.0  0.00                        0.0   \n",
       "10                                       1.0  0.33                        0.0   \n",
       "11                                       3.0  0.08                        2.0   \n",
       "12                                      12.0  0.11                        1.0   \n",
       "13                                      17.0  0.10                       10.0   \n",
       "14                                      26.0  0.08                       14.0   \n",
       "15                                      44.0  0.10                       30.0   \n",
       "16                                      52.0  0.09                       23.0   \n",
       "17                                      24.0  0.06                       12.0   \n",
       "18                                       2.0  0.03                        0.0   \n",
       "19                                       4.0  0.14                        1.0   \n",
       "20                                       1.0  0.07                        0.0   \n",
       "\n",
       "                     Explore Participation        \n",
       "                mean                   sum  mean  \n",
       "Age at Sign Up                                    \n",
       "9               0.00                   0.0  0.00  \n",
       "10              0.00                   0.0  0.00  \n",
       "11              0.05                   0.0  0.00  \n",
       "12              0.01                   1.0  0.01  \n",
       "13              0.06                   6.0  0.03  \n",
       "14              0.04                   9.0  0.03  \n",
       "15              0.07                  17.0  0.04  \n",
       "16              0.04                  16.0  0.03  \n",
       "17              0.03                  10.0  0.03  \n",
       "18              0.00                   3.0  0.05  \n",
       "19              0.04                   0.0  0.00  \n",
       "20              0.00                   0.0  0.00  "
      ]
     },
     "execution_count": 27,
     "metadata": {},
     "output_type": "execute_result"
    }
   ],
   "source": [
    "age_groups.sort_index()"
   ]
  },
  {
   "cell_type": "code",
   "execution_count": null,
   "id": "06b31cbe",
   "metadata": {},
   "outputs": [
    {
     "data": {
      "text/html": [
       "<div>\n",
       "<style scoped>\n",
       "    .dataframe tbody tr th:only-of-type {\n",
       "        vertical-align: middle;\n",
       "    }\n",
       "\n",
       "    .dataframe tbody tr th {\n",
       "        vertical-align: top;\n",
       "    }\n",
       "\n",
       "    .dataframe thead tr th {\n",
       "        text-align: left;\n",
       "    }\n",
       "\n",
       "    .dataframe thead tr:last-of-type th {\n",
       "        text-align: right;\n",
       "    }\n",
       "</style>\n",
       "<table border=\"1\" class=\"dataframe\">\n",
       "  <thead>\n",
       "    <tr>\n",
       "      <th></th>\n",
       "      <th>Galaxy ID</th>\n",
       "      <th colspan=\"4\" halign=\"left\">Age at Sign Up</th>\n",
       "      <th>Service Range</th>\n",
       "      <th colspan=\"2\" halign=\"left\">Hours</th>\n",
       "      <th colspan=\"2\" halign=\"left\">Follow Through</th>\n",
       "      <th colspan=\"2\" halign=\"left\">Trip Eligible (Yes/No)</th>\n",
       "      <th colspan=\"2\" halign=\"left\">Service Count</th>\n",
       "      <th colspan=\"2\" halign=\"left\">Responses</th>\n",
       "      <th colspan=\"2\" halign=\"left\">Make It Happen Badge (Yes/No)</th>\n",
       "      <th colspan=\"2\" halign=\"left\">Scholarship Badge (Yes/No)</th>\n",
       "      <th colspan=\"2\" halign=\"left\">Explore Participation</th>\n",
       "    </tr>\n",
       "    <tr>\n",
       "      <th></th>\n",
       "      <th>count</th>\n",
       "      <th>mean</th>\n",
       "      <th>median</th>\n",
       "      <th>min</th>\n",
       "      <th>max</th>\n",
       "      <th>mean</th>\n",
       "      <th>sum</th>\n",
       "      <th>mean</th>\n",
       "      <th>sum</th>\n",
       "      <th>mean</th>\n",
       "      <th>sum</th>\n",
       "      <th>mean</th>\n",
       "      <th>mean</th>\n",
       "      <th>sum</th>\n",
       "      <th>mean</th>\n",
       "      <th>sum</th>\n",
       "      <th>sum</th>\n",
       "      <th>mean</th>\n",
       "      <th>sum</th>\n",
       "      <th>mean</th>\n",
       "      <th>sum</th>\n",
       "      <th>mean</th>\n",
       "    </tr>\n",
       "    <tr>\n",
       "      <th>District</th>\n",
       "      <th></th>\n",
       "      <th></th>\n",
       "      <th></th>\n",
       "      <th></th>\n",
       "      <th></th>\n",
       "      <th></th>\n",
       "      <th></th>\n",
       "      <th></th>\n",
       "      <th></th>\n",
       "      <th></th>\n",
       "      <th></th>\n",
       "      <th></th>\n",
       "      <th></th>\n",
       "      <th></th>\n",
       "      <th></th>\n",
       "      <th></th>\n",
       "      <th></th>\n",
       "      <th></th>\n",
       "      <th></th>\n",
       "      <th></th>\n",
       "      <th></th>\n",
       "      <th></th>\n",
       "    </tr>\n",
       "  </thead>\n",
       "  <tbody>\n",
       "    <tr>\n",
       "      <th>NEISD</th>\n",
       "      <td>823</td>\n",
       "      <td>14.79</td>\n",
       "      <td>15.0</td>\n",
       "      <td>9</td>\n",
       "      <td>19</td>\n",
       "      <td>100.0</td>\n",
       "      <td>2702.50</td>\n",
       "      <td>3.28</td>\n",
       "      <td>318</td>\n",
       "      <td>0.39</td>\n",
       "      <td>35.0</td>\n",
       "      <td>0.05</td>\n",
       "      <td>3.01</td>\n",
       "      <td>958.0</td>\n",
       "      <td>2.47</td>\n",
       "      <td>2030</td>\n",
       "      <td>48.0</td>\n",
       "      <td>0.07</td>\n",
       "      <td>25.0</td>\n",
       "      <td>0.04</td>\n",
       "      <td>19.0</td>\n",
       "      <td>0.03</td>\n",
       "    </tr>\n",
       "    <tr>\n",
       "      <th>SAISD</th>\n",
       "      <td>674</td>\n",
       "      <td>15.35</td>\n",
       "      <td>16.0</td>\n",
       "      <td>10</td>\n",
       "      <td>18</td>\n",
       "      <td>107.0</td>\n",
       "      <td>2168.86</td>\n",
       "      <td>3.22</td>\n",
       "      <td>160</td>\n",
       "      <td>0.24</td>\n",
       "      <td>31.0</td>\n",
       "      <td>0.06</td>\n",
       "      <td>4.64</td>\n",
       "      <td>743.0</td>\n",
       "      <td>2.19</td>\n",
       "      <td>1478</td>\n",
       "      <td>44.0</td>\n",
       "      <td>0.09</td>\n",
       "      <td>22.0</td>\n",
       "      <td>0.04</td>\n",
       "      <td>12.0</td>\n",
       "      <td>0.02</td>\n",
       "    </tr>\n",
       "    <tr>\n",
       "      <th>NISD</th>\n",
       "      <td>373</td>\n",
       "      <td>15.35</td>\n",
       "      <td>16.0</td>\n",
       "      <td>11</td>\n",
       "      <td>19</td>\n",
       "      <td>134.0</td>\n",
       "      <td>1275.50</td>\n",
       "      <td>3.42</td>\n",
       "      <td>108</td>\n",
       "      <td>0.29</td>\n",
       "      <td>27.0</td>\n",
       "      <td>0.08</td>\n",
       "      <td>3.69</td>\n",
       "      <td>398.0</td>\n",
       "      <td>1.61</td>\n",
       "      <td>601</td>\n",
       "      <td>41.0</td>\n",
       "      <td>0.12</td>\n",
       "      <td>16.0</td>\n",
       "      <td>0.05</td>\n",
       "      <td>5.0</td>\n",
       "      <td>0.01</td>\n",
       "    </tr>\n",
       "    <tr>\n",
       "      <th>Charter</th>\n",
       "      <td>237</td>\n",
       "      <td>14.86</td>\n",
       "      <td>15.0</td>\n",
       "      <td>9</td>\n",
       "      <td>18</td>\n",
       "      <td>101.0</td>\n",
       "      <td>612.75</td>\n",
       "      <td>2.59</td>\n",
       "      <td>51</td>\n",
       "      <td>0.22</td>\n",
       "      <td>8.0</td>\n",
       "      <td>0.04</td>\n",
       "      <td>3.33</td>\n",
       "      <td>170.0</td>\n",
       "      <td>1.40</td>\n",
       "      <td>332</td>\n",
       "      <td>12.0</td>\n",
       "      <td>0.06</td>\n",
       "      <td>6.0</td>\n",
       "      <td>0.03</td>\n",
       "      <td>7.0</td>\n",
       "      <td>0.04</td>\n",
       "    </tr>\n",
       "    <tr>\n",
       "      <th>South San ISD</th>\n",
       "      <td>96</td>\n",
       "      <td>15.98</td>\n",
       "      <td>16.0</td>\n",
       "      <td>12</td>\n",
       "      <td>19</td>\n",
       "      <td>113.0</td>\n",
       "      <td>183.00</td>\n",
       "      <td>1.91</td>\n",
       "      <td>14</td>\n",
       "      <td>0.15</td>\n",
       "      <td>4.0</td>\n",
       "      <td>0.05</td>\n",
       "      <td>4.93</td>\n",
       "      <td>69.0</td>\n",
       "      <td>1.80</td>\n",
       "      <td>173</td>\n",
       "      <td>4.0</td>\n",
       "      <td>0.05</td>\n",
       "      <td>3.0</td>\n",
       "      <td>0.03</td>\n",
       "      <td>5.0</td>\n",
       "      <td>0.06</td>\n",
       "    </tr>\n",
       "    <tr>\n",
       "      <th>Unknown</th>\n",
       "      <td>85</td>\n",
       "      <td>15.82</td>\n",
       "      <td>16.0</td>\n",
       "      <td>11</td>\n",
       "      <td>20</td>\n",
       "      <td>119.0</td>\n",
       "      <td>177.50</td>\n",
       "      <td>2.09</td>\n",
       "      <td>16</td>\n",
       "      <td>0.19</td>\n",
       "      <td>6.0</td>\n",
       "      <td>0.08</td>\n",
       "      <td>3.88</td>\n",
       "      <td>62.0</td>\n",
       "      <td>1.20</td>\n",
       "      <td>102</td>\n",
       "      <td>8.0</td>\n",
       "      <td>0.10</td>\n",
       "      <td>2.0</td>\n",
       "      <td>0.03</td>\n",
       "      <td>3.0</td>\n",
       "      <td>0.04</td>\n",
       "    </tr>\n",
       "    <tr>\n",
       "      <th>Private</th>\n",
       "      <td>84</td>\n",
       "      <td>14.87</td>\n",
       "      <td>15.0</td>\n",
       "      <td>9</td>\n",
       "      <td>18</td>\n",
       "      <td>143.0</td>\n",
       "      <td>283.25</td>\n",
       "      <td>3.37</td>\n",
       "      <td>19</td>\n",
       "      <td>0.23</td>\n",
       "      <td>8.0</td>\n",
       "      <td>0.12</td>\n",
       "      <td>4.68</td>\n",
       "      <td>89.0</td>\n",
       "      <td>2.19</td>\n",
       "      <td>184</td>\n",
       "      <td>10.0</td>\n",
       "      <td>0.15</td>\n",
       "      <td>6.0</td>\n",
       "      <td>0.09</td>\n",
       "      <td>4.0</td>\n",
       "      <td>0.06</td>\n",
       "    </tr>\n",
       "    <tr>\n",
       "      <th>Homeschool</th>\n",
       "      <td>62</td>\n",
       "      <td>14.71</td>\n",
       "      <td>15.0</td>\n",
       "      <td>11</td>\n",
       "      <td>19</td>\n",
       "      <td>179.0</td>\n",
       "      <td>231.05</td>\n",
       "      <td>3.73</td>\n",
       "      <td>11</td>\n",
       "      <td>0.18</td>\n",
       "      <td>4.0</td>\n",
       "      <td>0.08</td>\n",
       "      <td>6.18</td>\n",
       "      <td>68.0</td>\n",
       "      <td>2.98</td>\n",
       "      <td>185</td>\n",
       "      <td>5.0</td>\n",
       "      <td>0.10</td>\n",
       "      <td>4.0</td>\n",
       "      <td>0.08</td>\n",
       "      <td>1.0</td>\n",
       "      <td>0.02</td>\n",
       "    </tr>\n",
       "    <tr>\n",
       "      <th>Judson ISD</th>\n",
       "      <td>28</td>\n",
       "      <td>16.00</td>\n",
       "      <td>16.0</td>\n",
       "      <td>14</td>\n",
       "      <td>18</td>\n",
       "      <td>75.0</td>\n",
       "      <td>56.30</td>\n",
       "      <td>2.01</td>\n",
       "      <td>4</td>\n",
       "      <td>0.14</td>\n",
       "      <td>2.0</td>\n",
       "      <td>0.09</td>\n",
       "      <td>2.25</td>\n",
       "      <td>9.0</td>\n",
       "      <td>0.75</td>\n",
       "      <td>21</td>\n",
       "      <td>2.0</td>\n",
       "      <td>0.09</td>\n",
       "      <td>1.0</td>\n",
       "      <td>0.04</td>\n",
       "      <td>0.0</td>\n",
       "      <td>0.00</td>\n",
       "    </tr>\n",
       "    <tr>\n",
       "      <th>Edgewood ISD</th>\n",
       "      <td>19</td>\n",
       "      <td>16.53</td>\n",
       "      <td>17.0</td>\n",
       "      <td>14</td>\n",
       "      <td>19</td>\n",
       "      <td>284.0</td>\n",
       "      <td>9.00</td>\n",
       "      <td>0.47</td>\n",
       "      <td>1</td>\n",
       "      <td>0.05</td>\n",
       "      <td>0.0</td>\n",
       "      <td>0.00</td>\n",
       "      <td>4.00</td>\n",
       "      <td>4.0</td>\n",
       "      <td>0.32</td>\n",
       "      <td>6</td>\n",
       "      <td>0.0</td>\n",
       "      <td>0.00</td>\n",
       "      <td>0.0</td>\n",
       "      <td>0.00</td>\n",
       "      <td>0.0</td>\n",
       "      <td>0.00</td>\n",
       "    </tr>\n",
       "    <tr>\n",
       "      <th>SCUC ISD</th>\n",
       "      <td>15</td>\n",
       "      <td>15.40</td>\n",
       "      <td>16.0</td>\n",
       "      <td>13</td>\n",
       "      <td>18</td>\n",
       "      <td>147.0</td>\n",
       "      <td>137.00</td>\n",
       "      <td>9.13</td>\n",
       "      <td>5</td>\n",
       "      <td>0.33</td>\n",
       "      <td>4.0</td>\n",
       "      <td>0.31</td>\n",
       "      <td>5.20</td>\n",
       "      <td>26.0</td>\n",
       "      <td>3.20</td>\n",
       "      <td>48</td>\n",
       "      <td>4.0</td>\n",
       "      <td>0.31</td>\n",
       "      <td>3.0</td>\n",
       "      <td>0.23</td>\n",
       "      <td>2.0</td>\n",
       "      <td>0.15</td>\n",
       "    </tr>\n",
       "    <tr>\n",
       "      <th>Comal ISD</th>\n",
       "      <td>13</td>\n",
       "      <td>15.38</td>\n",
       "      <td>15.0</td>\n",
       "      <td>13</td>\n",
       "      <td>18</td>\n",
       "      <td>3.0</td>\n",
       "      <td>8.00</td>\n",
       "      <td>0.62</td>\n",
       "      <td>2</td>\n",
       "      <td>0.15</td>\n",
       "      <td>0.0</td>\n",
       "      <td>0.00</td>\n",
       "      <td>1.50</td>\n",
       "      <td>3.0</td>\n",
       "      <td>0.69</td>\n",
       "      <td>9</td>\n",
       "      <td>0.0</td>\n",
       "      <td>0.00</td>\n",
       "      <td>0.0</td>\n",
       "      <td>0.00</td>\n",
       "      <td>0.0</td>\n",
       "      <td>0.00</td>\n",
       "    </tr>\n",
       "    <tr>\n",
       "      <th>Out of State</th>\n",
       "      <td>13</td>\n",
       "      <td>15.15</td>\n",
       "      <td>15.0</td>\n",
       "      <td>13</td>\n",
       "      <td>17</td>\n",
       "      <td>0.0</td>\n",
       "      <td>10.50</td>\n",
       "      <td>0.81</td>\n",
       "      <td>3</td>\n",
       "      <td>0.23</td>\n",
       "      <td>0.0</td>\n",
       "      <td>0.00</td>\n",
       "      <td>1.00</td>\n",
       "      <td>3.0</td>\n",
       "      <td>0.69</td>\n",
       "      <td>9</td>\n",
       "      <td>0.0</td>\n",
       "      <td>0.00</td>\n",
       "      <td>0.0</td>\n",
       "      <td>0.00</td>\n",
       "      <td>1.0</td>\n",
       "      <td>0.08</td>\n",
       "    </tr>\n",
       "    <tr>\n",
       "      <th>Southwest ISD</th>\n",
       "      <td>11</td>\n",
       "      <td>16.00</td>\n",
       "      <td>16.0</td>\n",
       "      <td>15</td>\n",
       "      <td>17</td>\n",
       "      <td>77.0</td>\n",
       "      <td>38.75</td>\n",
       "      <td>3.52</td>\n",
       "      <td>3</td>\n",
       "      <td>0.27</td>\n",
       "      <td>1.0</td>\n",
       "      <td>0.10</td>\n",
       "      <td>4.00</td>\n",
       "      <td>12.0</td>\n",
       "      <td>2.45</td>\n",
       "      <td>27</td>\n",
       "      <td>1.0</td>\n",
       "      <td>0.10</td>\n",
       "      <td>1.0</td>\n",
       "      <td>0.10</td>\n",
       "      <td>0.0</td>\n",
       "      <td>0.00</td>\n",
       "    </tr>\n",
       "    <tr>\n",
       "      <th>Southside ISD</th>\n",
       "      <td>11</td>\n",
       "      <td>16.45</td>\n",
       "      <td>16.0</td>\n",
       "      <td>15</td>\n",
       "      <td>18</td>\n",
       "      <td>NaN</td>\n",
       "      <td>0.00</td>\n",
       "      <td>0.00</td>\n",
       "      <td>0</td>\n",
       "      <td>0.00</td>\n",
       "      <td>0.0</td>\n",
       "      <td>0.00</td>\n",
       "      <td>NaN</td>\n",
       "      <td>0.0</td>\n",
       "      <td>0.18</td>\n",
       "      <td>2</td>\n",
       "      <td>0.0</td>\n",
       "      <td>0.00</td>\n",
       "      <td>0.0</td>\n",
       "      <td>0.00</td>\n",
       "      <td>0.0</td>\n",
       "      <td>0.00</td>\n",
       "    </tr>\n",
       "    <tr>\n",
       "      <th>Alamo Heights ISD</th>\n",
       "      <td>10</td>\n",
       "      <td>14.40</td>\n",
       "      <td>14.5</td>\n",
       "      <td>12</td>\n",
       "      <td>17</td>\n",
       "      <td>102.0</td>\n",
       "      <td>92.00</td>\n",
       "      <td>9.20</td>\n",
       "      <td>3</td>\n",
       "      <td>0.30</td>\n",
       "      <td>2.0</td>\n",
       "      <td>0.29</td>\n",
       "      <td>2.33</td>\n",
       "      <td>7.0</td>\n",
       "      <td>1.60</td>\n",
       "      <td>16</td>\n",
       "      <td>2.0</td>\n",
       "      <td>0.29</td>\n",
       "      <td>2.0</td>\n",
       "      <td>0.29</td>\n",
       "      <td>1.0</td>\n",
       "      <td>0.14</td>\n",
       "    </tr>\n",
       "    <tr>\n",
       "      <th>East Central ISD</th>\n",
       "      <td>9</td>\n",
       "      <td>15.33</td>\n",
       "      <td>16.0</td>\n",
       "      <td>13</td>\n",
       "      <td>17</td>\n",
       "      <td>133.0</td>\n",
       "      <td>45.50</td>\n",
       "      <td>5.06</td>\n",
       "      <td>2</td>\n",
       "      <td>0.22</td>\n",
       "      <td>1.0</td>\n",
       "      <td>0.17</td>\n",
       "      <td>10.50</td>\n",
       "      <td>21.0</td>\n",
       "      <td>4.67</td>\n",
       "      <td>42</td>\n",
       "      <td>1.0</td>\n",
       "      <td>0.17</td>\n",
       "      <td>1.0</td>\n",
       "      <td>0.17</td>\n",
       "      <td>0.0</td>\n",
       "      <td>0.00</td>\n",
       "    </tr>\n",
       "    <tr>\n",
       "      <th>Harlandale ISD</th>\n",
       "      <td>8</td>\n",
       "      <td>13.88</td>\n",
       "      <td>13.5</td>\n",
       "      <td>11</td>\n",
       "      <td>17</td>\n",
       "      <td>NaN</td>\n",
       "      <td>0.00</td>\n",
       "      <td>0.00</td>\n",
       "      <td>0</td>\n",
       "      <td>0.00</td>\n",
       "      <td>0.0</td>\n",
       "      <td>0.00</td>\n",
       "      <td>NaN</td>\n",
       "      <td>0.0</td>\n",
       "      <td>1.00</td>\n",
       "      <td>8</td>\n",
       "      <td>0.0</td>\n",
       "      <td>0.00</td>\n",
       "      <td>0.0</td>\n",
       "      <td>0.00</td>\n",
       "      <td>0.0</td>\n",
       "      <td>0.00</td>\n",
       "    </tr>\n",
       "    <tr>\n",
       "      <th>Somerset ISD</th>\n",
       "      <td>8</td>\n",
       "      <td>16.50</td>\n",
       "      <td>16.5</td>\n",
       "      <td>16</td>\n",
       "      <td>17</td>\n",
       "      <td>56.0</td>\n",
       "      <td>8.00</td>\n",
       "      <td>1.00</td>\n",
       "      <td>1</td>\n",
       "      <td>0.12</td>\n",
       "      <td>0.0</td>\n",
       "      <td>0.00</td>\n",
       "      <td>3.00</td>\n",
       "      <td>3.0</td>\n",
       "      <td>0.50</td>\n",
       "      <td>4</td>\n",
       "      <td>0.0</td>\n",
       "      <td>0.00</td>\n",
       "      <td>0.0</td>\n",
       "      <td>0.00</td>\n",
       "      <td>0.0</td>\n",
       "      <td>0.00</td>\n",
       "    </tr>\n",
       "    <tr>\n",
       "      <th>Boerne ISD</th>\n",
       "      <td>6</td>\n",
       "      <td>14.67</td>\n",
       "      <td>14.0</td>\n",
       "      <td>13</td>\n",
       "      <td>18</td>\n",
       "      <td>0.0</td>\n",
       "      <td>2.00</td>\n",
       "      <td>0.33</td>\n",
       "      <td>1</td>\n",
       "      <td>0.17</td>\n",
       "      <td>0.0</td>\n",
       "      <td>0.00</td>\n",
       "      <td>1.00</td>\n",
       "      <td>1.0</td>\n",
       "      <td>0.17</td>\n",
       "      <td>1</td>\n",
       "      <td>0.0</td>\n",
       "      <td>0.00</td>\n",
       "      <td>0.0</td>\n",
       "      <td>0.00</td>\n",
       "      <td>1.0</td>\n",
       "      <td>0.17</td>\n",
       "    </tr>\n",
       "    <tr>\n",
       "      <th>Out of Area</th>\n",
       "      <td>5</td>\n",
       "      <td>16.40</td>\n",
       "      <td>17.0</td>\n",
       "      <td>13</td>\n",
       "      <td>19</td>\n",
       "      <td>NaN</td>\n",
       "      <td>0.00</td>\n",
       "      <td>0.00</td>\n",
       "      <td>0</td>\n",
       "      <td>0.00</td>\n",
       "      <td>0.0</td>\n",
       "      <td>0.00</td>\n",
       "      <td>NaN</td>\n",
       "      <td>0.0</td>\n",
       "      <td>0.00</td>\n",
       "      <td>0</td>\n",
       "      <td>0.0</td>\n",
       "      <td>0.00</td>\n",
       "      <td>0.0</td>\n",
       "      <td>0.00</td>\n",
       "      <td>0.0</td>\n",
       "      <td>0.00</td>\n",
       "    </tr>\n",
       "    <tr>\n",
       "      <th>Medina Valley ISD</th>\n",
       "      <td>4</td>\n",
       "      <td>13.75</td>\n",
       "      <td>14.0</td>\n",
       "      <td>12</td>\n",
       "      <td>15</td>\n",
       "      <td>NaN</td>\n",
       "      <td>0.00</td>\n",
       "      <td>0.00</td>\n",
       "      <td>0</td>\n",
       "      <td>0.00</td>\n",
       "      <td>0.0</td>\n",
       "      <td>0.00</td>\n",
       "      <td>NaN</td>\n",
       "      <td>0.0</td>\n",
       "      <td>0.00</td>\n",
       "      <td>0</td>\n",
       "      <td>0.0</td>\n",
       "      <td>0.00</td>\n",
       "      <td>0.0</td>\n",
       "      <td>0.00</td>\n",
       "      <td>0.0</td>\n",
       "      <td>0.00</td>\n",
       "    </tr>\n",
       "    <tr>\n",
       "      <th>Randolph Field ISD</th>\n",
       "      <td>2</td>\n",
       "      <td>15.50</td>\n",
       "      <td>15.5</td>\n",
       "      <td>15</td>\n",
       "      <td>16</td>\n",
       "      <td>NaN</td>\n",
       "      <td>0.00</td>\n",
       "      <td>0.00</td>\n",
       "      <td>0</td>\n",
       "      <td>0.00</td>\n",
       "      <td>0.0</td>\n",
       "      <td>0.00</td>\n",
       "      <td>NaN</td>\n",
       "      <td>0.0</td>\n",
       "      <td>1.00</td>\n",
       "      <td>2</td>\n",
       "      <td>0.0</td>\n",
       "      <td>0.00</td>\n",
       "      <td>0.0</td>\n",
       "      <td>0.00</td>\n",
       "      <td>0.0</td>\n",
       "      <td>0.00</td>\n",
       "    </tr>\n",
       "    <tr>\n",
       "      <th>Poteet ISD</th>\n",
       "      <td>2</td>\n",
       "      <td>17.00</td>\n",
       "      <td>17.0</td>\n",
       "      <td>17</td>\n",
       "      <td>17</td>\n",
       "      <td>NaN</td>\n",
       "      <td>0.00</td>\n",
       "      <td>0.00</td>\n",
       "      <td>0</td>\n",
       "      <td>0.00</td>\n",
       "      <td>0.0</td>\n",
       "      <td>NaN</td>\n",
       "      <td>NaN</td>\n",
       "      <td>0.0</td>\n",
       "      <td>0.00</td>\n",
       "      <td>0</td>\n",
       "      <td>0.0</td>\n",
       "      <td>NaN</td>\n",
       "      <td>0.0</td>\n",
       "      <td>NaN</td>\n",
       "      <td>0.0</td>\n",
       "      <td>NaN</td>\n",
       "    </tr>\n",
       "    <tr>\n",
       "      <th>Jourdanton ISD</th>\n",
       "      <td>2</td>\n",
       "      <td>16.00</td>\n",
       "      <td>16.0</td>\n",
       "      <td>16</td>\n",
       "      <td>16</td>\n",
       "      <td>NaN</td>\n",
       "      <td>0.00</td>\n",
       "      <td>0.00</td>\n",
       "      <td>0</td>\n",
       "      <td>0.00</td>\n",
       "      <td>0.0</td>\n",
       "      <td>0.00</td>\n",
       "      <td>NaN</td>\n",
       "      <td>0.0</td>\n",
       "      <td>0.00</td>\n",
       "      <td>0</td>\n",
       "      <td>0.0</td>\n",
       "      <td>0.00</td>\n",
       "      <td>0.0</td>\n",
       "      <td>0.00</td>\n",
       "      <td>0.0</td>\n",
       "      <td>0.00</td>\n",
       "    </tr>\n",
       "    <tr>\n",
       "      <th>SWISD</th>\n",
       "      <td>1</td>\n",
       "      <td>15.00</td>\n",
       "      <td>15.0</td>\n",
       "      <td>15</td>\n",
       "      <td>15</td>\n",
       "      <td>NaN</td>\n",
       "      <td>0.00</td>\n",
       "      <td>0.00</td>\n",
       "      <td>0</td>\n",
       "      <td>0.00</td>\n",
       "      <td>0.0</td>\n",
       "      <td>0.00</td>\n",
       "      <td>NaN</td>\n",
       "      <td>0.0</td>\n",
       "      <td>0.00</td>\n",
       "      <td>0</td>\n",
       "      <td>0.0</td>\n",
       "      <td>0.00</td>\n",
       "      <td>0.0</td>\n",
       "      <td>0.00</td>\n",
       "      <td>0.0</td>\n",
       "      <td>0.00</td>\n",
       "    </tr>\n",
       "    <tr>\n",
       "      <th>Floresville ISD</th>\n",
       "      <td>1</td>\n",
       "      <td>15.00</td>\n",
       "      <td>15.0</td>\n",
       "      <td>15</td>\n",
       "      <td>15</td>\n",
       "      <td>NaN</td>\n",
       "      <td>0.00</td>\n",
       "      <td>0.00</td>\n",
       "      <td>0</td>\n",
       "      <td>0.00</td>\n",
       "      <td>0.0</td>\n",
       "      <td>0.00</td>\n",
       "      <td>NaN</td>\n",
       "      <td>0.0</td>\n",
       "      <td>0.00</td>\n",
       "      <td>0</td>\n",
       "      <td>0.0</td>\n",
       "      <td>0.00</td>\n",
       "      <td>0.0</td>\n",
       "      <td>0.00</td>\n",
       "      <td>0.0</td>\n",
       "      <td>0.00</td>\n",
       "    </tr>\n",
       "    <tr>\n",
       "      <th>Fredericksburg ISD</th>\n",
       "      <td>1</td>\n",
       "      <td>17.00</td>\n",
       "      <td>17.0</td>\n",
       "      <td>17</td>\n",
       "      <td>17</td>\n",
       "      <td>NaN</td>\n",
       "      <td>0.00</td>\n",
       "      <td>0.00</td>\n",
       "      <td>0</td>\n",
       "      <td>0.00</td>\n",
       "      <td>0.0</td>\n",
       "      <td>0.00</td>\n",
       "      <td>NaN</td>\n",
       "      <td>0.0</td>\n",
       "      <td>0.00</td>\n",
       "      <td>0</td>\n",
       "      <td>0.0</td>\n",
       "      <td>0.00</td>\n",
       "      <td>0.0</td>\n",
       "      <td>0.00</td>\n",
       "      <td>0.0</td>\n",
       "      <td>0.00</td>\n",
       "    </tr>\n",
       "    <tr>\n",
       "      <th>Austin ISD</th>\n",
       "      <td>1</td>\n",
       "      <td>15.00</td>\n",
       "      <td>15.0</td>\n",
       "      <td>15</td>\n",
       "      <td>15</td>\n",
       "      <td>NaN</td>\n",
       "      <td>0.00</td>\n",
       "      <td>0.00</td>\n",
       "      <td>0</td>\n",
       "      <td>0.00</td>\n",
       "      <td>0.0</td>\n",
       "      <td>0.00</td>\n",
       "      <td>NaN</td>\n",
       "      <td>0.0</td>\n",
       "      <td>0.00</td>\n",
       "      <td>0</td>\n",
       "      <td>0.0</td>\n",
       "      <td>0.00</td>\n",
       "      <td>0.0</td>\n",
       "      <td>0.00</td>\n",
       "      <td>0.0</td>\n",
       "      <td>0.00</td>\n",
       "    </tr>\n",
       "    <tr>\n",
       "      <th>Ft Sam Houston ISD</th>\n",
       "      <td>1</td>\n",
       "      <td>12.00</td>\n",
       "      <td>12.0</td>\n",
       "      <td>12</td>\n",
       "      <td>12</td>\n",
       "      <td>0.0</td>\n",
       "      <td>2.50</td>\n",
       "      <td>2.50</td>\n",
       "      <td>1</td>\n",
       "      <td>1.00</td>\n",
       "      <td>0.0</td>\n",
       "      <td>0.00</td>\n",
       "      <td>1.00</td>\n",
       "      <td>1.0</td>\n",
       "      <td>1.00</td>\n",
       "      <td>1</td>\n",
       "      <td>0.0</td>\n",
       "      <td>0.00</td>\n",
       "      <td>0.0</td>\n",
       "      <td>0.00</td>\n",
       "      <td>1.0</td>\n",
       "      <td>1.00</td>\n",
       "    </tr>\n",
       "    <tr>\n",
       "      <th>Navarro ISD</th>\n",
       "      <td>1</td>\n",
       "      <td>14.00</td>\n",
       "      <td>14.0</td>\n",
       "      <td>14</td>\n",
       "      <td>14</td>\n",
       "      <td>0.0</td>\n",
       "      <td>3.00</td>\n",
       "      <td>3.00</td>\n",
       "      <td>1</td>\n",
       "      <td>1.00</td>\n",
       "      <td>0.0</td>\n",
       "      <td>0.00</td>\n",
       "      <td>1.00</td>\n",
       "      <td>1.0</td>\n",
       "      <td>1.00</td>\n",
       "      <td>1</td>\n",
       "      <td>0.0</td>\n",
       "      <td>0.00</td>\n",
       "      <td>0.0</td>\n",
       "      <td>0.00</td>\n",
       "      <td>0.0</td>\n",
       "      <td>0.00</td>\n",
       "    </tr>\n",
       "    <tr>\n",
       "      <th>Comfort ISD</th>\n",
       "      <td>1</td>\n",
       "      <td>17.00</td>\n",
       "      <td>17.0</td>\n",
       "      <td>17</td>\n",
       "      <td>17</td>\n",
       "      <td>NaN</td>\n",
       "      <td>0.00</td>\n",
       "      <td>0.00</td>\n",
       "      <td>0</td>\n",
       "      <td>0.00</td>\n",
       "      <td>0.0</td>\n",
       "      <td>NaN</td>\n",
       "      <td>NaN</td>\n",
       "      <td>0.0</td>\n",
       "      <td>0.00</td>\n",
       "      <td>0</td>\n",
       "      <td>0.0</td>\n",
       "      <td>NaN</td>\n",
       "      <td>0.0</td>\n",
       "      <td>NaN</td>\n",
       "      <td>0.0</td>\n",
       "      <td>NaN</td>\n",
       "    </tr>\n",
       "    <tr>\n",
       "      <th>New Braunfels ISD</th>\n",
       "      <td>1</td>\n",
       "      <td>17.00</td>\n",
       "      <td>17.0</td>\n",
       "      <td>17</td>\n",
       "      <td>17</td>\n",
       "      <td>NaN</td>\n",
       "      <td>0.00</td>\n",
       "      <td>0.00</td>\n",
       "      <td>0</td>\n",
       "      <td>0.00</td>\n",
       "      <td>0.0</td>\n",
       "      <td>0.00</td>\n",
       "      <td>NaN</td>\n",
       "      <td>0.0</td>\n",
       "      <td>0.00</td>\n",
       "      <td>0</td>\n",
       "      <td>0.0</td>\n",
       "      <td>0.00</td>\n",
       "      <td>0.0</td>\n",
       "      <td>0.00</td>\n",
       "      <td>0.0</td>\n",
       "      <td>0.00</td>\n",
       "    </tr>\n",
       "    <tr>\n",
       "      <th>Online</th>\n",
       "      <td>1</td>\n",
       "      <td>17.00</td>\n",
       "      <td>17.0</td>\n",
       "      <td>17</td>\n",
       "      <td>17</td>\n",
       "      <td>NaN</td>\n",
       "      <td>0.00</td>\n",
       "      <td>0.00</td>\n",
       "      <td>0</td>\n",
       "      <td>0.00</td>\n",
       "      <td>0.0</td>\n",
       "      <td>0.00</td>\n",
       "      <td>NaN</td>\n",
       "      <td>0.0</td>\n",
       "      <td>0.00</td>\n",
       "      <td>0</td>\n",
       "      <td>0.0</td>\n",
       "      <td>0.00</td>\n",
       "      <td>0.0</td>\n",
       "      <td>0.00</td>\n",
       "      <td>0.0</td>\n",
       "      <td>0.00</td>\n",
       "    </tr>\n",
       "  </tbody>\n",
       "</table>\n",
       "</div>"
      ],
      "text/plain": [
       "                   Galaxy ID Age at Sign Up                Service Range  \\\n",
       "                       count           mean median min max          mean   \n",
       "District                                                                   \n",
       "NEISD                    823          14.79   15.0   9  19         100.0   \n",
       "SAISD                    674          15.35   16.0  10  18         107.0   \n",
       "NISD                     373          15.35   16.0  11  19         134.0   \n",
       "Charter                  237          14.86   15.0   9  18         101.0   \n",
       "South San ISD             96          15.98   16.0  12  19         113.0   \n",
       "Unknown                   85          15.82   16.0  11  20         119.0   \n",
       "Private                   84          14.87   15.0   9  18         143.0   \n",
       "Homeschool                62          14.71   15.0  11  19         179.0   \n",
       "Judson ISD                28          16.00   16.0  14  18          75.0   \n",
       "Edgewood ISD              19          16.53   17.0  14  19         284.0   \n",
       "SCUC ISD                  15          15.40   16.0  13  18         147.0   \n",
       "Comal ISD                 13          15.38   15.0  13  18           3.0   \n",
       "Out of State              13          15.15   15.0  13  17           0.0   \n",
       "Southwest ISD             11          16.00   16.0  15  17          77.0   \n",
       "Southside ISD             11          16.45   16.0  15  18           NaN   \n",
       "Alamo Heights ISD         10          14.40   14.5  12  17         102.0   \n",
       "East Central ISD           9          15.33   16.0  13  17         133.0   \n",
       "Harlandale ISD             8          13.88   13.5  11  17           NaN   \n",
       "Somerset ISD               8          16.50   16.5  16  17          56.0   \n",
       "Boerne ISD                 6          14.67   14.0  13  18           0.0   \n",
       "Out of Area                5          16.40   17.0  13  19           NaN   \n",
       "Medina Valley ISD          4          13.75   14.0  12  15           NaN   \n",
       "Randolph Field ISD         2          15.50   15.5  15  16           NaN   \n",
       "Poteet ISD                 2          17.00   17.0  17  17           NaN   \n",
       "Jourdanton ISD             2          16.00   16.0  16  16           NaN   \n",
       "SWISD                      1          15.00   15.0  15  15           NaN   \n",
       "Floresville ISD            1          15.00   15.0  15  15           NaN   \n",
       "Fredericksburg ISD         1          17.00   17.0  17  17           NaN   \n",
       "Austin ISD                 1          15.00   15.0  15  15           NaN   \n",
       "Ft Sam Houston ISD         1          12.00   12.0  12  12           0.0   \n",
       "Navarro ISD                1          14.00   14.0  14  14           0.0   \n",
       "Comfort ISD                1          17.00   17.0  17  17           NaN   \n",
       "New Braunfels ISD          1          17.00   17.0  17  17           NaN   \n",
       "Online                     1          17.00   17.0  17  17           NaN   \n",
       "\n",
       "                      Hours       Follow Through       Trip Eligible (Yes/No)  \\\n",
       "                        sum  mean            sum  mean                    sum   \n",
       "District                                                                        \n",
       "NEISD               2702.50  3.28            318  0.39                   35.0   \n",
       "SAISD               2168.86  3.22            160  0.24                   31.0   \n",
       "NISD                1275.50  3.42            108  0.29                   27.0   \n",
       "Charter              612.75  2.59             51  0.22                    8.0   \n",
       "South San ISD        183.00  1.91             14  0.15                    4.0   \n",
       "Unknown              177.50  2.09             16  0.19                    6.0   \n",
       "Private              283.25  3.37             19  0.23                    8.0   \n",
       "Homeschool           231.05  3.73             11  0.18                    4.0   \n",
       "Judson ISD            56.30  2.01              4  0.14                    2.0   \n",
       "Edgewood ISD           9.00  0.47              1  0.05                    0.0   \n",
       "SCUC ISD             137.00  9.13              5  0.33                    4.0   \n",
       "Comal ISD              8.00  0.62              2  0.15                    0.0   \n",
       "Out of State          10.50  0.81              3  0.23                    0.0   \n",
       "Southwest ISD         38.75  3.52              3  0.27                    1.0   \n",
       "Southside ISD          0.00  0.00              0  0.00                    0.0   \n",
       "Alamo Heights ISD     92.00  9.20              3  0.30                    2.0   \n",
       "East Central ISD      45.50  5.06              2  0.22                    1.0   \n",
       "Harlandale ISD         0.00  0.00              0  0.00                    0.0   \n",
       "Somerset ISD           8.00  1.00              1  0.12                    0.0   \n",
       "Boerne ISD             2.00  0.33              1  0.17                    0.0   \n",
       "Out of Area            0.00  0.00              0  0.00                    0.0   \n",
       "Medina Valley ISD      0.00  0.00              0  0.00                    0.0   \n",
       "Randolph Field ISD     0.00  0.00              0  0.00                    0.0   \n",
       "Poteet ISD             0.00  0.00              0  0.00                    0.0   \n",
       "Jourdanton ISD         0.00  0.00              0  0.00                    0.0   \n",
       "SWISD                  0.00  0.00              0  0.00                    0.0   \n",
       "Floresville ISD        0.00  0.00              0  0.00                    0.0   \n",
       "Fredericksburg ISD     0.00  0.00              0  0.00                    0.0   \n",
       "Austin ISD             0.00  0.00              0  0.00                    0.0   \n",
       "Ft Sam Houston ISD     2.50  2.50              1  1.00                    0.0   \n",
       "Navarro ISD            3.00  3.00              1  1.00                    0.0   \n",
       "Comfort ISD            0.00  0.00              0  0.00                    0.0   \n",
       "New Braunfels ISD      0.00  0.00              0  0.00                    0.0   \n",
       "Online                 0.00  0.00              0  0.00                    0.0   \n",
       "\n",
       "                         Service Count        Responses        \\\n",
       "                    mean          mean    sum      mean   sum   \n",
       "District                                                        \n",
       "NEISD               0.05          3.01  958.0      2.47  2030   \n",
       "SAISD               0.06          4.64  743.0      2.19  1478   \n",
       "NISD                0.08          3.69  398.0      1.61   601   \n",
       "Charter             0.04          3.33  170.0      1.40   332   \n",
       "South San ISD       0.05          4.93   69.0      1.80   173   \n",
       "Unknown             0.08          3.88   62.0      1.20   102   \n",
       "Private             0.12          4.68   89.0      2.19   184   \n",
       "Homeschool          0.08          6.18   68.0      2.98   185   \n",
       "Judson ISD          0.09          2.25    9.0      0.75    21   \n",
       "Edgewood ISD        0.00          4.00    4.0      0.32     6   \n",
       "SCUC ISD            0.31          5.20   26.0      3.20    48   \n",
       "Comal ISD           0.00          1.50    3.0      0.69     9   \n",
       "Out of State        0.00          1.00    3.0      0.69     9   \n",
       "Southwest ISD       0.10          4.00   12.0      2.45    27   \n",
       "Southside ISD       0.00           NaN    0.0      0.18     2   \n",
       "Alamo Heights ISD   0.29          2.33    7.0      1.60    16   \n",
       "East Central ISD    0.17         10.50   21.0      4.67    42   \n",
       "Harlandale ISD      0.00           NaN    0.0      1.00     8   \n",
       "Somerset ISD        0.00          3.00    3.0      0.50     4   \n",
       "Boerne ISD          0.00          1.00    1.0      0.17     1   \n",
       "Out of Area         0.00           NaN    0.0      0.00     0   \n",
       "Medina Valley ISD   0.00           NaN    0.0      0.00     0   \n",
       "Randolph Field ISD  0.00           NaN    0.0      1.00     2   \n",
       "Poteet ISD           NaN           NaN    0.0      0.00     0   \n",
       "Jourdanton ISD      0.00           NaN    0.0      0.00     0   \n",
       "SWISD               0.00           NaN    0.0      0.00     0   \n",
       "Floresville ISD     0.00           NaN    0.0      0.00     0   \n",
       "Fredericksburg ISD  0.00           NaN    0.0      0.00     0   \n",
       "Austin ISD          0.00           NaN    0.0      0.00     0   \n",
       "Ft Sam Houston ISD  0.00          1.00    1.0      1.00     1   \n",
       "Navarro ISD         0.00          1.00    1.0      1.00     1   \n",
       "Comfort ISD          NaN           NaN    0.0      0.00     0   \n",
       "New Braunfels ISD   0.00           NaN    0.0      0.00     0   \n",
       "Online              0.00           NaN    0.0      0.00     0   \n",
       "\n",
       "                   Make It Happen Badge (Yes/No)        \\\n",
       "                                             sum  mean   \n",
       "District                                                 \n",
       "NEISD                                       48.0  0.07   \n",
       "SAISD                                       44.0  0.09   \n",
       "NISD                                        41.0  0.12   \n",
       "Charter                                     12.0  0.06   \n",
       "South San ISD                                4.0  0.05   \n",
       "Unknown                                      8.0  0.10   \n",
       "Private                                     10.0  0.15   \n",
       "Homeschool                                   5.0  0.10   \n",
       "Judson ISD                                   2.0  0.09   \n",
       "Edgewood ISD                                 0.0  0.00   \n",
       "SCUC ISD                                     4.0  0.31   \n",
       "Comal ISD                                    0.0  0.00   \n",
       "Out of State                                 0.0  0.00   \n",
       "Southwest ISD                                1.0  0.10   \n",
       "Southside ISD                                0.0  0.00   \n",
       "Alamo Heights ISD                            2.0  0.29   \n",
       "East Central ISD                             1.0  0.17   \n",
       "Harlandale ISD                               0.0  0.00   \n",
       "Somerset ISD                                 0.0  0.00   \n",
       "Boerne ISD                                   0.0  0.00   \n",
       "Out of Area                                  0.0  0.00   \n",
       "Medina Valley ISD                            0.0  0.00   \n",
       "Randolph Field ISD                           0.0  0.00   \n",
       "Poteet ISD                                   0.0   NaN   \n",
       "Jourdanton ISD                               0.0  0.00   \n",
       "SWISD                                        0.0  0.00   \n",
       "Floresville ISD                              0.0  0.00   \n",
       "Fredericksburg ISD                           0.0  0.00   \n",
       "Austin ISD                                   0.0  0.00   \n",
       "Ft Sam Houston ISD                           0.0  0.00   \n",
       "Navarro ISD                                  0.0  0.00   \n",
       "Comfort ISD                                  0.0   NaN   \n",
       "New Braunfels ISD                            0.0  0.00   \n",
       "Online                                       0.0  0.00   \n",
       "\n",
       "                   Scholarship Badge (Yes/No)       Explore Participation  \\\n",
       "                                          sum  mean                   sum   \n",
       "District                                                                    \n",
       "NEISD                                    25.0  0.04                  19.0   \n",
       "SAISD                                    22.0  0.04                  12.0   \n",
       "NISD                                     16.0  0.05                   5.0   \n",
       "Charter                                   6.0  0.03                   7.0   \n",
       "South San ISD                             3.0  0.03                   5.0   \n",
       "Unknown                                   2.0  0.03                   3.0   \n",
       "Private                                   6.0  0.09                   4.0   \n",
       "Homeschool                                4.0  0.08                   1.0   \n",
       "Judson ISD                                1.0  0.04                   0.0   \n",
       "Edgewood ISD                              0.0  0.00                   0.0   \n",
       "SCUC ISD                                  3.0  0.23                   2.0   \n",
       "Comal ISD                                 0.0  0.00                   0.0   \n",
       "Out of State                              0.0  0.00                   1.0   \n",
       "Southwest ISD                             1.0  0.10                   0.0   \n",
       "Southside ISD                             0.0  0.00                   0.0   \n",
       "Alamo Heights ISD                         2.0  0.29                   1.0   \n",
       "East Central ISD                          1.0  0.17                   0.0   \n",
       "Harlandale ISD                            0.0  0.00                   0.0   \n",
       "Somerset ISD                              0.0  0.00                   0.0   \n",
       "Boerne ISD                                0.0  0.00                   1.0   \n",
       "Out of Area                               0.0  0.00                   0.0   \n",
       "Medina Valley ISD                         0.0  0.00                   0.0   \n",
       "Randolph Field ISD                        0.0  0.00                   0.0   \n",
       "Poteet ISD                                0.0   NaN                   0.0   \n",
       "Jourdanton ISD                            0.0  0.00                   0.0   \n",
       "SWISD                                     0.0  0.00                   0.0   \n",
       "Floresville ISD                           0.0  0.00                   0.0   \n",
       "Fredericksburg ISD                        0.0  0.00                   0.0   \n",
       "Austin ISD                                0.0  0.00                   0.0   \n",
       "Ft Sam Houston ISD                        0.0  0.00                   1.0   \n",
       "Navarro ISD                               0.0  0.00                   0.0   \n",
       "Comfort ISD                               0.0   NaN                   0.0   \n",
       "New Braunfels ISD                         0.0  0.00                   0.0   \n",
       "Online                                    0.0  0.00                   0.0   \n",
       "\n",
       "                          \n",
       "                    mean  \n",
       "District                  \n",
       "NEISD               0.03  \n",
       "SAISD               0.02  \n",
       "NISD                0.01  \n",
       "Charter             0.04  \n",
       "South San ISD       0.06  \n",
       "Unknown             0.04  \n",
       "Private             0.06  \n",
       "Homeschool          0.02  \n",
       "Judson ISD          0.00  \n",
       "Edgewood ISD        0.00  \n",
       "SCUC ISD            0.15  \n",
       "Comal ISD           0.00  \n",
       "Out of State        0.08  \n",
       "Southwest ISD       0.00  \n",
       "Southside ISD       0.00  \n",
       "Alamo Heights ISD   0.14  \n",
       "East Central ISD    0.00  \n",
       "Harlandale ISD      0.00  \n",
       "Somerset ISD        0.00  \n",
       "Boerne ISD          0.17  \n",
       "Out of Area         0.00  \n",
       "Medina Valley ISD   0.00  \n",
       "Randolph Field ISD  0.00  \n",
       "Poteet ISD           NaN  \n",
       "Jourdanton ISD      0.00  \n",
       "SWISD               0.00  \n",
       "Floresville ISD     0.00  \n",
       "Fredericksburg ISD  0.00  \n",
       "Austin ISD          0.00  \n",
       "Ft Sam Houston ISD  1.00  \n",
       "Navarro ISD         0.00  \n",
       "Comfort ISD          NaN  \n",
       "New Braunfels ISD   0.00  \n",
       "Online              0.00  "
      ]
     },
     "execution_count": 28,
     "metadata": {},
     "output_type": "execute_result"
    }
   ],
   "source": [
    "district_groups"
   ]
  },
  {
   "cell_type": "code",
   "execution_count": null,
   "id": "513c1252",
   "metadata": {},
   "outputs": [
    {
     "data": {
      "text/plain": [
       "0.24"
      ]
     },
     "execution_count": 29,
     "metadata": {},
     "output_type": "execute_result"
    }
   ],
   "source": [
    "test_cat = 'Follow Through'\n",
    "test_stat = 'mean'\n",
    "test_search_list = []\n",
    "test_search_list.append(test_cat)\n",
    "test_search_list.append(test_stat)\n",
    "\n",
    "district_groups.loc['SAISD'][test_cat, test_stat]"
   ]
  },
  {
   "cell_type": "code",
   "execution_count": null,
   "id": "d72b45ed",
   "metadata": {},
   "outputs": [
    {
     "data": {
      "text/html": [
       "<div>\n",
       "<style scoped>\n",
       "    .dataframe tbody tr th:only-of-type {\n",
       "        vertical-align: middle;\n",
       "    }\n",
       "\n",
       "    .dataframe tbody tr th {\n",
       "        vertical-align: top;\n",
       "    }\n",
       "\n",
       "    .dataframe thead th {\n",
       "        text-align: right;\n",
       "    }\n",
       "</style>\n",
       "<table border=\"1\" class=\"dataframe\">\n",
       "  <thead>\n",
       "    <tr style=\"text-align: right;\">\n",
       "      <th></th>\n",
       "      <th></th>\n",
       "      <th>SAISD</th>\n",
       "    </tr>\n",
       "  </thead>\n",
       "  <tbody>\n",
       "    <tr>\n",
       "      <th>Galaxy ID</th>\n",
       "      <th>count</th>\n",
       "      <td>674.00</td>\n",
       "    </tr>\n",
       "    <tr>\n",
       "      <th rowspan=\"4\" valign=\"top\">Age at Sign Up</th>\n",
       "      <th>mean</th>\n",
       "      <td>15.35</td>\n",
       "    </tr>\n",
       "    <tr>\n",
       "      <th>median</th>\n",
       "      <td>16.00</td>\n",
       "    </tr>\n",
       "    <tr>\n",
       "      <th>min</th>\n",
       "      <td>10.00</td>\n",
       "    </tr>\n",
       "    <tr>\n",
       "      <th>max</th>\n",
       "      <td>18.00</td>\n",
       "    </tr>\n",
       "    <tr>\n",
       "      <th>Service Range</th>\n",
       "      <th>mean</th>\n",
       "      <td>107.00</td>\n",
       "    </tr>\n",
       "    <tr>\n",
       "      <th rowspan=\"2\" valign=\"top\">Hours</th>\n",
       "      <th>sum</th>\n",
       "      <td>2168.86</td>\n",
       "    </tr>\n",
       "    <tr>\n",
       "      <th>mean</th>\n",
       "      <td>3.22</td>\n",
       "    </tr>\n",
       "    <tr>\n",
       "      <th rowspan=\"2\" valign=\"top\">Follow Through</th>\n",
       "      <th>sum</th>\n",
       "      <td>160.00</td>\n",
       "    </tr>\n",
       "    <tr>\n",
       "      <th>mean</th>\n",
       "      <td>0.24</td>\n",
       "    </tr>\n",
       "    <tr>\n",
       "      <th rowspan=\"2\" valign=\"top\">Trip Eligible (Yes/No)</th>\n",
       "      <th>sum</th>\n",
       "      <td>31.00</td>\n",
       "    </tr>\n",
       "    <tr>\n",
       "      <th>mean</th>\n",
       "      <td>0.06</td>\n",
       "    </tr>\n",
       "    <tr>\n",
       "      <th rowspan=\"2\" valign=\"top\">Service Count</th>\n",
       "      <th>mean</th>\n",
       "      <td>4.64</td>\n",
       "    </tr>\n",
       "    <tr>\n",
       "      <th>sum</th>\n",
       "      <td>743.00</td>\n",
       "    </tr>\n",
       "    <tr>\n",
       "      <th rowspan=\"2\" valign=\"top\">Responses</th>\n",
       "      <th>mean</th>\n",
       "      <td>2.19</td>\n",
       "    </tr>\n",
       "    <tr>\n",
       "      <th>sum</th>\n",
       "      <td>1478.00</td>\n",
       "    </tr>\n",
       "    <tr>\n",
       "      <th rowspan=\"2\" valign=\"top\">Make It Happen Badge (Yes/No)</th>\n",
       "      <th>sum</th>\n",
       "      <td>44.00</td>\n",
       "    </tr>\n",
       "    <tr>\n",
       "      <th>mean</th>\n",
       "      <td>0.09</td>\n",
       "    </tr>\n",
       "    <tr>\n",
       "      <th rowspan=\"2\" valign=\"top\">Scholarship Badge (Yes/No)</th>\n",
       "      <th>sum</th>\n",
       "      <td>22.00</td>\n",
       "    </tr>\n",
       "    <tr>\n",
       "      <th>mean</th>\n",
       "      <td>0.04</td>\n",
       "    </tr>\n",
       "    <tr>\n",
       "      <th rowspan=\"2\" valign=\"top\">Explore Participation</th>\n",
       "      <th>sum</th>\n",
       "      <td>12.00</td>\n",
       "    </tr>\n",
       "    <tr>\n",
       "      <th>mean</th>\n",
       "      <td>0.02</td>\n",
       "    </tr>\n",
       "  </tbody>\n",
       "</table>\n",
       "</div>"
      ],
      "text/plain": [
       "                                        SAISD\n",
       "Galaxy ID                     count    674.00\n",
       "Age at Sign Up                mean      15.35\n",
       "                              median    16.00\n",
       "                              min       10.00\n",
       "                              max       18.00\n",
       "Service Range                 mean     107.00\n",
       "Hours                         sum     2168.86\n",
       "                              mean       3.22\n",
       "Follow Through                sum      160.00\n",
       "                              mean       0.24\n",
       "Trip Eligible (Yes/No)        sum       31.00\n",
       "                              mean       0.06\n",
       "Service Count                 mean       4.64\n",
       "                              sum      743.00\n",
       "Responses                     mean       2.19\n",
       "                              sum     1478.00\n",
       "Make It Happen Badge (Yes/No) sum       44.00\n",
       "                              mean       0.09\n",
       "Scholarship Badge (Yes/No)    sum       22.00\n",
       "                              mean       0.04\n",
       "Explore Participation         sum       12.00\n",
       "                              mean       0.02"
      ]
     },
     "execution_count": 30,
     "metadata": {},
     "output_type": "execute_result"
    }
   ],
   "source": [
    "pd.DataFrame(district_groups.loc['SAISD'])"
   ]
  },
  {
   "cell_type": "code",
   "execution_count": null,
   "id": "0fb2ea11",
   "metadata": {},
   "outputs": [
    {
     "data": {
      "text/html": [
       "<div>\n",
       "<style scoped>\n",
       "    .dataframe tbody tr th:only-of-type {\n",
       "        vertical-align: middle;\n",
       "    }\n",
       "\n",
       "    .dataframe tbody tr th {\n",
       "        vertical-align: top;\n",
       "    }\n",
       "\n",
       "    .dataframe thead th {\n",
       "        text-align: right;\n",
       "    }\n",
       "</style>\n",
       "<table border=\"1\" class=\"dataframe\">\n",
       "  <thead>\n",
       "    <tr style=\"text-align: right;\">\n",
       "      <th></th>\n",
       "      <th>count</th>\n",
       "    </tr>\n",
       "    <tr>\n",
       "      <th>District</th>\n",
       "      <th></th>\n",
       "    </tr>\n",
       "  </thead>\n",
       "  <tbody>\n",
       "    <tr>\n",
       "      <th>NEISD</th>\n",
       "      <td>823</td>\n",
       "    </tr>\n",
       "    <tr>\n",
       "      <th>SAISD</th>\n",
       "      <td>674</td>\n",
       "    </tr>\n",
       "    <tr>\n",
       "      <th>NISD</th>\n",
       "      <td>373</td>\n",
       "    </tr>\n",
       "    <tr>\n",
       "      <th>Charter</th>\n",
       "      <td>237</td>\n",
       "    </tr>\n",
       "    <tr>\n",
       "      <th>South San ISD</th>\n",
       "      <td>96</td>\n",
       "    </tr>\n",
       "    <tr>\n",
       "      <th>Unknown</th>\n",
       "      <td>85</td>\n",
       "    </tr>\n",
       "    <tr>\n",
       "      <th>Private</th>\n",
       "      <td>84</td>\n",
       "    </tr>\n",
       "    <tr>\n",
       "      <th>Homeschool</th>\n",
       "      <td>62</td>\n",
       "    </tr>\n",
       "    <tr>\n",
       "      <th>Judson ISD</th>\n",
       "      <td>28</td>\n",
       "    </tr>\n",
       "    <tr>\n",
       "      <th>Edgewood ISD</th>\n",
       "      <td>19</td>\n",
       "    </tr>\n",
       "    <tr>\n",
       "      <th>SCUC ISD</th>\n",
       "      <td>15</td>\n",
       "    </tr>\n",
       "    <tr>\n",
       "      <th>Comal ISD</th>\n",
       "      <td>13</td>\n",
       "    </tr>\n",
       "    <tr>\n",
       "      <th>Out of State</th>\n",
       "      <td>13</td>\n",
       "    </tr>\n",
       "    <tr>\n",
       "      <th>Southwest ISD</th>\n",
       "      <td>11</td>\n",
       "    </tr>\n",
       "    <tr>\n",
       "      <th>Southside ISD</th>\n",
       "      <td>11</td>\n",
       "    </tr>\n",
       "    <tr>\n",
       "      <th>Alamo Heights ISD</th>\n",
       "      <td>10</td>\n",
       "    </tr>\n",
       "    <tr>\n",
       "      <th>East Central ISD</th>\n",
       "      <td>9</td>\n",
       "    </tr>\n",
       "    <tr>\n",
       "      <th>Somerset ISD</th>\n",
       "      <td>8</td>\n",
       "    </tr>\n",
       "    <tr>\n",
       "      <th>Harlandale ISD</th>\n",
       "      <td>8</td>\n",
       "    </tr>\n",
       "    <tr>\n",
       "      <th>Boerne ISD</th>\n",
       "      <td>6</td>\n",
       "    </tr>\n",
       "    <tr>\n",
       "      <th>Out of Area</th>\n",
       "      <td>5</td>\n",
       "    </tr>\n",
       "    <tr>\n",
       "      <th>Medina Valley ISD</th>\n",
       "      <td>4</td>\n",
       "    </tr>\n",
       "    <tr>\n",
       "      <th>Randolph Field ISD</th>\n",
       "      <td>2</td>\n",
       "    </tr>\n",
       "    <tr>\n",
       "      <th>Poteet ISD</th>\n",
       "      <td>2</td>\n",
       "    </tr>\n",
       "    <tr>\n",
       "      <th>Jourdanton ISD</th>\n",
       "      <td>2</td>\n",
       "    </tr>\n",
       "    <tr>\n",
       "      <th>SWISD</th>\n",
       "      <td>1</td>\n",
       "    </tr>\n",
       "    <tr>\n",
       "      <th>Floresville ISD</th>\n",
       "      <td>1</td>\n",
       "    </tr>\n",
       "    <tr>\n",
       "      <th>Fredericksburg ISD</th>\n",
       "      <td>1</td>\n",
       "    </tr>\n",
       "    <tr>\n",
       "      <th>Austin ISD</th>\n",
       "      <td>1</td>\n",
       "    </tr>\n",
       "    <tr>\n",
       "      <th>Ft Sam Houston ISD</th>\n",
       "      <td>1</td>\n",
       "    </tr>\n",
       "    <tr>\n",
       "      <th>Navarro ISD</th>\n",
       "      <td>1</td>\n",
       "    </tr>\n",
       "    <tr>\n",
       "      <th>Comfort ISD</th>\n",
       "      <td>1</td>\n",
       "    </tr>\n",
       "    <tr>\n",
       "      <th>New Braunfels ISD</th>\n",
       "      <td>1</td>\n",
       "    </tr>\n",
       "    <tr>\n",
       "      <th>Online</th>\n",
       "      <td>1</td>\n",
       "    </tr>\n",
       "  </tbody>\n",
       "</table>\n",
       "</div>"
      ],
      "text/plain": [
       "                    count\n",
       "District                 \n",
       "NEISD                 823\n",
       "SAISD                 674\n",
       "NISD                  373\n",
       "Charter               237\n",
       "South San ISD          96\n",
       "Unknown                85\n",
       "Private                84\n",
       "Homeschool             62\n",
       "Judson ISD             28\n",
       "Edgewood ISD           19\n",
       "SCUC ISD               15\n",
       "Comal ISD              13\n",
       "Out of State           13\n",
       "Southwest ISD          11\n",
       "Southside ISD          11\n",
       "Alamo Heights ISD      10\n",
       "East Central ISD        9\n",
       "Somerset ISD            8\n",
       "Harlandale ISD          8\n",
       "Boerne ISD              6\n",
       "Out of Area             5\n",
       "Medina Valley ISD       4\n",
       "Randolph Field ISD      2\n",
       "Poteet ISD              2\n",
       "Jourdanton ISD          2\n",
       "SWISD                   1\n",
       "Floresville ISD         1\n",
       "Fredericksburg ISD      1\n",
       "Austin ISD              1\n",
       "Ft Sam Houston ISD      1\n",
       "Navarro ISD             1\n",
       "Comfort ISD             1\n",
       "New Braunfels ISD       1\n",
       "Online                  1"
      ]
     },
     "execution_count": 31,
     "metadata": {},
     "output_type": "execute_result"
    }
   ],
   "source": [
    "pd.DataFrame(clients[['District']].value_counts().sort_values(ascending=False))"
   ]
  },
  {
   "cell_type": "code",
   "execution_count": null,
   "id": "c965b516",
   "metadata": {},
   "outputs": [
    {
     "data": {
      "text/html": [
       "<div>\n",
       "<style scoped>\n",
       "    .dataframe tbody tr th:only-of-type {\n",
       "        vertical-align: middle;\n",
       "    }\n",
       "\n",
       "    .dataframe tbody tr th {\n",
       "        vertical-align: top;\n",
       "    }\n",
       "\n",
       "    .dataframe thead th {\n",
       "        text-align: right;\n",
       "    }\n",
       "</style>\n",
       "<table border=\"1\" class=\"dataframe\">\n",
       "  <thead>\n",
       "    <tr style=\"text-align: right;\">\n",
       "      <th></th>\n",
       "      <th>count</th>\n",
       "    </tr>\n",
       "    <tr>\n",
       "      <th>Age at Sign Up</th>\n",
       "      <th></th>\n",
       "    </tr>\n",
       "  </thead>\n",
       "  <tbody>\n",
       "    <tr>\n",
       "      <th>9</th>\n",
       "      <td>2</td>\n",
       "    </tr>\n",
       "    <tr>\n",
       "      <th>10</th>\n",
       "      <td>1</td>\n",
       "    </tr>\n",
       "    <tr>\n",
       "      <th>11</th>\n",
       "      <td>21</td>\n",
       "    </tr>\n",
       "    <tr>\n",
       "      <th>12</th>\n",
       "      <td>55</td>\n",
       "    </tr>\n",
       "    <tr>\n",
       "      <th>13</th>\n",
       "      <td>73</td>\n",
       "    </tr>\n",
       "    <tr>\n",
       "      <th>14</th>\n",
       "      <td>144</td>\n",
       "    </tr>\n",
       "    <tr>\n",
       "      <th>15</th>\n",
       "      <td>168</td>\n",
       "    </tr>\n",
       "    <tr>\n",
       "      <th>16</th>\n",
       "      <td>180</td>\n",
       "    </tr>\n",
       "    <tr>\n",
       "      <th>17</th>\n",
       "      <td>75</td>\n",
       "    </tr>\n",
       "    <tr>\n",
       "      <th>18</th>\n",
       "      <td>8</td>\n",
       "    </tr>\n",
       "    <tr>\n",
       "      <th>19</th>\n",
       "      <td>7</td>\n",
       "    </tr>\n",
       "    <tr>\n",
       "      <th>20</th>\n",
       "      <td>1</td>\n",
       "    </tr>\n",
       "  </tbody>\n",
       "</table>\n",
       "</div>"
      ],
      "text/plain": [
       "                count\n",
       "Age at Sign Up       \n",
       "9                   2\n",
       "10                  1\n",
       "11                 21\n",
       "12                 55\n",
       "13                 73\n",
       "14                144\n",
       "15                168\n",
       "16                180\n",
       "17                 75\n",
       "18                  8\n",
       "19                  7\n",
       "20                  1"
      ]
     },
     "execution_count": 32,
     "metadata": {},
     "output_type": "execute_result"
    }
   ],
   "source": [
    "pd.DataFrame(clients[clients['Follow Through']==1]['Age at Sign Up'].value_counts().sort_index())"
   ]
  },
  {
   "cell_type": "markdown",
   "id": "327f9091",
   "metadata": {},
   "source": [
    "### Monetary Value of Volunteered Hours"
   ]
  },
  {
   "cell_type": "code",
   "execution_count": null,
   "id": "8546ad16",
   "metadata": {},
   "outputs": [
    {
     "name": "stdout",
     "output_type": "stream",
     "text": [
      "$252,447.26\n"
     ]
    }
   ],
   "source": [
    "#Get value of hours using 31 dollars per hour then format in dollar format\n",
    "def get_hours_value():\n",
    "    hourly_rate=31\n",
    "    return '{:,.2f}'.format(clients['Hours'].sum()*31)\n",
    "\n",
    "print(f'${get_hours_value()}')"
   ]
  },
  {
   "cell_type": "markdown",
   "id": "c9feef20",
   "metadata": {},
   "source": [
    "## Clients Data Exploration"
   ]
  },
  {
   "cell_type": "code",
   "execution_count": null,
   "id": "37b75d04",
   "metadata": {},
   "outputs": [
    {
     "data": {
      "text/plain": [
       "139"
      ]
     },
     "execution_count": 34,
     "metadata": {},
     "output_type": "execute_result"
    }
   ],
   "source": [
    "#Display Clients Data\n",
    "len(clients['Zip Code'].unique())"
   ]
  },
  {
   "cell_type": "code",
   "execution_count": null,
   "id": "36792c88",
   "metadata": {},
   "outputs": [
    {
     "data": {
      "text/html": [
       "<div>\n",
       "<style scoped>\n",
       "    .dataframe tbody tr th:only-of-type {\n",
       "        vertical-align: middle;\n",
       "    }\n",
       "\n",
       "    .dataframe tbody tr th {\n",
       "        vertical-align: top;\n",
       "    }\n",
       "\n",
       "    .dataframe thead th {\n",
       "        text-align: right;\n",
       "    }\n",
       "</style>\n",
       "<table border=\"1\" class=\"dataframe\">\n",
       "  <thead>\n",
       "    <tr style=\"text-align: right;\">\n",
       "      <th></th>\n",
       "      <th>SOS ID</th>\n",
       "      <th>Galaxy ID</th>\n",
       "      <th>Street Address</th>\n",
       "      <th>City</th>\n",
       "      <th>State</th>\n",
       "      <th>Zip Code</th>\n",
       "      <th>Date of Birth</th>\n",
       "      <th>dateAdded</th>\n",
       "      <th>Age at Sign Up</th>\n",
       "      <th>Age Now</th>\n",
       "      <th>HS Graduation Year</th>\n",
       "      <th>School</th>\n",
       "      <th>District</th>\n",
       "      <th>Race/Ethnicity</th>\n",
       "      <th>Gender</th>\n",
       "      <th>Last Login</th>\n",
       "      <th>Responses</th>\n",
       "      <th>Hours</th>\n",
       "      <th>Student ID</th>\n",
       "      <th>Learn Participation 2022</th>\n",
       "      <th>Explore Participation</th>\n",
       "      <th>Make It Happen Badge (Yes/No)</th>\n",
       "      <th>Trip Eligible (Yes/No)</th>\n",
       "      <th>Scholarship Badge (Yes/No)</th>\n",
       "      <th>Collected Hours</th>\n",
       "      <th>Earliest Service</th>\n",
       "      <th>Latest Service</th>\n",
       "      <th>Service Count</th>\n",
       "      <th>Service Range</th>\n",
       "      <th>Follow Through</th>\n",
       "      <th>County</th>\n",
       "      <th>Median Family Income</th>\n",
       "      <th>Income Range (Thousands)</th>\n",
       "    </tr>\n",
       "  </thead>\n",
       "  <tbody>\n",
       "    <tr>\n",
       "      <th>count</th>\n",
       "      <td>2672</td>\n",
       "      <td>2.672000e+03</td>\n",
       "      <td>2671</td>\n",
       "      <td>2672</td>\n",
       "      <td>2672</td>\n",
       "      <td>2672.000000</td>\n",
       "      <td>2672</td>\n",
       "      <td>2672</td>\n",
       "      <td>2672.000000</td>\n",
       "      <td>2663.0</td>\n",
       "      <td>2671.0</td>\n",
       "      <td>2660</td>\n",
       "      <td>2609</td>\n",
       "      <td>2672</td>\n",
       "      <td>2672</td>\n",
       "      <td>2672</td>\n",
       "      <td>2672.000000</td>\n",
       "      <td>2672.000000</td>\n",
       "      <td>2670</td>\n",
       "      <td>2200.000000</td>\n",
       "      <td>2200.000000</td>\n",
       "      <td>2200.000000</td>\n",
       "      <td>2200.000000</td>\n",
       "      <td>2200.000000</td>\n",
       "      <td>735.000000</td>\n",
       "      <td>735</td>\n",
       "      <td>735</td>\n",
       "      <td>735.000000</td>\n",
       "      <td>735</td>\n",
       "      <td>2672.000000</td>\n",
       "      <td>2627</td>\n",
       "      <td>2627.0</td>\n",
       "      <td>2627</td>\n",
       "    </tr>\n",
       "    <tr>\n",
       "      <th>unique</th>\n",
       "      <td>2283</td>\n",
       "      <td>NaN</td>\n",
       "      <td>2573</td>\n",
       "      <td>149</td>\n",
       "      <td>11</td>\n",
       "      <td>NaN</td>\n",
       "      <td>1777</td>\n",
       "      <td>NaN</td>\n",
       "      <td>NaN</td>\n",
       "      <td>24.0</td>\n",
       "      <td>28.0</td>\n",
       "      <td>298</td>\n",
       "      <td>34</td>\n",
       "      <td>10</td>\n",
       "      <td>4</td>\n",
       "      <td>757</td>\n",
       "      <td>NaN</td>\n",
       "      <td>NaN</td>\n",
       "      <td>1938</td>\n",
       "      <td>NaN</td>\n",
       "      <td>NaN</td>\n",
       "      <td>NaN</td>\n",
       "      <td>NaN</td>\n",
       "      <td>NaN</td>\n",
       "      <td>NaN</td>\n",
       "      <td>NaN</td>\n",
       "      <td>NaN</td>\n",
       "      <td>NaN</td>\n",
       "      <td>NaN</td>\n",
       "      <td>NaN</td>\n",
       "      <td>8</td>\n",
       "      <td>&lt;NA&gt;</td>\n",
       "      <td>14</td>\n",
       "    </tr>\n",
       "    <tr>\n",
       "      <th>top</th>\n",
       "      <td>S02646</td>\n",
       "      <td>NaN</td>\n",
       "      <td>18979 Redland Rd</td>\n",
       "      <td>San Antonio</td>\n",
       "      <td>TX</td>\n",
       "      <td>NaN</td>\n",
       "      <td>2007-10-02 00:00:00</td>\n",
       "      <td>NaN</td>\n",
       "      <td>NaN</td>\n",
       "      <td>17.0</td>\n",
       "      <td>0.0</td>\n",
       "      <td>Claudia Taylor \"Lady Bird\" Johnson High School</td>\n",
       "      <td>NEISD</td>\n",
       "      <td>Unknown</td>\n",
       "      <td>Female</td>\n",
       "      <td>Never</td>\n",
       "      <td>NaN</td>\n",
       "      <td>NaN</td>\n",
       "      <td>Unknown</td>\n",
       "      <td>NaN</td>\n",
       "      <td>NaN</td>\n",
       "      <td>NaN</td>\n",
       "      <td>NaN</td>\n",
       "      <td>NaN</td>\n",
       "      <td>NaN</td>\n",
       "      <td>NaN</td>\n",
       "      <td>NaN</td>\n",
       "      <td>NaN</td>\n",
       "      <td>NaN</td>\n",
       "      <td>NaN</td>\n",
       "      <td>Bexar</td>\n",
       "      <td>&lt;NA&gt;</td>\n",
       "      <td>50 - 59</td>\n",
       "    </tr>\n",
       "    <tr>\n",
       "      <th>freq</th>\n",
       "      <td>2</td>\n",
       "      <td>NaN</td>\n",
       "      <td>5</td>\n",
       "      <td>2077</td>\n",
       "      <td>2657</td>\n",
       "      <td>NaN</td>\n",
       "      <td>6</td>\n",
       "      <td>NaN</td>\n",
       "      <td>NaN</td>\n",
       "      <td>443.0</td>\n",
       "      <td>1170.0</td>\n",
       "      <td>382</td>\n",
       "      <td>823</td>\n",
       "      <td>1061</td>\n",
       "      <td>1637</td>\n",
       "      <td>1148</td>\n",
       "      <td>NaN</td>\n",
       "      <td>NaN</td>\n",
       "      <td>710</td>\n",
       "      <td>NaN</td>\n",
       "      <td>NaN</td>\n",
       "      <td>NaN</td>\n",
       "      <td>NaN</td>\n",
       "      <td>NaN</td>\n",
       "      <td>NaN</td>\n",
       "      <td>NaN</td>\n",
       "      <td>NaN</td>\n",
       "      <td>NaN</td>\n",
       "      <td>NaN</td>\n",
       "      <td>NaN</td>\n",
       "      <td>2518</td>\n",
       "      <td>&lt;NA&gt;</td>\n",
       "      <td>509</td>\n",
       "    </tr>\n",
       "    <tr>\n",
       "      <th>mean</th>\n",
       "      <td>NaN</td>\n",
       "      <td>5.944669e+06</td>\n",
       "      <td>NaN</td>\n",
       "      <td>NaN</td>\n",
       "      <td>NaN</td>\n",
       "      <td>78069.163548</td>\n",
       "      <td>NaN</td>\n",
       "      <td>2023-02-01 09:53:21.197604608</td>\n",
       "      <td>15.215195</td>\n",
       "      <td>NaN</td>\n",
       "      <td>NaN</td>\n",
       "      <td>NaN</td>\n",
       "      <td>NaN</td>\n",
       "      <td>NaN</td>\n",
       "      <td>NaN</td>\n",
       "      <td>NaN</td>\n",
       "      <td>1.993638</td>\n",
       "      <td>3.047702</td>\n",
       "      <td>NaN</td>\n",
       "      <td>0.015455</td>\n",
       "      <td>0.028182</td>\n",
       "      <td>0.084545</td>\n",
       "      <td>0.060909</td>\n",
       "      <td>0.042273</td>\n",
       "      <td>11.126299</td>\n",
       "      <td>2023-05-06 22:24:00.000000256</td>\n",
       "      <td>2023-08-23 11:59:01.224489728</td>\n",
       "      <td>3.640816</td>\n",
       "      <td>108 days 13:35:01.224489796</td>\n",
       "      <td>0.275075</td>\n",
       "      <td>NaN</td>\n",
       "      <td>81719.002284</td>\n",
       "      <td>NaN</td>\n",
       "    </tr>\n",
       "    <tr>\n",
       "      <th>min</th>\n",
       "      <td>NaN</td>\n",
       "      <td>3.097127e+06</td>\n",
       "      <td>NaN</td>\n",
       "      <td>NaN</td>\n",
       "      <td>NaN</td>\n",
       "      <td>11434.000000</td>\n",
       "      <td>NaN</td>\n",
       "      <td>2020-01-06 00:00:00</td>\n",
       "      <td>9.000000</td>\n",
       "      <td>NaN</td>\n",
       "      <td>NaN</td>\n",
       "      <td>NaN</td>\n",
       "      <td>NaN</td>\n",
       "      <td>NaN</td>\n",
       "      <td>NaN</td>\n",
       "      <td>NaN</td>\n",
       "      <td>0.000000</td>\n",
       "      <td>0.000000</td>\n",
       "      <td>NaN</td>\n",
       "      <td>0.000000</td>\n",
       "      <td>0.000000</td>\n",
       "      <td>0.000000</td>\n",
       "      <td>0.000000</td>\n",
       "      <td>0.000000</td>\n",
       "      <td>0.400000</td>\n",
       "      <td>2020-01-11 00:00:00</td>\n",
       "      <td>2020-01-11 00:00:00</td>\n",
       "      <td>1.000000</td>\n",
       "      <td>0 days 00:00:00</td>\n",
       "      <td>0.000000</td>\n",
       "      <td>NaN</td>\n",
       "      <td>23194.0</td>\n",
       "      <td>NaN</td>\n",
       "    </tr>\n",
       "    <tr>\n",
       "      <th>25%</th>\n",
       "      <td>NaN</td>\n",
       "      <td>4.684171e+06</td>\n",
       "      <td>NaN</td>\n",
       "      <td>NaN</td>\n",
       "      <td>NaN</td>\n",
       "      <td>78215.750000</td>\n",
       "      <td>NaN</td>\n",
       "      <td>2021-11-02 00:00:00</td>\n",
       "      <td>14.000000</td>\n",
       "      <td>NaN</td>\n",
       "      <td>NaN</td>\n",
       "      <td>NaN</td>\n",
       "      <td>NaN</td>\n",
       "      <td>NaN</td>\n",
       "      <td>NaN</td>\n",
       "      <td>NaN</td>\n",
       "      <td>0.000000</td>\n",
       "      <td>0.000000</td>\n",
       "      <td>NaN</td>\n",
       "      <td>0.000000</td>\n",
       "      <td>0.000000</td>\n",
       "      <td>0.000000</td>\n",
       "      <td>0.000000</td>\n",
       "      <td>0.000000</td>\n",
       "      <td>2.000000</td>\n",
       "      <td>2022-01-30 00:00:00</td>\n",
       "      <td>2022-10-11 12:00:00</td>\n",
       "      <td>1.000000</td>\n",
       "      <td>0 days 00:00:00</td>\n",
       "      <td>0.000000</td>\n",
       "      <td>NaN</td>\n",
       "      <td>54279.0</td>\n",
       "      <td>NaN</td>\n",
       "    </tr>\n",
       "    <tr>\n",
       "      <th>50%</th>\n",
       "      <td>NaN</td>\n",
       "      <td>6.140788e+06</td>\n",
       "      <td>NaN</td>\n",
       "      <td>NaN</td>\n",
       "      <td>NaN</td>\n",
       "      <td>78233.000000</td>\n",
       "      <td>NaN</td>\n",
       "      <td>2023-05-09 00:00:00</td>\n",
       "      <td>15.000000</td>\n",
       "      <td>NaN</td>\n",
       "      <td>NaN</td>\n",
       "      <td>NaN</td>\n",
       "      <td>NaN</td>\n",
       "      <td>NaN</td>\n",
       "      <td>NaN</td>\n",
       "      <td>NaN</td>\n",
       "      <td>0.000000</td>\n",
       "      <td>0.000000</td>\n",
       "      <td>NaN</td>\n",
       "      <td>0.000000</td>\n",
       "      <td>0.000000</td>\n",
       "      <td>0.000000</td>\n",
       "      <td>0.000000</td>\n",
       "      <td>0.000000</td>\n",
       "      <td>4.000000</td>\n",
       "      <td>2023-11-30 00:00:00</td>\n",
       "      <td>2023-11-30 00:00:00</td>\n",
       "      <td>2.000000</td>\n",
       "      <td>6 days 00:00:00</td>\n",
       "      <td>0.000000</td>\n",
       "      <td>NaN</td>\n",
       "      <td>78025.0</td>\n",
       "      <td>NaN</td>\n",
       "    </tr>\n",
       "    <tr>\n",
       "      <th>75%</th>\n",
       "      <td>NaN</td>\n",
       "      <td>7.257327e+06</td>\n",
       "      <td>NaN</td>\n",
       "      <td>NaN</td>\n",
       "      <td>NaN</td>\n",
       "      <td>78254.000000</td>\n",
       "      <td>NaN</td>\n",
       "      <td>2024-06-13 00:00:00</td>\n",
       "      <td>16.000000</td>\n",
       "      <td>NaN</td>\n",
       "      <td>NaN</td>\n",
       "      <td>NaN</td>\n",
       "      <td>NaN</td>\n",
       "      <td>NaN</td>\n",
       "      <td>NaN</td>\n",
       "      <td>NaN</td>\n",
       "      <td>1.000000</td>\n",
       "      <td>1.000000</td>\n",
       "      <td>NaN</td>\n",
       "      <td>0.000000</td>\n",
       "      <td>0.000000</td>\n",
       "      <td>0.000000</td>\n",
       "      <td>0.000000</td>\n",
       "      <td>0.000000</td>\n",
       "      <td>11.500000</td>\n",
       "      <td>2024-07-01 00:00:00</td>\n",
       "      <td>2024-11-01 00:00:00</td>\n",
       "      <td>4.000000</td>\n",
       "      <td>125 days 00:00:00</td>\n",
       "      <td>1.000000</td>\n",
       "      <td>NaN</td>\n",
       "      <td>109429.0</td>\n",
       "      <td>NaN</td>\n",
       "    </tr>\n",
       "    <tr>\n",
       "      <th>max</th>\n",
       "      <td>NaN</td>\n",
       "      <td>8.220827e+06</td>\n",
       "      <td>NaN</td>\n",
       "      <td>NaN</td>\n",
       "      <td>NaN</td>\n",
       "      <td>95051.000000</td>\n",
       "      <td>NaN</td>\n",
       "      <td>2025-03-27 00:00:00</td>\n",
       "      <td>20.000000</td>\n",
       "      <td>NaN</td>\n",
       "      <td>NaN</td>\n",
       "      <td>NaN</td>\n",
       "      <td>NaN</td>\n",
       "      <td>NaN</td>\n",
       "      <td>NaN</td>\n",
       "      <td>NaN</td>\n",
       "      <td>115.000000</td>\n",
       "      <td>184.750000</td>\n",
       "      <td>NaN</td>\n",
       "      <td>1.000000</td>\n",
       "      <td>1.000000</td>\n",
       "      <td>1.000000</td>\n",
       "      <td>1.000000</td>\n",
       "      <td>1.000000</td>\n",
       "      <td>184.750000</td>\n",
       "      <td>2025-03-08 00:00:00</td>\n",
       "      <td>2025-03-22 00:00:00</td>\n",
       "      <td>50.000000</td>\n",
       "      <td>1739 days 00:00:00</td>\n",
       "      <td>1.000000</td>\n",
       "      <td>NaN</td>\n",
       "      <td>155488.0</td>\n",
       "      <td>NaN</td>\n",
       "    </tr>\n",
       "    <tr>\n",
       "      <th>std</th>\n",
       "      <td>NaN</td>\n",
       "      <td>1.505145e+06</td>\n",
       "      <td>NaN</td>\n",
       "      <td>NaN</td>\n",
       "      <td>NaN</td>\n",
       "      <td>3151.252829</td>\n",
       "      <td>NaN</td>\n",
       "      <td>NaN</td>\n",
       "      <td>1.690733</td>\n",
       "      <td>NaN</td>\n",
       "      <td>NaN</td>\n",
       "      <td>NaN</td>\n",
       "      <td>NaN</td>\n",
       "      <td>NaN</td>\n",
       "      <td>NaN</td>\n",
       "      <td>NaN</td>\n",
       "      <td>6.641059</td>\n",
       "      <td>11.711409</td>\n",
       "      <td>NaN</td>\n",
       "      <td>0.123380</td>\n",
       "      <td>0.165530</td>\n",
       "      <td>0.278267</td>\n",
       "      <td>0.239218</td>\n",
       "      <td>0.201256</td>\n",
       "      <td>20.265402</td>\n",
       "      <td>NaN</td>\n",
       "      <td>NaN</td>\n",
       "      <td>5.798287</td>\n",
       "      <td>213 days 10:17:09.758520224</td>\n",
       "      <td>0.446636</td>\n",
       "      <td>NaN</td>\n",
       "      <td>32387.609788</td>\n",
       "      <td>NaN</td>\n",
       "    </tr>\n",
       "  </tbody>\n",
       "</table>\n",
       "</div>"
      ],
      "text/plain": [
       "        SOS ID     Galaxy ID    Street Address         City State  \\\n",
       "count     2672  2.672000e+03              2671         2672  2672   \n",
       "unique    2283           NaN              2573          149    11   \n",
       "top     S02646           NaN  18979 Redland Rd  San Antonio    TX   \n",
       "freq         2           NaN                 5         2077  2657   \n",
       "mean       NaN  5.944669e+06               NaN          NaN   NaN   \n",
       "min        NaN  3.097127e+06               NaN          NaN   NaN   \n",
       "25%        NaN  4.684171e+06               NaN          NaN   NaN   \n",
       "50%        NaN  6.140788e+06               NaN          NaN   NaN   \n",
       "75%        NaN  7.257327e+06               NaN          NaN   NaN   \n",
       "max        NaN  8.220827e+06               NaN          NaN   NaN   \n",
       "std        NaN  1.505145e+06               NaN          NaN   NaN   \n",
       "\n",
       "            Zip Code        Date of Birth                      dateAdded  \\\n",
       "count    2672.000000                 2672                           2672   \n",
       "unique           NaN                 1777                            NaN   \n",
       "top              NaN  2007-10-02 00:00:00                            NaN   \n",
       "freq             NaN                    6                            NaN   \n",
       "mean    78069.163548                  NaN  2023-02-01 09:53:21.197604608   \n",
       "min     11434.000000                  NaN            2020-01-06 00:00:00   \n",
       "25%     78215.750000                  NaN            2021-11-02 00:00:00   \n",
       "50%     78233.000000                  NaN            2023-05-09 00:00:00   \n",
       "75%     78254.000000                  NaN            2024-06-13 00:00:00   \n",
       "max     95051.000000                  NaN            2025-03-27 00:00:00   \n",
       "std      3151.252829                  NaN                            NaN   \n",
       "\n",
       "        Age at Sign Up  Age Now  HS Graduation Year  \\\n",
       "count      2672.000000   2663.0              2671.0   \n",
       "unique             NaN     24.0                28.0   \n",
       "top                NaN     17.0                 0.0   \n",
       "freq               NaN    443.0              1170.0   \n",
       "mean         15.215195      NaN                 NaN   \n",
       "min           9.000000      NaN                 NaN   \n",
       "25%          14.000000      NaN                 NaN   \n",
       "50%          15.000000      NaN                 NaN   \n",
       "75%          16.000000      NaN                 NaN   \n",
       "max          20.000000      NaN                 NaN   \n",
       "std           1.690733      NaN                 NaN   \n",
       "\n",
       "                                                School District  \\\n",
       "count                                             2660     2609   \n",
       "unique                                             298       34   \n",
       "top     Claudia Taylor \"Lady Bird\" Johnson High School    NEISD   \n",
       "freq                                               382      823   \n",
       "mean                                               NaN      NaN   \n",
       "min                                                NaN      NaN   \n",
       "25%                                                NaN      NaN   \n",
       "50%                                                NaN      NaN   \n",
       "75%                                                NaN      NaN   \n",
       "max                                                NaN      NaN   \n",
       "std                                                NaN      NaN   \n",
       "\n",
       "       Race/Ethnicity  Gender Last Login    Responses        Hours Student ID  \\\n",
       "count            2672    2672       2672  2672.000000  2672.000000       2670   \n",
       "unique             10       4        757          NaN          NaN       1938   \n",
       "top           Unknown  Female      Never          NaN          NaN    Unknown   \n",
       "freq             1061    1637       1148          NaN          NaN        710   \n",
       "mean              NaN     NaN        NaN     1.993638     3.047702        NaN   \n",
       "min               NaN     NaN        NaN     0.000000     0.000000        NaN   \n",
       "25%               NaN     NaN        NaN     0.000000     0.000000        NaN   \n",
       "50%               NaN     NaN        NaN     0.000000     0.000000        NaN   \n",
       "75%               NaN     NaN        NaN     1.000000     1.000000        NaN   \n",
       "max               NaN     NaN        NaN   115.000000   184.750000        NaN   \n",
       "std               NaN     NaN        NaN     6.641059    11.711409        NaN   \n",
       "\n",
       "        Learn Participation 2022  Explore Participation  \\\n",
       "count                2200.000000            2200.000000   \n",
       "unique                       NaN                    NaN   \n",
       "top                          NaN                    NaN   \n",
       "freq                         NaN                    NaN   \n",
       "mean                    0.015455               0.028182   \n",
       "min                     0.000000               0.000000   \n",
       "25%                     0.000000               0.000000   \n",
       "50%                     0.000000               0.000000   \n",
       "75%                     0.000000               0.000000   \n",
       "max                     1.000000               1.000000   \n",
       "std                     0.123380               0.165530   \n",
       "\n",
       "        Make It Happen Badge (Yes/No)  Trip Eligible (Yes/No)  \\\n",
       "count                     2200.000000             2200.000000   \n",
       "unique                            NaN                     NaN   \n",
       "top                               NaN                     NaN   \n",
       "freq                              NaN                     NaN   \n",
       "mean                         0.084545                0.060909   \n",
       "min                          0.000000                0.000000   \n",
       "25%                          0.000000                0.000000   \n",
       "50%                          0.000000                0.000000   \n",
       "75%                          0.000000                0.000000   \n",
       "max                          1.000000                1.000000   \n",
       "std                          0.278267                0.239218   \n",
       "\n",
       "        Scholarship Badge (Yes/No)  Collected Hours  \\\n",
       "count                  2200.000000       735.000000   \n",
       "unique                         NaN              NaN   \n",
       "top                            NaN              NaN   \n",
       "freq                           NaN              NaN   \n",
       "mean                      0.042273        11.126299   \n",
       "min                       0.000000         0.400000   \n",
       "25%                       0.000000         2.000000   \n",
       "50%                       0.000000         4.000000   \n",
       "75%                       0.000000        11.500000   \n",
       "max                       1.000000       184.750000   \n",
       "std                       0.201256        20.265402   \n",
       "\n",
       "                     Earliest Service                 Latest Service  \\\n",
       "count                             735                            735   \n",
       "unique                            NaN                            NaN   \n",
       "top                               NaN                            NaN   \n",
       "freq                              NaN                            NaN   \n",
       "mean    2023-05-06 22:24:00.000000256  2023-08-23 11:59:01.224489728   \n",
       "min               2020-01-11 00:00:00            2020-01-11 00:00:00   \n",
       "25%               2022-01-30 00:00:00            2022-10-11 12:00:00   \n",
       "50%               2023-11-30 00:00:00            2023-11-30 00:00:00   \n",
       "75%               2024-07-01 00:00:00            2024-11-01 00:00:00   \n",
       "max               2025-03-08 00:00:00            2025-03-22 00:00:00   \n",
       "std                               NaN                            NaN   \n",
       "\n",
       "        Service Count                Service Range  Follow Through County  \\\n",
       "count      735.000000                          735     2672.000000   2627   \n",
       "unique            NaN                          NaN             NaN      8   \n",
       "top               NaN                          NaN             NaN  Bexar   \n",
       "freq              NaN                          NaN             NaN   2518   \n",
       "mean         3.640816  108 days 13:35:01.224489796        0.275075    NaN   \n",
       "min          1.000000              0 days 00:00:00        0.000000    NaN   \n",
       "25%          1.000000              0 days 00:00:00        0.000000    NaN   \n",
       "50%          2.000000              6 days 00:00:00        0.000000    NaN   \n",
       "75%          4.000000            125 days 00:00:00        1.000000    NaN   \n",
       "max         50.000000           1739 days 00:00:00        1.000000    NaN   \n",
       "std          5.798287  213 days 10:17:09.758520224        0.446636    NaN   \n",
       "\n",
       "        Median Family Income Income Range (Thousands)  \n",
       "count                 2627.0                     2627  \n",
       "unique                  <NA>                       14  \n",
       "top                     <NA>                  50 - 59  \n",
       "freq                    <NA>                      509  \n",
       "mean            81719.002284                      NaN  \n",
       "min                  23194.0                      NaN  \n",
       "25%                  54279.0                      NaN  \n",
       "50%                  78025.0                      NaN  \n",
       "75%                 109429.0                      NaN  \n",
       "max                 155488.0                      NaN  \n",
       "std             32387.609788                      NaN  "
      ]
     },
     "execution_count": 35,
     "metadata": {},
     "output_type": "execute_result"
    }
   ],
   "source": [
    "clients.describe(include='all')"
   ]
  },
  {
   "cell_type": "code",
   "execution_count": null,
   "id": "dac9a5a1",
   "metadata": {},
   "outputs": [
    {
     "data": {
      "text/plain": [
       "SOS ID                              0\n",
       "Galaxy ID                           0\n",
       "Street Address                      1\n",
       "City                                0\n",
       "State                               0\n",
       "Zip Code                            0\n",
       "Date of Birth                       0\n",
       "dateAdded                           0\n",
       "Age at Sign Up                      0\n",
       "Age Now                             9\n",
       "HS Graduation Year                  1\n",
       "School                             12\n",
       "District                           63\n",
       "Race/Ethnicity                      0\n",
       "Gender                              0\n",
       "Last Login                          0\n",
       "Responses                           0\n",
       "Hours                               0\n",
       "Student ID                          2\n",
       "Learn Participation 2022          472\n",
       "Explore Participation             472\n",
       "Make It Happen Badge (Yes/No)     472\n",
       "Trip Eligible (Yes/No)            472\n",
       "Scholarship Badge (Yes/No)        472\n",
       "Collected Hours                  1937\n",
       "Earliest Service                 1937\n",
       "Latest Service                   1937\n",
       "Service Count                    1937\n",
       "Service Range                    1937\n",
       "Follow Through                      0\n",
       "County                             45\n",
       "Median Family Income               45\n",
       "Income Range (Thousands)           45\n",
       "dtype: int64"
      ]
     },
     "execution_count": 36,
     "metadata": {},
     "output_type": "execute_result"
    }
   ],
   "source": [
    "clients.isna().sum()"
   ]
  },
  {
   "cell_type": "code",
   "execution_count": null,
   "id": "1049517b-4556-4ede-b53d-b5c57646c84c",
   "metadata": {},
   "outputs": [
    {
     "data": {
      "text/html": [
       "<div>\n",
       "<style scoped>\n",
       "    .dataframe tbody tr th:only-of-type {\n",
       "        vertical-align: middle;\n",
       "    }\n",
       "\n",
       "    .dataframe tbody tr th {\n",
       "        vertical-align: top;\n",
       "    }\n",
       "\n",
       "    .dataframe thead th {\n",
       "        text-align: right;\n",
       "    }\n",
       "</style>\n",
       "<table border=\"1\" class=\"dataframe\">\n",
       "  <thead>\n",
       "    <tr style=\"text-align: right;\">\n",
       "      <th></th>\n",
       "      <th>SOS ID</th>\n",
       "      <th>Galaxy ID</th>\n",
       "      <th>Street Address</th>\n",
       "      <th>City</th>\n",
       "      <th>State</th>\n",
       "      <th>Zip Code</th>\n",
       "      <th>Date of Birth</th>\n",
       "      <th>dateAdded</th>\n",
       "      <th>Age at Sign Up</th>\n",
       "      <th>Age Now</th>\n",
       "      <th>HS Graduation Year</th>\n",
       "      <th>School</th>\n",
       "      <th>District</th>\n",
       "      <th>Race/Ethnicity</th>\n",
       "      <th>Gender</th>\n",
       "      <th>Last Login</th>\n",
       "      <th>Responses</th>\n",
       "      <th>Hours</th>\n",
       "      <th>Student ID</th>\n",
       "      <th>Learn Participation 2022</th>\n",
       "      <th>Explore Participation</th>\n",
       "      <th>Make It Happen Badge (Yes/No)</th>\n",
       "      <th>Trip Eligible (Yes/No)</th>\n",
       "      <th>Scholarship Badge (Yes/No)</th>\n",
       "      <th>Collected Hours</th>\n",
       "      <th>Earliest Service</th>\n",
       "      <th>Latest Service</th>\n",
       "      <th>Service Count</th>\n",
       "      <th>Service Range</th>\n",
       "      <th>Follow Through</th>\n",
       "      <th>County</th>\n",
       "      <th>Median Family Income</th>\n",
       "      <th>Income Range (Thousands)</th>\n",
       "    </tr>\n",
       "  </thead>\n",
       "  <tbody>\n",
       "  </tbody>\n",
       "</table>\n",
       "</div>"
      ],
      "text/plain": [
       "Empty DataFrame\n",
       "Columns: [SOS ID, Galaxy ID, Street Address, City, State, Zip Code, Date of Birth, dateAdded, Age at Sign Up, Age Now, HS Graduation Year, School, District, Race/Ethnicity, Gender, Last Login, Responses, Hours, Student ID, Learn Participation 2022, Explore Participation, Make It Happen Badge (Yes/No), Trip Eligible (Yes/No), Scholarship Badge (Yes/No), Collected Hours, Earliest Service, Latest Service, Service Count, Service Range, Follow Through, County, Median Family Income, Income Range (Thousands)]\n",
       "Index: []"
      ]
     },
     "execution_count": 37,
     "metadata": {},
     "output_type": "execute_result"
    }
   ],
   "source": [
    "#Find whether any duplicate Galaxy IDs exist in the dataset\n",
    "client_dupgid = (clients[clients.duplicated(subset=['Galaxy ID'], keep=False)]\n",
    "                 .sort_values(by='Galaxy ID'))\n",
    "\n",
    "client_dupgid_nona = client_dupgid[client_dupgid['Galaxy ID'].notna()]\n",
    "\n",
    "client_dupgid.head()"
   ]
  },
  {
   "cell_type": "code",
   "execution_count": null,
   "id": "aa8fb3cb",
   "metadata": {},
   "outputs": [
    {
     "data": {
      "text/plain": [
       "0.6126497005988024"
      ]
     },
     "execution_count": 38,
     "metadata": {},
     "output_type": "execute_result"
    }
   ],
   "source": [
    "len(clients[clients['Gender'] == 'Female'])/len(clients)"
   ]
  },
  {
   "cell_type": "code",
   "execution_count": null,
   "id": "aafe4841",
   "metadata": {},
   "outputs": [
    {
     "data": {
      "text/html": [
       "<div>\n",
       "<style scoped>\n",
       "    .dataframe tbody tr th:only-of-type {\n",
       "        vertical-align: middle;\n",
       "    }\n",
       "\n",
       "    .dataframe tbody tr th {\n",
       "        vertical-align: top;\n",
       "    }\n",
       "\n",
       "    .dataframe thead th {\n",
       "        text-align: right;\n",
       "    }\n",
       "</style>\n",
       "<table border=\"1\" class=\"dataframe\">\n",
       "  <thead>\n",
       "    <tr style=\"text-align: right;\">\n",
       "      <th></th>\n",
       "      <th>SOS ID</th>\n",
       "      <th>Galaxy ID</th>\n",
       "      <th>Street Address</th>\n",
       "      <th>City</th>\n",
       "      <th>State</th>\n",
       "      <th>Zip Code</th>\n",
       "      <th>Date of Birth</th>\n",
       "      <th>dateAdded</th>\n",
       "      <th>Age at Sign Up</th>\n",
       "      <th>Age Now</th>\n",
       "      <th>HS Graduation Year</th>\n",
       "      <th>School</th>\n",
       "      <th>District</th>\n",
       "      <th>Race/Ethnicity</th>\n",
       "      <th>Gender</th>\n",
       "      <th>Last Login</th>\n",
       "      <th>Responses</th>\n",
       "      <th>Hours</th>\n",
       "      <th>Student ID</th>\n",
       "      <th>Learn Participation 2022</th>\n",
       "      <th>Explore Participation</th>\n",
       "      <th>Make It Happen Badge (Yes/No)</th>\n",
       "      <th>Trip Eligible (Yes/No)</th>\n",
       "      <th>Scholarship Badge (Yes/No)</th>\n",
       "      <th>Collected Hours</th>\n",
       "      <th>Earliest Service</th>\n",
       "      <th>Latest Service</th>\n",
       "      <th>Service Count</th>\n",
       "      <th>Service Range</th>\n",
       "      <th>Follow Through</th>\n",
       "      <th>County</th>\n",
       "      <th>Median Family Income</th>\n",
       "      <th>Income Range (Thousands)</th>\n",
       "    </tr>\n",
       "  </thead>\n",
       "  <tbody>\n",
       "    <tr>\n",
       "      <th>20</th>\n",
       "      <td>S03631</td>\n",
       "      <td>6828596.0</td>\n",
       "      <td>sumantra cliff 3703</td>\n",
       "      <td>san antonio</td>\n",
       "      <td>TX</td>\n",
       "      <td>78261</td>\n",
       "      <td>2008-09-06 00:00:00</td>\n",
       "      <td>2024-01-04</td>\n",
       "      <td>15</td>\n",
       "      <td>16</td>\n",
       "      <td>2027</td>\n",
       "      <td>Claudia Taylor \"Lady Bird\" Johnson High School</td>\n",
       "      <td>NEISD</td>\n",
       "      <td>Hispanic or Latino</td>\n",
       "      <td>Male</td>\n",
       "      <td>2024-08-26 00:00:00</td>\n",
       "      <td>2</td>\n",
       "      <td>0.0</td>\n",
       "      <td>Unknown</td>\n",
       "      <td>0.0</td>\n",
       "      <td>0.0</td>\n",
       "      <td>0.0</td>\n",
       "      <td>0.0</td>\n",
       "      <td>0.0</td>\n",
       "      <td>NaN</td>\n",
       "      <td>NaT</td>\n",
       "      <td>NaT</td>\n",
       "      <td>NaN</td>\n",
       "      <td>NaT</td>\n",
       "      <td>0</td>\n",
       "      <td>Bexar</td>\n",
       "      <td>140120</td>\n",
       "      <td>140 - 149</td>\n",
       "    </tr>\n",
       "    <tr>\n",
       "      <th>35</th>\n",
       "      <td>S02872</td>\n",
       "      <td>5651347.0</td>\n",
       "      <td>19500 US Hwy 281 N</td>\n",
       "      <td>San Antonio</td>\n",
       "      <td>TX</td>\n",
       "      <td>78258</td>\n",
       "      <td>2005-02-01 00:00:00</td>\n",
       "      <td>2022-10-28</td>\n",
       "      <td>17</td>\n",
       "      <td>20</td>\n",
       "      <td>0</td>\n",
       "      <td>Claudia Taylor \"Lady Bird\" Johnson High School</td>\n",
       "      <td>NEISD</td>\n",
       "      <td>Unknown</td>\n",
       "      <td>Male</td>\n",
       "      <td>2023-11-06 00:00:00</td>\n",
       "      <td>0</td>\n",
       "      <td>0.0</td>\n",
       "      <td>1750764</td>\n",
       "      <td>0.0</td>\n",
       "      <td>0.0</td>\n",
       "      <td>0.0</td>\n",
       "      <td>0.0</td>\n",
       "      <td>0.0</td>\n",
       "      <td>NaN</td>\n",
       "      <td>NaT</td>\n",
       "      <td>NaT</td>\n",
       "      <td>NaN</td>\n",
       "      <td>NaT</td>\n",
       "      <td>0</td>\n",
       "      <td>Bexar</td>\n",
       "      <td>116133</td>\n",
       "      <td>110 - 119</td>\n",
       "    </tr>\n",
       "    <tr>\n",
       "      <th>60</th>\n",
       "      <td>S02917</td>\n",
       "      <td>5744749.0</td>\n",
       "      <td>2410 NW 36th</td>\n",
       "      <td>San Antonio</td>\n",
       "      <td>TX</td>\n",
       "      <td>78228</td>\n",
       "      <td>2007-04-25 00:00:00</td>\n",
       "      <td>2022-12-06</td>\n",
       "      <td>15</td>\n",
       "      <td>17</td>\n",
       "      <td>0</td>\n",
       "      <td>CAST Tech High School</td>\n",
       "      <td>SAISD</td>\n",
       "      <td>Unknown</td>\n",
       "      <td>Male</td>\n",
       "      <td>00:00:00</td>\n",
       "      <td>0</td>\n",
       "      <td>0.0</td>\n",
       "      <td>799351</td>\n",
       "      <td>0.0</td>\n",
       "      <td>0.0</td>\n",
       "      <td>0.0</td>\n",
       "      <td>0.0</td>\n",
       "      <td>0.0</td>\n",
       "      <td>NaN</td>\n",
       "      <td>NaT</td>\n",
       "      <td>NaT</td>\n",
       "      <td>NaN</td>\n",
       "      <td>NaT</td>\n",
       "      <td>0</td>\n",
       "      <td>Bexar</td>\n",
       "      <td>50865</td>\n",
       "      <td>50 - 59</td>\n",
       "    </tr>\n",
       "    <tr>\n",
       "      <th>71</th>\n",
       "      <td>S02259</td>\n",
       "      <td>4437404.0</td>\n",
       "      <td>5146 ascot place</td>\n",
       "      <td>San Antonio</td>\n",
       "      <td>TX</td>\n",
       "      <td>78249</td>\n",
       "      <td>2004-10-24 00:00:00</td>\n",
       "      <td>2021-08-12</td>\n",
       "      <td>16</td>\n",
       "      <td>20</td>\n",
       "      <td>0</td>\n",
       "      <td>Tom C Clark High School</td>\n",
       "      <td>NISD</td>\n",
       "      <td>Unknown</td>\n",
       "      <td>Male</td>\n",
       "      <td>2021-11-27 00:00:00</td>\n",
       "      <td>0</td>\n",
       "      <td>0.0</td>\n",
       "      <td>s697677</td>\n",
       "      <td>0.0</td>\n",
       "      <td>0.0</td>\n",
       "      <td>0.0</td>\n",
       "      <td>0.0</td>\n",
       "      <td>0.0</td>\n",
       "      <td>NaN</td>\n",
       "      <td>NaT</td>\n",
       "      <td>NaT</td>\n",
       "      <td>NaN</td>\n",
       "      <td>NaT</td>\n",
       "      <td>0</td>\n",
       "      <td>Bexar</td>\n",
       "      <td>80851</td>\n",
       "      <td>80 - 89</td>\n",
       "    </tr>\n",
       "    <tr>\n",
       "      <th>131</th>\n",
       "      <td>S03437</td>\n",
       "      <td>6538409.0</td>\n",
       "      <td>5743 Pin Pt</td>\n",
       "      <td>San Antonio, TX</td>\n",
       "      <td>TX</td>\n",
       "      <td>78266</td>\n",
       "      <td>2008-10-07 00:00:00</td>\n",
       "      <td>2023-09-15</td>\n",
       "      <td>14</td>\n",
       "      <td>16</td>\n",
       "      <td>2027</td>\n",
       "      <td>Claudia Taylor \"Lady Bird\" Johnson High School</td>\n",
       "      <td>NEISD</td>\n",
       "      <td>Multiple Races</td>\n",
       "      <td>Male</td>\n",
       "      <td>2023-11-08 00:00:00</td>\n",
       "      <td>1</td>\n",
       "      <td>1.0</td>\n",
       "      <td>1739798</td>\n",
       "      <td>0.0</td>\n",
       "      <td>0.0</td>\n",
       "      <td>0.0</td>\n",
       "      <td>0.0</td>\n",
       "      <td>0.0</td>\n",
       "      <td>1.0</td>\n",
       "      <td>2023-11-30</td>\n",
       "      <td>2023-11-30</td>\n",
       "      <td>1.0</td>\n",
       "      <td>0 days</td>\n",
       "      <td>1</td>\n",
       "      <td>Comal</td>\n",
       "      <td>132470</td>\n",
       "      <td>130 - 139</td>\n",
       "    </tr>\n",
       "    <tr>\n",
       "      <th>...</th>\n",
       "      <td>...</td>\n",
       "      <td>...</td>\n",
       "      <td>...</td>\n",
       "      <td>...</td>\n",
       "      <td>...</td>\n",
       "      <td>...</td>\n",
       "      <td>...</td>\n",
       "      <td>...</td>\n",
       "      <td>...</td>\n",
       "      <td>...</td>\n",
       "      <td>...</td>\n",
       "      <td>...</td>\n",
       "      <td>...</td>\n",
       "      <td>...</td>\n",
       "      <td>...</td>\n",
       "      <td>...</td>\n",
       "      <td>...</td>\n",
       "      <td>...</td>\n",
       "      <td>...</td>\n",
       "      <td>...</td>\n",
       "      <td>...</td>\n",
       "      <td>...</td>\n",
       "      <td>...</td>\n",
       "      <td>...</td>\n",
       "      <td>...</td>\n",
       "      <td>...</td>\n",
       "      <td>...</td>\n",
       "      <td>...</td>\n",
       "      <td>...</td>\n",
       "      <td>...</td>\n",
       "      <td>...</td>\n",
       "      <td>...</td>\n",
       "      <td>...</td>\n",
       "    </tr>\n",
       "    <tr>\n",
       "      <th>4595</th>\n",
       "      <td>S02824</td>\n",
       "      <td>8187394.0</td>\n",
       "      <td>203 Jardin Vis</td>\n",
       "      <td>San Antonio</td>\n",
       "      <td>TX</td>\n",
       "      <td>78258</td>\n",
       "      <td>2010-02-02 00:00:00</td>\n",
       "      <td>2025-03-14</td>\n",
       "      <td>15</td>\n",
       "      <td>15</td>\n",
       "      <td>2028</td>\n",
       "      <td>Antonian College Preparatory</td>\n",
       "      <td>Private</td>\n",
       "      <td>Multiple Races</td>\n",
       "      <td>Male</td>\n",
       "      <td>Never</td>\n",
       "      <td>0</td>\n",
       "      <td>0.0</td>\n",
       "      <td>Unknown</td>\n",
       "      <td>NaN</td>\n",
       "      <td>NaN</td>\n",
       "      <td>NaN</td>\n",
       "      <td>NaN</td>\n",
       "      <td>NaN</td>\n",
       "      <td>NaN</td>\n",
       "      <td>NaT</td>\n",
       "      <td>NaT</td>\n",
       "      <td>NaN</td>\n",
       "      <td>NaT</td>\n",
       "      <td>0</td>\n",
       "      <td>Bexar</td>\n",
       "      <td>116133</td>\n",
       "      <td>110 - 119</td>\n",
       "    </tr>\n",
       "    <tr>\n",
       "      <th>4597</th>\n",
       "      <td>S02826</td>\n",
       "      <td>8191710.0</td>\n",
       "      <td>6622 Kirk Way</td>\n",
       "      <td>San Antonio</td>\n",
       "      <td>TX</td>\n",
       "      <td>78240</td>\n",
       "      <td>2013-07-04 00:00:00</td>\n",
       "      <td>2025-03-16</td>\n",
       "      <td>11</td>\n",
       "      <td>11</td>\n",
       "      <td>2031</td>\n",
       "      <td>Basis Shavano</td>\n",
       "      <td>Charter</td>\n",
       "      <td>Asian</td>\n",
       "      <td>Male</td>\n",
       "      <td>2025-03-27 00:00:00</td>\n",
       "      <td>1</td>\n",
       "      <td>0.0</td>\n",
       "      <td>Unknown</td>\n",
       "      <td>NaN</td>\n",
       "      <td>NaN</td>\n",
       "      <td>NaN</td>\n",
       "      <td>NaN</td>\n",
       "      <td>NaN</td>\n",
       "      <td>NaN</td>\n",
       "      <td>NaT</td>\n",
       "      <td>NaT</td>\n",
       "      <td>NaN</td>\n",
       "      <td>NaT</td>\n",
       "      <td>0</td>\n",
       "      <td>Bexar</td>\n",
       "      <td>62203</td>\n",
       "      <td>60 - 69</td>\n",
       "    </tr>\n",
       "    <tr>\n",
       "      <th>4599</th>\n",
       "      <td>S02828</td>\n",
       "      <td>8199092.0</td>\n",
       "      <td>3678 Hidden Dr</td>\n",
       "      <td>San Antonio</td>\n",
       "      <td>TX</td>\n",
       "      <td>78217</td>\n",
       "      <td>2010-10-21 00:00:00</td>\n",
       "      <td>2025-03-19</td>\n",
       "      <td>14</td>\n",
       "      <td>14</td>\n",
       "      <td>2029</td>\n",
       "      <td>SST San Antonio College Prep High School\\n</td>\n",
       "      <td>Charter</td>\n",
       "      <td>Multiple Races</td>\n",
       "      <td>Male</td>\n",
       "      <td>2025-03-26 00:00:00</td>\n",
       "      <td>1</td>\n",
       "      <td>0.0</td>\n",
       "      <td>Unknown</td>\n",
       "      <td>NaN</td>\n",
       "      <td>NaN</td>\n",
       "      <td>NaN</td>\n",
       "      <td>NaN</td>\n",
       "      <td>NaN</td>\n",
       "      <td>NaN</td>\n",
       "      <td>NaT</td>\n",
       "      <td>NaT</td>\n",
       "      <td>NaN</td>\n",
       "      <td>NaT</td>\n",
       "      <td>0</td>\n",
       "      <td>Bexar</td>\n",
       "      <td>56852</td>\n",
       "      <td>50 - 59</td>\n",
       "    </tr>\n",
       "    <tr>\n",
       "      <th>4600</th>\n",
       "      <td>S02829</td>\n",
       "      <td>8201498.0</td>\n",
       "      <td>4314 Stetson Park</td>\n",
       "      <td>San Antonia</td>\n",
       "      <td>TX</td>\n",
       "      <td>78223</td>\n",
       "      <td>2009-05-03 00:00:00</td>\n",
       "      <td>2025-03-19</td>\n",
       "      <td>15</td>\n",
       "      <td>15</td>\n",
       "      <td>2027</td>\n",
       "      <td>Cast Med High School</td>\n",
       "      <td>SAISD</td>\n",
       "      <td>White</td>\n",
       "      <td>Male</td>\n",
       "      <td>Never</td>\n",
       "      <td>0</td>\n",
       "      <td>0.0</td>\n",
       "      <td>889804</td>\n",
       "      <td>NaN</td>\n",
       "      <td>NaN</td>\n",
       "      <td>NaN</td>\n",
       "      <td>NaN</td>\n",
       "      <td>NaN</td>\n",
       "      <td>NaN</td>\n",
       "      <td>NaT</td>\n",
       "      <td>NaT</td>\n",
       "      <td>NaN</td>\n",
       "      <td>NaT</td>\n",
       "      <td>0</td>\n",
       "      <td>Bexar</td>\n",
       "      <td>50352</td>\n",
       "      <td>50 - 59</td>\n",
       "    </tr>\n",
       "    <tr>\n",
       "      <th>4603</th>\n",
       "      <td>S02832</td>\n",
       "      <td>8203399.0</td>\n",
       "      <td>7339 Montgomery Dr</td>\n",
       "      <td>San Antonio</td>\n",
       "      <td>TX</td>\n",
       "      <td>78239</td>\n",
       "      <td>2009-04-25 00:00:00</td>\n",
       "      <td>2025-03-20</td>\n",
       "      <td>15</td>\n",
       "      <td>15</td>\n",
       "      <td>2027</td>\n",
       "      <td>CAST Med high school</td>\n",
       "      <td>SAISD</td>\n",
       "      <td>Hispanic or Latino</td>\n",
       "      <td>Male</td>\n",
       "      <td>2025-03-27 00:00:00</td>\n",
       "      <td>0</td>\n",
       "      <td>0.0</td>\n",
       "      <td>784905</td>\n",
       "      <td>NaN</td>\n",
       "      <td>NaN</td>\n",
       "      <td>NaN</td>\n",
       "      <td>NaN</td>\n",
       "      <td>NaN</td>\n",
       "      <td>NaN</td>\n",
       "      <td>NaT</td>\n",
       "      <td>NaT</td>\n",
       "      <td>NaN</td>\n",
       "      <td>NaT</td>\n",
       "      <td>0</td>\n",
       "      <td>Bexar</td>\n",
       "      <td>71455</td>\n",
       "      <td>70 - 79</td>\n",
       "    </tr>\n",
       "  </tbody>\n",
       "</table>\n",
       "<p>955 rows × 33 columns</p>\n",
       "</div>"
      ],
      "text/plain": [
       "      SOS ID  Galaxy ID       Street Address             City State  Zip Code  \\\n",
       "20    S03631  6828596.0  sumantra cliff 3703      san antonio    TX     78261   \n",
       "35    S02872  5651347.0   19500 US Hwy 281 N      San Antonio    TX     78258   \n",
       "60    S02917  5744749.0         2410 NW 36th      San Antonio    TX     78228   \n",
       "71    S02259  4437404.0     5146 ascot place      San Antonio    TX     78249   \n",
       "131   S03437  6538409.0          5743 Pin Pt  San Antonio, TX    TX     78266   \n",
       "...      ...        ...                  ...              ...   ...       ...   \n",
       "4595  S02824  8187394.0       203 Jardin Vis      San Antonio    TX     78258   \n",
       "4597  S02826  8191710.0        6622 Kirk Way      San Antonio    TX     78240   \n",
       "4599  S02828  8199092.0       3678 Hidden Dr      San Antonio    TX     78217   \n",
       "4600  S02829  8201498.0    4314 Stetson Park      San Antonia    TX     78223   \n",
       "4603  S02832  8203399.0   7339 Montgomery Dr      San Antonio    TX     78239   \n",
       "\n",
       "            Date of Birth  dateAdded  Age at Sign Up Age Now  \\\n",
       "20    2008-09-06 00:00:00 2024-01-04              15      16   \n",
       "35    2005-02-01 00:00:00 2022-10-28              17      20   \n",
       "60    2007-04-25 00:00:00 2022-12-06              15      17   \n",
       "71    2004-10-24 00:00:00 2021-08-12              16      20   \n",
       "131   2008-10-07 00:00:00 2023-09-15              14      16   \n",
       "...                   ...        ...             ...     ...   \n",
       "4595  2010-02-02 00:00:00 2025-03-14              15      15   \n",
       "4597  2013-07-04 00:00:00 2025-03-16              11      11   \n",
       "4599  2010-10-21 00:00:00 2025-03-19              14      14   \n",
       "4600  2009-05-03 00:00:00 2025-03-19              15      15   \n",
       "4603  2009-04-25 00:00:00 2025-03-20              15      15   \n",
       "\n",
       "     HS Graduation Year                                          School  \\\n",
       "20                 2027  Claudia Taylor \"Lady Bird\" Johnson High School   \n",
       "35                    0  Claudia Taylor \"Lady Bird\" Johnson High School   \n",
       "60                    0                           CAST Tech High School   \n",
       "71                    0                         Tom C Clark High School   \n",
       "131                2027  Claudia Taylor \"Lady Bird\" Johnson High School   \n",
       "...                 ...                                             ...   \n",
       "4595               2028                    Antonian College Preparatory   \n",
       "4597               2031                                   Basis Shavano   \n",
       "4599               2029      SST San Antonio College Prep High School\\n   \n",
       "4600               2027                            Cast Med High School   \n",
       "4603               2027                            CAST Med high school   \n",
       "\n",
       "     District      Race/Ethnicity Gender           Last Login  Responses  \\\n",
       "20      NEISD  Hispanic or Latino   Male  2024-08-26 00:00:00          2   \n",
       "35      NEISD             Unknown   Male  2023-11-06 00:00:00          0   \n",
       "60      SAISD             Unknown   Male             00:00:00          0   \n",
       "71       NISD             Unknown   Male  2021-11-27 00:00:00          0   \n",
       "131     NEISD      Multiple Races   Male  2023-11-08 00:00:00          1   \n",
       "...       ...                 ...    ...                  ...        ...   \n",
       "4595  Private      Multiple Races   Male                Never          0   \n",
       "4597  Charter               Asian   Male  2025-03-27 00:00:00          1   \n",
       "4599  Charter      Multiple Races   Male  2025-03-26 00:00:00          1   \n",
       "4600    SAISD               White   Male                Never          0   \n",
       "4603    SAISD  Hispanic or Latino   Male  2025-03-27 00:00:00          0   \n",
       "\n",
       "      Hours Student ID  Learn Participation 2022  Explore Participation  \\\n",
       "20      0.0    Unknown                       0.0                    0.0   \n",
       "35      0.0    1750764                       0.0                    0.0   \n",
       "60      0.0     799351                       0.0                    0.0   \n",
       "71      0.0    s697677                       0.0                    0.0   \n",
       "131     1.0    1739798                       0.0                    0.0   \n",
       "...     ...        ...                       ...                    ...   \n",
       "4595    0.0    Unknown                       NaN                    NaN   \n",
       "4597    0.0    Unknown                       NaN                    NaN   \n",
       "4599    0.0    Unknown                       NaN                    NaN   \n",
       "4600    0.0     889804                       NaN                    NaN   \n",
       "4603    0.0     784905                       NaN                    NaN   \n",
       "\n",
       "      Make It Happen Badge (Yes/No)  Trip Eligible (Yes/No)  \\\n",
       "20                              0.0                     0.0   \n",
       "35                              0.0                     0.0   \n",
       "60                              0.0                     0.0   \n",
       "71                              0.0                     0.0   \n",
       "131                             0.0                     0.0   \n",
       "...                             ...                     ...   \n",
       "4595                            NaN                     NaN   \n",
       "4597                            NaN                     NaN   \n",
       "4599                            NaN                     NaN   \n",
       "4600                            NaN                     NaN   \n",
       "4603                            NaN                     NaN   \n",
       "\n",
       "      Scholarship Badge (Yes/No)  Collected Hours Earliest Service  \\\n",
       "20                           0.0              NaN              NaT   \n",
       "35                           0.0              NaN              NaT   \n",
       "60                           0.0              NaN              NaT   \n",
       "71                           0.0              NaN              NaT   \n",
       "131                          0.0              1.0       2023-11-30   \n",
       "...                          ...              ...              ...   \n",
       "4595                         NaN              NaN              NaT   \n",
       "4597                         NaN              NaN              NaT   \n",
       "4599                         NaN              NaN              NaT   \n",
       "4600                         NaN              NaN              NaT   \n",
       "4603                         NaN              NaN              NaT   \n",
       "\n",
       "     Latest Service  Service Count Service Range  Follow Through County  \\\n",
       "20              NaT            NaN           NaT               0  Bexar   \n",
       "35              NaT            NaN           NaT               0  Bexar   \n",
       "60              NaT            NaN           NaT               0  Bexar   \n",
       "71              NaT            NaN           NaT               0  Bexar   \n",
       "131      2023-11-30            1.0        0 days               1  Comal   \n",
       "...             ...            ...           ...             ...    ...   \n",
       "4595            NaT            NaN           NaT               0  Bexar   \n",
       "4597            NaT            NaN           NaT               0  Bexar   \n",
       "4599            NaT            NaN           NaT               0  Bexar   \n",
       "4600            NaT            NaN           NaT               0  Bexar   \n",
       "4603            NaT            NaN           NaT               0  Bexar   \n",
       "\n",
       "      Median Family Income Income Range (Thousands)  \n",
       "20                  140120                140 - 149  \n",
       "35                  116133                110 - 119  \n",
       "60                   50865                  50 - 59  \n",
       "71                   80851                  80 - 89  \n",
       "131                 132470                130 - 139  \n",
       "...                    ...                      ...  \n",
       "4595                116133                110 - 119  \n",
       "4597                 62203                  60 - 69  \n",
       "4599                 56852                  50 - 59  \n",
       "4600                 50352                  50 - 59  \n",
       "4603                 71455                  70 - 79  \n",
       "\n",
       "[955 rows x 33 columns]"
      ]
     },
     "execution_count": 39,
     "metadata": {},
     "output_type": "execute_result"
    }
   ],
   "source": [
    "clients.query('Gender == \"Male\"')"
   ]
  },
  {
   "cell_type": "code",
   "execution_count": null,
   "id": "8288356d",
   "metadata": {},
   "outputs": [
    {
     "data": {
      "text/html": [
       "<div>\n",
       "<style scoped>\n",
       "    .dataframe tbody tr th:only-of-type {\n",
       "        vertical-align: middle;\n",
       "    }\n",
       "\n",
       "    .dataframe tbody tr th {\n",
       "        vertical-align: top;\n",
       "    }\n",
       "\n",
       "    .dataframe thead th {\n",
       "        text-align: right;\n",
       "    }\n",
       "</style>\n",
       "<table border=\"1\" class=\"dataframe\">\n",
       "  <thead>\n",
       "    <tr style=\"text-align: right;\">\n",
       "      <th></th>\n",
       "      <th>SOS ID</th>\n",
       "      <th>Galaxy ID</th>\n",
       "      <th>Street Address</th>\n",
       "      <th>City</th>\n",
       "      <th>State</th>\n",
       "      <th>Zip Code</th>\n",
       "      <th>Date of Birth</th>\n",
       "      <th>dateAdded</th>\n",
       "      <th>Age at Sign Up</th>\n",
       "      <th>Age Now</th>\n",
       "      <th>HS Graduation Year</th>\n",
       "      <th>School</th>\n",
       "      <th>District</th>\n",
       "      <th>Race/Ethnicity</th>\n",
       "      <th>Gender</th>\n",
       "      <th>Last Login</th>\n",
       "      <th>Responses</th>\n",
       "      <th>Hours</th>\n",
       "      <th>Student ID</th>\n",
       "      <th>Learn Participation 2022</th>\n",
       "      <th>Explore Participation</th>\n",
       "      <th>Make It Happen Badge (Yes/No)</th>\n",
       "      <th>Trip Eligible (Yes/No)</th>\n",
       "      <th>Scholarship Badge (Yes/No)</th>\n",
       "      <th>Collected Hours</th>\n",
       "      <th>Earliest Service</th>\n",
       "      <th>Latest Service</th>\n",
       "      <th>Service Count</th>\n",
       "      <th>Service Range</th>\n",
       "      <th>Follow Through</th>\n",
       "      <th>County</th>\n",
       "      <th>Median Family Income</th>\n",
       "      <th>Income Range (Thousands)</th>\n",
       "    </tr>\n",
       "  </thead>\n",
       "  <tbody>\n",
       "    <tr>\n",
       "      <th>112</th>\n",
       "      <td>S02673</td>\n",
       "      <td>5192202.0</td>\n",
       "      <td>9834 Kremmen Pl</td>\n",
       "      <td>Boerne</td>\n",
       "      <td>TX</td>\n",
       "      <td>78006</td>\n",
       "      <td>2004-03-17 00:00:00</td>\n",
       "      <td>2022-06-01</td>\n",
       "      <td>18</td>\n",
       "      <td>21</td>\n",
       "      <td>0</td>\n",
       "      <td>Samuel V. Champion High School</td>\n",
       "      <td>Boerne ISD</td>\n",
       "      <td>Unknown</td>\n",
       "      <td>Female</td>\n",
       "      <td>2022-06-06 00:00:00</td>\n",
       "      <td>0</td>\n",
       "      <td>0.0</td>\n",
       "      <td>Unknown</td>\n",
       "      <td>0.0</td>\n",
       "      <td>1.0</td>\n",
       "      <td>0.0</td>\n",
       "      <td>0.0</td>\n",
       "      <td>0.0</td>\n",
       "      <td>NaN</td>\n",
       "      <td>NaT</td>\n",
       "      <td>NaT</td>\n",
       "      <td>NaN</td>\n",
       "      <td>NaT</td>\n",
       "      <td>0</td>\n",
       "      <td>Kendall</td>\n",
       "      <td>110955</td>\n",
       "      <td>110 - 119</td>\n",
       "    </tr>\n",
       "    <tr>\n",
       "      <th>162</th>\n",
       "      <td>S01689</td>\n",
       "      <td>3397003.0</td>\n",
       "      <td>3011 Northridge Dr</td>\n",
       "      <td>San Antonio</td>\n",
       "      <td>TX</td>\n",
       "      <td>78209</td>\n",
       "      <td>2005-01-28 00:00:00</td>\n",
       "      <td>2020-07-01</td>\n",
       "      <td>15</td>\n",
       "      <td>20</td>\n",
       "      <td>0</td>\n",
       "      <td>International School of the Americas</td>\n",
       "      <td>NEISD</td>\n",
       "      <td>Unknown</td>\n",
       "      <td>Female</td>\n",
       "      <td>2022-02-20 00:00:00</td>\n",
       "      <td>1</td>\n",
       "      <td>4.0</td>\n",
       "      <td>Unknown</td>\n",
       "      <td>0.0</td>\n",
       "      <td>1.0</td>\n",
       "      <td>0.0</td>\n",
       "      <td>0.0</td>\n",
       "      <td>0.0</td>\n",
       "      <td>4.0</td>\n",
       "      <td>2020-07-02</td>\n",
       "      <td>2020-08-01</td>\n",
       "      <td>2.0</td>\n",
       "      <td>30 days</td>\n",
       "      <td>1</td>\n",
       "      <td>Bexar</td>\n",
       "      <td>84180</td>\n",
       "      <td>80 - 89</td>\n",
       "    </tr>\n",
       "    <tr>\n",
       "      <th>559</th>\n",
       "      <td>S02588</td>\n",
       "      <td>5033729.0</td>\n",
       "      <td>515 Elmhurst Ave</td>\n",
       "      <td>San Antonio</td>\n",
       "      <td>TX</td>\n",
       "      <td>78209</td>\n",
       "      <td>2004-01-07 00:00:00</td>\n",
       "      <td>2022-04-04</td>\n",
       "      <td>18</td>\n",
       "      <td>21</td>\n",
       "      <td>0</td>\n",
       "      <td>CAST Tech High School</td>\n",
       "      <td>SAISD</td>\n",
       "      <td>Unknown</td>\n",
       "      <td>Female</td>\n",
       "      <td>2022-04-04 00:00:00</td>\n",
       "      <td>1</td>\n",
       "      <td>4.0</td>\n",
       "      <td>821871</td>\n",
       "      <td>0.0</td>\n",
       "      <td>1.0</td>\n",
       "      <td>0.0</td>\n",
       "      <td>0.0</td>\n",
       "      <td>0.0</td>\n",
       "      <td>4.0</td>\n",
       "      <td>2022-04-09</td>\n",
       "      <td>2022-04-09</td>\n",
       "      <td>1.0</td>\n",
       "      <td>0 days</td>\n",
       "      <td>1</td>\n",
       "      <td>Bexar</td>\n",
       "      <td>84180</td>\n",
       "      <td>80 - 89</td>\n",
       "    </tr>\n",
       "    <tr>\n",
       "      <th>1236</th>\n",
       "      <td>S03488</td>\n",
       "      <td>6580294.0</td>\n",
       "      <td>5786 white feather</td>\n",
       "      <td>San antonio</td>\n",
       "      <td>TX</td>\n",
       "      <td>78242</td>\n",
       "      <td>2006-10-16 00:00:00</td>\n",
       "      <td>2023-10-01</td>\n",
       "      <td>16</td>\n",
       "      <td>18</td>\n",
       "      <td>0</td>\n",
       "      <td>Unknown</td>\n",
       "      <td>Unknown</td>\n",
       "      <td>Unknown</td>\n",
       "      <td>Male</td>\n",
       "      <td>2025-01-01 00:00:00</td>\n",
       "      <td>0</td>\n",
       "      <td>0.0</td>\n",
       "      <td>Unknown</td>\n",
       "      <td>0.0</td>\n",
       "      <td>1.0</td>\n",
       "      <td>0.0</td>\n",
       "      <td>0.0</td>\n",
       "      <td>0.0</td>\n",
       "      <td>NaN</td>\n",
       "      <td>NaT</td>\n",
       "      <td>NaT</td>\n",
       "      <td>NaN</td>\n",
       "      <td>NaT</td>\n",
       "      <td>0</td>\n",
       "      <td>Bexar</td>\n",
       "      <td>48979</td>\n",
       "      <td>40 - 49</td>\n",
       "    </tr>\n",
       "    <tr>\n",
       "      <th>1300</th>\n",
       "      <td>S01503</td>\n",
       "      <td>3114904.0</td>\n",
       "      <td>560 west Hermosa</td>\n",
       "      <td>San Antonio</td>\n",
       "      <td>TX</td>\n",
       "      <td>78212</td>\n",
       "      <td>2005-12-18 00:00:00</td>\n",
       "      <td>2020-01-14</td>\n",
       "      <td>14</td>\n",
       "      <td>19</td>\n",
       "      <td>2024</td>\n",
       "      <td>Whittier Middle School</td>\n",
       "      <td>SAISD</td>\n",
       "      <td>Hispanic or Latino</td>\n",
       "      <td>Male</td>\n",
       "      <td>2025-02-24 00:00:00</td>\n",
       "      <td>60</td>\n",
       "      <td>130.0</td>\n",
       "      <td>749555</td>\n",
       "      <td>0.0</td>\n",
       "      <td>1.0</td>\n",
       "      <td>1.0</td>\n",
       "      <td>1.0</td>\n",
       "      <td>1.0</td>\n",
       "      <td>130.0</td>\n",
       "      <td>2020-01-18</td>\n",
       "      <td>2024-10-22</td>\n",
       "      <td>28.0</td>\n",
       "      <td>1739 days</td>\n",
       "      <td>1</td>\n",
       "      <td>Bexar</td>\n",
       "      <td>60222</td>\n",
       "      <td>60 - 69</td>\n",
       "    </tr>\n",
       "    <tr>\n",
       "      <th>...</th>\n",
       "      <td>...</td>\n",
       "      <td>...</td>\n",
       "      <td>...</td>\n",
       "      <td>...</td>\n",
       "      <td>...</td>\n",
       "      <td>...</td>\n",
       "      <td>...</td>\n",
       "      <td>...</td>\n",
       "      <td>...</td>\n",
       "      <td>...</td>\n",
       "      <td>...</td>\n",
       "      <td>...</td>\n",
       "      <td>...</td>\n",
       "      <td>...</td>\n",
       "      <td>...</td>\n",
       "      <td>...</td>\n",
       "      <td>...</td>\n",
       "      <td>...</td>\n",
       "      <td>...</td>\n",
       "      <td>...</td>\n",
       "      <td>...</td>\n",
       "      <td>...</td>\n",
       "      <td>...</td>\n",
       "      <td>...</td>\n",
       "      <td>...</td>\n",
       "      <td>...</td>\n",
       "      <td>...</td>\n",
       "      <td>...</td>\n",
       "      <td>...</td>\n",
       "      <td>...</td>\n",
       "      <td>...</td>\n",
       "      <td>...</td>\n",
       "      <td>...</td>\n",
       "    </tr>\n",
       "    <tr>\n",
       "      <th>3211</th>\n",
       "      <td>S03532</td>\n",
       "      <td>6617920.0</td>\n",
       "      <td>11141 Moonlit Park</td>\n",
       "      <td>San Antonio</td>\n",
       "      <td>TX</td>\n",
       "      <td>78240</td>\n",
       "      <td>2006-10-02 00:00:00</td>\n",
       "      <td>2023-10-15</td>\n",
       "      <td>17</td>\n",
       "      <td>18</td>\n",
       "      <td>2025</td>\n",
       "      <td>Tom C Clark High School</td>\n",
       "      <td>NISD</td>\n",
       "      <td>Hispanic or Latino</td>\n",
       "      <td>Male</td>\n",
       "      <td>2024-01-06 00:00:00</td>\n",
       "      <td>0</td>\n",
       "      <td>0.0</td>\n",
       "      <td>733202</td>\n",
       "      <td>0.0</td>\n",
       "      <td>1.0</td>\n",
       "      <td>0.0</td>\n",
       "      <td>0.0</td>\n",
       "      <td>0.0</td>\n",
       "      <td>NaN</td>\n",
       "      <td>NaT</td>\n",
       "      <td>NaT</td>\n",
       "      <td>NaN</td>\n",
       "      <td>NaT</td>\n",
       "      <td>0</td>\n",
       "      <td>Bexar</td>\n",
       "      <td>62203</td>\n",
       "      <td>60 - 69</td>\n",
       "    </tr>\n",
       "    <tr>\n",
       "      <th>3218</th>\n",
       "      <td>S03539</td>\n",
       "      <td>6632404.0</td>\n",
       "      <td>2515 Fairfield Bend Drive</td>\n",
       "      <td>San Antonio</td>\n",
       "      <td>TX</td>\n",
       "      <td>78231</td>\n",
       "      <td>2008-06-18 00:00:00</td>\n",
       "      <td>2023-10-20</td>\n",
       "      <td>15</td>\n",
       "      <td>16</td>\n",
       "      <td>2026</td>\n",
       "      <td>Cast Tech High School</td>\n",
       "      <td>SAISD</td>\n",
       "      <td>Multiple Races</td>\n",
       "      <td>Male</td>\n",
       "      <td>2024-12-18 00:00:00</td>\n",
       "      <td>10</td>\n",
       "      <td>27.0</td>\n",
       "      <td>831318</td>\n",
       "      <td>0.0</td>\n",
       "      <td>1.0</td>\n",
       "      <td>1.0</td>\n",
       "      <td>1.0</td>\n",
       "      <td>1.0</td>\n",
       "      <td>27.0</td>\n",
       "      <td>2024-02-13</td>\n",
       "      <td>2024-11-16</td>\n",
       "      <td>10.0</td>\n",
       "      <td>277 days</td>\n",
       "      <td>1</td>\n",
       "      <td>Bexar</td>\n",
       "      <td>103538</td>\n",
       "      <td>100 - 109</td>\n",
       "    </tr>\n",
       "    <tr>\n",
       "      <th>3291</th>\n",
       "      <td>S03619</td>\n",
       "      <td>6800061.0</td>\n",
       "      <td>3601 Storm Ridge</td>\n",
       "      <td>Schertz</td>\n",
       "      <td>TX</td>\n",
       "      <td>78108</td>\n",
       "      <td>2007-12-18 00:00:00</td>\n",
       "      <td>2023-12-18</td>\n",
       "      <td>16</td>\n",
       "      <td>17</td>\n",
       "      <td>2026</td>\n",
       "      <td>Byron P. Steele High School</td>\n",
       "      <td>SCUC ISD</td>\n",
       "      <td>Asian</td>\n",
       "      <td>Female</td>\n",
       "      <td>2025-01-24 00:00:00</td>\n",
       "      <td>18</td>\n",
       "      <td>26.5</td>\n",
       "      <td>87323</td>\n",
       "      <td>0.0</td>\n",
       "      <td>1.0</td>\n",
       "      <td>1.0</td>\n",
       "      <td>1.0</td>\n",
       "      <td>1.0</td>\n",
       "      <td>26.5</td>\n",
       "      <td>2024-02-24</td>\n",
       "      <td>2024-08-23</td>\n",
       "      <td>11.0</td>\n",
       "      <td>181 days</td>\n",
       "      <td>1</td>\n",
       "      <td>Guadalupe</td>\n",
       "      <td>117304</td>\n",
       "      <td>110 - 119</td>\n",
       "    </tr>\n",
       "    <tr>\n",
       "      <th>3407</th>\n",
       "      <td>S02437</td>\n",
       "      <td>4866577.0</td>\n",
       "      <td>4848 Goldfield, Apt 175</td>\n",
       "      <td>San antonio</td>\n",
       "      <td>TX</td>\n",
       "      <td>78218</td>\n",
       "      <td>2005-10-17 00:00:00</td>\n",
       "      <td>2022-01-26</td>\n",
       "      <td>16</td>\n",
       "      <td>19</td>\n",
       "      <td>0</td>\n",
       "      <td>Roosevelt High School</td>\n",
       "      <td>NEISD</td>\n",
       "      <td>Unknown</td>\n",
       "      <td>Female</td>\n",
       "      <td>2022-03-21 00:00:00</td>\n",
       "      <td>0</td>\n",
       "      <td>0.0</td>\n",
       "      <td>954678</td>\n",
       "      <td>0.0</td>\n",
       "      <td>1.0</td>\n",
       "      <td>0.0</td>\n",
       "      <td>0.0</td>\n",
       "      <td>0.0</td>\n",
       "      <td>NaN</td>\n",
       "      <td>NaT</td>\n",
       "      <td>NaT</td>\n",
       "      <td>NaN</td>\n",
       "      <td>NaT</td>\n",
       "      <td>0</td>\n",
       "      <td>Bexar</td>\n",
       "      <td>56833</td>\n",
       "      <td>50 - 59</td>\n",
       "    </tr>\n",
       "    <tr>\n",
       "      <th>3513</th>\n",
       "      <td>S03859</td>\n",
       "      <td>7137222.0</td>\n",
       "      <td>9323 Somerset Rd</td>\n",
       "      <td>San Antonio</td>\n",
       "      <td>TX</td>\n",
       "      <td>78211</td>\n",
       "      <td>2006-04-13 00:00:00</td>\n",
       "      <td>2024-04-24</td>\n",
       "      <td>18</td>\n",
       "      <td>18</td>\n",
       "      <td>2024</td>\n",
       "      <td>South San Antonio High School</td>\n",
       "      <td>South San ISD</td>\n",
       "      <td>Hispanic or Latino</td>\n",
       "      <td>Female</td>\n",
       "      <td>2024-08-10 00:00:00</td>\n",
       "      <td>0</td>\n",
       "      <td>0.0</td>\n",
       "      <td>278923</td>\n",
       "      <td>0.0</td>\n",
       "      <td>1.0</td>\n",
       "      <td>0.0</td>\n",
       "      <td>0.0</td>\n",
       "      <td>0.0</td>\n",
       "      <td>NaN</td>\n",
       "      <td>NaT</td>\n",
       "      <td>NaT</td>\n",
       "      <td>NaN</td>\n",
       "      <td>NaT</td>\n",
       "      <td>0</td>\n",
       "      <td>Bexar</td>\n",
       "      <td>54279</td>\n",
       "      <td>50 - 59</td>\n",
       "    </tr>\n",
       "  </tbody>\n",
       "</table>\n",
       "<p>62 rows × 33 columns</p>\n",
       "</div>"
      ],
      "text/plain": [
       "      SOS ID  Galaxy ID             Street Address         City State  \\\n",
       "112   S02673  5192202.0            9834 Kremmen Pl       Boerne    TX   \n",
       "162   S01689  3397003.0         3011 Northridge Dr  San Antonio    TX   \n",
       "559   S02588  5033729.0           515 Elmhurst Ave  San Antonio    TX   \n",
       "1236  S03488  6580294.0         5786 white feather  San antonio    TX   \n",
       "1300  S01503  3114904.0           560 west Hermosa  San Antonio    TX   \n",
       "...      ...        ...                        ...          ...   ...   \n",
       "3211  S03532  6617920.0         11141 Moonlit Park  San Antonio    TX   \n",
       "3218  S03539  6632404.0  2515 Fairfield Bend Drive  San Antonio    TX   \n",
       "3291  S03619  6800061.0           3601 Storm Ridge      Schertz    TX   \n",
       "3407  S02437  4866577.0    4848 Goldfield, Apt 175  San antonio    TX   \n",
       "3513  S03859  7137222.0           9323 Somerset Rd  San Antonio    TX   \n",
       "\n",
       "      Zip Code        Date of Birth  dateAdded  Age at Sign Up Age Now  \\\n",
       "112      78006  2004-03-17 00:00:00 2022-06-01              18      21   \n",
       "162      78209  2005-01-28 00:00:00 2020-07-01              15      20   \n",
       "559      78209  2004-01-07 00:00:00 2022-04-04              18      21   \n",
       "1236     78242  2006-10-16 00:00:00 2023-10-01              16      18   \n",
       "1300     78212  2005-12-18 00:00:00 2020-01-14              14      19   \n",
       "...        ...                  ...        ...             ...     ...   \n",
       "3211     78240  2006-10-02 00:00:00 2023-10-15              17      18   \n",
       "3218     78231  2008-06-18 00:00:00 2023-10-20              15      16   \n",
       "3291     78108  2007-12-18 00:00:00 2023-12-18              16      17   \n",
       "3407     78218  2005-10-17 00:00:00 2022-01-26              16      19   \n",
       "3513     78211  2006-04-13 00:00:00 2024-04-24              18      18   \n",
       "\n",
       "     HS Graduation Year                                School       District  \\\n",
       "112                   0        Samuel V. Champion High School     Boerne ISD   \n",
       "162                   0  International School of the Americas          NEISD   \n",
       "559                   0                 CAST Tech High School          SAISD   \n",
       "1236                  0                               Unknown        Unknown   \n",
       "1300               2024                Whittier Middle School          SAISD   \n",
       "...                 ...                                   ...            ...   \n",
       "3211               2025               Tom C Clark High School           NISD   \n",
       "3218               2026                 Cast Tech High School          SAISD   \n",
       "3291               2026           Byron P. Steele High School       SCUC ISD   \n",
       "3407                  0                 Roosevelt High School          NEISD   \n",
       "3513               2024         South San Antonio High School  South San ISD   \n",
       "\n",
       "          Race/Ethnicity  Gender           Last Login  Responses  Hours  \\\n",
       "112              Unknown  Female  2022-06-06 00:00:00          0    0.0   \n",
       "162              Unknown  Female  2022-02-20 00:00:00          1    4.0   \n",
       "559              Unknown  Female  2022-04-04 00:00:00          1    4.0   \n",
       "1236             Unknown    Male  2025-01-01 00:00:00          0    0.0   \n",
       "1300  Hispanic or Latino    Male  2025-02-24 00:00:00         60  130.0   \n",
       "...                  ...     ...                  ...        ...    ...   \n",
       "3211  Hispanic or Latino    Male  2024-01-06 00:00:00          0    0.0   \n",
       "3218      Multiple Races    Male  2024-12-18 00:00:00         10   27.0   \n",
       "3291               Asian  Female  2025-01-24 00:00:00         18   26.5   \n",
       "3407             Unknown  Female  2022-03-21 00:00:00          0    0.0   \n",
       "3513  Hispanic or Latino  Female  2024-08-10 00:00:00          0    0.0   \n",
       "\n",
       "     Student ID  Learn Participation 2022  Explore Participation  \\\n",
       "112     Unknown                       0.0                    1.0   \n",
       "162     Unknown                       0.0                    1.0   \n",
       "559      821871                       0.0                    1.0   \n",
       "1236    Unknown                       0.0                    1.0   \n",
       "1300     749555                       0.0                    1.0   \n",
       "...         ...                       ...                    ...   \n",
       "3211     733202                       0.0                    1.0   \n",
       "3218     831318                       0.0                    1.0   \n",
       "3291      87323                       0.0                    1.0   \n",
       "3407     954678                       0.0                    1.0   \n",
       "3513     278923                       0.0                    1.0   \n",
       "\n",
       "      Make It Happen Badge (Yes/No)  Trip Eligible (Yes/No)  \\\n",
       "112                             0.0                     0.0   \n",
       "162                             0.0                     0.0   \n",
       "559                             0.0                     0.0   \n",
       "1236                            0.0                     0.0   \n",
       "1300                            1.0                     1.0   \n",
       "...                             ...                     ...   \n",
       "3211                            0.0                     0.0   \n",
       "3218                            1.0                     1.0   \n",
       "3291                            1.0                     1.0   \n",
       "3407                            0.0                     0.0   \n",
       "3513                            0.0                     0.0   \n",
       "\n",
       "      Scholarship Badge (Yes/No)  Collected Hours Earliest Service  \\\n",
       "112                          0.0              NaN              NaT   \n",
       "162                          0.0              4.0       2020-07-02   \n",
       "559                          0.0              4.0       2022-04-09   \n",
       "1236                         0.0              NaN              NaT   \n",
       "1300                         1.0            130.0       2020-01-18   \n",
       "...                          ...              ...              ...   \n",
       "3211                         0.0              NaN              NaT   \n",
       "3218                         1.0             27.0       2024-02-13   \n",
       "3291                         1.0             26.5       2024-02-24   \n",
       "3407                         0.0              NaN              NaT   \n",
       "3513                         0.0              NaN              NaT   \n",
       "\n",
       "     Latest Service  Service Count Service Range  Follow Through     County  \\\n",
       "112             NaT            NaN           NaT               0    Kendall   \n",
       "162      2020-08-01            2.0       30 days               1      Bexar   \n",
       "559      2022-04-09            1.0        0 days               1      Bexar   \n",
       "1236            NaT            NaN           NaT               0      Bexar   \n",
       "1300     2024-10-22           28.0     1739 days               1      Bexar   \n",
       "...             ...            ...           ...             ...        ...   \n",
       "3211            NaT            NaN           NaT               0      Bexar   \n",
       "3218     2024-11-16           10.0      277 days               1      Bexar   \n",
       "3291     2024-08-23           11.0      181 days               1  Guadalupe   \n",
       "3407            NaT            NaN           NaT               0      Bexar   \n",
       "3513            NaT            NaN           NaT               0      Bexar   \n",
       "\n",
       "      Median Family Income Income Range (Thousands)  \n",
       "112                 110955                110 - 119  \n",
       "162                  84180                  80 - 89  \n",
       "559                  84180                  80 - 89  \n",
       "1236                 48979                  40 - 49  \n",
       "1300                 60222                  60 - 69  \n",
       "...                    ...                      ...  \n",
       "3211                 62203                  60 - 69  \n",
       "3218                103538                100 - 109  \n",
       "3291                117304                110 - 119  \n",
       "3407                 56833                  50 - 59  \n",
       "3513                 54279                  50 - 59  \n",
       "\n",
       "[62 rows x 33 columns]"
      ]
     },
     "execution_count": 40,
     "metadata": {},
     "output_type": "execute_result"
    }
   ],
   "source": [
    "clients[clients['Explore Participation']==1]"
   ]
  },
  {
   "cell_type": "code",
   "execution_count": null,
   "id": "27041e92",
   "metadata": {},
   "outputs": [
    {
     "data": {
      "text/html": [
       "<div>\n",
       "<style scoped>\n",
       "    .dataframe tbody tr th:only-of-type {\n",
       "        vertical-align: middle;\n",
       "    }\n",
       "\n",
       "    .dataframe tbody tr th {\n",
       "        vertical-align: top;\n",
       "    }\n",
       "\n",
       "    .dataframe thead th {\n",
       "        text-align: right;\n",
       "    }\n",
       "</style>\n",
       "<table border=\"1\" class=\"dataframe\">\n",
       "  <thead>\n",
       "    <tr style=\"text-align: right;\">\n",
       "      <th></th>\n",
       "      <th>Galaxy ID</th>\n",
       "      <th>zipCodeNeed</th>\n",
       "      <th>needName</th>\n",
       "      <th>hours</th>\n",
       "      <th>Event Date</th>\n",
       "      <th>agency</th>\n",
       "    </tr>\n",
       "  </thead>\n",
       "  <tbody>\n",
       "    <tr>\n",
       "      <th>0</th>\n",
       "      <td>2421117</td>\n",
       "      <td>NaN</td>\n",
       "      <td>NaN</td>\n",
       "      <td>3.0</td>\n",
       "      <td>2018-01-03</td>\n",
       "      <td>NaN</td>\n",
       "    </tr>\n",
       "    <tr>\n",
       "      <th>1</th>\n",
       "      <td>2421117</td>\n",
       "      <td>NaN</td>\n",
       "      <td>NaN</td>\n",
       "      <td>3.0</td>\n",
       "      <td>2018-01-04</td>\n",
       "      <td>NaN</td>\n",
       "    </tr>\n",
       "    <tr>\n",
       "      <th>2</th>\n",
       "      <td>2421065</td>\n",
       "      <td>NaN</td>\n",
       "      <td>NaN</td>\n",
       "      <td>4.0</td>\n",
       "      <td>2018-01-05</td>\n",
       "      <td>NaN</td>\n",
       "    </tr>\n",
       "    <tr>\n",
       "      <th>3</th>\n",
       "      <td>2421065</td>\n",
       "      <td>NaN</td>\n",
       "      <td>NaN</td>\n",
       "      <td>2.0</td>\n",
       "      <td>2018-01-08</td>\n",
       "      <td>NaN</td>\n",
       "    </tr>\n",
       "    <tr>\n",
       "      <th>4</th>\n",
       "      <td>2421541</td>\n",
       "      <td>NaN</td>\n",
       "      <td>NaN</td>\n",
       "      <td>1.0</td>\n",
       "      <td>2018-01-13</td>\n",
       "      <td>NaN</td>\n",
       "    </tr>\n",
       "  </tbody>\n",
       "</table>\n",
       "</div>"
      ],
      "text/plain": [
       "   Galaxy ID  zipCodeNeed needName  hours Event Date agency\n",
       "0    2421117          NaN      NaN    3.0 2018-01-03    NaN\n",
       "1    2421117          NaN      NaN    3.0 2018-01-04    NaN\n",
       "2    2421065          NaN      NaN    4.0 2018-01-05    NaN\n",
       "3    2421065          NaN      NaN    2.0 2018-01-08    NaN\n",
       "4    2421541          NaN      NaN    1.0 2018-01-13    NaN"
      ]
     },
     "execution_count": 41,
     "metadata": {},
     "output_type": "execute_result"
    }
   ],
   "source": [
    "hours.head()"
   ]
  },
  {
   "cell_type": "code",
   "execution_count": null,
   "id": "a4609116",
   "metadata": {},
   "outputs": [
    {
     "name": "stderr",
     "output_type": "stream",
     "text": [
      "C:\\Users\\cln87\\AppData\\Local\\Temp\\ipykernel_1420\\4008164253.py:1: UserWarning:\n",
      "\n",
      "Boolean Series key will be reindexed to match DataFrame index.\n",
      "\n"
     ]
    }
   ],
   "source": [
    "locations_needing_zips = hours.drop_duplicates(subset='needName')[(hours['zipCodeNeed']==0)|(hours['zipCodeNeed'].isna())]\n",
    "\n",
    "locations_needing_zips.to_csv('locations_needing_zips.csv')"
   ]
  },
  {
   "cell_type": "code",
   "execution_count": null,
   "id": "67fe1881",
   "metadata": {},
   "outputs": [],
   "source": [
    "clients.drop()"
   ]
  },
  {
   "cell_type": "code",
   "execution_count": null,
   "id": "374756c0",
   "metadata": {},
   "outputs": [
    {
     "data": {
      "text/html": [
       "<div>\n",
       "<style scoped>\n",
       "    .dataframe tbody tr th:only-of-type {\n",
       "        vertical-align: middle;\n",
       "    }\n",
       "\n",
       "    .dataframe tbody tr th {\n",
       "        vertical-align: top;\n",
       "    }\n",
       "\n",
       "    .dataframe thead tr th {\n",
       "        text-align: left;\n",
       "    }\n",
       "</style>\n",
       "<table border=\"1\" class=\"dataframe\">\n",
       "  <thead>\n",
       "    <tr>\n",
       "      <th></th>\n",
       "      <th>Age at Sign Up</th>\n",
       "      <th>Galaxy ID</th>\n",
       "      <th>Service Range</th>\n",
       "      <th colspan=\"2\" halign=\"left\">Hours</th>\n",
       "      <th colspan=\"2\" halign=\"left\">Follow Through</th>\n",
       "      <th colspan=\"2\" halign=\"left\">Trip Eligible (Yes/No)</th>\n",
       "      <th colspan=\"2\" halign=\"left\">Service Count</th>\n",
       "      <th colspan=\"2\" halign=\"left\">Responses</th>\n",
       "      <th colspan=\"2\" halign=\"left\">Make It Happen Badge (Yes/No)</th>\n",
       "      <th colspan=\"2\" halign=\"left\">Scholarship Badge (Yes/No)</th>\n",
       "      <th colspan=\"2\" halign=\"left\">Explore Participation</th>\n",
       "    </tr>\n",
       "    <tr>\n",
       "      <th></th>\n",
       "      <th></th>\n",
       "      <th>count</th>\n",
       "      <th>mean</th>\n",
       "      <th>sum</th>\n",
       "      <th>mean</th>\n",
       "      <th>sum</th>\n",
       "      <th>mean</th>\n",
       "      <th>sum</th>\n",
       "      <th>mean</th>\n",
       "      <th>mean</th>\n",
       "      <th>sum</th>\n",
       "      <th>mean</th>\n",
       "      <th>sum</th>\n",
       "      <th>sum</th>\n",
       "      <th>mean</th>\n",
       "      <th>sum</th>\n",
       "      <th>mean</th>\n",
       "      <th>sum</th>\n",
       "      <th>mean</th>\n",
       "    </tr>\n",
       "  </thead>\n",
       "  <tbody>\n",
       "    <tr>\n",
       "      <th>10</th>\n",
       "      <td>9</td>\n",
       "      <td>4</td>\n",
       "      <td>7</td>\n",
       "      <td>8.00</td>\n",
       "      <td>2.00</td>\n",
       "      <td>2</td>\n",
       "      <td>0.50</td>\n",
       "      <td>0.0</td>\n",
       "      <td>0.00</td>\n",
       "      <td>1.50</td>\n",
       "      <td>3.0</td>\n",
       "      <td>1.00</td>\n",
       "      <td>4</td>\n",
       "      <td>0.0</td>\n",
       "      <td>0.00</td>\n",
       "      <td>0.0</td>\n",
       "      <td>0.00</td>\n",
       "      <td>0.0</td>\n",
       "      <td>0.00</td>\n",
       "    </tr>\n",
       "    <tr>\n",
       "      <th>11</th>\n",
       "      <td>10</td>\n",
       "      <td>4</td>\n",
       "      <td>182</td>\n",
       "      <td>14.50</td>\n",
       "      <td>3.62</td>\n",
       "      <td>1</td>\n",
       "      <td>0.25</td>\n",
       "      <td>0.0</td>\n",
       "      <td>0.00</td>\n",
       "      <td>5.00</td>\n",
       "      <td>5.0</td>\n",
       "      <td>3.75</td>\n",
       "      <td>15</td>\n",
       "      <td>1.0</td>\n",
       "      <td>0.33</td>\n",
       "      <td>0.0</td>\n",
       "      <td>0.00</td>\n",
       "      <td>0.0</td>\n",
       "      <td>0.00</td>\n",
       "    </tr>\n",
       "    <tr>\n",
       "      <th>7</th>\n",
       "      <td>11</td>\n",
       "      <td>51</td>\n",
       "      <td>172</td>\n",
       "      <td>169.75</td>\n",
       "      <td>3.33</td>\n",
       "      <td>21</td>\n",
       "      <td>0.41</td>\n",
       "      <td>3.0</td>\n",
       "      <td>0.08</td>\n",
       "      <td>2.48</td>\n",
       "      <td>52.0</td>\n",
       "      <td>1.67</td>\n",
       "      <td>85</td>\n",
       "      <td>3.0</td>\n",
       "      <td>0.08</td>\n",
       "      <td>2.0</td>\n",
       "      <td>0.05</td>\n",
       "      <td>0.0</td>\n",
       "      <td>0.00</td>\n",
       "    </tr>\n",
       "    <tr>\n",
       "      <th>5</th>\n",
       "      <td>12</td>\n",
       "      <td>136</td>\n",
       "      <td>120</td>\n",
       "      <td>396.70</td>\n",
       "      <td>2.92</td>\n",
       "      <td>55</td>\n",
       "      <td>0.40</td>\n",
       "      <td>5.0</td>\n",
       "      <td>0.05</td>\n",
       "      <td>3.07</td>\n",
       "      <td>169.0</td>\n",
       "      <td>2.90</td>\n",
       "      <td>394</td>\n",
       "      <td>12.0</td>\n",
       "      <td>0.11</td>\n",
       "      <td>1.0</td>\n",
       "      <td>0.01</td>\n",
       "      <td>1.0</td>\n",
       "      <td>0.01</td>\n",
       "    </tr>\n",
       "    <tr>\n",
       "      <th>4</th>\n",
       "      <td>13</td>\n",
       "      <td>227</td>\n",
       "      <td>123</td>\n",
       "      <td>1029.60</td>\n",
       "      <td>4.54</td>\n",
       "      <td>73</td>\n",
       "      <td>0.32</td>\n",
       "      <td>14.0</td>\n",
       "      <td>0.08</td>\n",
       "      <td>3.79</td>\n",
       "      <td>277.0</td>\n",
       "      <td>2.52</td>\n",
       "      <td>573</td>\n",
       "      <td>17.0</td>\n",
       "      <td>0.10</td>\n",
       "      <td>10.0</td>\n",
       "      <td>0.06</td>\n",
       "      <td>6.0</td>\n",
       "      <td>0.03</td>\n",
       "    </tr>\n",
       "    <tr>\n",
       "      <th>3</th>\n",
       "      <td>14</td>\n",
       "      <td>389</td>\n",
       "      <td>127</td>\n",
       "      <td>1525.75</td>\n",
       "      <td>3.92</td>\n",
       "      <td>144</td>\n",
       "      <td>0.37</td>\n",
       "      <td>19.0</td>\n",
       "      <td>0.06</td>\n",
       "      <td>3.69</td>\n",
       "      <td>531.0</td>\n",
       "      <td>2.77</td>\n",
       "      <td>1076</td>\n",
       "      <td>26.0</td>\n",
       "      <td>0.08</td>\n",
       "      <td>14.0</td>\n",
       "      <td>0.04</td>\n",
       "      <td>9.0</td>\n",
       "      <td>0.03</td>\n",
       "    </tr>\n",
       "    <tr>\n",
       "      <th>1</th>\n",
       "      <td>15</td>\n",
       "      <td>564</td>\n",
       "      <td>111</td>\n",
       "      <td>2080.14</td>\n",
       "      <td>3.69</td>\n",
       "      <td>168</td>\n",
       "      <td>0.30</td>\n",
       "      <td>37.0</td>\n",
       "      <td>0.08</td>\n",
       "      <td>4.30</td>\n",
       "      <td>723.0</td>\n",
       "      <td>2.46</td>\n",
       "      <td>1386</td>\n",
       "      <td>44.0</td>\n",
       "      <td>0.10</td>\n",
       "      <td>30.0</td>\n",
       "      <td>0.07</td>\n",
       "      <td>17.0</td>\n",
       "      <td>0.04</td>\n",
       "    </tr>\n",
       "    <tr>\n",
       "      <th>0</th>\n",
       "      <td>16</td>\n",
       "      <td>714</td>\n",
       "      <td>99</td>\n",
       "      <td>2023.22</td>\n",
       "      <td>2.83</td>\n",
       "      <td>180</td>\n",
       "      <td>0.25</td>\n",
       "      <td>37.0</td>\n",
       "      <td>0.06</td>\n",
       "      <td>3.59</td>\n",
       "      <td>647.0</td>\n",
       "      <td>1.67</td>\n",
       "      <td>1194</td>\n",
       "      <td>52.0</td>\n",
       "      <td>0.09</td>\n",
       "      <td>23.0</td>\n",
       "      <td>0.04</td>\n",
       "      <td>16.0</td>\n",
       "      <td>0.03</td>\n",
       "    </tr>\n",
       "    <tr>\n",
       "      <th>2</th>\n",
       "      <td>17</td>\n",
       "      <td>454</td>\n",
       "      <td>65</td>\n",
       "      <td>755.50</td>\n",
       "      <td>1.66</td>\n",
       "      <td>75</td>\n",
       "      <td>0.17</td>\n",
       "      <td>17.0</td>\n",
       "      <td>0.04</td>\n",
       "      <td>3.05</td>\n",
       "      <td>229.0</td>\n",
       "      <td>1.16</td>\n",
       "      <td>528</td>\n",
       "      <td>24.0</td>\n",
       "      <td>0.06</td>\n",
       "      <td>12.0</td>\n",
       "      <td>0.03</td>\n",
       "      <td>10.0</td>\n",
       "      <td>0.03</td>\n",
       "    </tr>\n",
       "    <tr>\n",
       "      <th>6</th>\n",
       "      <td>18</td>\n",
       "      <td>80</td>\n",
       "      <td>9</td>\n",
       "      <td>61.30</td>\n",
       "      <td>0.77</td>\n",
       "      <td>8</td>\n",
       "      <td>0.10</td>\n",
       "      <td>1.0</td>\n",
       "      <td>0.02</td>\n",
       "      <td>2.00</td>\n",
       "      <td>16.0</td>\n",
       "      <td>0.55</td>\n",
       "      <td>44</td>\n",
       "      <td>2.0</td>\n",
       "      <td>0.03</td>\n",
       "      <td>0.0</td>\n",
       "      <td>0.00</td>\n",
       "      <td>3.0</td>\n",
       "      <td>0.05</td>\n",
       "    </tr>\n",
       "    <tr>\n",
       "      <th>8</th>\n",
       "      <td>19</td>\n",
       "      <td>33</td>\n",
       "      <td>41</td>\n",
       "      <td>68.50</td>\n",
       "      <td>2.08</td>\n",
       "      <td>7</td>\n",
       "      <td>0.21</td>\n",
       "      <td>1.0</td>\n",
       "      <td>0.04</td>\n",
       "      <td>2.86</td>\n",
       "      <td>20.0</td>\n",
       "      <td>0.79</td>\n",
       "      <td>26</td>\n",
       "      <td>4.0</td>\n",
       "      <td>0.14</td>\n",
       "      <td>1.0</td>\n",
       "      <td>0.04</td>\n",
       "      <td>0.0</td>\n",
       "      <td>0.00</td>\n",
       "    </tr>\n",
       "    <tr>\n",
       "      <th>9</th>\n",
       "      <td>20</td>\n",
       "      <td>16</td>\n",
       "      <td>44</td>\n",
       "      <td>10.50</td>\n",
       "      <td>0.66</td>\n",
       "      <td>1</td>\n",
       "      <td>0.06</td>\n",
       "      <td>0.0</td>\n",
       "      <td>0.00</td>\n",
       "      <td>4.00</td>\n",
       "      <td>4.0</td>\n",
       "      <td>0.12</td>\n",
       "      <td>2</td>\n",
       "      <td>1.0</td>\n",
       "      <td>0.07</td>\n",
       "      <td>0.0</td>\n",
       "      <td>0.00</td>\n",
       "      <td>0.0</td>\n",
       "      <td>0.00</td>\n",
       "    </tr>\n",
       "  </tbody>\n",
       "</table>\n",
       "</div>"
      ],
      "text/plain": [
       "   Age at Sign Up Galaxy ID Service Range    Hours       Follow Through        \\\n",
       "                      count          mean      sum  mean            sum  mean   \n",
       "10              9         4             7     8.00  2.00              2  0.50   \n",
       "11             10         4           182    14.50  3.62              1  0.25   \n",
       "7              11        51           172   169.75  3.33             21  0.41   \n",
       "5              12       136           120   396.70  2.92             55  0.40   \n",
       "4              13       227           123  1029.60  4.54             73  0.32   \n",
       "3              14       389           127  1525.75  3.92            144  0.37   \n",
       "1              15       564           111  2080.14  3.69            168  0.30   \n",
       "0              16       714            99  2023.22  2.83            180  0.25   \n",
       "2              17       454            65   755.50  1.66             75  0.17   \n",
       "6              18        80             9    61.30  0.77              8  0.10   \n",
       "8              19        33            41    68.50  2.08              7  0.21   \n",
       "9              20        16            44    10.50  0.66              1  0.06   \n",
       "\n",
       "   Trip Eligible (Yes/No)       Service Count        Responses        \\\n",
       "                      sum  mean          mean    sum      mean   sum   \n",
       "10                    0.0  0.00          1.50    3.0      1.00     4   \n",
       "11                    0.0  0.00          5.00    5.0      3.75    15   \n",
       "7                     3.0  0.08          2.48   52.0      1.67    85   \n",
       "5                     5.0  0.05          3.07  169.0      2.90   394   \n",
       "4                    14.0  0.08          3.79  277.0      2.52   573   \n",
       "3                    19.0  0.06          3.69  531.0      2.77  1076   \n",
       "1                    37.0  0.08          4.30  723.0      2.46  1386   \n",
       "0                    37.0  0.06          3.59  647.0      1.67  1194   \n",
       "2                    17.0  0.04          3.05  229.0      1.16   528   \n",
       "6                     1.0  0.02          2.00   16.0      0.55    44   \n",
       "8                     1.0  0.04          2.86   20.0      0.79    26   \n",
       "9                     0.0  0.00          4.00    4.0      0.12     2   \n",
       "\n",
       "   Make It Happen Badge (Yes/No)       Scholarship Badge (Yes/No)        \\\n",
       "                             sum  mean                        sum  mean   \n",
       "10                           0.0  0.00                        0.0  0.00   \n",
       "11                           1.0  0.33                        0.0  0.00   \n",
       "7                            3.0  0.08                        2.0  0.05   \n",
       "5                           12.0  0.11                        1.0  0.01   \n",
       "4                           17.0  0.10                       10.0  0.06   \n",
       "3                           26.0  0.08                       14.0  0.04   \n",
       "1                           44.0  0.10                       30.0  0.07   \n",
       "0                           52.0  0.09                       23.0  0.04   \n",
       "2                           24.0  0.06                       12.0  0.03   \n",
       "6                            2.0  0.03                        0.0  0.00   \n",
       "8                            4.0  0.14                        1.0  0.04   \n",
       "9                            1.0  0.07                        0.0  0.00   \n",
       "\n",
       "   Explore Participation        \n",
       "                     sum  mean  \n",
       "10                   0.0  0.00  \n",
       "11                   0.0  0.00  \n",
       "7                    0.0  0.00  \n",
       "5                    1.0  0.01  \n",
       "4                    6.0  0.03  \n",
       "3                    9.0  0.03  \n",
       "1                   17.0  0.04  \n",
       "0                   16.0  0.03  \n",
       "2                   10.0  0.03  \n",
       "6                    3.0  0.05  \n",
       "8                    0.0  0.00  \n",
       "9                    0.0  0.00  "
      ]
     },
     "execution_count": 20,
     "metadata": {},
     "output_type": "execute_result"
    }
   ],
   "source": [
    "popstat_ex = 'Age at Sign Up'\n",
    "\n",
    "def popstat_dashtable(popstat):\n",
    "    agg_stat, flat_stat = population_stat(clients, popstat)\n",
    "    return agg_stat.reset_index().sort_values(by=popstat)\n",
    "\n",
    "popstat_dashtable(popstat_ex)"
   ]
  },
  {
   "cell_type": "code",
   "execution_count": null,
   "id": "7661f7c6",
   "metadata": {},
   "outputs": [],
   "source": [
    "schoolclub_hours = clients.groupby(by='School').agg({'Hours': 'sum'}).reset_index()\n",
    "schoolclub_hours['Club'] = np.where(schoolclub_hours['School'].isin(schools_with_clubs), 1, 0).astype(str)"
   ]
  },
  {
   "cell_type": "code",
   "execution_count": null,
   "id": "39490e88",
   "metadata": {},
   "outputs": [
    {
     "data": {
      "text/html": [
       "<div>\n",
       "<style scoped>\n",
       "    .dataframe tbody tr th:only-of-type {\n",
       "        vertical-align: middle;\n",
       "    }\n",
       "\n",
       "    .dataframe tbody tr th {\n",
       "        vertical-align: top;\n",
       "    }\n",
       "\n",
       "    .dataframe thead th {\n",
       "        text-align: right;\n",
       "    }\n",
       "</style>\n",
       "<table border=\"1\" class=\"dataframe\">\n",
       "  <thead>\n",
       "    <tr style=\"text-align: right;\">\n",
       "      <th></th>\n",
       "      <th>School</th>\n",
       "      <th>Hours</th>\n",
       "      <th>Club</th>\n",
       "    </tr>\n",
       "  </thead>\n",
       "  <tbody>\n",
       "    <tr>\n",
       "      <th>0</th>\n",
       "      <td>Acellus Academy</td>\n",
       "      <td>0.0</td>\n",
       "      <td>0</td>\n",
       "    </tr>\n",
       "    <tr>\n",
       "      <th>1</th>\n",
       "      <td>Adele C Young Intermediate School</td>\n",
       "      <td>0.0</td>\n",
       "      <td>0</td>\n",
       "    </tr>\n",
       "    <tr>\n",
       "      <th>2</th>\n",
       "      <td>Advanced Learning Academy</td>\n",
       "      <td>1.2</td>\n",
       "      <td>1</td>\n",
       "    </tr>\n",
       "    <tr>\n",
       "      <th>3</th>\n",
       "      <td>Advanced learning academy</td>\n",
       "      <td>0.0</td>\n",
       "      <td>0</td>\n",
       "    </tr>\n",
       "    <tr>\n",
       "      <th>4</th>\n",
       "      <td>Alamo Heights High School</td>\n",
       "      <td>88.0</td>\n",
       "      <td>0</td>\n",
       "    </tr>\n",
       "    <tr>\n",
       "      <th>...</th>\n",
       "      <td>...</td>\n",
       "      <td>...</td>\n",
       "      <td>...</td>\n",
       "    </tr>\n",
       "    <tr>\n",
       "      <th>293</th>\n",
       "      <td>rise inspire academy</td>\n",
       "      <td>20.0</td>\n",
       "      <td>0</td>\n",
       "    </tr>\n",
       "    <tr>\n",
       "      <th>294</th>\n",
       "      <td>south san antonio high school</td>\n",
       "      <td>0.0</td>\n",
       "      <td>0</td>\n",
       "    </tr>\n",
       "    <tr>\n",
       "      <th>295</th>\n",
       "      <td>travis early college high school</td>\n",
       "      <td>9.0</td>\n",
       "      <td>0</td>\n",
       "    </tr>\n",
       "    <tr>\n",
       "      <th>296</th>\n",
       "      <td>whittier middle school</td>\n",
       "      <td>15.5</td>\n",
       "      <td>0</td>\n",
       "    </tr>\n",
       "    <tr>\n",
       "      <th>297</th>\n",
       "      <td>young women's leadership academy</td>\n",
       "      <td>37.5</td>\n",
       "      <td>0</td>\n",
       "    </tr>\n",
       "  </tbody>\n",
       "</table>\n",
       "<p>298 rows × 3 columns</p>\n",
       "</div>"
      ],
      "text/plain": [
       "                                School  Hours Club\n",
       "0                      Acellus Academy    0.0    0\n",
       "1    Adele C Young Intermediate School    0.0    0\n",
       "2            Advanced Learning Academy    1.2    1\n",
       "3            Advanced learning academy    0.0    0\n",
       "4            Alamo Heights High School   88.0    0\n",
       "..                                 ...    ...  ...\n",
       "293               rise inspire academy   20.0    0\n",
       "294      south san antonio high school    0.0    0\n",
       "295   travis early college high school    9.0    0\n",
       "296             whittier middle school   15.5    0\n",
       "297   young women's leadership academy   37.5    0\n",
       "\n",
       "[298 rows x 3 columns]"
      ]
     },
     "execution_count": 58,
     "metadata": {},
     "output_type": "execute_result"
    }
   ],
   "source": [
    "schoolclub_hours"
   ]
  },
  {
   "cell_type": "code",
   "execution_count": null,
   "id": "2c309a48",
   "metadata": {},
   "outputs": [
    {
     "data": {
      "text/plain": [
       "Index(['SOS ID', 'Galaxy ID', 'Street Address', 'City', 'State', 'Zip Code',\n",
       "       'Date of Birth', 'dateAdded', 'Age at Sign Up', 'Age Now',\n",
       "       'HS Graduation Year', 'School', 'District', 'Race/Ethnicity', 'Gender',\n",
       "       'Last Login', 'Responses', 'Hours', 'Student ID',\n",
       "       'Learn Participation 2022', 'Explore Participation',\n",
       "       'Make It Happen Badge (Yes/No)', 'Trip Eligible (Yes/No)',\n",
       "       'Scholarship Badge (Yes/No)', 'Collected Hours', 'Earliest Service',\n",
       "       'Latest Service', 'Service Count', 'Service Range', 'Follow Through',\n",
       "       'Club', 'County', 'Median Family Income', 'Income Range (Thousands)',\n",
       "       'Step'],\n",
       "      dtype='object')"
      ]
     },
     "execution_count": 53,
     "metadata": {},
     "output_type": "execute_result"
    }
   ],
   "source": [
    "clients.columns"
   ]
  },
  {
   "cell_type": "code",
   "execution_count": null,
   "id": "ac907a6f",
   "metadata": {},
   "outputs": [],
   "source": [
    "collected_freq_cols = ['Learn Participation 2022', 'Explore Participation', 'Make It Happen Badge (Yes/No)', \n",
    "                       'Trip Eligible (Yes/No)', 'Scholarship Badge (Yes/No)', 'Step']\n",
    "\n",
    "notcollected_freq_cols = ['Age at Sign Up', 'Zip Code', 'School', \n",
    "                          'District', 'Race/Ethnicity', 'Gender', \n",
    "                          'Income Range (Thousands)', 'Club', 'County']\n",
    "\n",
    "filter_populations = ['Follow Through', 'District', 'Trip Eligible(Yes/No)',\n",
    "                      'Explore Participation','Make It Happen Badge (Yes/No)','Learn Participation 2022',\n",
    "                      'Scholarship Badge (Yes/No)', 'Income Range (Thousands)', 'School', 'Gender']"
   ]
  },
  {
   "cell_type": "code",
   "execution_count": null,
   "id": "301a9f40",
   "metadata": {},
   "outputs": [],
   "source": [
    "test_hours_slice = hours[hours['year']==2024]\n",
    "active_galaxy = test_hours_slice['Galaxy ID']"
   ]
  },
  {
   "cell_type": "code",
   "execution_count": null,
   "id": "227f0d91",
   "metadata": {},
   "outputs": [],
   "source": [
    "def slice_by_active(year):\n",
    "    hours_slice = hours[hours['year']==year]\n",
    "    active_galaxy = hours_slice['Galaxy ID'].unique()\n",
    "    active_in_year = clients[clients['Galaxy ID'].isin(active_galaxy)]\n",
    "    return active_in_year"
   ]
  },
  {
   "cell_type": "code",
   "execution_count": null,
   "id": "adbcf59e",
   "metadata": {},
   "outputs": [],
   "source": [
    "collected_freq_cols = ['Learn Participation 2022', 'Explore Participation', 'Make It Happen Badge (Yes/No)', \n",
    "                       'Trip Eligible (Yes/No)', 'Scholarship Badge (Yes/No)', 'Step']\n",
    "\n",
    "notcollected_freq_cols = ['Age at Sign Up', 'Zip Code', 'School', \n",
    "                          'District', 'Race/Ethnicity', 'Gender', \n",
    "                          'Income Range (Thousands)', 'Club', 'County']\n",
    "\n",
    "filter_populations = ['Follow Through', 'District', 'Trip Eligible(Yes/No)',\n",
    "                      'Explore Participation','Make It Happen Badge (Yes/No)','Learn Participation 2022',\n",
    "                      'Scholarship Badge (Yes/No)', 'Income Range (Thousands)', 'School', 'Gender']\n",
    "\n",
    "def slice_by_active(year):\n",
    "    hours_slice = hours[hours['year']==year]\n",
    "    active_galaxy = hours_slice['Galaxy ID'].unique()\n",
    "    active_in_year = clients[clients['Galaxy ID'].isin(active_galaxy)]\n",
    "    return active_in_year\n",
    "\n",
    "def single_var_freq(var, pop='all', pop_value=None, slice='all'):\n",
    "\n",
    "    if slice == 'all':\n",
    "        if pop == 'all':\n",
    "            freq_table = pd.DataFrame(clients[var].value_counts().sort_index().reset_index())\n",
    "        elif pop in filter_populations:\n",
    "            freq_table = pd.DataFrame(clients[clients[pop]==pop_value][var].value_counts().sort_index().reset_index())\n",
    "\n",
    "    elif slice in range(2020,2100):\n",
    "        sliced_clients = slice_by_active(slice)\n",
    "        if pop == 'all':\n",
    "            freq_table = pd.DataFrame(sliced_clients[var].value_counts().sort_index().reset_index())\n",
    "        elif pop in filter_populations:\n",
    "            freq_table = pd.DataFrame(sliced_clients[clients[pop]==pop_value][var].value_counts().sort_index().reset_index())\n",
    "\n",
    "    return freq_table\n",
    "\n",
    "def multi_var_freq(var1, var2, pop='all', pop_value=None, slice='all'):\n",
    "\n",
    "    if slice == 'all':\n",
    "        if pop == 'all':\n",
    "            freq_table = pd.crosstab(clients[var1], clients[var2])\n",
    "        elif pop in filter_populations:\n",
    "            freq_table = pd.crosstab(clients[clients[pop]==pop_value][var1], clients[clients[pop]==pop_value][var2])\n",
    "\n",
    "    elif slice in range(2020,2100):\n",
    "        sliced_clients = slice_by_active(slice)\n",
    "        if pop == 'all':\n",
    "            freq_table = pd.crosstab(sliced_clients[var1], sliced_clients[var2])\n",
    "        elif pop in filter_populations:\n",
    "            freq_table = pd.crosstab(sliced_clients[clients[pop]==pop_value][var1], sliced_clients[clients[pop]==pop_value][var2])\n",
    "\n",
    "    return freq_table"
   ]
  },
  {
   "cell_type": "code",
   "execution_count": null,
   "id": "97d0c8f8",
   "metadata": {},
   "outputs": [],
   "source": [
    "def multi_var_freq(var1, var2, pop='all', pop_value=None, slice='all'):\n",
    "\n",
    "    if slice == 'all':\n",
    "        if pop == 'all':\n",
    "            freq_table = pd.crosstab(clients[var1], clients[var2])\n",
    "        elif pop in filter_populations:\n",
    "            freq_table = pd.crosstab(clients[clients[pop]==pop_value][var1], clients[clients[pop]==pop_value][var2])\n",
    "\n",
    "    elif slice in range(2020,2100):\n",
    "        sliced_clients = slice_by_active(slice)\n",
    "        if pop == 'all':\n",
    "            freq_table = pd.crosstab(sliced_clients[var1], sliced_clients[var2])\n",
    "        elif pop in filter_populations:\n",
    "            freq_table = pd.crosstab(sliced_clients[clients[pop]==pop_value][var1], sliced_clients[clients[pop]==pop_value][var2])\n",
    "\n",
    "    return freq_table\n",
    "       "
   ]
  },
  {
   "cell_type": "code",
   "execution_count": null,
   "id": "f6888652",
   "metadata": {},
   "outputs": [],
   "source": [
    "test_slice = slice_by_active(2023)\n",
    "pd.crosstab(clients)"
   ]
  },
  {
   "cell_type": "code",
   "execution_count": null,
   "id": "6ccdfd8f",
   "metadata": {},
   "outputs": [
    {
     "data": {
      "text/html": [
       "<div>\n",
       "<style scoped>\n",
       "    .dataframe tbody tr th:only-of-type {\n",
       "        vertical-align: middle;\n",
       "    }\n",
       "\n",
       "    .dataframe tbody tr th {\n",
       "        vertical-align: top;\n",
       "    }\n",
       "\n",
       "    .dataframe thead th {\n",
       "        text-align: right;\n",
       "    }\n",
       "</style>\n",
       "<table border=\"1\" class=\"dataframe\">\n",
       "  <thead>\n",
       "    <tr style=\"text-align: right;\">\n",
       "      <th>Race/Ethnicity</th>\n",
       "      <th>American Indian or Alaska Native</th>\n",
       "      <th>Asian</th>\n",
       "      <th>Black or African-American</th>\n",
       "      <th>Decline to State</th>\n",
       "      <th>Hispanic or Latino</th>\n",
       "      <th>Multiple Races</th>\n",
       "      <th>Other Race</th>\n",
       "      <th>Unknown</th>\n",
       "      <th>White</th>\n",
       "    </tr>\n",
       "    <tr>\n",
       "      <th>District</th>\n",
       "      <th></th>\n",
       "      <th></th>\n",
       "      <th></th>\n",
       "      <th></th>\n",
       "      <th></th>\n",
       "      <th></th>\n",
       "      <th></th>\n",
       "      <th></th>\n",
       "      <th></th>\n",
       "    </tr>\n",
       "  </thead>\n",
       "  <tbody>\n",
       "    <tr>\n",
       "      <th>Alamo Heights ISD</th>\n",
       "      <td>0</td>\n",
       "      <td>0</td>\n",
       "      <td>0</td>\n",
       "      <td>2</td>\n",
       "      <td>0</td>\n",
       "      <td>0</td>\n",
       "      <td>0</td>\n",
       "      <td>0</td>\n",
       "      <td>0</td>\n",
       "    </tr>\n",
       "    <tr>\n",
       "      <th>Boerne ISD</th>\n",
       "      <td>0</td>\n",
       "      <td>0</td>\n",
       "      <td>0</td>\n",
       "      <td>0</td>\n",
       "      <td>0</td>\n",
       "      <td>0</td>\n",
       "      <td>0</td>\n",
       "      <td>0</td>\n",
       "      <td>1</td>\n",
       "    </tr>\n",
       "    <tr>\n",
       "      <th>Charter</th>\n",
       "      <td>0</td>\n",
       "      <td>2</td>\n",
       "      <td>0</td>\n",
       "      <td>0</td>\n",
       "      <td>0</td>\n",
       "      <td>0</td>\n",
       "      <td>0</td>\n",
       "      <td>1</td>\n",
       "      <td>5</td>\n",
       "    </tr>\n",
       "    <tr>\n",
       "      <th>Homeschool</th>\n",
       "      <td>1</td>\n",
       "      <td>0</td>\n",
       "      <td>1</td>\n",
       "      <td>0</td>\n",
       "      <td>1</td>\n",
       "      <td>0</td>\n",
       "      <td>0</td>\n",
       "      <td>0</td>\n",
       "      <td>1</td>\n",
       "    </tr>\n",
       "    <tr>\n",
       "      <th>NEISD</th>\n",
       "      <td>2</td>\n",
       "      <td>15</td>\n",
       "      <td>12</td>\n",
       "      <td>6</td>\n",
       "      <td>65</td>\n",
       "      <td>10</td>\n",
       "      <td>3</td>\n",
       "      <td>25</td>\n",
       "      <td>35</td>\n",
       "    </tr>\n",
       "    <tr>\n",
       "      <th>NISD</th>\n",
       "      <td>0</td>\n",
       "      <td>3</td>\n",
       "      <td>0</td>\n",
       "      <td>1</td>\n",
       "      <td>9</td>\n",
       "      <td>3</td>\n",
       "      <td>0</td>\n",
       "      <td>2</td>\n",
       "      <td>2</td>\n",
       "    </tr>\n",
       "    <tr>\n",
       "      <th>Navarro ISD</th>\n",
       "      <td>0</td>\n",
       "      <td>0</td>\n",
       "      <td>0</td>\n",
       "      <td>0</td>\n",
       "      <td>1</td>\n",
       "      <td>0</td>\n",
       "      <td>0</td>\n",
       "      <td>0</td>\n",
       "      <td>0</td>\n",
       "    </tr>\n",
       "    <tr>\n",
       "      <th>Out of State</th>\n",
       "      <td>0</td>\n",
       "      <td>0</td>\n",
       "      <td>0</td>\n",
       "      <td>0</td>\n",
       "      <td>0</td>\n",
       "      <td>0</td>\n",
       "      <td>0</td>\n",
       "      <td>0</td>\n",
       "      <td>1</td>\n",
       "    </tr>\n",
       "    <tr>\n",
       "      <th>Private</th>\n",
       "      <td>0</td>\n",
       "      <td>0</td>\n",
       "      <td>0</td>\n",
       "      <td>0</td>\n",
       "      <td>2</td>\n",
       "      <td>2</td>\n",
       "      <td>0</td>\n",
       "      <td>0</td>\n",
       "      <td>1</td>\n",
       "    </tr>\n",
       "    <tr>\n",
       "      <th>SAISD</th>\n",
       "      <td>0</td>\n",
       "      <td>0</td>\n",
       "      <td>1</td>\n",
       "      <td>0</td>\n",
       "      <td>12</td>\n",
       "      <td>0</td>\n",
       "      <td>0</td>\n",
       "      <td>6</td>\n",
       "      <td>1</td>\n",
       "    </tr>\n",
       "    <tr>\n",
       "      <th>SCUC ISD</th>\n",
       "      <td>0</td>\n",
       "      <td>0</td>\n",
       "      <td>0</td>\n",
       "      <td>0</td>\n",
       "      <td>1</td>\n",
       "      <td>0</td>\n",
       "      <td>0</td>\n",
       "      <td>0</td>\n",
       "      <td>1</td>\n",
       "    </tr>\n",
       "    <tr>\n",
       "      <th>Somerset ISD</th>\n",
       "      <td>0</td>\n",
       "      <td>0</td>\n",
       "      <td>0</td>\n",
       "      <td>0</td>\n",
       "      <td>1</td>\n",
       "      <td>0</td>\n",
       "      <td>0</td>\n",
       "      <td>0</td>\n",
       "      <td>0</td>\n",
       "    </tr>\n",
       "    <tr>\n",
       "      <th>South San ISD</th>\n",
       "      <td>0</td>\n",
       "      <td>0</td>\n",
       "      <td>0</td>\n",
       "      <td>0</td>\n",
       "      <td>4</td>\n",
       "      <td>0</td>\n",
       "      <td>0</td>\n",
       "      <td>0</td>\n",
       "      <td>0</td>\n",
       "    </tr>\n",
       "    <tr>\n",
       "      <th>Southwest ISD</th>\n",
       "      <td>0</td>\n",
       "      <td>0</td>\n",
       "      <td>0</td>\n",
       "      <td>0</td>\n",
       "      <td>1</td>\n",
       "      <td>0</td>\n",
       "      <td>0</td>\n",
       "      <td>1</td>\n",
       "      <td>0</td>\n",
       "    </tr>\n",
       "    <tr>\n",
       "      <th>Unknown</th>\n",
       "      <td>0</td>\n",
       "      <td>0</td>\n",
       "      <td>0</td>\n",
       "      <td>0</td>\n",
       "      <td>0</td>\n",
       "      <td>0</td>\n",
       "      <td>0</td>\n",
       "      <td>6</td>\n",
       "      <td>0</td>\n",
       "    </tr>\n",
       "  </tbody>\n",
       "</table>\n",
       "</div>"
      ],
      "text/plain": [
       "Race/Ethnicity     American Indian or Alaska Native  Asian  \\\n",
       "District                                                     \n",
       "Alamo Heights ISD                                 0      0   \n",
       "Boerne ISD                                        0      0   \n",
       "Charter                                           0      2   \n",
       "Homeschool                                        1      0   \n",
       "NEISD                                             2     15   \n",
       "NISD                                              0      3   \n",
       "Navarro ISD                                       0      0   \n",
       "Out of State                                      0      0   \n",
       "Private                                           0      0   \n",
       "SAISD                                             0      0   \n",
       "SCUC ISD                                          0      0   \n",
       "Somerset ISD                                      0      0   \n",
       "South San ISD                                     0      0   \n",
       "Southwest ISD                                     0      0   \n",
       "Unknown                                           0      0   \n",
       "\n",
       "Race/Ethnicity     Black or African-American  Decline to State  \\\n",
       "District                                                         \n",
       "Alamo Heights ISD                          0                 2   \n",
       "Boerne ISD                                 0                 0   \n",
       "Charter                                    0                 0   \n",
       "Homeschool                                 1                 0   \n",
       "NEISD                                     12                 6   \n",
       "NISD                                       0                 1   \n",
       "Navarro ISD                                0                 0   \n",
       "Out of State                               0                 0   \n",
       "Private                                    0                 0   \n",
       "SAISD                                      1                 0   \n",
       "SCUC ISD                                   0                 0   \n",
       "Somerset ISD                               0                 0   \n",
       "South San ISD                              0                 0   \n",
       "Southwest ISD                              0                 0   \n",
       "Unknown                                    0                 0   \n",
       "\n",
       "Race/Ethnicity     Hispanic or Latino  Multiple Races  Other Race  Unknown  \\\n",
       "District                                                                     \n",
       "Alamo Heights ISD                   0               0           0        0   \n",
       "Boerne ISD                          0               0           0        0   \n",
       "Charter                             0               0           0        1   \n",
       "Homeschool                          1               0           0        0   \n",
       "NEISD                              65              10           3       25   \n",
       "NISD                                9               3           0        2   \n",
       "Navarro ISD                         1               0           0        0   \n",
       "Out of State                        0               0           0        0   \n",
       "Private                             2               2           0        0   \n",
       "SAISD                              12               0           0        6   \n",
       "SCUC ISD                            1               0           0        0   \n",
       "Somerset ISD                        1               0           0        0   \n",
       "South San ISD                       4               0           0        0   \n",
       "Southwest ISD                       1               0           0        1   \n",
       "Unknown                             0               0           0        6   \n",
       "\n",
       "Race/Ethnicity     White  \n",
       "District                  \n",
       "Alamo Heights ISD      0  \n",
       "Boerne ISD             1  \n",
       "Charter                5  \n",
       "Homeschool             1  \n",
       "NEISD                 35  \n",
       "NISD                   2  \n",
       "Navarro ISD            0  \n",
       "Out of State           1  \n",
       "Private                1  \n",
       "SAISD                  1  \n",
       "SCUC ISD               1  \n",
       "Somerset ISD           0  \n",
       "South San ISD          0  \n",
       "Southwest ISD          0  \n",
       "Unknown                0  "
      ]
     },
     "execution_count": 92,
     "metadata": {},
     "output_type": "execute_result"
    }
   ],
   "source": [
    "multi_var_freq(var1='District', var2='Race/Ethnicity', slice=2023)"
   ]
  },
  {
   "cell_type": "code",
   "execution_count": null,
   "id": "ed908852",
   "metadata": {},
   "outputs": [
    {
     "name": "stderr",
     "output_type": "stream",
     "text": [
      "C:\\Users\\cln87\\AppData\\Local\\Temp\\ipykernel_17280\\2021551264.py:14: UserWarning:\n",
      "\n",
      "Boolean Series key will be reindexed to match DataFrame index.\n",
      "\n"
     ]
    },
    {
     "data": {
      "text/html": [
       "<div>\n",
       "<style scoped>\n",
       "    .dataframe tbody tr th:only-of-type {\n",
       "        vertical-align: middle;\n",
       "    }\n",
       "\n",
       "    .dataframe tbody tr th {\n",
       "        vertical-align: top;\n",
       "    }\n",
       "\n",
       "    .dataframe thead th {\n",
       "        text-align: right;\n",
       "    }\n",
       "</style>\n",
       "<table border=\"1\" class=\"dataframe\">\n",
       "  <thead>\n",
       "    <tr style=\"text-align: right;\">\n",
       "      <th></th>\n",
       "      <th>Age at Sign Up</th>\n",
       "      <th>count</th>\n",
       "    </tr>\n",
       "  </thead>\n",
       "  <tbody>\n",
       "    <tr>\n",
       "      <th>0</th>\n",
       "      <td>11</td>\n",
       "      <td>1</td>\n",
       "    </tr>\n",
       "    <tr>\n",
       "      <th>1</th>\n",
       "      <td>12</td>\n",
       "      <td>7</td>\n",
       "    </tr>\n",
       "    <tr>\n",
       "      <th>2</th>\n",
       "      <td>13</td>\n",
       "      <td>10</td>\n",
       "    </tr>\n",
       "    <tr>\n",
       "      <th>3</th>\n",
       "      <td>14</td>\n",
       "      <td>14</td>\n",
       "    </tr>\n",
       "    <tr>\n",
       "      <th>4</th>\n",
       "      <td>15</td>\n",
       "      <td>12</td>\n",
       "    </tr>\n",
       "    <tr>\n",
       "      <th>5</th>\n",
       "      <td>16</td>\n",
       "      <td>25</td>\n",
       "    </tr>\n",
       "    <tr>\n",
       "      <th>6</th>\n",
       "      <td>17</td>\n",
       "      <td>8</td>\n",
       "    </tr>\n",
       "    <tr>\n",
       "      <th>7</th>\n",
       "      <td>19</td>\n",
       "      <td>1</td>\n",
       "    </tr>\n",
       "  </tbody>\n",
       "</table>\n",
       "</div>"
      ],
      "text/plain": [
       "   Age at Sign Up  count\n",
       "0              11      1\n",
       "1              12      7\n",
       "2              13     10\n",
       "3              14     14\n",
       "4              15     12\n",
       "5              16     25\n",
       "6              17      8\n",
       "7              19      1"
      ]
     },
     "execution_count": 83,
     "metadata": {},
     "output_type": "execute_result"
    }
   ],
   "source": [
    "single_var_freq('Age at Sign Up', pop='Follow Through', pop_value=1, slice=2020)"
   ]
  },
  {
   "cell_type": "code",
   "execution_count": null,
   "id": "986faa18",
   "metadata": {},
   "outputs": [
    {
     "data": {
      "text/html": [
       "<div>\n",
       "<style scoped>\n",
       "    .dataframe tbody tr th:only-of-type {\n",
       "        vertical-align: middle;\n",
       "    }\n",
       "\n",
       "    .dataframe tbody tr th {\n",
       "        vertical-align: top;\n",
       "    }\n",
       "\n",
       "    .dataframe thead th {\n",
       "        text-align: right;\n",
       "    }\n",
       "</style>\n",
       "<table border=\"1\" class=\"dataframe\">\n",
       "  <thead>\n",
       "    <tr style=\"text-align: right;\">\n",
       "      <th></th>\n",
       "      <th>count</th>\n",
       "    </tr>\n",
       "    <tr>\n",
       "      <th>Age at Sign Up</th>\n",
       "      <th></th>\n",
       "    </tr>\n",
       "  </thead>\n",
       "  <tbody>\n",
       "    <tr>\n",
       "      <th>9</th>\n",
       "      <td>2</td>\n",
       "    </tr>\n",
       "    <tr>\n",
       "      <th>10</th>\n",
       "      <td>1</td>\n",
       "    </tr>\n",
       "    <tr>\n",
       "      <th>11</th>\n",
       "      <td>21</td>\n",
       "    </tr>\n",
       "    <tr>\n",
       "      <th>12</th>\n",
       "      <td>55</td>\n",
       "    </tr>\n",
       "    <tr>\n",
       "      <th>13</th>\n",
       "      <td>73</td>\n",
       "    </tr>\n",
       "    <tr>\n",
       "      <th>14</th>\n",
       "      <td>144</td>\n",
       "    </tr>\n",
       "    <tr>\n",
       "      <th>15</th>\n",
       "      <td>168</td>\n",
       "    </tr>\n",
       "    <tr>\n",
       "      <th>16</th>\n",
       "      <td>180</td>\n",
       "    </tr>\n",
       "    <tr>\n",
       "      <th>17</th>\n",
       "      <td>75</td>\n",
       "    </tr>\n",
       "    <tr>\n",
       "      <th>18</th>\n",
       "      <td>8</td>\n",
       "    </tr>\n",
       "    <tr>\n",
       "      <th>19</th>\n",
       "      <td>7</td>\n",
       "    </tr>\n",
       "    <tr>\n",
       "      <th>20</th>\n",
       "      <td>1</td>\n",
       "    </tr>\n",
       "  </tbody>\n",
       "</table>\n",
       "</div>"
      ],
      "text/plain": [
       "                count\n",
       "Age at Sign Up       \n",
       "9                   2\n",
       "10                  1\n",
       "11                 21\n",
       "12                 55\n",
       "13                 73\n",
       "14                144\n",
       "15                168\n",
       "16                180\n",
       "17                 75\n",
       "18                  8\n",
       "19                  7\n",
       "20                  1"
      ]
     },
     "execution_count": 70,
     "metadata": {},
     "output_type": "execute_result"
    }
   ],
   "source": [
    "pd.DataFrame(clients[clients['Follow Through']==1]['Age at Sign Up'].value_counts().sort_index())"
   ]
  },
  {
   "cell_type": "code",
   "execution_count": null,
   "id": "59ba3642",
   "metadata": {},
   "outputs": [
    {
     "data": {
      "text/html": [
       "<div>\n",
       "<style scoped>\n",
       "    .dataframe tbody tr th:only-of-type {\n",
       "        vertical-align: middle;\n",
       "    }\n",
       "\n",
       "    .dataframe tbody tr th {\n",
       "        vertical-align: top;\n",
       "    }\n",
       "\n",
       "    .dataframe thead th {\n",
       "        text-align: right;\n",
       "    }\n",
       "</style>\n",
       "<table border=\"1\" class=\"dataframe\">\n",
       "  <thead>\n",
       "    <tr style=\"text-align: right;\">\n",
       "      <th>District</th>\n",
       "      <th>Alamo Heights ISD</th>\n",
       "      <th>Austin ISD</th>\n",
       "      <th>Boerne ISD</th>\n",
       "      <th>Charter</th>\n",
       "      <th>Comal ISD</th>\n",
       "      <th>Comfort ISD</th>\n",
       "      <th>East Central ISD</th>\n",
       "      <th>Edgewood ISD</th>\n",
       "      <th>Floresville ISD</th>\n",
       "      <th>Fredericksburg ISD</th>\n",
       "      <th>...</th>\n",
       "      <th>Private</th>\n",
       "      <th>Randolph Field ISD</th>\n",
       "      <th>SAISD</th>\n",
       "      <th>SCUC ISD</th>\n",
       "      <th>SWISD</th>\n",
       "      <th>Somerset ISD</th>\n",
       "      <th>South San ISD</th>\n",
       "      <th>Southside ISD</th>\n",
       "      <th>Southwest ISD</th>\n",
       "      <th>Unknown</th>\n",
       "    </tr>\n",
       "    <tr>\n",
       "      <th>Follow Through</th>\n",
       "      <th></th>\n",
       "      <th></th>\n",
       "      <th></th>\n",
       "      <th></th>\n",
       "      <th></th>\n",
       "      <th></th>\n",
       "      <th></th>\n",
       "      <th></th>\n",
       "      <th></th>\n",
       "      <th></th>\n",
       "      <th></th>\n",
       "      <th></th>\n",
       "      <th></th>\n",
       "      <th></th>\n",
       "      <th></th>\n",
       "      <th></th>\n",
       "      <th></th>\n",
       "      <th></th>\n",
       "      <th></th>\n",
       "      <th></th>\n",
       "      <th></th>\n",
       "    </tr>\n",
       "  </thead>\n",
       "  <tbody>\n",
       "    <tr>\n",
       "      <th>0</th>\n",
       "      <td>7</td>\n",
       "      <td>1</td>\n",
       "      <td>5</td>\n",
       "      <td>186</td>\n",
       "      <td>11</td>\n",
       "      <td>1</td>\n",
       "      <td>7</td>\n",
       "      <td>18</td>\n",
       "      <td>1</td>\n",
       "      <td>1</td>\n",
       "      <td>...</td>\n",
       "      <td>65</td>\n",
       "      <td>2</td>\n",
       "      <td>514</td>\n",
       "      <td>10</td>\n",
       "      <td>1</td>\n",
       "      <td>7</td>\n",
       "      <td>82</td>\n",
       "      <td>11</td>\n",
       "      <td>8</td>\n",
       "      <td>69</td>\n",
       "    </tr>\n",
       "    <tr>\n",
       "      <th>1</th>\n",
       "      <td>3</td>\n",
       "      <td>0</td>\n",
       "      <td>1</td>\n",
       "      <td>51</td>\n",
       "      <td>2</td>\n",
       "      <td>0</td>\n",
       "      <td>2</td>\n",
       "      <td>1</td>\n",
       "      <td>0</td>\n",
       "      <td>0</td>\n",
       "      <td>...</td>\n",
       "      <td>19</td>\n",
       "      <td>0</td>\n",
       "      <td>160</td>\n",
       "      <td>5</td>\n",
       "      <td>0</td>\n",
       "      <td>1</td>\n",
       "      <td>14</td>\n",
       "      <td>0</td>\n",
       "      <td>3</td>\n",
       "      <td>16</td>\n",
       "    </tr>\n",
       "  </tbody>\n",
       "</table>\n",
       "<p>2 rows × 34 columns</p>\n",
       "</div>"
      ],
      "text/plain": [
       "District        Alamo Heights ISD  Austin ISD  Boerne ISD  Charter  Comal ISD  \\\n",
       "Follow Through                                                                  \n",
       "0                               7           1           5      186         11   \n",
       "1                               3           0           1       51          2   \n",
       "\n",
       "District        Comfort ISD  East Central ISD  Edgewood ISD  Floresville ISD  \\\n",
       "Follow Through                                                                 \n",
       "0                         1                 7            18                1   \n",
       "1                         0                 2             1                0   \n",
       "\n",
       "District        Fredericksburg ISD  ...  Private  Randolph Field ISD  SAISD  \\\n",
       "Follow Through                      ...                                       \n",
       "0                                1  ...       65                   2    514   \n",
       "1                                0  ...       19                   0    160   \n",
       "\n",
       "District        SCUC ISD  SWISD  Somerset ISD  South San ISD  Southside ISD  \\\n",
       "Follow Through                                                                \n",
       "0                     10      1             7             82             11   \n",
       "1                      5      0             1             14              0   \n",
       "\n",
       "District        Southwest ISD  Unknown  \n",
       "Follow Through                          \n",
       "0                           8       69  \n",
       "1                           3       16  \n",
       "\n",
       "[2 rows x 34 columns]"
      ]
     },
     "execution_count": 85,
     "metadata": {},
     "output_type": "execute_result"
    }
   ],
   "source": [
    "pd.crosstab(clients['Follow Through'], clients['District'])"
   ]
  },
  {
   "cell_type": "code",
   "execution_count": null,
   "id": "2aa79ab7",
   "metadata": {},
   "outputs": [
    {
     "ename": "TypeError",
     "evalue": "unsupported operand type(s) for -: 'str' and 'int'",
     "output_type": "error",
     "traceback": [
      "\u001b[1;31m---------------------------------------------------------------------------\u001b[0m",
      "\u001b[1;31mTypeError\u001b[0m                                 Traceback (most recent call last)",
      "File \u001b[1;32mc:\\Users\\cln87\\anaconda3\\Lib\\site-packages\\pandas\\core\\ops\\array_ops.py:218\u001b[0m, in \u001b[0;36m_na_arithmetic_op\u001b[1;34m(left, right, op, is_cmp)\u001b[0m\n\u001b[0;32m    217\u001b[0m \u001b[38;5;28;01mtry\u001b[39;00m:\n\u001b[1;32m--> 218\u001b[0m     result \u001b[38;5;241m=\u001b[39m func(left, right)\n\u001b[0;32m    219\u001b[0m \u001b[38;5;28;01mexcept\u001b[39;00m \u001b[38;5;167;01mTypeError\u001b[39;00m:\n",
      "File \u001b[1;32mc:\\Users\\cln87\\anaconda3\\Lib\\site-packages\\pandas\\core\\computation\\expressions.py:242\u001b[0m, in \u001b[0;36mevaluate\u001b[1;34m(op, a, b, use_numexpr)\u001b[0m\n\u001b[0;32m    240\u001b[0m     \u001b[38;5;28;01mif\u001b[39;00m use_numexpr:\n\u001b[0;32m    241\u001b[0m         \u001b[38;5;66;03m# error: \"None\" not callable\u001b[39;00m\n\u001b[1;32m--> 242\u001b[0m         \u001b[38;5;28;01mreturn\u001b[39;00m _evaluate(op, op_str, a, b)  \u001b[38;5;66;03m# type: ignore[misc]\u001b[39;00m\n\u001b[0;32m    243\u001b[0m \u001b[38;5;28;01mreturn\u001b[39;00m _evaluate_standard(op, op_str, a, b)\n",
      "File \u001b[1;32mc:\\Users\\cln87\\anaconda3\\Lib\\site-packages\\pandas\\core\\computation\\expressions.py:131\u001b[0m, in \u001b[0;36m_evaluate_numexpr\u001b[1;34m(op, op_str, a, b)\u001b[0m\n\u001b[0;32m    130\u001b[0m \u001b[38;5;28;01mif\u001b[39;00m result \u001b[38;5;129;01mis\u001b[39;00m \u001b[38;5;28;01mNone\u001b[39;00m:\n\u001b[1;32m--> 131\u001b[0m     result \u001b[38;5;241m=\u001b[39m _evaluate_standard(op, op_str, a, b)\n\u001b[0;32m    133\u001b[0m \u001b[38;5;28;01mreturn\u001b[39;00m result\n",
      "File \u001b[1;32mc:\\Users\\cln87\\anaconda3\\Lib\\site-packages\\pandas\\core\\computation\\expressions.py:73\u001b[0m, in \u001b[0;36m_evaluate_standard\u001b[1;34m(op, op_str, a, b)\u001b[0m\n\u001b[0;32m     72\u001b[0m     _store_test_result(\u001b[38;5;28;01mFalse\u001b[39;00m)\n\u001b[1;32m---> 73\u001b[0m \u001b[38;5;28;01mreturn\u001b[39;00m op(a, b)\n",
      "\u001b[1;31mTypeError\u001b[0m: unsupported operand type(s) for -: 'str' and 'int'",
      "\nDuring handling of the above exception, another exception occurred:\n",
      "\u001b[1;31mTypeError\u001b[0m                                 Traceback (most recent call last)",
      "Cell \u001b[1;32mIn[115], line 8\u001b[0m\n\u001b[0;32m      5\u001b[0m chi_base[\u001b[38;5;124m'\u001b[39m\u001b[38;5;124mdeviation\u001b[39m\u001b[38;5;124m'\u001b[39m] \u001b[38;5;241m=\u001b[39m ((chi_base[\u001b[38;5;124m'\u001b[39m\u001b[38;5;124mcount\u001b[39m\u001b[38;5;124m'\u001b[39m] \u001b[38;5;241m-\u001b[39m chi_base[\u001b[38;5;124m'\u001b[39m\u001b[38;5;124mexpected\u001b[39m\u001b[38;5;124m'\u001b[39m])\u001b[38;5;241m*\u001b[39m\u001b[38;5;241m*\u001b[39m\u001b[38;5;241m2\u001b[39m) \u001b[38;5;241m/\u001b[39m chi_base[\u001b[38;5;124m'\u001b[39m\u001b[38;5;124mexpected\u001b[39m\u001b[38;5;124m'\u001b[39m]\n\u001b[0;32m      7\u001b[0m chi2 \u001b[38;5;241m=\u001b[39m chi_base[\u001b[38;5;124m'\u001b[39m\u001b[38;5;124mdeviation\u001b[39m\u001b[38;5;124m'\u001b[39m]\u001b[38;5;241m.\u001b[39msum()\n\u001b[1;32m----> 8\u001b[0m dof \u001b[38;5;241m=\u001b[39m \u001b[38;5;28mlen\u001b[39m(chi_base \u001b[38;5;241m-\u001b[39m \u001b[38;5;241m1\u001b[39m)\n\u001b[0;32m      9\u001b[0m p_val \u001b[38;5;241m=\u001b[39m scipystat\u001b[38;5;241m.\u001b[39mchi2\u001b[38;5;241m.\u001b[39msf(chi2, dof)\n",
      "File \u001b[1;32mc:\\Users\\cln87\\anaconda3\\Lib\\site-packages\\pandas\\core\\ops\\common.py:76\u001b[0m, in \u001b[0;36m_unpack_zerodim_and_defer.<locals>.new_method\u001b[1;34m(self, other)\u001b[0m\n\u001b[0;32m     72\u001b[0m             \u001b[38;5;28;01mreturn\u001b[39;00m \u001b[38;5;28mNotImplemented\u001b[39m\n\u001b[0;32m     74\u001b[0m other \u001b[38;5;241m=\u001b[39m item_from_zerodim(other)\n\u001b[1;32m---> 76\u001b[0m \u001b[38;5;28;01mreturn\u001b[39;00m method(\u001b[38;5;28mself\u001b[39m, other)\n",
      "File \u001b[1;32mc:\\Users\\cln87\\anaconda3\\Lib\\site-packages\\pandas\\core\\arraylike.py:194\u001b[0m, in \u001b[0;36mOpsMixin.__sub__\u001b[1;34m(self, other)\u001b[0m\n\u001b[0;32m    192\u001b[0m \u001b[38;5;129m@unpack_zerodim_and_defer\u001b[39m(\u001b[38;5;124m\"\u001b[39m\u001b[38;5;124m__sub__\u001b[39m\u001b[38;5;124m\"\u001b[39m)\n\u001b[0;32m    193\u001b[0m \u001b[38;5;28;01mdef\u001b[39;00m \u001b[38;5;21m__sub__\u001b[39m(\u001b[38;5;28mself\u001b[39m, other):\n\u001b[1;32m--> 194\u001b[0m     \u001b[38;5;28;01mreturn\u001b[39;00m \u001b[38;5;28mself\u001b[39m\u001b[38;5;241m.\u001b[39m_arith_method(other, operator\u001b[38;5;241m.\u001b[39msub)\n",
      "File \u001b[1;32mc:\\Users\\cln87\\anaconda3\\Lib\\site-packages\\pandas\\core\\frame.py:7913\u001b[0m, in \u001b[0;36mDataFrame._arith_method\u001b[1;34m(self, other, op)\u001b[0m\n\u001b[0;32m   7910\u001b[0m \u001b[38;5;28mself\u001b[39m, other \u001b[38;5;241m=\u001b[39m \u001b[38;5;28mself\u001b[39m\u001b[38;5;241m.\u001b[39m_align_for_op(other, axis, flex\u001b[38;5;241m=\u001b[39m\u001b[38;5;28;01mTrue\u001b[39;00m, level\u001b[38;5;241m=\u001b[39m\u001b[38;5;28;01mNone\u001b[39;00m)\n\u001b[0;32m   7912\u001b[0m \u001b[38;5;28;01mwith\u001b[39;00m np\u001b[38;5;241m.\u001b[39merrstate(\u001b[38;5;28mall\u001b[39m\u001b[38;5;241m=\u001b[39m\u001b[38;5;124m\"\u001b[39m\u001b[38;5;124mignore\u001b[39m\u001b[38;5;124m\"\u001b[39m):\n\u001b[1;32m-> 7913\u001b[0m     new_data \u001b[38;5;241m=\u001b[39m \u001b[38;5;28mself\u001b[39m\u001b[38;5;241m.\u001b[39m_dispatch_frame_op(other, op, axis\u001b[38;5;241m=\u001b[39maxis)\n\u001b[0;32m   7914\u001b[0m \u001b[38;5;28;01mreturn\u001b[39;00m \u001b[38;5;28mself\u001b[39m\u001b[38;5;241m.\u001b[39m_construct_result(new_data)\n",
      "File \u001b[1;32mc:\\Users\\cln87\\anaconda3\\Lib\\site-packages\\pandas\\core\\frame.py:7945\u001b[0m, in \u001b[0;36mDataFrame._dispatch_frame_op\u001b[1;34m(self, right, func, axis)\u001b[0m\n\u001b[0;32m   7942\u001b[0m right \u001b[38;5;241m=\u001b[39m lib\u001b[38;5;241m.\u001b[39mitem_from_zerodim(right)\n\u001b[0;32m   7943\u001b[0m \u001b[38;5;28;01mif\u001b[39;00m \u001b[38;5;129;01mnot\u001b[39;00m is_list_like(right):\n\u001b[0;32m   7944\u001b[0m     \u001b[38;5;66;03m# i.e. scalar, faster than checking np.ndim(right) == 0\u001b[39;00m\n\u001b[1;32m-> 7945\u001b[0m     bm \u001b[38;5;241m=\u001b[39m \u001b[38;5;28mself\u001b[39m\u001b[38;5;241m.\u001b[39m_mgr\u001b[38;5;241m.\u001b[39mapply(array_op, right\u001b[38;5;241m=\u001b[39mright)\n\u001b[0;32m   7946\u001b[0m     \u001b[38;5;28;01mreturn\u001b[39;00m \u001b[38;5;28mself\u001b[39m\u001b[38;5;241m.\u001b[39m_constructor_from_mgr(bm, axes\u001b[38;5;241m=\u001b[39mbm\u001b[38;5;241m.\u001b[39maxes)\n\u001b[0;32m   7948\u001b[0m \u001b[38;5;28;01melif\u001b[39;00m \u001b[38;5;28misinstance\u001b[39m(right, DataFrame):\n",
      "File \u001b[1;32mc:\\Users\\cln87\\anaconda3\\Lib\\site-packages\\pandas\\core\\internals\\managers.py:361\u001b[0m, in \u001b[0;36mBaseBlockManager.apply\u001b[1;34m(self, f, align_keys, **kwargs)\u001b[0m\n\u001b[0;32m    358\u001b[0m             kwargs[k] \u001b[38;5;241m=\u001b[39m obj[b\u001b[38;5;241m.\u001b[39mmgr_locs\u001b[38;5;241m.\u001b[39mindexer]\n\u001b[0;32m    360\u001b[0m \u001b[38;5;28;01mif\u001b[39;00m \u001b[38;5;28mcallable\u001b[39m(f):\n\u001b[1;32m--> 361\u001b[0m     applied \u001b[38;5;241m=\u001b[39m b\u001b[38;5;241m.\u001b[39mapply(f, \u001b[38;5;241m*\u001b[39m\u001b[38;5;241m*\u001b[39mkwargs)\n\u001b[0;32m    362\u001b[0m \u001b[38;5;28;01melse\u001b[39;00m:\n\u001b[0;32m    363\u001b[0m     applied \u001b[38;5;241m=\u001b[39m \u001b[38;5;28mgetattr\u001b[39m(b, f)(\u001b[38;5;241m*\u001b[39m\u001b[38;5;241m*\u001b[39mkwargs)\n",
      "File \u001b[1;32mc:\\Users\\cln87\\anaconda3\\Lib\\site-packages\\pandas\\core\\internals\\blocks.py:393\u001b[0m, in \u001b[0;36mBlock.apply\u001b[1;34m(self, func, **kwargs)\u001b[0m\n\u001b[0;32m    387\u001b[0m \u001b[38;5;129m@final\u001b[39m\n\u001b[0;32m    388\u001b[0m \u001b[38;5;28;01mdef\u001b[39;00m \u001b[38;5;21mapply\u001b[39m(\u001b[38;5;28mself\u001b[39m, func, \u001b[38;5;241m*\u001b[39m\u001b[38;5;241m*\u001b[39mkwargs) \u001b[38;5;241m-\u001b[39m\u001b[38;5;241m>\u001b[39m \u001b[38;5;28mlist\u001b[39m[Block]:\n\u001b[0;32m    389\u001b[0m \u001b[38;5;250m    \u001b[39m\u001b[38;5;124;03m\"\"\"\u001b[39;00m\n\u001b[0;32m    390\u001b[0m \u001b[38;5;124;03m    apply the function to my values; return a block if we are not\u001b[39;00m\n\u001b[0;32m    391\u001b[0m \u001b[38;5;124;03m    one\u001b[39;00m\n\u001b[0;32m    392\u001b[0m \u001b[38;5;124;03m    \"\"\"\u001b[39;00m\n\u001b[1;32m--> 393\u001b[0m     result \u001b[38;5;241m=\u001b[39m func(\u001b[38;5;28mself\u001b[39m\u001b[38;5;241m.\u001b[39mvalues, \u001b[38;5;241m*\u001b[39m\u001b[38;5;241m*\u001b[39mkwargs)\n\u001b[0;32m    395\u001b[0m     result \u001b[38;5;241m=\u001b[39m maybe_coerce_values(result)\n\u001b[0;32m    396\u001b[0m     \u001b[38;5;28;01mreturn\u001b[39;00m \u001b[38;5;28mself\u001b[39m\u001b[38;5;241m.\u001b[39m_split_op_result(result)\n",
      "File \u001b[1;32mc:\\Users\\cln87\\anaconda3\\Lib\\site-packages\\pandas\\core\\ops\\array_ops.py:283\u001b[0m, in \u001b[0;36marithmetic_op\u001b[1;34m(left, right, op)\u001b[0m\n\u001b[0;32m    279\u001b[0m     _bool_arith_check(op, left, right)  \u001b[38;5;66;03m# type: ignore[arg-type]\u001b[39;00m\n\u001b[0;32m    281\u001b[0m     \u001b[38;5;66;03m# error: Argument 1 to \"_na_arithmetic_op\" has incompatible type\u001b[39;00m\n\u001b[0;32m    282\u001b[0m     \u001b[38;5;66;03m# \"Union[ExtensionArray, ndarray[Any, Any]]\"; expected \"ndarray[Any, Any]\"\u001b[39;00m\n\u001b[1;32m--> 283\u001b[0m     res_values \u001b[38;5;241m=\u001b[39m _na_arithmetic_op(left, right, op)  \u001b[38;5;66;03m# type: ignore[arg-type]\u001b[39;00m\n\u001b[0;32m    285\u001b[0m \u001b[38;5;28;01mreturn\u001b[39;00m res_values\n",
      "File \u001b[1;32mc:\\Users\\cln87\\anaconda3\\Lib\\site-packages\\pandas\\core\\ops\\array_ops.py:227\u001b[0m, in \u001b[0;36m_na_arithmetic_op\u001b[1;34m(left, right, op, is_cmp)\u001b[0m\n\u001b[0;32m    219\u001b[0m \u001b[38;5;28;01mexcept\u001b[39;00m \u001b[38;5;167;01mTypeError\u001b[39;00m:\n\u001b[0;32m    220\u001b[0m     \u001b[38;5;28;01mif\u001b[39;00m \u001b[38;5;129;01mnot\u001b[39;00m is_cmp \u001b[38;5;129;01mand\u001b[39;00m (\n\u001b[0;32m    221\u001b[0m         left\u001b[38;5;241m.\u001b[39mdtype \u001b[38;5;241m==\u001b[39m \u001b[38;5;28mobject\u001b[39m \u001b[38;5;129;01mor\u001b[39;00m \u001b[38;5;28mgetattr\u001b[39m(right, \u001b[38;5;124m\"\u001b[39m\u001b[38;5;124mdtype\u001b[39m\u001b[38;5;124m\"\u001b[39m, \u001b[38;5;28;01mNone\u001b[39;00m) \u001b[38;5;241m==\u001b[39m \u001b[38;5;28mobject\u001b[39m\n\u001b[0;32m    222\u001b[0m     ):\n\u001b[1;32m   (...)\u001b[0m\n\u001b[0;32m    225\u001b[0m         \u001b[38;5;66;03m# Don't do this for comparisons, as that will handle complex numbers\u001b[39;00m\n\u001b[0;32m    226\u001b[0m         \u001b[38;5;66;03m#  incorrectly, see GH#32047\u001b[39;00m\n\u001b[1;32m--> 227\u001b[0m         result \u001b[38;5;241m=\u001b[39m _masked_arith_op(left, right, op)\n\u001b[0;32m    228\u001b[0m     \u001b[38;5;28;01melse\u001b[39;00m:\n\u001b[0;32m    229\u001b[0m         \u001b[38;5;28;01mraise\u001b[39;00m\n",
      "File \u001b[1;32mc:\\Users\\cln87\\anaconda3\\Lib\\site-packages\\pandas\\core\\ops\\array_ops.py:182\u001b[0m, in \u001b[0;36m_masked_arith_op\u001b[1;34m(x, y, op)\u001b[0m\n\u001b[0;32m    179\u001b[0m         mask \u001b[38;5;241m=\u001b[39m np\u001b[38;5;241m.\u001b[39mwhere(y \u001b[38;5;241m==\u001b[39m \u001b[38;5;241m1\u001b[39m, \u001b[38;5;28;01mFalse\u001b[39;00m, mask)\n\u001b[0;32m    181\u001b[0m     \u001b[38;5;28;01mif\u001b[39;00m mask\u001b[38;5;241m.\u001b[39many():\n\u001b[1;32m--> 182\u001b[0m         result[mask] \u001b[38;5;241m=\u001b[39m op(xrav[mask], y)\n\u001b[0;32m    184\u001b[0m np\u001b[38;5;241m.\u001b[39mputmask(result, \u001b[38;5;241m~\u001b[39mmask, np\u001b[38;5;241m.\u001b[39mnan)\n\u001b[0;32m    185\u001b[0m result \u001b[38;5;241m=\u001b[39m result\u001b[38;5;241m.\u001b[39mreshape(x\u001b[38;5;241m.\u001b[39mshape)  \u001b[38;5;66;03m# 2D compat\u001b[39;00m\n",
      "\u001b[1;31mTypeError\u001b[0m: unsupported operand type(s) for -: 'str' and 'int'"
     ]
    }
   ],
   "source": [
    "var='Gender'\n",
    "\n",
    "chi_base = single_var_freq(var)\n",
    "chi_base['expected'] = round(( len(clients) / len(chi_base) ))\n",
    "chi_base['deviation'] = ((chi_base['count'] - chi_base['expected'])**2) / chi_base['expected']\n",
    "\n",
    "chi2 = chi_base['deviation'].sum()\n",
    "dof = len(chi_base) - 1\n",
    "p_val = scipystat.chi2.sf(chi2, dof)"
   ]
  },
  {
   "cell_type": "code",
   "execution_count": null,
   "id": "9ec479f5",
   "metadata": {},
   "outputs": [],
   "source": [
    "def singe_var_chi(var):\n",
    "    chi_base = single_var_freq(var)\n",
    "    chi_base['expected'] = round(( len(clients) / len(chi_base) ))\n",
    "    chi_base['deviation'] = round(((chi_base['count'] - chi_base['expected'])**2) / chi_base['expected'], 2)\n",
    "\n",
    "    chi2 = chi_base['deviation'].sum()\n",
    "    dof = len(chi_base) - 1\n",
    "    p_val = scipystat.chi2.sf(chi2, dof)\n",
    "\n",
    "    return chi_base, chi2, dof, p_val"
   ]
  },
  {
   "cell_type": "code",
   "execution_count": null,
   "id": "32ea14df",
   "metadata": {},
   "outputs": [],
   "source": [
    "chi_df, test_chi, test_dof, test_p = singe_var_chi('Gender')"
   ]
  },
  {
   "cell_type": "code",
   "execution_count": null,
   "id": "cf2bc4e5",
   "metadata": {},
   "outputs": [
    {
     "data": {
      "text/html": [
       "<div>\n",
       "<style scoped>\n",
       "    .dataframe tbody tr th:only-of-type {\n",
       "        vertical-align: middle;\n",
       "    }\n",
       "\n",
       "    .dataframe tbody tr th {\n",
       "        vertical-align: top;\n",
       "    }\n",
       "\n",
       "    .dataframe thead th {\n",
       "        text-align: right;\n",
       "    }\n",
       "</style>\n",
       "<table border=\"1\" class=\"dataframe\">\n",
       "  <thead>\n",
       "    <tr style=\"text-align: right;\">\n",
       "      <th></th>\n",
       "      <th>Gender</th>\n",
       "      <th>count</th>\n",
       "      <th>expected</th>\n",
       "      <th>deviation</th>\n",
       "    </tr>\n",
       "  </thead>\n",
       "  <tbody>\n",
       "    <tr>\n",
       "      <th>0</th>\n",
       "      <td>Female</td>\n",
       "      <td>1637</td>\n",
       "      <td>668</td>\n",
       "      <td>1405.63</td>\n",
       "    </tr>\n",
       "    <tr>\n",
       "      <th>1</th>\n",
       "      <td>Male</td>\n",
       "      <td>955</td>\n",
       "      <td>668</td>\n",
       "      <td>123.31</td>\n",
       "    </tr>\n",
       "    <tr>\n",
       "      <th>2</th>\n",
       "      <td>Other</td>\n",
       "      <td>27</td>\n",
       "      <td>668</td>\n",
       "      <td>615.09</td>\n",
       "    </tr>\n",
       "    <tr>\n",
       "      <th>3</th>\n",
       "      <td>PreferNotToSay</td>\n",
       "      <td>53</td>\n",
       "      <td>668</td>\n",
       "      <td>566.21</td>\n",
       "    </tr>\n",
       "  </tbody>\n",
       "</table>\n",
       "</div>"
      ],
      "text/plain": [
       "           Gender  count  expected  deviation\n",
       "0          Female   1637       668    1405.63\n",
       "1            Male    955       668     123.31\n",
       "2           Other     27       668     615.09\n",
       "3  PreferNotToSay     53       668     566.21"
      ]
     },
     "execution_count": 133,
     "metadata": {},
     "output_type": "execute_result"
    }
   ],
   "source": [
    "chi_df"
   ]
  },
  {
   "cell_type": "code",
   "execution_count": null,
   "id": "55361446",
   "metadata": {},
   "outputs": [
    {
     "name": "stdout",
     "output_type": "stream",
     "text": [
      "2710.2400000000002 3 0.0\n"
     ]
    }
   ],
   "source": [
    "print(test_chi, test_dof, test_p)"
   ]
  },
  {
   "cell_type": "code",
   "execution_count": null,
   "id": "a5c78ada",
   "metadata": {},
   "outputs": [
    {
     "data": {
      "text/html": [
       "<div>\n",
       "<style scoped>\n",
       "    .dataframe tbody tr th:only-of-type {\n",
       "        vertical-align: middle;\n",
       "    }\n",
       "\n",
       "    .dataframe tbody tr th {\n",
       "        vertical-align: top;\n",
       "    }\n",
       "\n",
       "    .dataframe thead th {\n",
       "        text-align: right;\n",
       "    }\n",
       "</style>\n",
       "<table border=\"1\" class=\"dataframe\">\n",
       "  <thead>\n",
       "    <tr style=\"text-align: right;\">\n",
       "      <th></th>\n",
       "      <th>Age at Sign Up</th>\n",
       "      <th>count</th>\n",
       "      <th>expected</th>\n",
       "    </tr>\n",
       "  </thead>\n",
       "  <tbody>\n",
       "    <tr>\n",
       "      <th>0</th>\n",
       "      <td>9</td>\n",
       "      <td>4</td>\n",
       "      <td>223</td>\n",
       "    </tr>\n",
       "    <tr>\n",
       "      <th>1</th>\n",
       "      <td>10</td>\n",
       "      <td>4</td>\n",
       "      <td>223</td>\n",
       "    </tr>\n",
       "    <tr>\n",
       "      <th>2</th>\n",
       "      <td>11</td>\n",
       "      <td>51</td>\n",
       "      <td>223</td>\n",
       "    </tr>\n",
       "    <tr>\n",
       "      <th>3</th>\n",
       "      <td>12</td>\n",
       "      <td>136</td>\n",
       "      <td>223</td>\n",
       "    </tr>\n",
       "    <tr>\n",
       "      <th>4</th>\n",
       "      <td>13</td>\n",
       "      <td>227</td>\n",
       "      <td>223</td>\n",
       "    </tr>\n",
       "    <tr>\n",
       "      <th>5</th>\n",
       "      <td>14</td>\n",
       "      <td>389</td>\n",
       "      <td>223</td>\n",
       "    </tr>\n",
       "    <tr>\n",
       "      <th>6</th>\n",
       "      <td>15</td>\n",
       "      <td>564</td>\n",
       "      <td>223</td>\n",
       "    </tr>\n",
       "    <tr>\n",
       "      <th>7</th>\n",
       "      <td>16</td>\n",
       "      <td>714</td>\n",
       "      <td>223</td>\n",
       "    </tr>\n",
       "    <tr>\n",
       "      <th>8</th>\n",
       "      <td>17</td>\n",
       "      <td>454</td>\n",
       "      <td>223</td>\n",
       "    </tr>\n",
       "    <tr>\n",
       "      <th>9</th>\n",
       "      <td>18</td>\n",
       "      <td>80</td>\n",
       "      <td>223</td>\n",
       "    </tr>\n",
       "    <tr>\n",
       "      <th>10</th>\n",
       "      <td>19</td>\n",
       "      <td>33</td>\n",
       "      <td>223</td>\n",
       "    </tr>\n",
       "    <tr>\n",
       "      <th>11</th>\n",
       "      <td>20</td>\n",
       "      <td>16</td>\n",
       "      <td>223</td>\n",
       "    </tr>\n",
       "  </tbody>\n",
       "</table>\n",
       "</div>"
      ],
      "text/plain": [
       "    Age at Sign Up  count  expected\n",
       "0                9      4       223\n",
       "1               10      4       223\n",
       "2               11     51       223\n",
       "3               12    136       223\n",
       "4               13    227       223\n",
       "5               14    389       223\n",
       "6               15    564       223\n",
       "7               16    714       223\n",
       "8               17    454       223\n",
       "9               18     80       223\n",
       "10              19     33       223\n",
       "11              20     16       223"
      ]
     },
     "execution_count": 102,
     "metadata": {},
     "output_type": "execute_result"
    }
   ],
   "source": [
    "chi_base"
   ]
  },
  {
   "cell_type": "code",
   "execution_count": 24,
   "id": "50b001c1",
   "metadata": {},
   "outputs": [
    {
     "data": {
      "text/html": [
       "<div>\n",
       "<style scoped>\n",
       "    .dataframe tbody tr th:only-of-type {\n",
       "        vertical-align: middle;\n",
       "    }\n",
       "\n",
       "    .dataframe tbody tr th {\n",
       "        vertical-align: top;\n",
       "    }\n",
       "\n",
       "    .dataframe thead th {\n",
       "        text-align: right;\n",
       "    }\n",
       "</style>\n",
       "<table border=\"1\" class=\"dataframe\">\n",
       "  <thead>\n",
       "    <tr style=\"text-align: right;\">\n",
       "      <th></th>\n",
       "      <th>Galaxy ID</th>\n",
       "      <th>zipCodeNeed</th>\n",
       "      <th>needName</th>\n",
       "      <th>hours</th>\n",
       "      <th>Event Date</th>\n",
       "      <th>agency</th>\n",
       "      <th>year</th>\n",
       "      <th>qtr-year</th>\n",
       "      <th>month</th>\n",
       "      <th>mon-year</th>\n",
       "    </tr>\n",
       "  </thead>\n",
       "  <tbody>\n",
       "    <tr>\n",
       "      <th>0</th>\n",
       "      <td>2421117</td>\n",
       "      <td>NaN</td>\n",
       "      <td>NaN</td>\n",
       "      <td>3.0</td>\n",
       "      <td>2018-01-03</td>\n",
       "      <td>NaN</td>\n",
       "      <td>2018</td>\n",
       "      <td>2018-Q1</td>\n",
       "      <td>1</td>\n",
       "      <td>2018-1</td>\n",
       "    </tr>\n",
       "    <tr>\n",
       "      <th>1</th>\n",
       "      <td>2421117</td>\n",
       "      <td>NaN</td>\n",
       "      <td>NaN</td>\n",
       "      <td>3.0</td>\n",
       "      <td>2018-01-04</td>\n",
       "      <td>NaN</td>\n",
       "      <td>2018</td>\n",
       "      <td>2018-Q1</td>\n",
       "      <td>1</td>\n",
       "      <td>2018-1</td>\n",
       "    </tr>\n",
       "    <tr>\n",
       "      <th>2</th>\n",
       "      <td>2421065</td>\n",
       "      <td>NaN</td>\n",
       "      <td>NaN</td>\n",
       "      <td>4.0</td>\n",
       "      <td>2018-01-05</td>\n",
       "      <td>NaN</td>\n",
       "      <td>2018</td>\n",
       "      <td>2018-Q1</td>\n",
       "      <td>1</td>\n",
       "      <td>2018-1</td>\n",
       "    </tr>\n",
       "    <tr>\n",
       "      <th>3</th>\n",
       "      <td>2421065</td>\n",
       "      <td>NaN</td>\n",
       "      <td>NaN</td>\n",
       "      <td>2.0</td>\n",
       "      <td>2018-01-08</td>\n",
       "      <td>NaN</td>\n",
       "      <td>2018</td>\n",
       "      <td>2018-Q1</td>\n",
       "      <td>1</td>\n",
       "      <td>2018-1</td>\n",
       "    </tr>\n",
       "    <tr>\n",
       "      <th>4</th>\n",
       "      <td>2421541</td>\n",
       "      <td>NaN</td>\n",
       "      <td>NaN</td>\n",
       "      <td>1.0</td>\n",
       "      <td>2018-01-13</td>\n",
       "      <td>NaN</td>\n",
       "      <td>2018</td>\n",
       "      <td>2018-Q1</td>\n",
       "      <td>1</td>\n",
       "      <td>2018-1</td>\n",
       "    </tr>\n",
       "    <tr>\n",
       "      <th>...</th>\n",
       "      <td>...</td>\n",
       "      <td>...</td>\n",
       "      <td>...</td>\n",
       "      <td>...</td>\n",
       "      <td>...</td>\n",
       "      <td>...</td>\n",
       "      <td>...</td>\n",
       "      <td>...</td>\n",
       "      <td>...</td>\n",
       "      <td>...</td>\n",
       "    </tr>\n",
       "    <tr>\n",
       "      <th>7577</th>\n",
       "      <td>5907067</td>\n",
       "      <td>78218.0</td>\n",
       "      <td>Special SOS Opportunities - Permission needed</td>\n",
       "      <td>2.5</td>\n",
       "      <td>2025-03-22</td>\n",
       "      <td>Students of Service (SOS)</td>\n",
       "      <td>2025</td>\n",
       "      <td>2025-Q1</td>\n",
       "      <td>3</td>\n",
       "      <td>2025-3</td>\n",
       "    </tr>\n",
       "    <tr>\n",
       "      <th>7578</th>\n",
       "      <td>4418385</td>\n",
       "      <td>78218.0</td>\n",
       "      <td>Special SOS Opportunities - Permission needed</td>\n",
       "      <td>2.5</td>\n",
       "      <td>2025-03-22</td>\n",
       "      <td>Students of Service (SOS)</td>\n",
       "      <td>2025</td>\n",
       "      <td>2025-Q1</td>\n",
       "      <td>3</td>\n",
       "      <td>2025-3</td>\n",
       "    </tr>\n",
       "    <tr>\n",
       "      <th>7579</th>\n",
       "      <td>6574945</td>\n",
       "      <td>78218.0</td>\n",
       "      <td>Special SOS Opportunities - Permission needed</td>\n",
       "      <td>2.5</td>\n",
       "      <td>2025-03-22</td>\n",
       "      <td>Students of Service (SOS)</td>\n",
       "      <td>2025</td>\n",
       "      <td>2025-Q1</td>\n",
       "      <td>3</td>\n",
       "      <td>2025-3</td>\n",
       "    </tr>\n",
       "    <tr>\n",
       "      <th>7580</th>\n",
       "      <td>5933094</td>\n",
       "      <td>78218.0</td>\n",
       "      <td>Special SOS Opportunities - Permission needed</td>\n",
       "      <td>2.5</td>\n",
       "      <td>2025-03-22</td>\n",
       "      <td>Students of Service (SOS)</td>\n",
       "      <td>2025</td>\n",
       "      <td>2025-Q1</td>\n",
       "      <td>3</td>\n",
       "      <td>2025-3</td>\n",
       "    </tr>\n",
       "    <tr>\n",
       "      <th>7581</th>\n",
       "      <td>7267515</td>\n",
       "      <td>78218.0</td>\n",
       "      <td>Special SOS Opportunities - Permission needed</td>\n",
       "      <td>2.5</td>\n",
       "      <td>2025-03-22</td>\n",
       "      <td>Students of Service (SOS)</td>\n",
       "      <td>2025</td>\n",
       "      <td>2025-Q1</td>\n",
       "      <td>3</td>\n",
       "      <td>2025-3</td>\n",
       "    </tr>\n",
       "  </tbody>\n",
       "</table>\n",
       "<p>7582 rows × 10 columns</p>\n",
       "</div>"
      ],
      "text/plain": [
       "      Galaxy ID  zipCodeNeed                                       needName  \\\n",
       "0       2421117          NaN                                            NaN   \n",
       "1       2421117          NaN                                            NaN   \n",
       "2       2421065          NaN                                            NaN   \n",
       "3       2421065          NaN                                            NaN   \n",
       "4       2421541          NaN                                            NaN   \n",
       "...         ...          ...                                            ...   \n",
       "7577    5907067      78218.0  Special SOS Opportunities - Permission needed   \n",
       "7578    4418385      78218.0  Special SOS Opportunities - Permission needed   \n",
       "7579    6574945      78218.0  Special SOS Opportunities - Permission needed   \n",
       "7580    5933094      78218.0  Special SOS Opportunities - Permission needed   \n",
       "7581    7267515      78218.0  Special SOS Opportunities - Permission needed   \n",
       "\n",
       "      hours Event Date                     agency  year qtr-year  month  \\\n",
       "0       3.0 2018-01-03                        NaN  2018  2018-Q1      1   \n",
       "1       3.0 2018-01-04                        NaN  2018  2018-Q1      1   \n",
       "2       4.0 2018-01-05                        NaN  2018  2018-Q1      1   \n",
       "3       2.0 2018-01-08                        NaN  2018  2018-Q1      1   \n",
       "4       1.0 2018-01-13                        NaN  2018  2018-Q1      1   \n",
       "...     ...        ...                        ...   ...      ...    ...   \n",
       "7577    2.5 2025-03-22  Students of Service (SOS)  2025  2025-Q1      3   \n",
       "7578    2.5 2025-03-22  Students of Service (SOS)  2025  2025-Q1      3   \n",
       "7579    2.5 2025-03-22  Students of Service (SOS)  2025  2025-Q1      3   \n",
       "7580    2.5 2025-03-22  Students of Service (SOS)  2025  2025-Q1      3   \n",
       "7581    2.5 2025-03-22  Students of Service (SOS)  2025  2025-Q1      3   \n",
       "\n",
       "     mon-year  \n",
       "0      2018-1  \n",
       "1      2018-1  \n",
       "2      2018-1  \n",
       "3      2018-1  \n",
       "4      2018-1  \n",
       "...       ...  \n",
       "7577   2025-3  \n",
       "7578   2025-3  \n",
       "7579   2025-3  \n",
       "7580   2025-3  \n",
       "7581   2025-3  \n",
       "\n",
       "[7582 rows x 10 columns]"
      ]
     },
     "execution_count": 24,
     "metadata": {},
     "output_type": "execute_result"
    }
   ],
   "source": [
    "hours"
   ]
  },
  {
   "cell_type": "code",
   "execution_count": 37,
   "id": "17ffbefc",
   "metadata": {},
   "outputs": [
    {
     "name": "stdout",
     "output_type": "stream",
     "text": [
      "<class 'pandas.core.frame.DataFrame'>\n",
      "Index: 87 entries, 0 to 86\n",
      "Data columns (total 2 columns):\n",
      " #   Column             Non-Null Count  Dtype         \n",
      "---  ------             --------------  -----         \n",
      " 0   Month              87 non-null     datetime64[ns]\n",
      " 1   Active Volunteers  87 non-null     int64         \n",
      "dtypes: datetime64[ns](1), int64(1)\n",
      "memory usage: 2.0 KB\n"
     ]
    }
   ],
   "source": [
    "mon_vol_counts = pd.DataFrame(\n",
    "    list(hours.groupby('mon-year')['Galaxy ID'].nunique().to_dict().items()),\n",
    "    columns=['Month', 'Active Volunteers'])\n",
    "\n",
    "mon_vol_counts['Month'] = pd.to_datetime(mon_vol_counts['Month'], format='%Y-%m')\n",
    "mon_vol_counts = mon_vol_counts.sort_values('Month')\n",
    "\n",
    "mon_vol_counts.info()"
   ]
  },
  {
   "cell_type": "code",
   "execution_count": null,
   "id": "1e766fa0",
   "metadata": {},
   "outputs": [
    {
     "data": {
      "application/vnd.plotly.v1+json": {
       "config": {
        "plotlyServerURL": "https://plot.ly"
       },
       "data": [
        {
         "hovertemplate": "Month=%{x}<br>Active Volunteers=%{y}<extra></extra>",
         "legendgroup": "",
         "line": {
          "color": "#636efa",
          "dash": "solid"
         },
         "marker": {
          "symbol": "circle"
         },
         "mode": "lines+markers",
         "name": "",
         "orientation": "v",
         "showlegend": false,
         "type": "scatter",
         "x": [
          "2018-01-01T00:00:00",
          "2018-02-01T00:00:00",
          "2018-03-01T00:00:00",
          "2018-04-01T00:00:00",
          "2018-05-01T00:00:00",
          "2018-06-01T00:00:00",
          "2018-07-01T00:00:00",
          "2018-08-01T00:00:00",
          "2018-09-01T00:00:00",
          "2018-10-01T00:00:00",
          "2018-11-01T00:00:00",
          "2018-12-01T00:00:00",
          "2019-01-01T00:00:00",
          "2019-02-01T00:00:00",
          "2019-03-01T00:00:00",
          "2019-04-01T00:00:00",
          "2019-05-01T00:00:00",
          "2019-06-01T00:00:00",
          "2019-07-01T00:00:00",
          "2019-08-01T00:00:00",
          "2019-09-01T00:00:00",
          "2019-10-01T00:00:00",
          "2019-11-01T00:00:00",
          "2019-12-01T00:00:00",
          "2020-01-01T00:00:00",
          "2020-02-01T00:00:00",
          "2020-03-01T00:00:00",
          "2020-04-01T00:00:00",
          "2020-05-01T00:00:00",
          "2020-06-01T00:00:00",
          "2020-07-01T00:00:00",
          "2020-08-01T00:00:00",
          "2020-09-01T00:00:00",
          "2020-10-01T00:00:00",
          "2020-11-01T00:00:00",
          "2020-12-01T00:00:00",
          "2021-01-01T00:00:00",
          "2021-02-01T00:00:00",
          "2021-03-01T00:00:00",
          "2021-04-01T00:00:00",
          "2021-05-01T00:00:00",
          "2021-06-01T00:00:00",
          "2021-07-01T00:00:00",
          "2021-08-01T00:00:00",
          "2021-09-01T00:00:00",
          "2021-10-01T00:00:00",
          "2021-11-01T00:00:00",
          "2021-12-01T00:00:00",
          "2022-01-01T00:00:00",
          "2022-02-01T00:00:00",
          "2022-03-01T00:00:00",
          "2022-04-01T00:00:00",
          "2022-05-01T00:00:00",
          "2022-06-01T00:00:00",
          "2022-07-01T00:00:00",
          "2022-08-01T00:00:00",
          "2022-09-01T00:00:00",
          "2022-10-01T00:00:00",
          "2022-11-01T00:00:00",
          "2022-12-01T00:00:00",
          "2023-01-01T00:00:00",
          "2023-02-01T00:00:00",
          "2023-03-01T00:00:00",
          "2023-04-01T00:00:00",
          "2023-05-01T00:00:00",
          "2023-06-01T00:00:00",
          "2023-07-01T00:00:00",
          "2023-08-01T00:00:00",
          "2023-09-01T00:00:00",
          "2023-10-01T00:00:00",
          "2023-11-01T00:00:00",
          "2023-12-01T00:00:00",
          "2024-01-01T00:00:00",
          "2024-02-01T00:00:00",
          "2024-03-01T00:00:00",
          "2024-04-01T00:00:00",
          "2024-05-01T00:00:00",
          "2024-06-01T00:00:00",
          "2024-07-01T00:00:00",
          "2024-08-01T00:00:00",
          "2024-09-01T00:00:00",
          "2024-10-01T00:00:00",
          "2024-11-01T00:00:00",
          "2024-12-01T00:00:00",
          "2025-01-01T00:00:00",
          "2025-02-01T00:00:00",
          "2025-03-01T00:00:00"
         ],
         "xaxis": "x",
         "y": [
          19,
          51,
          46,
          66,
          38,
          30,
          67,
          45,
          84,
          77,
          114,
          32,
          55,
          108,
          110,
          83,
          71,
          50,
          107,
          60,
          94,
          128,
          99,
          60,
          79,
          126,
          32,
          19,
          30,
          22,
          27,
          24,
          25,
          35,
          38,
          44,
          33,
          21,
          49,
          47,
          27,
          36,
          51,
          64,
          61,
          31,
          43,
          44,
          30,
          48,
          26,
          39,
          33,
          17,
          9,
          57,
          31,
          23,
          30,
          40,
          46,
          54,
          29,
          45,
          44,
          43,
          24,
          47,
          53,
          45,
          185,
          33,
          63,
          71,
          58,
          65,
          60,
          84,
          94,
          70,
          67,
          142,
          95,
          128,
          89,
          65,
          39
         ],
         "yaxis": "y"
        }
       ],
       "layout": {
        "font": {
         "size": 12
        },
        "height": 340,
        "legend": {
         "tracegroupgap": 0
        },
        "margin": {
         "b": 30,
         "l": 30,
         "r": 30,
         "t": 40
        },
        "template": {
         "data": {
          "bar": [
           {
            "error_x": {
             "color": "#2a3f5f"
            },
            "error_y": {
             "color": "#2a3f5f"
            },
            "marker": {
             "line": {
              "color": "#E5ECF6",
              "width": 0.5
             },
             "pattern": {
              "fillmode": "overlay",
              "size": 10,
              "solidity": 0.2
             }
            },
            "type": "bar"
           }
          ],
          "barpolar": [
           {
            "marker": {
             "line": {
              "color": "#E5ECF6",
              "width": 0.5
             },
             "pattern": {
              "fillmode": "overlay",
              "size": 10,
              "solidity": 0.2
             }
            },
            "type": "barpolar"
           }
          ],
          "carpet": [
           {
            "aaxis": {
             "endlinecolor": "#2a3f5f",
             "gridcolor": "white",
             "linecolor": "white",
             "minorgridcolor": "white",
             "startlinecolor": "#2a3f5f"
            },
            "baxis": {
             "endlinecolor": "#2a3f5f",
             "gridcolor": "white",
             "linecolor": "white",
             "minorgridcolor": "white",
             "startlinecolor": "#2a3f5f"
            },
            "type": "carpet"
           }
          ],
          "choropleth": [
           {
            "colorbar": {
             "outlinewidth": 0,
             "ticks": ""
            },
            "type": "choropleth"
           }
          ],
          "contour": [
           {
            "colorbar": {
             "outlinewidth": 0,
             "ticks": ""
            },
            "colorscale": [
             [
              0,
              "#0d0887"
             ],
             [
              0.1111111111111111,
              "#46039f"
             ],
             [
              0.2222222222222222,
              "#7201a8"
             ],
             [
              0.3333333333333333,
              "#9c179e"
             ],
             [
              0.4444444444444444,
              "#bd3786"
             ],
             [
              0.5555555555555556,
              "#d8576b"
             ],
             [
              0.6666666666666666,
              "#ed7953"
             ],
             [
              0.7777777777777778,
              "#fb9f3a"
             ],
             [
              0.8888888888888888,
              "#fdca26"
             ],
             [
              1,
              "#f0f921"
             ]
            ],
            "type": "contour"
           }
          ],
          "contourcarpet": [
           {
            "colorbar": {
             "outlinewidth": 0,
             "ticks": ""
            },
            "type": "contourcarpet"
           }
          ],
          "heatmap": [
           {
            "colorbar": {
             "outlinewidth": 0,
             "ticks": ""
            },
            "colorscale": [
             [
              0,
              "#0d0887"
             ],
             [
              0.1111111111111111,
              "#46039f"
             ],
             [
              0.2222222222222222,
              "#7201a8"
             ],
             [
              0.3333333333333333,
              "#9c179e"
             ],
             [
              0.4444444444444444,
              "#bd3786"
             ],
             [
              0.5555555555555556,
              "#d8576b"
             ],
             [
              0.6666666666666666,
              "#ed7953"
             ],
             [
              0.7777777777777778,
              "#fb9f3a"
             ],
             [
              0.8888888888888888,
              "#fdca26"
             ],
             [
              1,
              "#f0f921"
             ]
            ],
            "type": "heatmap"
           }
          ],
          "heatmapgl": [
           {
            "colorbar": {
             "outlinewidth": 0,
             "ticks": ""
            },
            "colorscale": [
             [
              0,
              "#0d0887"
             ],
             [
              0.1111111111111111,
              "#46039f"
             ],
             [
              0.2222222222222222,
              "#7201a8"
             ],
             [
              0.3333333333333333,
              "#9c179e"
             ],
             [
              0.4444444444444444,
              "#bd3786"
             ],
             [
              0.5555555555555556,
              "#d8576b"
             ],
             [
              0.6666666666666666,
              "#ed7953"
             ],
             [
              0.7777777777777778,
              "#fb9f3a"
             ],
             [
              0.8888888888888888,
              "#fdca26"
             ],
             [
              1,
              "#f0f921"
             ]
            ],
            "type": "heatmapgl"
           }
          ],
          "histogram": [
           {
            "marker": {
             "pattern": {
              "fillmode": "overlay",
              "size": 10,
              "solidity": 0.2
             }
            },
            "type": "histogram"
           }
          ],
          "histogram2d": [
           {
            "colorbar": {
             "outlinewidth": 0,
             "ticks": ""
            },
            "colorscale": [
             [
              0,
              "#0d0887"
             ],
             [
              0.1111111111111111,
              "#46039f"
             ],
             [
              0.2222222222222222,
              "#7201a8"
             ],
             [
              0.3333333333333333,
              "#9c179e"
             ],
             [
              0.4444444444444444,
              "#bd3786"
             ],
             [
              0.5555555555555556,
              "#d8576b"
             ],
             [
              0.6666666666666666,
              "#ed7953"
             ],
             [
              0.7777777777777778,
              "#fb9f3a"
             ],
             [
              0.8888888888888888,
              "#fdca26"
             ],
             [
              1,
              "#f0f921"
             ]
            ],
            "type": "histogram2d"
           }
          ],
          "histogram2dcontour": [
           {
            "colorbar": {
             "outlinewidth": 0,
             "ticks": ""
            },
            "colorscale": [
             [
              0,
              "#0d0887"
             ],
             [
              0.1111111111111111,
              "#46039f"
             ],
             [
              0.2222222222222222,
              "#7201a8"
             ],
             [
              0.3333333333333333,
              "#9c179e"
             ],
             [
              0.4444444444444444,
              "#bd3786"
             ],
             [
              0.5555555555555556,
              "#d8576b"
             ],
             [
              0.6666666666666666,
              "#ed7953"
             ],
             [
              0.7777777777777778,
              "#fb9f3a"
             ],
             [
              0.8888888888888888,
              "#fdca26"
             ],
             [
              1,
              "#f0f921"
             ]
            ],
            "type": "histogram2dcontour"
           }
          ],
          "mesh3d": [
           {
            "colorbar": {
             "outlinewidth": 0,
             "ticks": ""
            },
            "type": "mesh3d"
           }
          ],
          "parcoords": [
           {
            "line": {
             "colorbar": {
              "outlinewidth": 0,
              "ticks": ""
             }
            },
            "type": "parcoords"
           }
          ],
          "pie": [
           {
            "automargin": true,
            "type": "pie"
           }
          ],
          "scatter": [
           {
            "fillpattern": {
             "fillmode": "overlay",
             "size": 10,
             "solidity": 0.2
            },
            "type": "scatter"
           }
          ],
          "scatter3d": [
           {
            "line": {
             "colorbar": {
              "outlinewidth": 0,
              "ticks": ""
             }
            },
            "marker": {
             "colorbar": {
              "outlinewidth": 0,
              "ticks": ""
             }
            },
            "type": "scatter3d"
           }
          ],
          "scattercarpet": [
           {
            "marker": {
             "colorbar": {
              "outlinewidth": 0,
              "ticks": ""
             }
            },
            "type": "scattercarpet"
           }
          ],
          "scattergeo": [
           {
            "marker": {
             "colorbar": {
              "outlinewidth": 0,
              "ticks": ""
             }
            },
            "type": "scattergeo"
           }
          ],
          "scattergl": [
           {
            "marker": {
             "colorbar": {
              "outlinewidth": 0,
              "ticks": ""
             }
            },
            "type": "scattergl"
           }
          ],
          "scattermapbox": [
           {
            "marker": {
             "colorbar": {
              "outlinewidth": 0,
              "ticks": ""
             }
            },
            "type": "scattermapbox"
           }
          ],
          "scatterpolar": [
           {
            "marker": {
             "colorbar": {
              "outlinewidth": 0,
              "ticks": ""
             }
            },
            "type": "scatterpolar"
           }
          ],
          "scatterpolargl": [
           {
            "marker": {
             "colorbar": {
              "outlinewidth": 0,
              "ticks": ""
             }
            },
            "type": "scatterpolargl"
           }
          ],
          "scatterternary": [
           {
            "marker": {
             "colorbar": {
              "outlinewidth": 0,
              "ticks": ""
             }
            },
            "type": "scatterternary"
           }
          ],
          "surface": [
           {
            "colorbar": {
             "outlinewidth": 0,
             "ticks": ""
            },
            "colorscale": [
             [
              0,
              "#0d0887"
             ],
             [
              0.1111111111111111,
              "#46039f"
             ],
             [
              0.2222222222222222,
              "#7201a8"
             ],
             [
              0.3333333333333333,
              "#9c179e"
             ],
             [
              0.4444444444444444,
              "#bd3786"
             ],
             [
              0.5555555555555556,
              "#d8576b"
             ],
             [
              0.6666666666666666,
              "#ed7953"
             ],
             [
              0.7777777777777778,
              "#fb9f3a"
             ],
             [
              0.8888888888888888,
              "#fdca26"
             ],
             [
              1,
              "#f0f921"
             ]
            ],
            "type": "surface"
           }
          ],
          "table": [
           {
            "cells": {
             "fill": {
              "color": "#EBF0F8"
             },
             "line": {
              "color": "white"
             }
            },
            "header": {
             "fill": {
              "color": "#C8D4E3"
             },
             "line": {
              "color": "white"
             }
            },
            "type": "table"
           }
          ]
         },
         "layout": {
          "annotationdefaults": {
           "arrowcolor": "#2a3f5f",
           "arrowhead": 0,
           "arrowwidth": 1
          },
          "autotypenumbers": "strict",
          "coloraxis": {
           "colorbar": {
            "outlinewidth": 0,
            "ticks": ""
           }
          },
          "colorscale": {
           "diverging": [
            [
             0,
             "#8e0152"
            ],
            [
             0.1,
             "#c51b7d"
            ],
            [
             0.2,
             "#de77ae"
            ],
            [
             0.3,
             "#f1b6da"
            ],
            [
             0.4,
             "#fde0ef"
            ],
            [
             0.5,
             "#f7f7f7"
            ],
            [
             0.6,
             "#e6f5d0"
            ],
            [
             0.7,
             "#b8e186"
            ],
            [
             0.8,
             "#7fbc41"
            ],
            [
             0.9,
             "#4d9221"
            ],
            [
             1,
             "#276419"
            ]
           ],
           "sequential": [
            [
             0,
             "#0d0887"
            ],
            [
             0.1111111111111111,
             "#46039f"
            ],
            [
             0.2222222222222222,
             "#7201a8"
            ],
            [
             0.3333333333333333,
             "#9c179e"
            ],
            [
             0.4444444444444444,
             "#bd3786"
            ],
            [
             0.5555555555555556,
             "#d8576b"
            ],
            [
             0.6666666666666666,
             "#ed7953"
            ],
            [
             0.7777777777777778,
             "#fb9f3a"
            ],
            [
             0.8888888888888888,
             "#fdca26"
            ],
            [
             1,
             "#f0f921"
            ]
           ],
           "sequentialminus": [
            [
             0,
             "#0d0887"
            ],
            [
             0.1111111111111111,
             "#46039f"
            ],
            [
             0.2222222222222222,
             "#7201a8"
            ],
            [
             0.3333333333333333,
             "#9c179e"
            ],
            [
             0.4444444444444444,
             "#bd3786"
            ],
            [
             0.5555555555555556,
             "#d8576b"
            ],
            [
             0.6666666666666666,
             "#ed7953"
            ],
            [
             0.7777777777777778,
             "#fb9f3a"
            ],
            [
             0.8888888888888888,
             "#fdca26"
            ],
            [
             1,
             "#f0f921"
            ]
           ]
          },
          "colorway": [
           "#636efa",
           "#EF553B",
           "#00cc96",
           "#ab63fa",
           "#FFA15A",
           "#19d3f3",
           "#FF6692",
           "#B6E880",
           "#FF97FF",
           "#FECB52"
          ],
          "font": {
           "color": "#2a3f5f"
          },
          "geo": {
           "bgcolor": "white",
           "lakecolor": "white",
           "landcolor": "#E5ECF6",
           "showlakes": true,
           "showland": true,
           "subunitcolor": "white"
          },
          "hoverlabel": {
           "align": "left"
          },
          "hovermode": "closest",
          "mapbox": {
           "style": "light"
          },
          "paper_bgcolor": "white",
          "plot_bgcolor": "#E5ECF6",
          "polar": {
           "angularaxis": {
            "gridcolor": "white",
            "linecolor": "white",
            "ticks": ""
           },
           "bgcolor": "#E5ECF6",
           "radialaxis": {
            "gridcolor": "white",
            "linecolor": "white",
            "ticks": ""
           }
          },
          "scene": {
           "xaxis": {
            "backgroundcolor": "#E5ECF6",
            "gridcolor": "white",
            "gridwidth": 2,
            "linecolor": "white",
            "showbackground": true,
            "ticks": "",
            "zerolinecolor": "white"
           },
           "yaxis": {
            "backgroundcolor": "#E5ECF6",
            "gridcolor": "white",
            "gridwidth": 2,
            "linecolor": "white",
            "showbackground": true,
            "ticks": "",
            "zerolinecolor": "white"
           },
           "zaxis": {
            "backgroundcolor": "#E5ECF6",
            "gridcolor": "white",
            "gridwidth": 2,
            "linecolor": "white",
            "showbackground": true,
            "ticks": "",
            "zerolinecolor": "white"
           }
          },
          "shapedefaults": {
           "line": {
            "color": "#2a3f5f"
           }
          },
          "ternary": {
           "aaxis": {
            "gridcolor": "white",
            "linecolor": "white",
            "ticks": ""
           },
           "baxis": {
            "gridcolor": "white",
            "linecolor": "white",
            "ticks": ""
           },
           "bgcolor": "#E5ECF6",
           "caxis": {
            "gridcolor": "white",
            "linecolor": "white",
            "ticks": ""
           }
          },
          "title": {
           "x": 0.05
          },
          "xaxis": {
           "automargin": true,
           "gridcolor": "white",
           "linecolor": "white",
           "ticks": "",
           "title": {
            "standoff": 15
           },
           "zerolinecolor": "white",
           "zerolinewidth": 2
          },
          "yaxis": {
           "automargin": true,
           "gridcolor": "white",
           "linecolor": "white",
           "ticks": "",
           "title": {
            "standoff": 15
           },
           "zerolinecolor": "white",
           "zerolinewidth": 2
          }
         }
        },
        "title": {
         "text": "Active Volunteers by Month"
        },
        "xaxis": {
         "anchor": "y",
         "domain": [
          0,
          1
         ],
         "title": {
          "text": "Month"
         }
        },
        "yaxis": {
         "anchor": "x",
         "domain": [
          0,
          1
         ],
         "title": {
          "text": "Active Volunteers"
         }
        }
       }
      }
     },
     "metadata": {},
     "output_type": "display_data"
    }
   ],
   "source": [
    "\n",
    "mon_vol_counts = pd.DataFrame(\n",
    "    list(hours.groupby('mon-year')['Galaxy ID'].nunique().to_dict().items()),\n",
    "    columns=['Month', 'Active Volunteers'])\n",
    "\n",
    "mon_vol_counts['Month'] = pd.to_datetime(mon_vol_counts['Month'], format='%Y-%m')\n",
    "mon_vol_counts = mon_vol_counts.sort_values('Month')\n",
    "\n",
    "fig = px.line(mon_vol_counts, x='Month', y='Active Volunteers', markers=True)\n",
    "\n",
    "fig.update_layout(\n",
    "    title=\"Active Volunteers by Month\",\n",
    "    margin=dict(l=30, r=30, t=40, b=30),\n",
    "    font=dict(size=12),\n",
    "    height=340\n",
    ")\n",
    "\n",
    "fig.show()"
   ]
  },
  {
   "cell_type": "code",
   "execution_count": 39,
   "id": "9418114a",
   "metadata": {},
   "outputs": [
    {
     "data": {
      "text/html": [
       "<div>\n",
       "<style scoped>\n",
       "    .dataframe tbody tr th:only-of-type {\n",
       "        vertical-align: middle;\n",
       "    }\n",
       "\n",
       "    .dataframe tbody tr th {\n",
       "        vertical-align: top;\n",
       "    }\n",
       "\n",
       "    .dataframe thead th {\n",
       "        text-align: right;\n",
       "    }\n",
       "</style>\n",
       "<table border=\"1\" class=\"dataframe\">\n",
       "  <thead>\n",
       "    <tr style=\"text-align: right;\">\n",
       "      <th></th>\n",
       "      <th>Galaxy ID</th>\n",
       "      <th>zipCodeNeed</th>\n",
       "      <th>needName</th>\n",
       "      <th>hours</th>\n",
       "      <th>Event Date</th>\n",
       "      <th>agency</th>\n",
       "      <th>year</th>\n",
       "      <th>qtr-year</th>\n",
       "      <th>month</th>\n",
       "      <th>mon-year</th>\n",
       "    </tr>\n",
       "  </thead>\n",
       "  <tbody>\n",
       "    <tr>\n",
       "      <th>0</th>\n",
       "      <td>2421117</td>\n",
       "      <td>NaN</td>\n",
       "      <td>NaN</td>\n",
       "      <td>3.0</td>\n",
       "      <td>2018-01-03</td>\n",
       "      <td>NaN</td>\n",
       "      <td>2018</td>\n",
       "      <td>2018-Q1</td>\n",
       "      <td>1</td>\n",
       "      <td>2018-1</td>\n",
       "    </tr>\n",
       "    <tr>\n",
       "      <th>1</th>\n",
       "      <td>2421117</td>\n",
       "      <td>NaN</td>\n",
       "      <td>NaN</td>\n",
       "      <td>3.0</td>\n",
       "      <td>2018-01-04</td>\n",
       "      <td>NaN</td>\n",
       "      <td>2018</td>\n",
       "      <td>2018-Q1</td>\n",
       "      <td>1</td>\n",
       "      <td>2018-1</td>\n",
       "    </tr>\n",
       "    <tr>\n",
       "      <th>2</th>\n",
       "      <td>2421065</td>\n",
       "      <td>NaN</td>\n",
       "      <td>NaN</td>\n",
       "      <td>4.0</td>\n",
       "      <td>2018-01-05</td>\n",
       "      <td>NaN</td>\n",
       "      <td>2018</td>\n",
       "      <td>2018-Q1</td>\n",
       "      <td>1</td>\n",
       "      <td>2018-1</td>\n",
       "    </tr>\n",
       "    <tr>\n",
       "      <th>3</th>\n",
       "      <td>2421065</td>\n",
       "      <td>NaN</td>\n",
       "      <td>NaN</td>\n",
       "      <td>2.0</td>\n",
       "      <td>2018-01-08</td>\n",
       "      <td>NaN</td>\n",
       "      <td>2018</td>\n",
       "      <td>2018-Q1</td>\n",
       "      <td>1</td>\n",
       "      <td>2018-1</td>\n",
       "    </tr>\n",
       "    <tr>\n",
       "      <th>4</th>\n",
       "      <td>2421541</td>\n",
       "      <td>NaN</td>\n",
       "      <td>NaN</td>\n",
       "      <td>1.0</td>\n",
       "      <td>2018-01-13</td>\n",
       "      <td>NaN</td>\n",
       "      <td>2018</td>\n",
       "      <td>2018-Q1</td>\n",
       "      <td>1</td>\n",
       "      <td>2018-1</td>\n",
       "    </tr>\n",
       "    <tr>\n",
       "      <th>...</th>\n",
       "      <td>...</td>\n",
       "      <td>...</td>\n",
       "      <td>...</td>\n",
       "      <td>...</td>\n",
       "      <td>...</td>\n",
       "      <td>...</td>\n",
       "      <td>...</td>\n",
       "      <td>...</td>\n",
       "      <td>...</td>\n",
       "      <td>...</td>\n",
       "    </tr>\n",
       "    <tr>\n",
       "      <th>7577</th>\n",
       "      <td>5907067</td>\n",
       "      <td>78218.0</td>\n",
       "      <td>Special SOS Opportunities - Permission needed</td>\n",
       "      <td>2.5</td>\n",
       "      <td>2025-03-22</td>\n",
       "      <td>Students of Service (SOS)</td>\n",
       "      <td>2025</td>\n",
       "      <td>2025-Q1</td>\n",
       "      <td>3</td>\n",
       "      <td>2025-3</td>\n",
       "    </tr>\n",
       "    <tr>\n",
       "      <th>7578</th>\n",
       "      <td>4418385</td>\n",
       "      <td>78218.0</td>\n",
       "      <td>Special SOS Opportunities - Permission needed</td>\n",
       "      <td>2.5</td>\n",
       "      <td>2025-03-22</td>\n",
       "      <td>Students of Service (SOS)</td>\n",
       "      <td>2025</td>\n",
       "      <td>2025-Q1</td>\n",
       "      <td>3</td>\n",
       "      <td>2025-3</td>\n",
       "    </tr>\n",
       "    <tr>\n",
       "      <th>7579</th>\n",
       "      <td>6574945</td>\n",
       "      <td>78218.0</td>\n",
       "      <td>Special SOS Opportunities - Permission needed</td>\n",
       "      <td>2.5</td>\n",
       "      <td>2025-03-22</td>\n",
       "      <td>Students of Service (SOS)</td>\n",
       "      <td>2025</td>\n",
       "      <td>2025-Q1</td>\n",
       "      <td>3</td>\n",
       "      <td>2025-3</td>\n",
       "    </tr>\n",
       "    <tr>\n",
       "      <th>7580</th>\n",
       "      <td>5933094</td>\n",
       "      <td>78218.0</td>\n",
       "      <td>Special SOS Opportunities - Permission needed</td>\n",
       "      <td>2.5</td>\n",
       "      <td>2025-03-22</td>\n",
       "      <td>Students of Service (SOS)</td>\n",
       "      <td>2025</td>\n",
       "      <td>2025-Q1</td>\n",
       "      <td>3</td>\n",
       "      <td>2025-3</td>\n",
       "    </tr>\n",
       "    <tr>\n",
       "      <th>7581</th>\n",
       "      <td>7267515</td>\n",
       "      <td>78218.0</td>\n",
       "      <td>Special SOS Opportunities - Permission needed</td>\n",
       "      <td>2.5</td>\n",
       "      <td>2025-03-22</td>\n",
       "      <td>Students of Service (SOS)</td>\n",
       "      <td>2025</td>\n",
       "      <td>2025-Q1</td>\n",
       "      <td>3</td>\n",
       "      <td>2025-3</td>\n",
       "    </tr>\n",
       "  </tbody>\n",
       "</table>\n",
       "<p>7582 rows × 10 columns</p>\n",
       "</div>"
      ],
      "text/plain": [
       "      Galaxy ID  zipCodeNeed                                       needName  \\\n",
       "0       2421117          NaN                                            NaN   \n",
       "1       2421117          NaN                                            NaN   \n",
       "2       2421065          NaN                                            NaN   \n",
       "3       2421065          NaN                                            NaN   \n",
       "4       2421541          NaN                                            NaN   \n",
       "...         ...          ...                                            ...   \n",
       "7577    5907067      78218.0  Special SOS Opportunities - Permission needed   \n",
       "7578    4418385      78218.0  Special SOS Opportunities - Permission needed   \n",
       "7579    6574945      78218.0  Special SOS Opportunities - Permission needed   \n",
       "7580    5933094      78218.0  Special SOS Opportunities - Permission needed   \n",
       "7581    7267515      78218.0  Special SOS Opportunities - Permission needed   \n",
       "\n",
       "      hours Event Date                     agency  year qtr-year  month  \\\n",
       "0       3.0 2018-01-03                        NaN  2018  2018-Q1      1   \n",
       "1       3.0 2018-01-04                        NaN  2018  2018-Q1      1   \n",
       "2       4.0 2018-01-05                        NaN  2018  2018-Q1      1   \n",
       "3       2.0 2018-01-08                        NaN  2018  2018-Q1      1   \n",
       "4       1.0 2018-01-13                        NaN  2018  2018-Q1      1   \n",
       "...     ...        ...                        ...   ...      ...    ...   \n",
       "7577    2.5 2025-03-22  Students of Service (SOS)  2025  2025-Q1      3   \n",
       "7578    2.5 2025-03-22  Students of Service (SOS)  2025  2025-Q1      3   \n",
       "7579    2.5 2025-03-22  Students of Service (SOS)  2025  2025-Q1      3   \n",
       "7580    2.5 2025-03-22  Students of Service (SOS)  2025  2025-Q1      3   \n",
       "7581    2.5 2025-03-22  Students of Service (SOS)  2025  2025-Q1      3   \n",
       "\n",
       "     mon-year  \n",
       "0      2018-1  \n",
       "1      2018-1  \n",
       "2      2018-1  \n",
       "3      2018-1  \n",
       "4      2018-1  \n",
       "...       ...  \n",
       "7577   2025-3  \n",
       "7578   2025-3  \n",
       "7579   2025-3  \n",
       "7580   2025-3  \n",
       "7581   2025-3  \n",
       "\n",
       "[7582 rows x 10 columns]"
      ]
     },
     "execution_count": 39,
     "metadata": {},
     "output_type": "execute_result"
    }
   ],
   "source": [
    "hours"
   ]
  },
  {
   "cell_type": "code",
   "execution_count": 49,
   "id": "c2fb2fa2",
   "metadata": {},
   "outputs": [
    {
     "data": {
      "text/html": [
       "<div>\n",
       "<style scoped>\n",
       "    .dataframe tbody tr th:only-of-type {\n",
       "        vertical-align: middle;\n",
       "    }\n",
       "\n",
       "    .dataframe tbody tr th {\n",
       "        vertical-align: top;\n",
       "    }\n",
       "\n",
       "    .dataframe thead th {\n",
       "        text-align: right;\n",
       "    }\n",
       "</style>\n",
       "<table border=\"1\" class=\"dataframe\">\n",
       "  <thead>\n",
       "    <tr style=\"text-align: right;\">\n",
       "      <th></th>\n",
       "      <th>Month</th>\n",
       "      <th>Events</th>\n",
       "    </tr>\n",
       "  </thead>\n",
       "  <tbody>\n",
       "    <tr>\n",
       "      <th>0</th>\n",
       "      <td>2018-1</td>\n",
       "      <td>0</td>\n",
       "    </tr>\n",
       "    <tr>\n",
       "      <th>1</th>\n",
       "      <td>2018-10</td>\n",
       "      <td>0</td>\n",
       "    </tr>\n",
       "    <tr>\n",
       "      <th>2</th>\n",
       "      <td>2018-11</td>\n",
       "      <td>0</td>\n",
       "    </tr>\n",
       "    <tr>\n",
       "      <th>3</th>\n",
       "      <td>2018-12</td>\n",
       "      <td>1</td>\n",
       "    </tr>\n",
       "    <tr>\n",
       "      <th>4</th>\n",
       "      <td>2018-2</td>\n",
       "      <td>0</td>\n",
       "    </tr>\n",
       "    <tr>\n",
       "      <th>...</th>\n",
       "      <td>...</td>\n",
       "      <td>...</td>\n",
       "    </tr>\n",
       "    <tr>\n",
       "      <th>82</th>\n",
       "      <td>2024-8</td>\n",
       "      <td>9</td>\n",
       "    </tr>\n",
       "    <tr>\n",
       "      <th>83</th>\n",
       "      <td>2024-9</td>\n",
       "      <td>12</td>\n",
       "    </tr>\n",
       "    <tr>\n",
       "      <th>84</th>\n",
       "      <td>2025-1</td>\n",
       "      <td>11</td>\n",
       "    </tr>\n",
       "    <tr>\n",
       "      <th>85</th>\n",
       "      <td>2025-2</td>\n",
       "      <td>8</td>\n",
       "    </tr>\n",
       "    <tr>\n",
       "      <th>86</th>\n",
       "      <td>2025-3</td>\n",
       "      <td>5</td>\n",
       "    </tr>\n",
       "  </tbody>\n",
       "</table>\n",
       "<p>87 rows × 2 columns</p>\n",
       "</div>"
      ],
      "text/plain": [
       "      Month  Events\n",
       "0    2018-1       0\n",
       "1   2018-10       0\n",
       "2   2018-11       0\n",
       "3   2018-12       1\n",
       "4    2018-2       0\n",
       "..      ...     ...\n",
       "82   2024-8       9\n",
       "83   2024-9      12\n",
       "84   2025-1      11\n",
       "85   2025-2       8\n",
       "86   2025-3       5\n",
       "\n",
       "[87 rows x 2 columns]"
      ]
     },
     "execution_count": 49,
     "metadata": {},
     "output_type": "execute_result"
    }
   ],
   "source": [
    "qtr_event_counts = (\n",
    "    hours.groupby('qtr-year')['needName']\n",
    "    .nunique()\n",
    "    .reset_index()\n",
    "    .rename(columns={'needName': 'Events', 'qtr-year': 'Quarter'})\n",
    ")\n",
    "\n",
    "mon_event_counts = (\n",
    "    hours.groupby('mon-year')['needName']\n",
    "    .nunique()\n",
    "    .reset_index()\n",
    "    .rename(columns={'needName': 'Events', 'mon-year': 'Month'})\n",
    ")\n",
    "\n",
    "mon_event_counts"
   ]
  },
  {
   "cell_type": "code",
   "execution_count": 51,
   "id": "e07d9acd",
   "metadata": {},
   "outputs": [
    {
     "name": "stdout",
     "output_type": "stream",
     "text": [
      "527 645\n"
     ]
    }
   ],
   "source": [
    "print(qtr_event_counts['Events'].sum(), mon_event_counts['Events'].sum())"
   ]
  },
  {
   "cell_type": "code",
   "execution_count": null,
   "id": "4f054217",
   "metadata": {},
   "outputs": [],
   "source": []
  }
 ],
 "metadata": {
  "kernelspec": {
   "display_name": "base",
   "language": "python",
   "name": "python3"
  },
  "language_info": {
   "codemirror_mode": {
    "name": "ipython",
    "version": 3
   },
   "file_extension": ".py",
   "mimetype": "text/x-python",
   "name": "python",
   "nbconvert_exporter": "python",
   "pygments_lexer": "ipython3",
   "version": "3.12.4"
  }
 },
 "nbformat": 4,
 "nbformat_minor": 5
}
